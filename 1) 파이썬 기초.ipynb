{
 "cells": [
  {
   "cell_type": "markdown",
   "metadata": {
    "id": "Ad3h80eUJVsC"
   },
   "source": [
    "# 터틀로 배우는 파이썬 기초"
   ]
  },
  {
   "cell_type": "markdown",
   "metadata": {
    "id": "QTJAGMNQ2Jgi"
   },
   "source": [
    "## 소프트웨어 교육의 필요성\n",
    "\n",
    "소프트웨어는 일상 생활을 크게 빠르게 변화시켰다.\n",
    "\n",
    "- 스마트폰\n",
    "\n",
    "- 자동차 : 단순한 기계를 넘어서서 컴퓨터로 진화\n",
    "  - ECU(Engine Control Unit, 엔진 제어 장치) 컴퓨터 통한 엔진 제어\n",
    "  - 차선 유지 기능, 앞 차와의 충돌 방지 기능, 자율 주행\n",
    "\n",
    "- 영화 : 그래픽 소프트웨어\n",
    "  - <어벤져스>는 대부분의 장면이 컴퓨터 그래픽으로 제작\n",
    "  - 애니메이션 <겨울왕국>은 컴퓨터와 3D 모델링 소프트웨어로 제작\n",
    "\n",
    "- 금융 FinTech\n",
    "  - 오프라인 지점 없이 온라인으로만 영업하는 인터넷 은행\n",
    "  - 개인 대출 시장, P2P 대출\n",
    "  - 국가 중앙은행의 통제를 받지 않는 비트코인 등 가상화폐 등장\n",
    "\n",
    "- 유통\n",
    "  - 미국의 아마존은 인터넷 쇼핑몰을 넘어서서 세계 최대의 클라우드 서비스 업체로 발전\n",
    "  - 인터넷 쇼핑몰의 보편화, 빅데이터를 활용하여 소비자에게 최적화된 상품을 추천\n",
    "\n",
    "- 생산\n",
    "  - 3D 프린터가 도입되어 다품종 소량 생산 및 자동화\n",
    "  - 치과 보철 분야는 3D 프린터를 사용\n",
    "\n",
    "- 의료 : 헬스케어\n",
    "  - 빅데이터와 인공 지능을 통해 최적화된 치료법 제공\n",
    "  - 스마트 워치로 심박수, 혈당 수치 측정, 칼로리 계산\n",
    "\n",
    "- 인공지능\n",
    "  - 바둑도 구글 알파고가 나오면서 사람을 압도\n",
    "  - 스마트폰에 내장된 시리, 빅스비 AI 비서 서비스\n",
    "\n",
    "- 빅데이터 : 데이터를 기반으로 예측을 하고 과학적으로 의사를 결정\n",
    "  - 서울시 심야버스 노선 최적화 : 서울시와 KT는 사람들의 휴대전화 사용 위치, 신용 카드와 교통카드 결제 데이터, 택시 승하차 정보, 휴대전화 청구지 주소 등을 분석하여 실제 유동인구를 파악한 뒤 노선을 최적화하여 심야버스 이용율을 크게 향상\n",
    "\n",
    "![](https://i.imgur.com/Q3v1q8s.png)"
   ]
  },
  {
   "cell_type": "markdown",
   "metadata": {
    "id": "bhC8O4IU4XIA"
   },
   "source": [
    "## 컴퓨테이셔널 사고력\n",
    "\n",
    "현실 세계의 문제를 분석하여 해결책을 찾는 과학적 사고법을 컴퓨테이셔널 씽킹(computational thinking)이라 하며 이렇게 설계한 해결책을 컴퓨터의 명령어로 작성하는 것을 컴퓨터 프로그래밍이라 합니다.\n",
    "\n",
    "<img src=\"https://i.imgur.com/cMu7nME.png\" width=\"600px\">\n",
    "\n",
    "### 분해 (Decomposition)\n",
    "\n",
    "복잡한 문제를 잘게 나누어 간단한 여러 개의 작은 문제로 분해하는 것을 의미합니다. 일상 생활에서도 분해를 통해 많은 문제를 해결합니다.\n",
    "\n",
    "분해 과정의 대표적인 예로 요리를 들 수 있습니다. 요리를 할 때 순차적으로 이뤄지는 여러 단계를 통해 음식을 완성합니다.\n",
    "\n",
    "<img src=\"https://i.imgur.com/wJlluHB.png\" width=\"600px\">\n",
    "\n",
    "### 패턴 인식 (Pattern Recognition)\n",
    "\n",
    "패턴은 문제를 해결하는데 있어 반복되는 현상을 찾아내는 것을 의미합니다. 패턴 인식은 다음 단계인 추상화를 통해 알고리즘을 만드는데 필수적인 단계입니다.\n",
    "\n",
    "주로 패턴 인식은 문제를 작은 문제로 잘게 나눈 뒤 패턴을 파악하는 경우가 많습니다. ‘짜장면을 만들자’라는 하나의 큰 문제에서는 패턴을 찾기 힘들지만 짜장면을 만들기 위해 면, 소스로 나누고 이에 따라 필요한 재료들을 준비하는 등 잘게 분해된 상황이 훨씬 패턴을 인식하기 쉽습니다.\n",
    "\n",
    "패턴 인식은 수학 문제를 해결해나가는 데도 많이 활용되는 요소입니다. 수학자 가우스가 어릴 때 수업하기 귀찮던 학교 선생님이 낸 1부터 100까지 더하라는 문제를 패턴 인식을 통하여 순식간에 풀어낸 일화도 가우스가 이 문제 안에 있는 패턴을 찾았기 때문입니다.\n",
    "\n",
    "\n",
    "### 추상화 (Abstraction)\n",
    "\n",
    "추상화는 발견되는 패턴에서 불필요한 부분들을 제거하고 핵심적인 요소들만을 남김으로써 문제를 단순화 하는 단계입니다. 위의 가우스의 예를 보겠습니다.\n",
    "\n",
    "- 1 + 100 = 101\n",
    "- 2 + 99 = 101\n",
    "- 3 + 98 = 101\n",
    "- …\n",
    "\n",
    "위의 작업은 가우스가 1부터 100까지 단순히 순차적으로 더하지 않고 가장 작은 수와 가장 큰 수, 두 번째로 큰 수와 두 번째로 작은 수를 더해가면서 패턴을 찾아낸 상황입니다. 이후에는 두 개의 숫자를 묶어 101을 만들었으므로 총 50개의 묶음이 만들어지게 됩니다.\n",
    "\n",
    "이에 따라 1부터 100까지의 모든 숫자는 답을 찾아내는데 더 이상 필요하지 않고 101 (두 수의 합) 과 50 (101의 묶음 개수)이라는 숫자만 남습니다. 두 수를 곱하면 1부터 100까지의 합이 순식간에 해결됩니다. 이것이 추상화의 한 예입니다.\n",
    "\n",
    "### 알고리즘 (Algorithm)\n",
    "\n",
    "알고리즘이란 문제를 해결을 위한 공식 또는 절차를 의미합니다. 쉬운 예로 수학 수업 또는 컴퓨터 수업에서 배우게 되는 순서도가 알고리즘입니다.\n",
    "\n",
    "또한 이세돌과의 바둑대전에서 승리했던 알파고도 알고리즘이 사용된 좋은 예입니다. 바둑의 경우의 수는 너무 많고 상대방이 대응한 수에 따라 컴퓨터라도 모든 경우의 수를 짧은 시간에 계산해볼 수 없으므로 가능한 많은 경우의 수를 예측한 뒤 그 중 최적의 수를 찾아 결정합니다.\n",
    "\n",
    "알파고는 이 프로세스를 상대방이 둔 수마다 반복을 하여 대국을 두는 것입니다. 매우 복잡한 수준의 알고리즘이 적용된 예라 할 수 있습니다."
   ]
  },
  {
   "cell_type": "markdown",
   "metadata": {
    "id": "uEU8ITO66HeD"
   },
   "source": [
    "#### 출처\n",
    "\n",
    "- [파이썬 코딩 도장](https://dojang.io/course/view.php?id=7)\n",
    "- [컴퓨팅 사고력 4대 요소](https://m.blog.naver.com/PostView.naver?isHttpsRedirect=true&blogId=tonyau7777777&logNo=221455440030)\n",
    "- [점프투파이썬](https://wikidocs.net/book/1)"
   ]
  },
  {
   "cell_type": "markdown",
   "metadata": {
    "id": "jMz2zZAS6neM"
   },
   "source": [
    "## 알고리즘\n",
    "\n",
    "![](https://i.imgur.com/GE36RrR.png)\n",
    "\n",
    "> 23글자 -> 8글자\n",
    "\n",
    "> 이 방식은 Run-Length Encodig, RLE라고 하며 PCX 그림 파일 포맷에 쓰였습니다. 요즘은 좀 더 다양한 상황에 대응하고 압축 효율을 높이기 위해 훨씬 복잡한 알고리즘을 사용합니다.\n",
    "\n",
    "### 문제의 패턴 발견과 해결 절차\n",
    "\n",
    "이처럼 문제에서 일정한 패턴을 발견하고, 패턴을 토대로 문제를 해결하는 절차가 알고리즘입니다. 그리고 이 알고리즘을 코드로 표현하는 행동을 코딩이라 합니다.\n",
    "\n",
    "![](https://i.imgur.com/0K7cqbV.png)"
   ]
  },
  {
   "cell_type": "markdown",
   "metadata": {
    "id": "hX3k1mYWKBOk"
   },
   "source": [
    "## [참고] 샌드위치 코딩"
   ]
  },
  {
   "cell_type": "code",
   "execution_count": null,
   "metadata": {
    "colab": {
     "base_uri": "https://localhost:8080/",
     "height": 641
    },
    "executionInfo": {
     "elapsed": 466,
     "status": "ok",
     "timestamp": 1625043577071,
     "user": {
      "displayName": "Taehee Lee",
      "photoUrl": "https://lh3.googleusercontent.com/a-/AOh14GijtfpZnQ0Syv6KWDHsShFunkW1YmSXhr4rUnheIEg=s64",
      "userId": "12017922817927484990"
     },
     "user_tz": -540
    },
    "id": "m-tVl13BJRv8",
    "outputId": "41fa1503-08a8-42a8-8a7a-46693430b32d"
   },
   "outputs": [],
   "source": [
    "from IPython.display import YouTubeVideo\n",
    "YouTubeVideo(\"I5cq54MFQCo\", width=1200, height=600)"
   ]
  },
  {
   "cell_type": "markdown",
   "metadata": {
    "id": "dcw52rKRKJTr"
   },
   "source": [
    "## Why Python?\n",
    "\n",
    "![파이썬 장점](https://i.imgur.com/vhKZLfs.png)"
   ]
  },
  {
   "cell_type": "markdown",
   "metadata": {
    "id": "vzC2KoFmKVmq"
   },
   "source": [
    "## Java vs Python"
   ]
  },
  {
   "cell_type": "markdown",
   "metadata": {
    "id": "Yb8KritBKQHn"
   },
   "source": [
    "<img src=\"https://i.imgur.com/HoH9sZs.png\">"
   ]
  },
  {
   "cell_type": "markdown",
   "metadata": {
    "id": "9t-5Xt40Ma30"
   },
   "source": [
    "# 터틀 시작하기"
   ]
  },
  {
   "cell_type": "markdown",
   "metadata": {
    "id": "vPoOeXVHMh-h"
   },
   "source": [
    "## 터틀 설치하기\n",
    "\n",
    "https://github.com/tolgaatam/ColabTurtle"
   ]
  },
  {
   "cell_type": "code",
   "execution_count": null,
   "metadata": {
    "colab": {
     "base_uri": "https://localhost:8080/"
    },
    "executionInfo": {
     "elapsed": 6011,
     "status": "ok",
     "timestamp": 1671506883578,
     "user": {
      "displayName": "Taehee Lee",
      "userId": "12017922817927484990"
     },
     "user_tz": -540
    },
    "id": "VeNWwgL8Eepc",
    "outputId": "c2675487-1493-4055-91e6-a701c001c07d"
   },
   "outputs": [],
   "source": [
    "!pip install ColabTurtle"
   ]
  },
  {
   "cell_type": "markdown",
   "metadata": {
    "id": "NPm8JL_xMkN9"
   },
   "source": [
    "## 이런 것을 만들 수 있어요"
   ]
  },
  {
   "cell_type": "code",
   "execution_count": null,
   "metadata": {
    "colab": {
     "base_uri": "https://localhost:8080/",
     "height": 521
    },
    "executionInfo": {
     "elapsed": 22402,
     "status": "ok",
     "timestamp": 1671506921647,
     "user": {
      "displayName": "Taehee Lee",
      "userId": "12017922817927484990"
     },
     "user_tz": -540
    },
    "id": "uq4Ty5hhEhGt",
    "outputId": "049ba14b-f2be-43e5-824f-e94d20341c0e"
   },
   "outputs": [],
   "source": [
    "from ColabTurtle.Turtle import *\n",
    "initializeTurtle()\n",
    "\n",
    "color('mediumblue')\n",
    "penup()\n",
    "goto(100, 250)\n",
    "pendown()\n",
    "forward(100)\n",
    "left(90)\n",
    "forward(40)\n",
    "right(180)\n",
    "forward(80)\n",
    "penup()\n",
    "right(90)\n",
    "forward(50)\n",
    "left(90)\n",
    "forward(50)\n",
    "left(90)\n",
    "backward(10)\n",
    "pendown()\n",
    "speed(10)\n",
    "for i in range(18):\n",
    "    forward(17)\n",
    "    right(20)\n",
    "penup()\n",
    "shape('circle')\n",
    "color(230, 90, 120)\n",
    "speed(7)\n",
    "right(90)\n",
    "forward(160)\n",
    "left(90)\n",
    "forward(60)\n",
    "right(180)\n",
    "pendown()\n",
    "forward(100)\n",
    "left(90)\n",
    "forward(80)\n",
    "penup()\n",
    "shape('turtle')\n",
    "forward(50)\n",
    "left(90)\n",
    "forward(40)\n",
    "pendown()\n",
    "for i in range(5):\n",
    "    forward(17)\n",
    "    right(20)\n",
    "left(200)\n",
    "for i in range(13):\n",
    "    forward(17)\n",
    "    left(20)\n",
    "left(90)\n",
    "forward(50)\n",
    "penup()\n",
    "backward(100)\n",
    "left(90)\n",
    "forward(40)\n",
    "pendown()\n",
    "left(155)\n",
    "forward(105)\n",
    "right(130)\n",
    "forward(105)\n",
    "backward(45)\n",
    "right(115)\n",
    "forward(50)\n",
    "bgcolor(\"#efefef\")\n",
    "penup()\n",
    "backward(70)\n",
    "left(90)\n",
    "forward(100)\n",
    "right(90)\n",
    "pencolor('black')\n",
    "pensize(7)\n",
    "pendown()\n",
    "forward(650)\n",
    "left(180)\n",
    "speed(12)\n",
    "for i in range(90):\n",
    "    forward(7)\n",
    "    right(0.2)\n",
    "speed(2)\n",
    "left(18+180)\n",
    "penup()\n",
    "forward(300)\n",
    "setheading(270)\n",
    "write(\"ColabTurtle\", align=\"center\", font=(25, \"Arial\", \"italic\"))\n",
    "color('rgb(70 110 70)')\n",
    "backward(40)"
   ]
  },
  {
   "cell_type": "markdown",
   "metadata": {
    "id": "wooXdBBGZS2B"
   },
   "source": [
    "## 함수 사용하기\n",
    "\n",
    "### 함수(Function)란?\n",
    "\n",
    "- 반복되는 작업을 하나의 단위로 묶어 재사용할 수 있게 도와주는 기능\n",
    "- 함수에 입력과 출력이 존재한다 (없을 수도 있다)\n",
    "\n",
    "#### \"샌드위치를 만들어라\" 함수의 예\n",
    "\n",
    "이 함수를 사용하면 햄 샌드위치, 새우 샌드위치, 밀빵 샌드위치, 쌀빵 샌드위치 등을 쉽게 만들 수 있겠죠?\n",
    "\n",
    "<img src=\"https://i.imgur.com/DAmizAH.png\" width=\"500px\">"
   ]
  },
  {
   "cell_type": "markdown",
   "metadata": {
    "id": "Dz_bBIOybT5n"
   },
   "source": [
    "## \"거북이를 만들어라\" 함수\n",
    "\n",
    "이 함수에서 입력과 출력은 무엇일까요?"
   ]
  },
  {
   "cell_type": "code",
   "execution_count": null,
   "metadata": {
    "colab": {
     "base_uri": "https://localhost:8080/",
     "height": 521
    },
    "executionInfo": {
     "elapsed": 288,
     "status": "ok",
     "timestamp": 1651037847407,
     "user": {
      "displayName": "Taehee Lee",
      "userId": "12017922817927484990"
     },
     "user_tz": -540
    },
    "id": "1BmostnXEmDn",
    "outputId": "d6a82ff0-3c2d-4bde-c706-5adcc538dcb5"
   },
   "outputs": [],
   "source": [
    "initializeTurtle()"
   ]
  },
  {
   "cell_type": "markdown",
   "metadata": {
    "id": "lau9uq6Wbd4i"
   },
   "source": [
    "## \"앞으로 100만큼 이동해라\" 함수"
   ]
  },
  {
   "cell_type": "code",
   "execution_count": null,
   "metadata": {
    "colab": {
     "base_uri": "https://localhost:8080/",
     "height": 521
    },
    "executionInfo": {
     "elapsed": 703,
     "status": "ok",
     "timestamp": 1651037871204,
     "user": {
      "displayName": "Taehee Lee",
      "userId": "12017922817927484990"
     },
     "user_tz": -540
    },
    "id": "atkWN4KzZeqE",
    "outputId": "3849ffbb-8fb4-436b-cb8e-9c7ef699b0c4"
   },
   "outputs": [],
   "source": [
    "forward(100)"
   ]
  },
  {
   "cell_type": "markdown",
   "metadata": {
    "id": "K-hmrNv_bqnS"
   },
   "source": [
    "## \"오른쪽으로 90도 회전해라\" 함수"
   ]
  },
  {
   "cell_type": "code",
   "execution_count": null,
   "metadata": {
    "colab": {
     "base_uri": "https://localhost:8080/",
     "height": 521
    },
    "executionInfo": {
     "elapsed": 696,
     "status": "ok",
     "timestamp": 1651037968285,
     "user": {
      "displayName": "Taehee Lee",
      "userId": "12017922817927484990"
     },
     "user_tz": -540
    },
    "id": "ydeZWhBUbkdC",
    "outputId": "11f8bd1d-57d5-4b30-9a7f-d8499e0ab8b7"
   },
   "outputs": [],
   "source": [
    "right(90)"
   ]
  },
  {
   "cell_type": "code",
   "execution_count": null,
   "metadata": {
    "colab": {
     "base_uri": "https://localhost:8080/",
     "height": 521
    },
    "executionInfo": {
     "elapsed": 754,
     "status": "ok",
     "timestamp": 1651037984954,
     "user": {
      "displayName": "Taehee Lee",
      "userId": "12017922817927484990"
     },
     "user_tz": -540
    },
    "id": "jT-t3Q_EbuNv",
    "outputId": "26afd805-3bf5-44f8-dbcf-b87648de2752"
   },
   "outputs": [],
   "source": [
    "forward(100)"
   ]
  },
  {
   "cell_type": "code",
   "execution_count": null,
   "metadata": {
    "colab": {
     "base_uri": "https://localhost:8080/",
     "height": 521
    },
    "executionInfo": {
     "elapsed": 728,
     "status": "ok",
     "timestamp": 1651038015112,
     "user": {
      "displayName": "Taehee Lee",
      "userId": "12017922817927484990"
     },
     "user_tz": -540
    },
    "id": "3QOllfjvb0RL",
    "outputId": "fd807476-25bf-428c-ee01-c56565ba805b"
   },
   "outputs": [],
   "source": [
    "right(90)"
   ]
  },
  {
   "cell_type": "code",
   "execution_count": null,
   "metadata": {
    "colab": {
     "base_uri": "https://localhost:8080/",
     "height": 521
    },
    "executionInfo": {
     "elapsed": 717,
     "status": "ok",
     "timestamp": 1651038023714,
     "user": {
      "displayName": "Taehee Lee",
      "userId": "12017922817927484990"
     },
     "user_tz": -540
    },
    "id": "iAHI2F-Fb2xq",
    "outputId": "0b057945-b8b4-408b-94c6-3f5bc508ce20"
   },
   "outputs": [],
   "source": [
    "forward(100)"
   ]
  },
  {
   "cell_type": "code",
   "execution_count": null,
   "metadata": {
    "colab": {
     "base_uri": "https://localhost:8080/",
     "height": 521
    },
    "executionInfo": {
     "elapsed": 716,
     "status": "ok",
     "timestamp": 1651038033841,
     "user": {
      "displayName": "Taehee Lee",
      "userId": "12017922817927484990"
     },
     "user_tz": -540
    },
    "id": "Db8OYX1Yb5FV",
    "outputId": "d43c687a-ce37-4765-fc0f-d16e57bfdf97"
   },
   "outputs": [],
   "source": [
    "right(90)"
   ]
  },
  {
   "cell_type": "code",
   "execution_count": null,
   "metadata": {
    "colab": {
     "base_uri": "https://localhost:8080/",
     "height": 521
    },
    "executionInfo": {
     "elapsed": 704,
     "status": "ok",
     "timestamp": 1651038037569,
     "user": {
      "displayName": "Taehee Lee",
      "userId": "12017922817927484990"
     },
     "user_tz": -540
    },
    "id": "xc6AECw3b6QY",
    "outputId": "5f6d048a-b62f-40bd-9b4e-5bd43ad5e6f1"
   },
   "outputs": [],
   "source": [
    "forward(100)"
   ]
  },
  {
   "cell_type": "code",
   "execution_count": null,
   "metadata": {
    "colab": {
     "base_uri": "https://localhost:8080/",
     "height": 521
    },
    "executionInfo": {
     "elapsed": 692,
     "status": "ok",
     "timestamp": 1651038048214,
     "user": {
      "displayName": "Taehee Lee",
      "userId": "12017922817927484990"
     },
     "user_tz": -540
    },
    "id": "pXDlj1MVcLdS",
    "outputId": "3c39671a-384d-4fe2-ec44-1c4d75daebd1"
   },
   "outputs": [],
   "source": [
    "right(90)"
   ]
  },
  {
   "cell_type": "markdown",
   "metadata": {
    "id": "WqxbEAvXb-d2"
   },
   "source": [
    "## 프로그래밍에서 사각형을 그리는 방법\n",
    "\n",
    "아래 명령어를 한 번에 코드로 만들어볼까요?\n",
    "\n",
    "코드는 위에서부터 아래로 한 줄씩 차례대로 실행됩니다.\n",
    "\n",
    "1. 거북이를 만들어라\n",
    "2. 앞으로 100만큼 이동해라\n",
    "3. 오른쪽으로 90도 만큼 회전해라\n",
    "4. 앞으로 100만큼 이동해라\n",
    "5. 오른쪽으로 90도 만큼 회전해라\n",
    "6. 앞으로 100만큼 이동해라\n",
    "7. 오른쪽으로 90도 만큼 회전해라\n",
    "8. 앞으로 100만큼 이동해라\n",
    "9. 오른쪽으로 90도 만큼 회전해라"
   ]
  },
  {
   "cell_type": "code",
   "execution_count": null,
   "metadata": {
    "colab": {
     "base_uri": "https://localhost:8080/",
     "height": 521
    },
    "executionInfo": {
     "elapsed": 4275,
     "status": "ok",
     "timestamp": 1651038148549,
     "user": {
      "displayName": "Taehee Lee",
      "userId": "12017922817927484990"
     },
     "user_tz": -540
    },
    "id": "Gubzx14_b8S0",
    "outputId": "1f2356ad-7080-4542-83a3-b17ecf443986"
   },
   "outputs": [],
   "source": [
    "initializeTurtle()\n",
    "forward(100)\n",
    "right(90)\n",
    "forward(100)\n",
    "right(90)\n",
    "forward(100)\n",
    "right(90)\n",
    "forward(100)\n",
    "right(90)"
   ]
  },
  {
   "cell_type": "markdown",
   "metadata": {
    "id": "RC2KLmISexjW"
   },
   "source": [
    "## \"선을 (ㅇㅇ)색으로 바꿔라\" 함수\n",
    "\n",
    "### 'red' 에는 따옴표가 있고 100 에는 따옴표가 없는 이유\n",
    "\n",
    "- 'red': 문자열 형식\n",
    "- 100: 숫자 형식\n",
    "\n",
    "각 함수에서는 입력을 받거나 출력을 내보낼 때 정해진 형식이 있어요.\n",
    "\n",
    "- pencolor('문자열')\n",
    "- forward(숫자)"
   ]
  },
  {
   "cell_type": "code",
   "execution_count": null,
   "metadata": {
    "colab": {
     "base_uri": "https://localhost:8080/",
     "height": 521
    },
    "executionInfo": {
     "elapsed": 1264,
     "status": "ok",
     "timestamp": 1651038342780,
     "user": {
      "displayName": "Taehee Lee",
      "userId": "12017922817927484990"
     },
     "user_tz": -540
    },
    "id": "orIhrexUckqS",
    "outputId": "12a0c5cb-8bbf-4131-f22d-3a44e16ee098"
   },
   "outputs": [],
   "source": [
    "pencolor('red')\n",
    "forward(100)"
   ]
  },
  {
   "cell_type": "markdown",
   "metadata": {
    "id": "LekpJmUvfrqO"
   },
   "source": [
    "## 빨간색 사각형을 처음부터 그려보자"
   ]
  },
  {
   "cell_type": "code",
   "execution_count": null,
   "metadata": {
    "colab": {
     "base_uri": "https://localhost:8080/",
     "height": 521
    },
    "executionInfo": {
     "elapsed": 4824,
     "status": "ok",
     "timestamp": 1651038372368,
     "user": {
      "displayName": "Taehee Lee",
      "userId": "12017922817927484990"
     },
     "user_tz": -540
    },
    "id": "h2ErMou_emBe",
    "outputId": "d0a4cc7e-d900-4cbf-ab2f-1bd891bbbec6"
   },
   "outputs": [],
   "source": [
    "initializeTurtle()\n",
    "pencolor('red')\n",
    "forward(100)\n",
    "right(90)\n",
    "forward(100)\n",
    "right(90)\n",
    "forward(100)\n",
    "right(90)\n",
    "forward(100)\n",
    "right(90)"
   ]
  },
  {
   "cell_type": "markdown",
   "metadata": {
    "id": "RGld-UgkgTEs"
   },
   "source": [
    "## 사각형의 크기를 바꿔보자\n",
    "\n",
    "우리는 가로/세로 각각 100의 크기를 가지는 정사각형을 그렸는데 \n",
    "\n",
    "이번에는 가로/세로 각각 200짜리 정사각형을 그려보자!"
   ]
  },
  {
   "cell_type": "code",
   "execution_count": null,
   "metadata": {
    "colab": {
     "base_uri": "https://localhost:8080/",
     "height": 521
    },
    "executionInfo": {
     "elapsed": 4788,
     "status": "ok",
     "timestamp": 1651038435486,
     "user": {
      "displayName": "Taehee Lee",
      "userId": "12017922817927484990"
     },
     "user_tz": -540
    },
    "id": "_0US1ko4gNYb",
    "outputId": "21ec9889-3aa5-4a98-a548-927810f1affb"
   },
   "outputs": [],
   "source": [
    "initializeTurtle()\n",
    "pencolor('red')\n",
    "forward(200)\n",
    "right(90)\n",
    "forward(200)\n",
    "right(90)\n",
    "forward(200)\n",
    "right(90)\n",
    "forward(200)\n",
    "right(90)"
   ]
  },
  {
   "cell_type": "markdown",
   "metadata": {
    "id": "9IAqZvMFgoI6"
   },
   "source": [
    "## 변수(Variable) 사용하기\n",
    "\n",
    "숫자 100을 200으로 바꿔야하는데 너무 불편하네요.\n",
    "\n",
    "사각형의 크기를 바꾸고 싶을 때 한번에 바꿀 수 있는 방법이 없을까요?\n",
    "\n",
    "`size`라는 변수에 숫자 200을 저장해두고 재사용해보죠!"
   ]
  },
  {
   "cell_type": "code",
   "execution_count": null,
   "metadata": {
    "colab": {
     "base_uri": "https://localhost:8080/",
     "height": 521
    },
    "executionInfo": {
     "elapsed": 4807,
     "status": "ok",
     "timestamp": 1651038533261,
     "user": {
      "displayName": "Taehee Lee",
      "userId": "12017922817927484990"
     },
     "user_tz": -540
    },
    "id": "ammEgzv8gl1R",
    "outputId": "25d288b9-93c9-4cd7-b538-09413bc0d373"
   },
   "outputs": [],
   "source": [
    "size = 200\n",
    "\n",
    "initializeTurtle()\n",
    "pencolor('red')\n",
    "forward(size)\n",
    "right(90)\n",
    "forward(size)\n",
    "right(90)\n",
    "forward(size)\n",
    "right(90)\n",
    "forward(size)\n",
    "right(90)"
   ]
  },
  {
   "cell_type": "markdown",
   "metadata": {
    "id": "Z_r9lCpqhMME"
   },
   "source": [
    "## 변수 형식\n",
    "\n",
    "변수에는 숫자뿐만 아니라 문자열도 저장 가능하다는 사실!\n",
    "\n",
    "선 색을 파란색으로 바꿔볼까요?"
   ]
  },
  {
   "cell_type": "code",
   "execution_count": null,
   "metadata": {
    "colab": {
     "base_uri": "https://localhost:8080/",
     "height": 521
    },
    "executionInfo": {
     "elapsed": 4803,
     "status": "ok",
     "timestamp": 1651038594382,
     "user": {
      "displayName": "Taehee Lee",
      "userId": "12017922817927484990"
     },
     "user_tz": -540
    },
    "id": "6smURdAQg3vi",
    "outputId": "4a5c1d8d-25bf-4679-82c1-c29dae9344d3"
   },
   "outputs": [],
   "source": [
    "size = 100\n",
    "color = 'green'\n",
    "\n",
    "initializeTurtle()\n",
    "pencolor(color)\n",
    "forward(size)\n",
    "right(90)\n",
    "forward(size)\n",
    "right(90)\n",
    "forward(size)\n",
    "right(90)\n",
    "forward(size)\n",
    "right(90)"
   ]
  },
  {
   "cell_type": "markdown",
   "metadata": {
    "id": "M0p_9e8QiRip"
   },
   "source": [
    "## 반복하기(반복문)\n",
    "\n",
    "코드를 자세히보니 반복되는 부분이 있네요. 프로그래머들은 반복되는 코드를 작성하는 것을 정말로 싫어합니다.\n",
    "\n",
    "```python\n",
    "size = 200\n",
    "color = 'red'\n",
    "\n",
    "initializeTurtle()\n",
    "pencolor(color)\n",
    "forward(size)\n",
    "right(90)\n",
    "forward(size)\n",
    "right(90)\n",
    "forward(size)\n",
    "right(90)\n",
    "forward(size)\n",
    "right(90)\n",
    "```\n",
    "\n",
    "우리가 작성한 코드에서 `forward(size)` 와 `right(90)` 이 4번 반복되는 것을 알 수 있죠.\n",
    "\n",
    "`forward(size)`와 `right(90)`을 한 번씩만 사용하고 코드를 작성할 수 있는 방법이 있어요."
   ]
  },
  {
   "cell_type": "code",
   "execution_count": null,
   "metadata": {
    "colab": {
     "base_uri": "https://localhost:8080/",
     "height": 521
    },
    "executionInfo": {
     "elapsed": 4857,
     "status": "ok",
     "timestamp": 1651038664193,
     "user": {
      "displayName": "Taehee Lee",
      "userId": "12017922817927484990"
     },
     "user_tz": -540
    },
    "id": "IbeoDPtbhpxd",
    "outputId": "0e124060-e192-471a-b5c5-ef75836735d0"
   },
   "outputs": [],
   "source": [
    "size = 200\n",
    "color = 'red'\n",
    " \n",
    "initializeTurtle()\n",
    "pencolor(color)\n",
    "\n",
    "for i in range(4):\n",
    "  forward(size)\n",
    "  right(90)"
   ]
  },
  {
   "cell_type": "markdown",
   "metadata": {
    "id": "OsKBXLJqjN2e"
   },
   "source": [
    "3번만 반복하게 한다면?"
   ]
  },
  {
   "cell_type": "code",
   "execution_count": null,
   "metadata": {
    "colab": {
     "base_uri": "https://localhost:8080/",
     "height": 521
    },
    "executionInfo": {
     "elapsed": 3708,
     "status": "ok",
     "timestamp": 1651038859746,
     "user": {
      "displayName": "Taehee Lee",
      "userId": "12017922817927484990"
     },
     "user_tz": -540
    },
    "id": "LHhAAh3fjC-M",
    "outputId": "0979e28b-6245-436c-9204-eb3ae1c028a1"
   },
   "outputs": [],
   "source": [
    "size = 200\n",
    "color = 'red'\n",
    " \n",
    "initializeTurtle()\n",
    "pencolor(color)\n",
    "\n",
    "for i in range(3):\n",
    "  forward(size)\n",
    "  right(90)"
   ]
  },
  {
   "cell_type": "markdown",
   "metadata": {
    "id": "bD6W_YDKjfZK"
   },
   "source": [
    "## for 반복문\n",
    "\n",
    "```python\n",
    "for i in range(4):\n",
    "  forward(size)\n",
    "  right(90)\n",
    "```\n",
    "\n",
    "1. `range(4)` 4개의 연속되는 숫자를 만들어냅니다.\n",
    "2. 변수 `i`에 차례대로 정수 0, 1, 2, 3 를 저장합니다.\n",
    "3. 띄어쓰기한 구문까지 4번 반복 실행합니다."
   ]
  },
  {
   "cell_type": "markdown",
   "metadata": {
    "id": "kGTBdgtEkhWl"
   },
   "source": [
    "## 출력 함수(print)\n",
    "\n",
    "`i`에 저장된 값이 궁금해요. 출력해볼까요?"
   ]
  },
  {
   "cell_type": "code",
   "execution_count": null,
   "metadata": {
    "colab": {
     "base_uri": "https://localhost:8080/"
    },
    "executionInfo": {
     "elapsed": 326,
     "status": "ok",
     "timestamp": 1651038918748,
     "user": {
      "displayName": "Taehee Lee",
      "userId": "12017922817927484990"
     },
     "user_tz": -540
    },
    "id": "GU1t2i7kjRfb",
    "outputId": "6f321fa6-1592-435b-9701-fc8b826e1cbd"
   },
   "outputs": [],
   "source": [
    "for i in range(4):\n",
    "  print(i)"
   ]
  },
  {
   "cell_type": "markdown",
   "metadata": {
    "id": "v5ZlBcdHkzW1"
   },
   "source": [
    "### 변수에 저장된 값 확인해보기"
   ]
  },
  {
   "cell_type": "code",
   "execution_count": null,
   "metadata": {
    "colab": {
     "base_uri": "https://localhost:8080/"
    },
    "executionInfo": {
     "elapsed": 295,
     "status": "ok",
     "timestamp": 1651038933239,
     "user": {
      "displayName": "Taehee Lee",
      "userId": "12017922817927484990"
     },
     "user_tz": -540
    },
    "id": "w5uoDSF3kphM",
    "outputId": "4b22f410-5519-42c1-ef4e-6100ae44d730"
   },
   "outputs": [],
   "source": [
    "print(size)\n",
    "print(color)"
   ]
  },
  {
   "cell_type": "markdown",
   "metadata": {
    "id": "jZXkjh1UlFjj"
   },
   "source": [
    "## 무한 반복\n",
    "\n",
    "무한 반복해서 거북이를 움직이게 할 수 있는 방법이 있습니다.\n",
    "\n",
    "중단하고 싶다면 \"네모 버튼\"을 눌러주세요."
   ]
  },
  {
   "cell_type": "code",
   "execution_count": null,
   "metadata": {
    "colab": {
     "base_uri": "https://localhost:8080/",
     "height": 861
    },
    "executionInfo": {
     "elapsed": 21763,
     "status": "error",
     "timestamp": 1651038981465,
     "user": {
      "displayName": "Taehee Lee",
      "userId": "12017922817927484990"
     },
     "user_tz": -540
    },
    "id": "EnRGPXvKlRZn",
    "outputId": "a416dcfe-856a-40ee-c3f3-ad61e2fbd5f7"
   },
   "outputs": [],
   "source": [
    "size = 200\n",
    "color = 'red'\n",
    " \n",
    "initializeTurtle()\n",
    "pencolor(color)\n",
    "\n",
    "while True:\n",
    "  for i in range(4):\n",
    "    forward(size)\n",
    "    right(90)"
   ]
  },
  {
   "cell_type": "markdown",
   "metadata": {
    "id": "qHp9UC1Tlty_"
   },
   "source": [
    "## while 반복문\n",
    "\n",
    "`while` 뒤의 조건이 `False`(거짓)이 될 때까지 반복합니다.\n",
    "\n",
    "우리는 `while`뒤에 조건으로 `True`(참)를 넣었고 조건이 `False`(거짓)로 변할리 없으므로 무한 반복하게 됩니다.\n",
    "\n",
    "```python\n",
    "size = 200\n",
    "color = 'red'\n",
    " \n",
    "initializeTurtle()\n",
    "pencolor(color)\n",
    "\n",
    "while True:\n",
    "  for i in range(4):\n",
    "    forward(size)\n",
    "    right(90)\n",
    "```"
   ]
  },
  {
   "cell_type": "markdown",
   "metadata": {
    "id": "sfg--SsPmZpt"
   },
   "source": [
    "## 3번만 반복해서 그려보자\n",
    "\n",
    "새로운 변수(counter)를 만들어서 `while`문을 몇 번 반복했는지 숫자로 저장해두죠.\n",
    "\n",
    "그리고 몇 번 반복했는지 궁금하니까 `counter`를 출력하겠습니다."
   ]
  },
  {
   "cell_type": "markdown",
   "metadata": {
    "id": "LeMII1pTpYaH"
   },
   "source": [
    "### while문을 사용해서 3번 반복하기"
   ]
  },
  {
   "cell_type": "code",
   "execution_count": null,
   "metadata": {
    "colab": {
     "base_uri": "https://localhost:8080/",
     "height": 522
    },
    "executionInfo": {
     "elapsed": 12835,
     "status": "ok",
     "timestamp": 1628734953999,
     "user": {
      "displayName": "Taehee Lee",
      "photoUrl": "https://lh3.googleusercontent.com/a-/AOh14GijtfpZnQ0Syv6KWDHsShFunkW1YmSXhr4rUnheIEg=s64",
      "userId": "12017922817927484990"
     },
     "user_tz": -540
    },
    "id": "x_HhhT2Wm8-j",
    "outputId": "e44275a3-5909-4279-f2b2-6d028899c20f"
   },
   "outputs": [],
   "source": [
    "size = 200\n",
    "color = 'red'\n",
    "counter = 0\n",
    " \n",
    "initializeTurtle()\n",
    "pencolor(color)\n",
    " \n",
    "while counter < 3:\n",
    "  for i in range(4):\n",
    "    forward(size)\n",
    "    right(90)\n",
    "\n",
    "  counter = counter + 1"
   ]
  },
  {
   "cell_type": "markdown",
   "metadata": {
    "id": "q1CQ3b9Jo61x"
   },
   "source": [
    "### for문을 사용해서 3번 반복하기"
   ]
  },
  {
   "cell_type": "code",
   "execution_count": null,
   "metadata": {
    "colab": {
     "base_uri": "https://localhost:8080/",
     "height": 856
    },
    "executionInfo": {
     "elapsed": 21388,
     "status": "error",
     "timestamp": 1628735129048,
     "user": {
      "displayName": "Taehee Lee",
      "photoUrl": "https://lh3.googleusercontent.com/a-/AOh14GijtfpZnQ0Syv6KWDHsShFunkW1YmSXhr4rUnheIEg=s64",
      "userId": "12017922817927484990"
     },
     "user_tz": -540
    },
    "id": "sSceGh3jkyP0",
    "outputId": "26f5abda-410f-41bc-a014-bc7dbafe3714"
   },
   "outputs": [],
   "source": [
    "size = 200\n",
    "color = 'red'\n",
    " \n",
    "initializeTurtle()\n",
    "pencolor(color)\n",
    " \n",
    "for j in range(3):\n",
    "  for i in range(4):\n",
    "    forward(size)\n",
    "    right(90)"
   ]
  },
  {
   "cell_type": "markdown",
   "metadata": {
    "id": "x_yoD4Ifpqwo"
   },
   "source": [
    "## 반복할때마다 색깔 변경하기\n",
    "\n",
    "우리가 방금 작성한 코드를 실행하면 빨간색 사각형을 총 3회 그리는데요.\n",
    "\n",
    "아래와 같이 색깔을 변경하고 싶어요.\n",
    "\n",
    "- 1회: 빨간색\n",
    "- 2회: 노란색\n",
    "- 3회: 초록색\n",
    "\n",
    "이럴 경우에는 다음과 같은 조건이 붙어야겠죠.\n",
    "\n",
    "1. 첫 번째 사각형을 그릴 때는 빨간색 펜을 사용한다\n",
    "2. 두 번째 사각형을 그릴 때는 노란색 펜을 사용한다\n",
    "3. 세 번째 사각형을 그릴 때는 초록색 펜을 사용한다\n",
    "\n",
    "그렇다면 몇 번째 사각형을 그리는지 알아야하는데 그것은 바로 변수 `j`에 들어있죠.\n",
    "\n",
    "사각형을 반복해서 그릴 때마다 `j`의 값이 0, 1, 2로 변합니다.\n",
    "\n",
    "```python\n",
    "size = 200\n",
    "color = 'red'\n",
    " \n",
    "initializeTurtle()\n",
    "pencolor(color)\n",
    " \n",
    "for j in range(3):\n",
    "  for i in range(4):\n",
    "    forward(size)\n",
    "    right(90)\n",
    "```\n",
    "\n",
    "따라서 위의 조건을 프로그래밍으로 바꾸면:\n",
    "\n",
    "1. 만약 `j == 0` 이면, `color = 'red'`\n",
    "2. 만약 `j == 1` 이면, `color = 'yellow'`\n",
    "3. 만약 `j == 2` 이면, `color = 'green'`"
   ]
  },
  {
   "cell_type": "markdown",
   "metadata": {
    "id": "m5PFIs0FrXm1"
   },
   "source": [
    "## if 조건문\n",
    "\n",
    "1. `if` 만약 ㅇㅇ라면\n",
    "2. `elif` if가 아니라면\n",
    "4. `else` 이도저도 아니라면"
   ]
  },
  {
   "cell_type": "code",
   "execution_count": null,
   "metadata": {
    "colab": {
     "base_uri": "https://localhost:8080/",
     "height": 521
    },
    "executionInfo": {
     "elapsed": 13883,
     "status": "ok",
     "timestamp": 1651039180106,
     "user": {
      "displayName": "Taehee Lee",
      "userId": "12017922817927484990"
     },
     "user_tz": -540
    },
    "id": "m8K4DnYdMwJT",
    "outputId": "262cf89b-4082-4727-fb1f-66491a1074fe"
   },
   "outputs": [],
   "source": [
    "initializeTurtle()\n",
    "\n",
    "pencolor('red')\n",
    "\n",
    "for i in range(4):\n",
    "    forward(size)\n",
    "    right(90)\n",
    "\n",
    "pencolor('yellow')\n",
    "\n",
    "for i in range(4):\n",
    "    forward(size)\n",
    "    right(90)\n",
    "\n",
    "pencolor('green')\n",
    "\n",
    "for i in range(4):\n",
    "    forward(size)\n",
    "    right(90)"
   ]
  },
  {
   "cell_type": "code",
   "execution_count": null,
   "metadata": {
    "colab": {
     "base_uri": "https://localhost:8080/",
     "height": 521
    },
    "executionInfo": {
     "elapsed": 13855,
     "status": "ok",
     "timestamp": 1651039374255,
     "user": {
      "displayName": "Taehee Lee",
      "userId": "12017922817927484990"
     },
     "user_tz": -540
    },
    "id": "CzLzugCNpBEd",
    "outputId": "a2af6ea3-5138-4b4d-c078-1a68a76f4cdf"
   },
   "outputs": [],
   "source": [
    "size = 200\n",
    " \n",
    "initializeTurtle()\n",
    " \n",
    "for j in range(3):\n",
    "  if j == 0:\n",
    "    pencolor('red')\n",
    "  elif j == 1:\n",
    "    pencolor('yellow')\n",
    "  elif j == 2:\n",
    "    pencolor('green')\n",
    "\n",
    "  for i in range(4):\n",
    "    forward(size)\n",
    "    right(90)"
   ]
  },
  {
   "cell_type": "markdown",
   "metadata": {
    "id": "m3NnUAn3sIfN"
   },
   "source": [
    "## 리스트(배열)의 등장\n",
    "\n",
    "`if`문 때문에 코드가 길어져서 짜증납니다. 조금 더 짧게 만들 방법은 없을까요?"
   ]
  },
  {
   "cell_type": "code",
   "execution_count": null,
   "metadata": {
    "colab": {
     "base_uri": "https://localhost:8080/",
     "height": 521
    },
    "executionInfo": {
     "elapsed": 13876,
     "status": "ok",
     "timestamp": 1651039521931,
     "user": {
      "displayName": "Taehee Lee",
      "userId": "12017922817927484990"
     },
     "user_tz": -540
    },
    "id": "miehXQ8dsDWf",
    "outputId": "80a21e4b-106d-43ea-dc29-54fc171f9cff"
   },
   "outputs": [],
   "source": [
    "size = 200\n",
    "colors = ['red', 'yellow', 'green']\n",
    "\n",
    "initializeTurtle()\n",
    " \n",
    "for j in range(3):\n",
    "  pencolor(colors[j])\n",
    "\n",
    "  for i in range(4):\n",
    "    forward(size)\n",
    "    right(90)"
   ]
  },
  {
   "cell_type": "markdown",
   "metadata": {
    "id": "ByCqLvqtucL7"
   },
   "source": [
    "### 리스트에 저장된 값을 꺼내오기"
   ]
  },
  {
   "cell_type": "code",
   "execution_count": null,
   "metadata": {
    "colab": {
     "base_uri": "https://localhost:8080/"
    },
    "executionInfo": {
     "elapsed": 4,
     "status": "ok",
     "timestamp": 1651039555441,
     "user": {
      "displayName": "Taehee Lee",
      "userId": "12017922817927484990"
     },
     "user_tz": -540
    },
    "id": "B83zJsQ6uSiI",
    "outputId": "bca599e0-148b-45c8-9679-58edbd90fbe8"
   },
   "outputs": [],
   "source": [
    "colors = ['red', 'yellow', 'green']\n",
    "\n",
    "print(colors[2])"
   ]
  },
  {
   "cell_type": "markdown",
   "metadata": {
    "id": "nz-eVJHSunYN"
   },
   "source": [
    "## 리스트를 사용해서 크기가 다른 사각형 그리기\n",
    "\n",
    "`size` 변수도 숫자가 저장된 리스트 형태로 만들어서 다른 크기가 다른 사각형 3개를 만들 수 있지 않을까요? "
   ]
  },
  {
   "cell_type": "code",
   "execution_count": null,
   "metadata": {
    "colab": {
     "base_uri": "https://localhost:8080/",
     "height": 521
    },
    "executionInfo": {
     "elapsed": 13877,
     "status": "ok",
     "timestamp": 1651039624467,
     "user": {
      "displayName": "Taehee Lee",
      "userId": "12017922817927484990"
     },
     "user_tz": -540
    },
    "id": "Jd1pRYHRuau6",
    "outputId": "32c4ab07-4f45-4268-f916-7a41a034ccd4"
   },
   "outputs": [],
   "source": [
    "sizes = [50, 100, 200]\n",
    "colors = ['red', 'yellow', 'green']\n",
    "\n",
    "initializeTurtle()\n",
    " \n",
    "for j in range(3):\n",
    "  pencolor(colors[j])\n",
    "\n",
    "  for i in range(4):\n",
    "    forward(sizes[j])\n",
    "    right(90)"
   ]
  },
  {
   "cell_type": "markdown",
   "metadata": {
    "id": "YH_ysSH8vCt-"
   },
   "source": [
    "## 함수(Function) 만들기\n",
    "\n",
    "우리는 위에서 가장 간단한 사각형을 `for` 반복문을 사용해서 만들었었죠.\n",
    "\n",
    "```python\n",
    "size = 200\n",
    "color = 'red'\n",
    " \n",
    "initializeTurtle()\n",
    "pencolor(color)\n",
    "\n",
    "for i in range(4):\n",
    "  forward(size)\n",
    "  right(90)\n",
    "```\n",
    "\n",
    "사각형을 그리는 함수를 만들 건데요. 이렇게 작성합니다!"
   ]
  },
  {
   "cell_type": "code",
   "execution_count": null,
   "metadata": {
    "id": "H-I23vbvu76i"
   },
   "outputs": [],
   "source": [
    "def draw_rectangle():\n",
    "  size = 200\n",
    "  color = 'red'\n",
    "\n",
    "  pencolor(color)\n",
    "  \n",
    "  for i in range(4):\n",
    "    forward(size)\n",
    "    right(90)"
   ]
  },
  {
   "cell_type": "markdown",
   "metadata": {
    "id": "78euHmFwvwiJ"
   },
   "source": [
    "## 함수의 실행"
   ]
  },
  {
   "cell_type": "code",
   "execution_count": null,
   "metadata": {
    "colab": {
     "base_uri": "https://localhost:8080/",
     "height": 521
    },
    "executionInfo": {
     "elapsed": 4702,
     "status": "ok",
     "timestamp": 1651039719922,
     "user": {
      "displayName": "Taehee Lee",
      "userId": "12017922817927484990"
     },
     "user_tz": -540
    },
    "id": "GHRMnajAvv6Q",
    "outputId": "9cd854df-d1a7-405c-c8c1-6d653e7d0a58"
   },
   "outputs": [],
   "source": [
    "initializeTurtle()\n",
    "\n",
    "draw_rectangle()"
   ]
  },
  {
   "cell_type": "markdown",
   "metadata": {
    "id": "ekWpWyeCwgF_"
   },
   "source": [
    "## 함수 입력 만들기\n",
    "\n",
    "`size`와 `color`를 입력으로 받아 크기와 색깔이 다른 사각형을 편하게 그릴 수 있는 함수를 만들어 보아요!\n",
    "\n",
    "<img src=\"https://i.imgur.com/DAmizAH.png\" width=\"500px\">"
   ]
  },
  {
   "cell_type": "code",
   "execution_count": null,
   "metadata": {
    "id": "drRMb7ISvyoS"
   },
   "outputs": [],
   "source": [
    "def draw_rectangle(size, color):\n",
    "  pencolor(color)\n",
    "  \n",
    "  for i in range(4):\n",
    "    forward(size)\n",
    "    right(90)"
   ]
  },
  {
   "cell_type": "markdown",
   "metadata": {
    "id": "NIve7GLMxCIT"
   },
   "source": [
    "## 함수에 입력을 넣어서 실행하기"
   ]
  },
  {
   "cell_type": "code",
   "execution_count": null,
   "metadata": {
    "colab": {
     "base_uri": "https://localhost:8080/",
     "height": 521
    },
    "executionInfo": {
     "elapsed": 4803,
     "status": "ok",
     "timestamp": 1651039834709,
     "user": {
      "displayName": "Taehee Lee",
      "userId": "12017922817927484990"
     },
     "user_tz": -540
    },
    "id": "mVJ9UBAKw5Y8",
    "outputId": "263526b4-45a0-482e-91ac-cd1662c63c33"
   },
   "outputs": [],
   "source": [
    "initializeTurtle()\n",
    "\n",
    "draw_rectangle(200, 'blue')"
   ]
  },
  {
   "cell_type": "markdown",
   "metadata": {
    "id": "hFrpCkdfxPyc"
   },
   "source": [
    "## 함수를 사용해서 색깔과 크기가 다른 사각형 그리기\n",
    "\n",
    "위에서 배운 리스트와 함수를 적절히 섞어서 색깔과 크기가 다른 사각형을 그릴 수 있답니다."
   ]
  },
  {
   "cell_type": "code",
   "execution_count": null,
   "metadata": {
    "colab": {
     "base_uri": "https://localhost:8080/",
     "height": 521
    },
    "executionInfo": {
     "elapsed": 13927,
     "status": "ok",
     "timestamp": 1651039864545,
     "user": {
      "displayName": "Taehee Lee",
      "userId": "12017922817927484990"
     },
     "user_tz": -540
    },
    "id": "AePq8OD-w-Q8",
    "outputId": "d4ea6a4a-014e-4140-848f-763f612e136f"
   },
   "outputs": [],
   "source": [
    "sizes = [50, 100, 200]\n",
    "colors = ['red', 'yellow', 'green']\n",
    "\n",
    "initializeTurtle()\n",
    " \n",
    "for j in range(3):\n",
    "  draw_rectangle(sizes[j], colors[j])"
   ]
  },
  {
   "cell_type": "markdown",
   "metadata": {
    "id": "xdJR9t__0HcN"
   },
   "source": [
    "## 더 복잡한 도형 그리기"
   ]
  },
  {
   "cell_type": "code",
   "execution_count": null,
   "metadata": {
    "colab": {
     "base_uri": "https://localhost:8080/",
     "height": 521
    },
    "executionInfo": {
     "elapsed": 38268,
     "status": "ok",
     "timestamp": 1651039932966,
     "user": {
      "displayName": "Taehee Lee",
      "userId": "12017922817927484990"
     },
     "user_tz": -540
    },
    "id": "4GBTXtAZxdwE",
    "outputId": "fe9356d4-24cf-462b-e4ca-3b86d27f4095"
   },
   "outputs": [],
   "source": [
    "initializeTurtle()\n",
    "\n",
    "pensize(1)\n",
    "speed(8)\n",
    "\n",
    "for i in range(300):\n",
    "  forward(i)\n",
    "  right(91)"
   ]
  },
  {
   "cell_type": "code",
   "execution_count": null,
   "metadata": {
    "id": "2PCRcMCZ0Nwe"
   },
   "outputs": [],
   "source": []
  }
 ],
 "metadata": {
  "colab": {
   "authorship_tag": "ABX9TyPk/FhwOJWi8tkAv911yCB8",
   "provenance": []
  },
  "kernelspec": {
   "display_name": "Python 3",
   "name": "python3"
  },
  "language_info": {
   "codemirror_mode": {
    "name": "ipython",
    "version": 3
   },
   "file_extension": ".py",
   "mimetype": "text/x-python",
   "name": "python",
   "nbconvert_exporter": "python",
   "pygments_lexer": "ipython3",
   "version": "3.11.5"
  }
 },
 "nbformat": 4,
 "nbformat_minor": 0
}
