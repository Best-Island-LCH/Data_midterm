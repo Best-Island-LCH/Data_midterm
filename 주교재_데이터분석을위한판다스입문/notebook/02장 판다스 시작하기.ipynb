{
 "cells": [
  {
   "cell_type": "markdown",
   "id": "ed437cab",
   "metadata": {},
   "source": [
    "## 02-1 판다스가 왜 필요할까?"
   ]
  },
  {
   "cell_type": "markdown",
   "id": "a4d87c12",
   "metadata": {},
   "source": [
    "## 02-2 데이터셋 불러오기"
   ]
  },
  {
   "cell_type": "markdown",
   "id": "6d81a5ef",
   "metadata": {},
   "source": [
    "### 데이터 분석은 데이터셋 불러오기부터"
   ]
  },
  {
   "cell_type": "markdown",
   "id": "9dd15966",
   "metadata": {},
   "source": [
    "#### [Do It! 실습] 첫 데이터셋 불러오기"
   ]
  },
  {
   "cell_type": "code",
   "execution_count": 1,
   "id": "e9edbc67",
   "metadata": {},
   "outputs": [],
   "source": [
    "import pandas"
   ]
  },
  {
   "cell_type": "code",
   "execution_count": 2,
   "id": "59f1c4d3",
   "metadata": {},
   "outputs": [],
   "source": [
    "df = pandas.read_csv('../data/gapminder.tsv', sep='\\t') # 얘는 separate를 tab키로 한다는걸 알려줘야 함."
   ]
  },
  {
   "cell_type": "code",
   "execution_count": 3,
   "id": "8f542075",
   "metadata": {},
   "outputs": [
    {
     "name": "stdout",
     "output_type": "stream",
     "text": [
      "          country continent  year  lifeExp       pop   gdpPercap\n",
      "0     Afghanistan      Asia  1952   28.801   8425333  779.445314\n",
      "1     Afghanistan      Asia  1957   30.332   9240934  820.853030\n",
      "2     Afghanistan      Asia  1962   31.997  10267083  853.100710\n",
      "3     Afghanistan      Asia  1967   34.020  11537966  836.197138\n",
      "4     Afghanistan      Asia  1972   36.088  13079460  739.981106\n",
      "...           ...       ...   ...      ...       ...         ...\n",
      "1699     Zimbabwe    Africa  1987   62.351   9216418  706.157306\n",
      "1700     Zimbabwe    Africa  1992   60.377  10704340  693.420786\n",
      "1701     Zimbabwe    Africa  1997   46.809  11404948  792.449960\n",
      "1702     Zimbabwe    Africa  2002   39.989  11926563  672.038623\n",
      "1703     Zimbabwe    Africa  2007   43.487  12311143  469.709298\n",
      "\n",
      "[1704 rows x 6 columns]\n"
     ]
    }
   ],
   "source": [
    "print(df)"
   ]
  },
  {
   "cell_type": "code",
   "execution_count": 4,
   "id": "1bec8f66",
   "metadata": {},
   "outputs": [],
   "source": [
    "import pandas as pd\n",
    "df = pd.read_csv('../data/gapminder.tsv', sep='\\t')"
   ]
  },
  {
   "cell_type": "markdown",
   "id": "918f9740",
   "metadata": {},
   "source": [
    "#### [Do It! 실습] 데이터프레임 이해하기"
   ]
  },
  {
   "cell_type": "code",
   "execution_count": 5,
   "id": "48efdb11",
   "metadata": {},
   "outputs": [
    {
     "name": "stdout",
     "output_type": "stream",
     "text": [
      "<class 'pandas.core.frame.DataFrame'>\n"
     ]
    }
   ],
   "source": [
    "print(type(df))"
   ]
  },
  {
   "cell_type": "code",
   "execution_count": 7,
   "id": "12ce4d4b",
   "metadata": {},
   "outputs": [
    {
     "name": "stdout",
     "output_type": "stream",
     "text": [
      "(1704, 6)\n"
     ]
    }
   ],
   "source": [
    "print(df.shape)"
   ]
  },
  {
   "cell_type": "code",
   "execution_count": 8,
   "id": "d4ed92a5",
   "metadata": {},
   "outputs": [
    {
     "name": "stdout",
     "output_type": "stream",
     "text": [
      "Index(['country', 'continent', 'year', 'lifeExp', 'pop', 'gdpPercap'], dtype='object')\n"
     ]
    }
   ],
   "source": [
    "print(df.columns)"
   ]
  },
  {
   "cell_type": "code",
   "execution_count": 9,
   "id": "2c747174",
   "metadata": {},
   "outputs": [
    {
     "name": "stdout",
     "output_type": "stream",
     "text": [
      "country       object\n",
      "continent     object\n",
      "year           int64\n",
      "lifeExp      float64\n",
      "pop            int64\n",
      "gdpPercap    float64\n",
      "dtype: object\n"
     ]
    }
   ],
   "source": [
    "print(df.dtypes)"
   ]
  },
  {
   "cell_type": "code",
   "execution_count": 10,
   "id": "c29329fe",
   "metadata": {},
   "outputs": [
    {
     "name": "stdout",
     "output_type": "stream",
     "text": [
      "<class 'pandas.core.frame.DataFrame'>\n",
      "RangeIndex: 1704 entries, 0 to 1703\n",
      "Data columns (total 6 columns):\n",
      " #   Column     Non-Null Count  Dtype  \n",
      "---  ------     --------------  -----  \n",
      " 0   country    1704 non-null   object \n",
      " 1   continent  1704 non-null   object \n",
      " 2   year       1704 non-null   int64  \n",
      " 3   lifeExp    1704 non-null   float64\n",
      " 4   pop        1704 non-null   int64  \n",
      " 5   gdpPercap  1704 non-null   float64\n",
      "dtypes: float64(2), int64(2), object(2)\n",
      "memory usage: 80.0+ KB\n",
      "None\n"
     ]
    }
   ],
   "source": [
    "print(df.info())"
   ]
  },
  {
   "cell_type": "markdown",
   "id": "1a275f68",
   "metadata": {},
   "source": [
    "### 02-3 데이터 추출하기"
   ]
  },
  {
   "cell_type": "code",
   "execution_count": 12,
   "id": "ad47a275",
   "metadata": {},
   "outputs": [
    {
     "name": "stdout",
     "output_type": "stream",
     "text": [
      "       country continent  year  lifeExp       pop   gdpPercap\n",
      "0  Afghanistan      Asia  1952   28.801   8425333  779.445314\n",
      "1  Afghanistan      Asia  1957   30.332   9240934  820.853030\n",
      "2  Afghanistan      Asia  1962   31.997  10267083  853.100710\n",
      "3  Afghanistan      Asia  1967   34.020  11537966  836.197138\n",
      "4  Afghanistan      Asia  1972   36.088  13079460  739.981106\n"
     ]
    }
   ],
   "source": [
    "print(df.head()) # 굳이 모든 내용이 아닌 파일이 잘 불러와졌는지 확인하기 위해 사용. (맨 위 다섯개) -> .head(10) = 10개 불러옴 -> .tail() = 맨 아래 5개를 불러옴"
   ]
  },
  {
   "cell_type": "markdown",
   "id": "8997f22e",
   "metadata": {},
   "source": [
    "### 열 데이터 추출하기"
   ]
  },
  {
   "cell_type": "markdown",
   "id": "9032e101",
   "metadata": {},
   "source": [
    "#### [Do It! 실습] 문자열로 열 데이터 추출하기"
   ]
  },
  {
   "cell_type": "code",
   "execution_count": 13,
   "id": "c48ff4e5",
   "metadata": {},
   "outputs": [],
   "source": [
    "country_df = df['country']"
   ]
  },
  {
   "cell_type": "code",
   "execution_count": 14,
   "id": "9d610669",
   "metadata": {},
   "outputs": [
    {
     "name": "stdout",
     "output_type": "stream",
     "text": [
      "0    Afghanistan\n",
      "1    Afghanistan\n",
      "2    Afghanistan\n",
      "3    Afghanistan\n",
      "4    Afghanistan\n",
      "Name: country, dtype: object\n"
     ]
    }
   ],
   "source": [
    "print(country_df.head())"
   ]
  },
  {
   "cell_type": "code",
   "execution_count": 15,
   "id": "622f4973",
   "metadata": {},
   "outputs": [
    {
     "name": "stdout",
     "output_type": "stream",
     "text": [
      "1699    Zimbabwe\n",
      "1700    Zimbabwe\n",
      "1701    Zimbabwe\n",
      "1702    Zimbabwe\n",
      "1703    Zimbabwe\n",
      "Name: country, dtype: object\n"
     ]
    }
   ],
   "source": [
    "print(country_df.tail())"
   ]
  },
  {
   "cell_type": "markdown",
   "id": "48c05657",
   "metadata": {},
   "source": [
    "#### [Do It! 실습] 리스트로 열 데이터 추출하기"
   ]
  },
  {
   "cell_type": "code",
   "execution_count": 20,
   "id": "45d5a82b",
   "metadata": {},
   "outputs": [],
   "source": [
    "subset = df[['country', 'continent', 'year']]"
   ]
  },
  {
   "cell_type": "code",
   "execution_count": 17,
   "id": "36fb88f6",
   "metadata": {},
   "outputs": [
    {
     "name": "stdout",
     "output_type": "stream",
     "text": [
      "          country continent  year\n",
      "0     Afghanistan      Asia  1952\n",
      "1     Afghanistan      Asia  1957\n",
      "2     Afghanistan      Asia  1962\n",
      "3     Afghanistan      Asia  1967\n",
      "4     Afghanistan      Asia  1972\n",
      "...           ...       ...   ...\n",
      "1699     Zimbabwe    Africa  1987\n",
      "1700     Zimbabwe    Africa  1992\n",
      "1701     Zimbabwe    Africa  1997\n",
      "1702     Zimbabwe    Africa  2002\n",
      "1703     Zimbabwe    Africa  2007\n",
      "\n",
      "[1704 rows x 3 columns]\n"
     ]
    }
   ],
   "source": [
    "print(subset)"
   ]
  },
  {
   "cell_type": "markdown",
   "id": "241ac5ed",
   "metadata": {},
   "source": [
    "#### [Do It! 실습] 두 추출 방법의 차이점 이해하기 "
   ]
  },
  {
   "cell_type": "code",
   "execution_count": 18,
   "id": "685f668e",
   "metadata": {},
   "outputs": [
    {
     "name": "stdout",
     "output_type": "stream",
     "text": [
      "<class 'pandas.core.series.Series'>\n"
     ]
    }
   ],
   "source": [
    "country_df = df['country']\n",
    "print(type(country_df))"
   ]
  },
  {
   "cell_type": "code",
   "execution_count": 19,
   "id": "569ec564",
   "metadata": {},
   "outputs": [
    {
     "name": "stdout",
     "output_type": "stream",
     "text": [
      "0       Afghanistan\n",
      "1       Afghanistan\n",
      "2       Afghanistan\n",
      "3       Afghanistan\n",
      "4       Afghanistan\n",
      "           ...     \n",
      "1699       Zimbabwe\n",
      "1700       Zimbabwe\n",
      "1701       Zimbabwe\n",
      "1702       Zimbabwe\n",
      "1703       Zimbabwe\n",
      "Name: country, Length: 1704, dtype: object\n"
     ]
    }
   ],
   "source": [
    "print(country_df)"
   ]
  },
  {
   "cell_type": "code",
   "execution_count": null,
   "id": "4afc5cc5",
   "metadata": {},
   "outputs": [],
   "source": [
    "country_df_list = df[['country']]\n",
    "print(type(country_df_list))"
   ]
  },
  {
   "cell_type": "code",
   "execution_count": null,
   "id": "2e2f8f9e",
   "metadata": {},
   "outputs": [],
   "source": [
    "print(country_df_list)"
   ]
  },
  {
   "cell_type": "markdown",
   "id": "4b7ad5f9",
   "metadata": {},
   "source": [
    "### 행 데이터 추출하기"
   ]
  },
  {
   "cell_type": "markdown",
   "id": "9b5da2f0",
   "metadata": {},
   "source": [
    "#### [Do It! 실습] 행 이름으로 행 데이터 추출하기"
   ]
  },
  {
   "cell_type": "code",
   "execution_count": null,
   "id": "a3b6438a",
   "metadata": {},
   "outputs": [],
   "source": [
    "print(df)"
   ]
  },
  {
   "cell_type": "code",
   "execution_count": null,
   "id": "462a78e9",
   "metadata": {},
   "outputs": [],
   "source": [
    "print(df.loc[0])"
   ]
  },
  {
   "cell_type": "code",
   "execution_count": null,
   "id": "b05b8a75",
   "metadata": {},
   "outputs": [],
   "source": [
    "print(df.loc[99])"
   ]
  },
  {
   "cell_type": "code",
   "execution_count": null,
   "id": "1fd37c51",
   "metadata": {},
   "outputs": [],
   "source": [
    "# print(df.loc[-1])  # 오류"
   ]
  },
  {
   "cell_type": "code",
   "execution_count": null,
   "id": "9895d1f1",
   "metadata": {},
   "outputs": [],
   "source": [
    "# shape 속성을 사용하여 행의 개수 구하기\n",
    "number_of_rows = df.shape[0]\n",
    "\n",
    "# 행의 개수에서 1을 뺀 값으로 마지막 행의 인덱스 구하기\n",
    "last_row_index = number_of_rows - 1\n",
    "\n",
    "# 마지막 행의 인덱스로 데이터 추출하기\n",
    "print(df.loc[last_row_index])"
   ]
  },
  {
   "cell_type": "code",
   "execution_count": null,
   "id": "ba978643",
   "metadata": {},
   "outputs": [],
   "source": [
    "print(df.tail(n=1))"
   ]
  },
  {
   "cell_type": "code",
   "execution_count": null,
   "id": "58f690d8",
   "metadata": {},
   "outputs": [],
   "source": [
    "print(df.loc[[0, 99, 999]])"
   ]
  },
  {
   "cell_type": "markdown",
   "id": "891673ca",
   "metadata": {},
   "source": [
    "#### [Do It! 실습] 행 번호로 행 데이터 추출하기"
   ]
  },
  {
   "cell_type": "code",
   "execution_count": null,
   "id": "81376fb4",
   "metadata": {},
   "outputs": [],
   "source": [
    "print(df.iloc[1])"
   ]
  },
  {
   "cell_type": "code",
   "execution_count": null,
   "id": "4b871a46",
   "metadata": {},
   "outputs": [],
   "source": [
    "print(df.iloc[99])"
   ]
  },
  {
   "cell_type": "code",
   "execution_count": null,
   "id": "e0b10d72",
   "metadata": {},
   "outputs": [],
   "source": [
    "print(df.iloc[-1])"
   ]
  },
  {
   "cell_type": "code",
   "execution_count": null,
   "id": "212a96f1",
   "metadata": {},
   "outputs": [],
   "source": [
    "print(df.iloc[[0, 99, 999]])"
   ]
  },
  {
   "cell_type": "markdown",
   "id": "29d55164",
   "metadata": {},
   "source": [
    "### loc와 iloc로 데이터 추출하기 (순서ㅐㅐㅐ)"
   ]
  },
  {
   "cell_type": "markdown",
   "id": "92b44144",
   "metadata": {},
   "source": [
    "#### [Do It! 실습] 슬라이싱 구문으로 데이터 추출하기"
   ]
  },
  {
   "cell_type": "code",
   "execution_count": null,
   "id": "ab284810",
   "metadata": {},
   "outputs": [],
   "source": [
    "# ef.loc[추출할행에대한정보, 추출할열에대한정보]"
   ]
  },
  {
   "cell_type": "code",
   "execution_count": 22,
   "id": "7aebcdb5",
   "metadata": {},
   "outputs": [
    {
     "name": "stdout",
     "output_type": "stream",
     "text": [
      "      year       pop\n",
      "0     1952   8425333\n",
      "1     1957   9240934\n",
      "2     1962  10267083\n",
      "3     1967  11537966\n",
      "4     1972  13079460\n",
      "...    ...       ...\n",
      "1699  1987   9216418\n",
      "1700  1992  10704340\n",
      "1701  1997  11404948\n",
      "1702  2002  11926563\n",
      "1703  2007  12311143\n",
      "\n",
      "[1704 rows x 2 columns]\n"
     ]
    }
   ],
   "source": [
    "subset = df.loc[:, ['year', 'pop']]\n",
    "print(subset)"
   ]
  },
  {
   "cell_type": "code",
   "execution_count": 25,
   "id": "44f5ae40",
   "metadata": {},
   "outputs": [
    {
     "ename": "IndexError",
     "evalue": ".iloc requires numeric indexers, got ['year' 'pop']",
     "output_type": "error",
     "traceback": [
      "\u001b[31m---------------------------------------------------------------------------\u001b[39m",
      "\u001b[31mIndexError\u001b[39m                                Traceback (most recent call last)",
      "\u001b[36mCell\u001b[39m\u001b[36m \u001b[39m\u001b[32mIn[25]\u001b[39m\u001b[32m, line 1\u001b[39m\n\u001b[32m----> \u001b[39m\u001b[32m1\u001b[39m subset = \u001b[43mdf\u001b[49m\u001b[43m.\u001b[49m\u001b[43miloc\u001b[49m\u001b[43m[\u001b[49m\u001b[43m:\u001b[49m\u001b[43m[\u001b[49m\u001b[32;43m4\u001b[39;49m\u001b[43m,\u001b[49m\u001b[43m \u001b[49m\u001b[32;43m9\u001b[39;49m\u001b[43m]\u001b[49m\u001b[43m,\u001b[49m\u001b[43m \u001b[49m\u001b[43m[\u001b[49m\u001b[33;43m'\u001b[39;49m\u001b[33;43myear\u001b[39;49m\u001b[33;43m'\u001b[39;49m\u001b[43m,\u001b[49m\u001b[43m \u001b[49m\u001b[33;43m'\u001b[39;49m\u001b[33;43mpop\u001b[39;49m\u001b[33;43m'\u001b[39;49m\u001b[43m]\u001b[49m\u001b[43m]\u001b[49m\n\u001b[32m      2\u001b[39m \u001b[38;5;28mprint\u001b[39m(subset)\n",
      "\u001b[36mFile \u001b[39m\u001b[32mc:\\Users\\이창현\\AppData\\Local\\Programs\\Python\\Python313\\Lib\\site-packages\\pandas\\core\\indexing.py:1184\u001b[39m, in \u001b[36m_LocationIndexer.__getitem__\u001b[39m\u001b[34m(self, key)\u001b[39m\n\u001b[32m   1182\u001b[39m     \u001b[38;5;28;01mif\u001b[39;00m \u001b[38;5;28mself\u001b[39m._is_scalar_access(key):\n\u001b[32m   1183\u001b[39m         \u001b[38;5;28;01mreturn\u001b[39;00m \u001b[38;5;28mself\u001b[39m.obj._get_value(*key, takeable=\u001b[38;5;28mself\u001b[39m._takeable)\n\u001b[32m-> \u001b[39m\u001b[32m1184\u001b[39m     \u001b[38;5;28;01mreturn\u001b[39;00m \u001b[38;5;28;43mself\u001b[39;49m\u001b[43m.\u001b[49m\u001b[43m_getitem_tuple\u001b[49m\u001b[43m(\u001b[49m\u001b[43mkey\u001b[49m\u001b[43m)\u001b[49m\n\u001b[32m   1185\u001b[39m \u001b[38;5;28;01melse\u001b[39;00m:\n\u001b[32m   1186\u001b[39m     \u001b[38;5;66;03m# we by definition only have the 0th axis\u001b[39;00m\n\u001b[32m   1187\u001b[39m     axis = \u001b[38;5;28mself\u001b[39m.axis \u001b[38;5;129;01mor\u001b[39;00m \u001b[32m0\u001b[39m\n",
      "\u001b[36mFile \u001b[39m\u001b[32mc:\\Users\\이창현\\AppData\\Local\\Programs\\Python\\Python313\\Lib\\site-packages\\pandas\\core\\indexing.py:1690\u001b[39m, in \u001b[36m_iLocIndexer._getitem_tuple\u001b[39m\u001b[34m(self, tup)\u001b[39m\n\u001b[32m   1689\u001b[39m \u001b[38;5;28;01mdef\u001b[39;00m\u001b[38;5;250m \u001b[39m\u001b[34m_getitem_tuple\u001b[39m(\u001b[38;5;28mself\u001b[39m, tup: \u001b[38;5;28mtuple\u001b[39m):\n\u001b[32m-> \u001b[39m\u001b[32m1690\u001b[39m     tup = \u001b[38;5;28;43mself\u001b[39;49m\u001b[43m.\u001b[49m\u001b[43m_validate_tuple_indexer\u001b[49m\u001b[43m(\u001b[49m\u001b[43mtup\u001b[49m\u001b[43m)\u001b[49m\n\u001b[32m   1691\u001b[39m     \u001b[38;5;28;01mwith\u001b[39;00m suppress(IndexingError):\n\u001b[32m   1692\u001b[39m         \u001b[38;5;28;01mreturn\u001b[39;00m \u001b[38;5;28mself\u001b[39m._getitem_lowerdim(tup)\n",
      "\u001b[36mFile \u001b[39m\u001b[32mc:\\Users\\이창현\\AppData\\Local\\Programs\\Python\\Python313\\Lib\\site-packages\\pandas\\core\\indexing.py:966\u001b[39m, in \u001b[36m_LocationIndexer._validate_tuple_indexer\u001b[39m\u001b[34m(self, key)\u001b[39m\n\u001b[32m    964\u001b[39m \u001b[38;5;28;01mfor\u001b[39;00m i, k \u001b[38;5;129;01min\u001b[39;00m \u001b[38;5;28menumerate\u001b[39m(key):\n\u001b[32m    965\u001b[39m     \u001b[38;5;28;01mtry\u001b[39;00m:\n\u001b[32m--> \u001b[39m\u001b[32m966\u001b[39m         \u001b[38;5;28;43mself\u001b[39;49m\u001b[43m.\u001b[49m\u001b[43m_validate_key\u001b[49m\u001b[43m(\u001b[49m\u001b[43mk\u001b[49m\u001b[43m,\u001b[49m\u001b[43m \u001b[49m\u001b[43mi\u001b[49m\u001b[43m)\u001b[49m\n\u001b[32m    967\u001b[39m     \u001b[38;5;28;01mexcept\u001b[39;00m \u001b[38;5;167;01mValueError\u001b[39;00m \u001b[38;5;28;01mas\u001b[39;00m err:\n\u001b[32m    968\u001b[39m         \u001b[38;5;28;01mraise\u001b[39;00m \u001b[38;5;167;01mValueError\u001b[39;00m(\n\u001b[32m    969\u001b[39m             \u001b[33m\"\u001b[39m\u001b[33mLocation based indexing can only have \u001b[39m\u001b[33m\"\u001b[39m\n\u001b[32m    970\u001b[39m             \u001b[33mf\u001b[39m\u001b[33m\"\u001b[39m\u001b[33m[\u001b[39m\u001b[38;5;132;01m{\u001b[39;00m\u001b[38;5;28mself\u001b[39m._valid_types\u001b[38;5;132;01m}\u001b[39;00m\u001b[33m] types\u001b[39m\u001b[33m\"\u001b[39m\n\u001b[32m    971\u001b[39m         ) \u001b[38;5;28;01mfrom\u001b[39;00m\u001b[38;5;250m \u001b[39m\u001b[34;01merr\u001b[39;00m\n",
      "\u001b[36mFile \u001b[39m\u001b[32mc:\\Users\\이창현\\AppData\\Local\\Programs\\Python\\Python313\\Lib\\site-packages\\pandas\\core\\indexing.py:1608\u001b[39m, in \u001b[36m_iLocIndexer._validate_key\u001b[39m\u001b[34m(self, key, axis)\u001b[39m\n\u001b[32m   1606\u001b[39m \u001b[38;5;66;03m# check that the key has a numeric dtype\u001b[39;00m\n\u001b[32m   1607\u001b[39m \u001b[38;5;28;01mif\u001b[39;00m \u001b[38;5;129;01mnot\u001b[39;00m is_numeric_dtype(arr.dtype):\n\u001b[32m-> \u001b[39m\u001b[32m1608\u001b[39m     \u001b[38;5;28;01mraise\u001b[39;00m \u001b[38;5;167;01mIndexError\u001b[39;00m(\u001b[33mf\u001b[39m\u001b[33m\"\u001b[39m\u001b[33m.iloc requires numeric indexers, got \u001b[39m\u001b[38;5;132;01m{\u001b[39;00marr\u001b[38;5;132;01m}\u001b[39;00m\u001b[33m\"\u001b[39m)\n\u001b[32m   1610\u001b[39m \u001b[38;5;66;03m# check that the key does not exceed the maximum size of the index\u001b[39;00m\n\u001b[32m   1611\u001b[39m \u001b[38;5;28;01mif\u001b[39;00m \u001b[38;5;28mlen\u001b[39m(arr) \u001b[38;5;129;01mand\u001b[39;00m (arr.max() >= len_axis \u001b[38;5;129;01mor\u001b[39;00m arr.min() < -len_axis):\n",
      "\u001b[31mIndexError\u001b[39m: .iloc requires numeric indexers, got ['year' 'pop']"
     ]
    }
   ],
   "source": [
    "subset = df.iloc[:[4, 9], ['year', 'pop']]\n",
    "print(subset)"
   ]
  },
  {
   "cell_type": "code",
   "execution_count": null,
   "id": "14bf5b4d",
   "metadata": {},
   "outputs": [],
   "source": [
    "subset = df.iloc[:, [2, 4, -1]]\n",
    "print(subset)"
   ]
  },
  {
   "cell_type": "code",
   "execution_count": null,
   "id": "cf68530e",
   "metadata": {},
   "outputs": [],
   "source": [
    "# subset = df.loc[:, [2, 4, -1]]  # 오류\n",
    "# print(subset)"
   ]
  },
  {
   "cell_type": "code",
   "execution_count": null,
   "id": "3f779ef1",
   "metadata": {},
   "outputs": [],
   "source": [
    "# subset = df.iloc[:, ['year', 'pop']]  # 오류\n",
    "# print(subset)"
   ]
  },
  {
   "cell_type": "markdown",
   "id": "4a224777",
   "metadata": {},
   "source": [
    "#### [Do It! 실습] range()로 데이터 추출하기"
   ]
  },
  {
   "cell_type": "code",
   "execution_count": null,
   "id": "548c6f27",
   "metadata": {},
   "outputs": [],
   "source": [
    "small_range = list(range(5))\n",
    "print(small_range)"
   ]
  },
  {
   "cell_type": "code",
   "execution_count": null,
   "id": "058a723b",
   "metadata": {},
   "outputs": [],
   "source": [
    "subset = df.iloc[:, small_range]\n",
    "print(subset)"
   ]
  },
  {
   "cell_type": "code",
   "execution_count": null,
   "id": "9141542b",
   "metadata": {},
   "outputs": [],
   "source": [
    "small_range = list(range(3, 6))\n",
    "print(small_range)"
   ]
  },
  {
   "cell_type": "code",
   "execution_count": null,
   "id": "7524f3a8",
   "metadata": {},
   "outputs": [],
   "source": [
    "subset = df.iloc[:, small_range]\n",
    "print(subset)"
   ]
  },
  {
   "cell_type": "code",
   "execution_count": null,
   "id": "e2d4d1af",
   "metadata": {},
   "outputs": [],
   "source": [
    "small_range = list(range(0, 6, 2))\n",
    "subset = df.iloc[:, small_range]\n",
    "print(subset)"
   ]
  },
  {
   "cell_type": "markdown",
   "id": "75ed8953",
   "metadata": {},
   "source": [
    "#### [Do It! 실습] 슬라이싱 구문과 range() 비교하기"
   ]
  },
  {
   "cell_type": "code",
   "execution_count": null,
   "id": "a59e2902",
   "metadata": {},
   "outputs": [],
   "source": [
    "print(df.columns)"
   ]
  },
  {
   "cell_type": "code",
   "execution_count": null,
   "id": "4dd2ab50",
   "metadata": {},
   "outputs": [],
   "source": [
    "small_range = list(range(3))\n",
    "subset = df.iloc[:, small_range]\n",
    "print(subset)"
   ]
  },
  {
   "cell_type": "code",
   "execution_count": null,
   "id": "25defd95",
   "metadata": {},
   "outputs": [],
   "source": [
    "subset = df.iloc[:, :3]\n",
    "print(subset)"
   ]
  },
  {
   "cell_type": "code",
   "execution_count": null,
   "id": "bdcfda31",
   "metadata": {},
   "outputs": [],
   "source": [
    "small_range = list(range(3, 6))\n",
    "subset = df.iloc[:, small_range]\n",
    "print(subset)"
   ]
  },
  {
   "cell_type": "code",
   "execution_count": null,
   "id": "caa3e2e0",
   "metadata": {},
   "outputs": [],
   "source": [
    "subset = df.iloc[:, 3:6]\n",
    "print(subset)"
   ]
  },
  {
   "cell_type": "code",
   "execution_count": null,
   "id": "6c0de75b",
   "metadata": {},
   "outputs": [],
   "source": [
    "small_range = list(range(0, 6, 2))\n",
    "subset = df.iloc[:, small_range]\n",
    "print(subset)"
   ]
  },
  {
   "cell_type": "code",
   "execution_count": null,
   "id": "9257cf6f",
   "metadata": {},
   "outputs": [],
   "source": [
    "subset = df.iloc[:, 0:6:2]\n",
    "print(subset)"
   ]
  },
  {
   "cell_type": "markdown",
   "id": "d8da1f11",
   "metadata": {},
   "source": [
    "### 행과 열 함께 지정하여 추출하기"
   ]
  },
  {
   "cell_type": "code",
   "execution_count": null,
   "id": "da8f3918",
   "metadata": {},
   "outputs": [],
   "source": [
    "print(df.loc[42, 'country'])"
   ]
  },
  {
   "cell_type": "code",
   "execution_count": null,
   "id": "7086da16",
   "metadata": {},
   "outputs": [],
   "source": [
    "print(df.iloc[42, 0])"
   ]
  },
  {
   "cell_type": "markdown",
   "id": "ea25615f",
   "metadata": {},
   "source": [
    "#### [Do It! 실습] 여러 행과 열 지정하여 데이터 추출하기"
   ]
  },
  {
   "cell_type": "code",
   "execution_count": null,
   "id": "1fe6a364",
   "metadata": {},
   "outputs": [],
   "source": [
    "print(df.iloc[[0, 99, 999], [0, 3, 5]])"
   ]
  },
  {
   "cell_type": "code",
   "execution_count": null,
   "id": "7a0dcc1c",
   "metadata": {},
   "outputs": [],
   "source": [
    "print(df.loc[[0, 99, 999], ['country', 'lifeExp', 'gdpPercap']])"
   ]
  },
  {
   "cell_type": "markdown",
   "id": "b39a653a",
   "metadata": {},
   "source": [
    "### 02-4 기초 통계 계산하기"
   ]
  },
  {
   "cell_type": "code",
   "execution_count": null,
   "id": "02dd3ae9",
   "metadata": {},
   "outputs": [],
   "source": [
    "print(df)"
   ]
  },
  {
   "cell_type": "code",
   "execution_count": null,
   "id": "aa359115",
   "metadata": {},
   "outputs": [],
   "source": [
    "print(df.groupby('year')['lifeExp'].mean())"
   ]
  },
  {
   "cell_type": "code",
   "execution_count": null,
   "id": "0040c618",
   "metadata": {},
   "outputs": [],
   "source": [
    "grouped_year_df = df.groupby('year')\n",
    "print(type(grouped_year_df))"
   ]
  },
  {
   "cell_type": "code",
   "execution_count": 1,
   "id": "54605e92",
   "metadata": {},
   "outputs": [
    {
     "ename": "NameError",
     "evalue": "name 'grouped_year_df' is not defined",
     "output_type": "error",
     "traceback": [
      "\u001b[31m---------------------------------------------------------------------------\u001b[39m",
      "\u001b[31mNameError\u001b[39m                                 Traceback (most recent call last)",
      "\u001b[36mCell\u001b[39m\u001b[36m \u001b[39m\u001b[32mIn[1]\u001b[39m\u001b[32m, line 1\u001b[39m\n\u001b[32m----> \u001b[39m\u001b[32m1\u001b[39m \u001b[38;5;28mprint\u001b[39m(\u001b[43mgrouped_year_df\u001b[49m)\n",
      "\u001b[31mNameError\u001b[39m: name 'grouped_year_df' is not defined"
     ]
    }
   ],
   "source": [
    "print(grouped_year_df)"
   ]
  },
  {
   "cell_type": "code",
   "execution_count": null,
   "id": "382f1732",
   "metadata": {},
   "outputs": [],
   "source": [
    "grouped_year_df_lifeExp = grouped_year_df['lifeExp']\n",
    "print(type(grouped_year_df_lifeExp))"
   ]
  },
  {
   "cell_type": "code",
   "execution_count": null,
   "id": "cca69e0e",
   "metadata": {},
   "outputs": [],
   "source": [
    "print(grouped_year_df_lifeExp)"
   ]
  },
  {
   "cell_type": "code",
   "execution_count": null,
   "id": "a17ab225",
   "metadata": {},
   "outputs": [],
   "source": [
    "mean_lifeExp_by_year = grouped_year_df_lifeExp.mean()\n",
    "print(mean_lifeExp_by_year)"
   ]
  },
  {
   "cell_type": "markdown",
   "id": "2724c8a2",
   "metadata": {},
   "source": [
    "#### [Do It! 실습] 2개 이상 열 그룹화화기"
   ]
  },
  {
   "cell_type": "code",
   "execution_count": null,
   "id": "e52e76b7",
   "metadata": {},
   "outputs": [],
   "source": [
    "multi_group_var = df.groupby(['year', 'continent'])[['lifeExp', 'gdpPercap']].mean()"
   ]
  },
  {
   "cell_type": "code",
   "execution_count": null,
   "id": "31503d33",
   "metadata": {},
   "outputs": [],
   "source": [
    "print(multi_group_var)"
   ]
  },
  {
   "cell_type": "code",
   "execution_count": null,
   "id": "5b70b701",
   "metadata": {},
   "outputs": [],
   "source": [
    "flat = multi_group_var.reset_index()\n",
    "print(flat)"
   ]
  },
  {
   "cell_type": "markdown",
   "id": "f3a06d32",
   "metadata": {},
   "source": [
    "### 그룹화한 데이터 개수 세기"
   ]
  },
  {
   "cell_type": "markdown",
   "id": "0dcd8938",
   "metadata": {},
   "source": [
    "#### [Do It! 실습] 그룹화한 데이터 개수 구하기"
   ]
  },
  {
   "cell_type": "code",
   "execution_count": null,
   "id": "f9947833",
   "metadata": {},
   "outputs": [],
   "source": [
    "print(df.groupby('continent')['country'].nunique())"
   ]
  },
  {
   "cell_type": "code",
   "execution_count": null,
   "id": "010ca034",
   "metadata": {},
   "outputs": [],
   "source": [
    "print(df.groupby('continent')['country'].value_counts())"
   ]
  },
  {
   "cell_type": "markdown",
   "id": "559b9d7f",
   "metadata": {},
   "source": [
    "### 02-5 데이터를 그래프로 표현하려면?"
   ]
  },
  {
   "cell_type": "markdown",
   "id": "03709c93",
   "metadata": {},
   "source": [
    "#### [Do It! 실습] 데이터프레임으로 그래프 그리기"
   ]
  },
  {
   "cell_type": "code",
   "execution_count": null,
   "id": "6b738cd9",
   "metadata": {},
   "outputs": [],
   "source": [
    "global_yearly_life_expectancy = df.groupby('year')['lifeExp'].mean()\n",
    "print(global_yearly_life_expectancy)"
   ]
  },
  {
   "cell_type": "code",
   "execution_count": null,
   "id": "b4cd8c55",
   "metadata": {},
   "outputs": [],
   "source": [
    "global_yearly_life_expectancy.plot()"
   ]
  },
  {
   "cell_type": "code",
   "execution_count": null,
   "id": "74dbdde9",
   "metadata": {},
   "outputs": [],
   "source": []
  }
 ],
 "metadata": {
  "kernelspec": {
   "display_name": "Python 3",
   "language": "python",
   "name": "python3"
  },
  "language_info": {
   "codemirror_mode": {
    "name": "ipython",
    "version": 3
   },
   "file_extension": ".py",
   "mimetype": "text/x-python",
   "name": "python",
   "nbconvert_exporter": "python",
   "pygments_lexer": "ipython3",
   "version": "3.13.2"
  },
  "toc": {
   "base_numbering": 1,
   "nav_menu": {},
   "number_sections": false,
   "sideBar": false,
   "skip_h1_title": false,
   "title_cell": "Table of Contents",
   "title_sidebar": "Contents",
   "toc_cell": false,
   "toc_position": {
    "height": "1098.67px",
    "left": "633.867px",
    "top": "111.483px",
    "width": "255.467px"
   },
   "toc_section_display": true,
   "toc_window_display": true
  }
 },
 "nbformat": 4,
 "nbformat_minor": 5
}
