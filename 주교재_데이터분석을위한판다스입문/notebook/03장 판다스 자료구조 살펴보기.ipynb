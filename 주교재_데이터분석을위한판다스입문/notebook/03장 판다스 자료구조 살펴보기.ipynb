{
 "cells": [
  {
   "cell_type": "markdown",
   "id": "791803b6",
   "metadata": {},
   "source": [
    "## 03-1 나만의 데이터 만들기"
   ]
  },
  {
   "cell_type": "markdown",
   "id": "ae2f34de",
   "metadata": {},
   "source": [
    "### 시리즈와 데이터프레임 만들기"
   ]
  },
  {
   "cell_type": "markdown",
   "id": "053bce3a",
   "metadata": {},
   "source": [
    "#### [Do It! 실습] 시리즈 만들기"
   ]
  },
  {
   "cell_type": "code",
   "execution_count": 3,
   "id": "9d5e9047",
   "metadata": {},
   "outputs": [
    {
     "name": "stdout",
     "output_type": "stream",
     "text": [
      "0    banana\n",
      "1        42\n",
      "dtype: object\n"
     ]
    }
   ],
   "source": [
    "import pandas as pd\n",
    "\n",
    "s = pd.Series(['banana', 42])\n",
    "print(s)"
   ]
  },
  {
   "cell_type": "code",
   "execution_count": 4,
   "id": "63aa32d2",
   "metadata": {},
   "outputs": [
    {
     "name": "stdout",
     "output_type": "stream",
     "text": [
      "Person         Wes McKinney\n",
      "Who       Creator of Pandas\n",
      "dtype: object\n"
     ]
    }
   ],
   "source": [
    "s = pd.Series(data=['Wes McKinney', 'Creator of Pandas'], index=['Person', 'Who'])\n",
    "print(s)"
   ]
  },
  {
   "cell_type": "markdown",
   "id": "532d223e",
   "metadata": {},
   "source": [
    "#### [Do It! 실습] 데이터 프레임 만들기"
   ]
  },
  {
   "cell_type": "code",
   "execution_count": 5,
   "id": "647e2c0d",
   "metadata": {},
   "outputs": [
    {
     "name": "stdout",
     "output_type": "stream",
     "text": [
      "                Name    Occupation        Born        Died  Age\n",
      "0  Rosaline Franklin       Chemist  1920-07-25  1958-04-16   37\n",
      "1     William Gosset  Statistician  1876-06-13  1937-10-16   61\n"
     ]
    }
   ],
   "source": [
    "scientists = pd.DataFrame({\n",
    "        \"Name\": [\"Rosaline Franklin\", \"William Gosset\"],\n",
    "        \"Occupation\": [\"Chemist\", \"Statistician\"],\n",
    "        \"Born\": [\"1920-07-25\", \"1876-06-13\"],\n",
    "        \"Died\": [\"1958-04-16\", \"1937-10-16\"],\n",
    "        \"Age\": [37, 61],\n",
    "})\n",
    "\n",
    "print(scientists)"
   ]
  },
  {
   "cell_type": "code",
   "execution_count": 6,
   "id": "c250363d",
   "metadata": {},
   "outputs": [
    {
     "name": "stdout",
     "output_type": "stream",
     "text": [
      "                     Occupation        Born        Died  Age\n",
      "Rosaline Franklin       Chemist  1920-07-25  1958-04-16   37\n",
      "William Gosset     Statistician  1876-06-13  1937-10-16   61\n"
     ]
    }
   ],
   "source": [
    "scientists = pd.DataFrame(\n",
    "    data={\n",
    "        \"Occupation\": [\"Chemist\", \"Statistician\"],\n",
    "        \"Born\": [\"1920-07-25\", \"1876-06-13\"],\n",
    "        \"Died\": [\"1958-04-16\", \"1937-10-16\"],\n",
    "        \"Age\": [37, 61],\n",
    "    },\n",
    "    index=[\"Rosaline Franklin\", \"William Gosset\"],\n",
    "    columns=[\"Occupation\", \"Born\", \"Died\", \"Age\"],\n",
    ")\n",
    "\n",
    "print(scientists)"
   ]
  },
  {
   "cell_type": "markdown",
   "id": "6bafaa66",
   "metadata": {},
   "source": [
    "## 03-2 시리즈 다루기"
   ]
  },
  {
   "cell_type": "markdown",
   "id": "a42fcd48",
   "metadata": {},
   "source": [
    "#### [Do It! 실습] 시리즈 추출하기"
   ]
  },
  {
   "cell_type": "code",
   "execution_count": 41,
   "id": "b3c45970",
   "metadata": {},
   "outputs": [
    {
     "name": "stdout",
     "output_type": "stream",
     "text": [
      "                     Occupation        Born        Died  Age\n",
      "Rosaline Franklin       Chemist  1920-07-25  1958-04-16   37\n",
      "William Gosset     Statistician  1876-06-13  1937-10-16   61\n"
     ]
    }
   ],
   "source": [
    "scientists = pd.DataFrame(\n",
    "    data={\n",
    "        \"Occupation\": [\"Chemist\", \"Statistician\"],\n",
    "        \"Born\": [\"1920-07-25\", \"1876-06-13\"],\n",
    "        \"Died\": [\"1958-04-16\", \"1937-10-16\"],\n",
    "        \"Age\": [37, 61],\n",
    "    },\n",
    "    index=[\"Rosaline Franklin\", \"William Gosset\"],\n",
    "    columns=[\"Occupation\", \"Born\", \"Died\", \"Age\"],\n",
    ")\n",
    "\n",
    "print(scientists)"
   ]
  },
  {
   "cell_type": "code",
   "execution_count": 44,
   "id": "07d97238",
   "metadata": {},
   "outputs": [
    {
     "name": "stdout",
     "output_type": "stream",
     "text": [
      "<class 'pandas.core.frame.DataFrame'>\n",
      "Index: 2 entries, Rosaline Franklin to William Gosset\n",
      "Data columns (total 4 columns):\n",
      " #   Column      Non-Null Count  Dtype \n",
      "---  ------      --------------  ----- \n",
      " 0   Occupation  2 non-null      object\n",
      " 1   Born        2 non-null      object\n",
      " 2   Died        2 non-null      object\n",
      " 3   Age         2 non-null      int64 \n",
      "dtypes: int64(1), object(3)\n",
      "memory usage: 80.0+ bytes\n"
     ]
    }
   ],
   "source": [
    "scientists.info()"
   ]
  },
  {
   "cell_type": "code",
   "execution_count": 49,
   "id": "0fc927de",
   "metadata": {},
   "outputs": [
    {
     "data": {
      "text/html": [
       "<div>\n",
       "<style scoped>\n",
       "    .dataframe tbody tr th:only-of-type {\n",
       "        vertical-align: middle;\n",
       "    }\n",
       "\n",
       "    .dataframe tbody tr th {\n",
       "        vertical-align: top;\n",
       "    }\n",
       "\n",
       "    .dataframe thead th {\n",
       "        text-align: right;\n",
       "    }\n",
       "</style>\n",
       "<table border=\"1\" class=\"dataframe\">\n",
       "  <thead>\n",
       "    <tr style=\"text-align: right;\">\n",
       "      <th></th>\n",
       "      <th>Age</th>\n",
       "    </tr>\n",
       "  </thead>\n",
       "  <tbody>\n",
       "    <tr>\n",
       "      <th>count</th>\n",
       "      <td>2.000000</td>\n",
       "    </tr>\n",
       "    <tr>\n",
       "      <th>mean</th>\n",
       "      <td>49.000000</td>\n",
       "    </tr>\n",
       "    <tr>\n",
       "      <th>std</th>\n",
       "      <td>16.970563</td>\n",
       "    </tr>\n",
       "    <tr>\n",
       "      <th>min</th>\n",
       "      <td>37.000000</td>\n",
       "    </tr>\n",
       "    <tr>\n",
       "      <th>25%</th>\n",
       "      <td>43.000000</td>\n",
       "    </tr>\n",
       "    <tr>\n",
       "      <th>50%</th>\n",
       "      <td>49.000000</td>\n",
       "    </tr>\n",
       "    <tr>\n",
       "      <th>75%</th>\n",
       "      <td>55.000000</td>\n",
       "    </tr>\n",
       "    <tr>\n",
       "      <th>max</th>\n",
       "      <td>61.000000</td>\n",
       "    </tr>\n",
       "  </tbody>\n",
       "</table>\n",
       "</div>"
      ],
      "text/plain": [
       "             Age\n",
       "count   2.000000\n",
       "mean   49.000000\n",
       "std    16.970563\n",
       "min    37.000000\n",
       "25%    43.000000\n",
       "50%    49.000000\n",
       "75%    55.000000\n",
       "max    61.000000"
      ]
     },
     "execution_count": 49,
     "metadata": {},
     "output_type": "execute_result"
    }
   ],
   "source": [
    "scientists.describe()"
   ]
  },
  {
   "cell_type": "code",
   "execution_count": 40,
   "id": "7039e005",
   "metadata": {},
   "outputs": [
    {
     "name": "stdout",
     "output_type": "stream",
     "text": [
      "Index(['Rosaline Franklin', 'William Gosset'], dtype='object')\n"
     ]
    }
   ],
   "source": [
    "print(scientists.index)"
   ]
  },
  {
   "cell_type": "code",
   "execution_count": 10,
   "id": "916d4b13",
   "metadata": {},
   "outputs": [
    {
     "name": "stdout",
     "output_type": "stream",
     "text": [
      "<class 'pandas.core.series.Series'>\n"
     ]
    }
   ],
   "source": [
    "first_row = scientists.loc['William Gosset']\n",
    "print(type(first_row))"
   ]
  },
  {
   "cell_type": "code",
   "execution_count": 11,
   "id": "e8ab3b80",
   "metadata": {},
   "outputs": [
    {
     "name": "stdout",
     "output_type": "stream",
     "text": [
      "Occupation    Statistician\n",
      "Born            1876-06-13\n",
      "Died            1937-10-16\n",
      "Age                     61\n",
      "Name: William Gosset, dtype: object\n"
     ]
    }
   ],
   "source": [
    "print(first_row)"
   ]
  },
  {
   "cell_type": "code",
   "execution_count": 12,
   "id": "c0904e9b",
   "metadata": {},
   "outputs": [
    {
     "name": "stdout",
     "output_type": "stream",
     "text": [
      "Index(['Occupation', 'Born', 'Died', 'Age'], dtype='object')\n"
     ]
    }
   ],
   "source": [
    "print(first_row.index)"
   ]
  },
  {
   "cell_type": "code",
   "execution_count": 13,
   "id": "e574b6a5",
   "metadata": {},
   "outputs": [
    {
     "name": "stdout",
     "output_type": "stream",
     "text": [
      "['Statistician' '1876-06-13' '1937-10-16' np.int64(61)]\n"
     ]
    }
   ],
   "source": [
    "print(first_row.values)"
   ]
  },
  {
   "cell_type": "markdown",
   "id": "d13f1f32",
   "metadata": {},
   "source": [
    "### 시리즈의 keys() 메서드"
   ]
  },
  {
   "cell_type": "code",
   "execution_count": 14,
   "id": "b48633b4",
   "metadata": {},
   "outputs": [
    {
     "name": "stdout",
     "output_type": "stream",
     "text": [
      "Index(['Occupation', 'Born', 'Died', 'Age'], dtype='object')\n"
     ]
    }
   ],
   "source": [
    "print(first_row.keys())"
   ]
  },
  {
   "cell_type": "code",
   "execution_count": 17,
   "id": "3ffd68c8",
   "metadata": {},
   "outputs": [
    {
     "name": "stdout",
     "output_type": "stream",
     "text": [
      "Occupation\n"
     ]
    }
   ],
   "source": [
    "print(first_row.index[0])"
   ]
  },
  {
   "cell_type": "code",
   "execution_count": 18,
   "id": "5f35d384",
   "metadata": {},
   "outputs": [
    {
     "name": "stdout",
     "output_type": "stream",
     "text": [
      "Occupation\n"
     ]
    }
   ],
   "source": [
    "print(first_row.keys()[0])"
   ]
  },
  {
   "cell_type": "markdown",
   "id": "aecc8574",
   "metadata": {},
   "source": [
    "### 시리즈와 ndarray"
   ]
  },
  {
   "cell_type": "markdown",
   "id": "7813ee5e",
   "metadata": {},
   "source": [
    "#### [Do It! 실습] 시리즈의 메서드 사용하기"
   ]
  },
  {
   "cell_type": "code",
   "execution_count": 19,
   "id": "a2107720",
   "metadata": {},
   "outputs": [
    {
     "name": "stdout",
     "output_type": "stream",
     "text": [
      "Rosaline Franklin    37\n",
      "William Gosset       61\n",
      "Name: Age, dtype: int64\n"
     ]
    }
   ],
   "source": [
    "ages = scientists['Age']\n",
    "print(ages)"
   ]
  },
  {
   "cell_type": "code",
   "execution_count": 20,
   "id": "dcdba06a",
   "metadata": {},
   "outputs": [
    {
     "name": "stdout",
     "output_type": "stream",
     "text": [
      "49.0\n"
     ]
    }
   ],
   "source": [
    "# 평균\n",
    "print(ages.mean())"
   ]
  },
  {
   "cell_type": "code",
   "execution_count": 21,
   "id": "7720e212",
   "metadata": {},
   "outputs": [
    {
     "name": "stdout",
     "output_type": "stream",
     "text": [
      "37\n"
     ]
    }
   ],
   "source": [
    "# 최솟값\n",
    "print(ages.min())"
   ]
  },
  {
   "cell_type": "code",
   "execution_count": 22,
   "id": "d01ef373",
   "metadata": {},
   "outputs": [
    {
     "name": "stdout",
     "output_type": "stream",
     "text": [
      "61\n"
     ]
    }
   ],
   "source": [
    "# 최댓값\n",
    "print(ages.max())"
   ]
  },
  {
   "cell_type": "code",
   "execution_count": 23,
   "id": "c2972fa7",
   "metadata": {},
   "outputs": [
    {
     "name": "stdout",
     "output_type": "stream",
     "text": [
      "16.97056274847714\n"
     ]
    }
   ],
   "source": [
    "# 표준 편차\n",
    "print(ages.std())"
   ]
  },
  {
   "cell_type": "markdown",
   "id": "93e9f132",
   "metadata": {},
   "source": [
    "### 시리즈와 불리언"
   ]
  },
  {
   "cell_type": "code",
   "execution_count": 54,
   "id": "b2fff903",
   "metadata": {},
   "outputs": [],
   "source": [
    "import pandas as pd\n",
    "scientists = pd.read_csv('../data/scientists.csv')"
   ]
  },
  {
   "cell_type": "code",
   "execution_count": 55,
   "id": "f9fe91e5",
   "metadata": {},
   "outputs": [
    {
     "data": {
      "text/html": [
       "<div>\n",
       "<style scoped>\n",
       "    .dataframe tbody tr th:only-of-type {\n",
       "        vertical-align: middle;\n",
       "    }\n",
       "\n",
       "    .dataframe tbody tr th {\n",
       "        vertical-align: top;\n",
       "    }\n",
       "\n",
       "    .dataframe thead th {\n",
       "        text-align: right;\n",
       "    }\n",
       "</style>\n",
       "<table border=\"1\" class=\"dataframe\">\n",
       "  <thead>\n",
       "    <tr style=\"text-align: right;\">\n",
       "      <th></th>\n",
       "      <th>Name</th>\n",
       "      <th>Born</th>\n",
       "      <th>Died</th>\n",
       "      <th>Age</th>\n",
       "      <th>Occupation</th>\n",
       "    </tr>\n",
       "  </thead>\n",
       "  <tbody>\n",
       "    <tr>\n",
       "      <th>0</th>\n",
       "      <td>Rosaline Franklin</td>\n",
       "      <td>1920-07-25</td>\n",
       "      <td>1958-04-16</td>\n",
       "      <td>37</td>\n",
       "      <td>Chemist</td>\n",
       "    </tr>\n",
       "    <tr>\n",
       "      <th>1</th>\n",
       "      <td>William Gosset</td>\n",
       "      <td>1876-06-13</td>\n",
       "      <td>1937-10-16</td>\n",
       "      <td>61</td>\n",
       "      <td>Statistician</td>\n",
       "    </tr>\n",
       "    <tr>\n",
       "      <th>2</th>\n",
       "      <td>Florence Nightingale</td>\n",
       "      <td>1820-05-12</td>\n",
       "      <td>1910-08-13</td>\n",
       "      <td>90</td>\n",
       "      <td>Nurse</td>\n",
       "    </tr>\n",
       "    <tr>\n",
       "      <th>3</th>\n",
       "      <td>Marie Curie</td>\n",
       "      <td>1867-11-07</td>\n",
       "      <td>1934-07-04</td>\n",
       "      <td>66</td>\n",
       "      <td>Chemist</td>\n",
       "    </tr>\n",
       "    <tr>\n",
       "      <th>4</th>\n",
       "      <td>Rachel Carson</td>\n",
       "      <td>1907-05-27</td>\n",
       "      <td>1964-04-14</td>\n",
       "      <td>56</td>\n",
       "      <td>Biologist</td>\n",
       "    </tr>\n",
       "    <tr>\n",
       "      <th>5</th>\n",
       "      <td>John Snow</td>\n",
       "      <td>1813-03-15</td>\n",
       "      <td>1858-06-16</td>\n",
       "      <td>45</td>\n",
       "      <td>Physician</td>\n",
       "    </tr>\n",
       "    <tr>\n",
       "      <th>6</th>\n",
       "      <td>Alan Turing</td>\n",
       "      <td>1912-06-23</td>\n",
       "      <td>1954-06-07</td>\n",
       "      <td>41</td>\n",
       "      <td>Computer Scientist</td>\n",
       "    </tr>\n",
       "    <tr>\n",
       "      <th>7</th>\n",
       "      <td>Johann Gauss</td>\n",
       "      <td>1777-04-30</td>\n",
       "      <td>1855-02-23</td>\n",
       "      <td>77</td>\n",
       "      <td>Mathematician</td>\n",
       "    </tr>\n",
       "  </tbody>\n",
       "</table>\n",
       "</div>"
      ],
      "text/plain": [
       "                   Name        Born        Died  Age          Occupation\n",
       "0     Rosaline Franklin  1920-07-25  1958-04-16   37             Chemist\n",
       "1        William Gosset  1876-06-13  1937-10-16   61        Statistician\n",
       "2  Florence Nightingale  1820-05-12  1910-08-13   90               Nurse\n",
       "3           Marie Curie  1867-11-07  1934-07-04   66             Chemist\n",
       "4         Rachel Carson  1907-05-27  1964-04-14   56           Biologist\n",
       "5             John Snow  1813-03-15  1858-06-16   45           Physician\n",
       "6           Alan Turing  1912-06-23  1954-06-07   41  Computer Scientist\n",
       "7          Johann Gauss  1777-04-30  1855-02-23   77       Mathematician"
      ]
     },
     "execution_count": 55,
     "metadata": {},
     "output_type": "execute_result"
    }
   ],
   "source": [
    "scientists"
   ]
  },
  {
   "cell_type": "code",
   "execution_count": 66,
   "id": "e0b1b233",
   "metadata": {},
   "outputs": [
    {
     "ename": "KeyError",
     "evalue": "\"None of [Index([0], dtype='int64')] are in the [columns]\"",
     "output_type": "error",
     "traceback": [
      "\u001b[31m---------------------------------------------------------------------------\u001b[39m",
      "\u001b[31mKeyError\u001b[39m                                  Traceback (most recent call last)",
      "\u001b[36mCell\u001b[39m\u001b[36m \u001b[39m\u001b[32mIn[66]\u001b[39m\u001b[32m, line 1\u001b[39m\n\u001b[32m----> \u001b[39m\u001b[32m1\u001b[39m \u001b[43mscientists\u001b[49m\u001b[43m[\u001b[49m\u001b[43m[\u001b[49m\u001b[32;43m0\u001b[39;49m\u001b[43m]\u001b[49m\u001b[43m]\u001b[49m\n",
      "\u001b[36mFile \u001b[39m\u001b[32mc:\\Users\\이창현\\AppData\\Local\\Programs\\Python\\Python313\\Lib\\site-packages\\pandas\\core\\frame.py:4108\u001b[39m, in \u001b[36mDataFrame.__getitem__\u001b[39m\u001b[34m(self, key)\u001b[39m\n\u001b[32m   4106\u001b[39m     \u001b[38;5;28;01mif\u001b[39;00m is_iterator(key):\n\u001b[32m   4107\u001b[39m         key = \u001b[38;5;28mlist\u001b[39m(key)\n\u001b[32m-> \u001b[39m\u001b[32m4108\u001b[39m     indexer = \u001b[38;5;28;43mself\u001b[39;49m\u001b[43m.\u001b[49m\u001b[43mcolumns\u001b[49m\u001b[43m.\u001b[49m\u001b[43m_get_indexer_strict\u001b[49m\u001b[43m(\u001b[49m\u001b[43mkey\u001b[49m\u001b[43m,\u001b[49m\u001b[43m \u001b[49m\u001b[33;43m\"\u001b[39;49m\u001b[33;43mcolumns\u001b[39;49m\u001b[33;43m\"\u001b[39;49m\u001b[43m)\u001b[49m[\u001b[32m1\u001b[39m]\n\u001b[32m   4110\u001b[39m \u001b[38;5;66;03m# take() does not accept boolean indexers\u001b[39;00m\n\u001b[32m   4111\u001b[39m \u001b[38;5;28;01mif\u001b[39;00m \u001b[38;5;28mgetattr\u001b[39m(indexer, \u001b[33m\"\u001b[39m\u001b[33mdtype\u001b[39m\u001b[33m\"\u001b[39m, \u001b[38;5;28;01mNone\u001b[39;00m) == \u001b[38;5;28mbool\u001b[39m:\n",
      "\u001b[36mFile \u001b[39m\u001b[32mc:\\Users\\이창현\\AppData\\Local\\Programs\\Python\\Python313\\Lib\\site-packages\\pandas\\core\\indexes\\base.py:6200\u001b[39m, in \u001b[36mIndex._get_indexer_strict\u001b[39m\u001b[34m(self, key, axis_name)\u001b[39m\n\u001b[32m   6197\u001b[39m \u001b[38;5;28;01melse\u001b[39;00m:\n\u001b[32m   6198\u001b[39m     keyarr, indexer, new_indexer = \u001b[38;5;28mself\u001b[39m._reindex_non_unique(keyarr)\n\u001b[32m-> \u001b[39m\u001b[32m6200\u001b[39m \u001b[38;5;28;43mself\u001b[39;49m\u001b[43m.\u001b[49m\u001b[43m_raise_if_missing\u001b[49m\u001b[43m(\u001b[49m\u001b[43mkeyarr\u001b[49m\u001b[43m,\u001b[49m\u001b[43m \u001b[49m\u001b[43mindexer\u001b[49m\u001b[43m,\u001b[49m\u001b[43m \u001b[49m\u001b[43maxis_name\u001b[49m\u001b[43m)\u001b[49m\n\u001b[32m   6202\u001b[39m keyarr = \u001b[38;5;28mself\u001b[39m.take(indexer)\n\u001b[32m   6203\u001b[39m \u001b[38;5;28;01mif\u001b[39;00m \u001b[38;5;28misinstance\u001b[39m(key, Index):\n\u001b[32m   6204\u001b[39m     \u001b[38;5;66;03m# GH 42790 - Preserve name from an Index\u001b[39;00m\n",
      "\u001b[36mFile \u001b[39m\u001b[32mc:\\Users\\이창현\\AppData\\Local\\Programs\\Python\\Python313\\Lib\\site-packages\\pandas\\core\\indexes\\base.py:6249\u001b[39m, in \u001b[36mIndex._raise_if_missing\u001b[39m\u001b[34m(self, key, indexer, axis_name)\u001b[39m\n\u001b[32m   6247\u001b[39m \u001b[38;5;28;01mif\u001b[39;00m nmissing:\n\u001b[32m   6248\u001b[39m     \u001b[38;5;28;01mif\u001b[39;00m nmissing == \u001b[38;5;28mlen\u001b[39m(indexer):\n\u001b[32m-> \u001b[39m\u001b[32m6249\u001b[39m         \u001b[38;5;28;01mraise\u001b[39;00m \u001b[38;5;167;01mKeyError\u001b[39;00m(\u001b[33mf\u001b[39m\u001b[33m\"\u001b[39m\u001b[33mNone of [\u001b[39m\u001b[38;5;132;01m{\u001b[39;00mkey\u001b[38;5;132;01m}\u001b[39;00m\u001b[33m] are in the [\u001b[39m\u001b[38;5;132;01m{\u001b[39;00maxis_name\u001b[38;5;132;01m}\u001b[39;00m\u001b[33m]\u001b[39m\u001b[33m\"\u001b[39m)\n\u001b[32m   6251\u001b[39m     not_found = \u001b[38;5;28mlist\u001b[39m(ensure_index(key)[missing_mask.nonzero()[\u001b[32m0\u001b[39m]].unique())\n\u001b[32m   6252\u001b[39m     \u001b[38;5;28;01mraise\u001b[39;00m \u001b[38;5;167;01mKeyError\u001b[39;00m(\u001b[33mf\u001b[39m\u001b[33m\"\u001b[39m\u001b[38;5;132;01m{\u001b[39;00mnot_found\u001b[38;5;132;01m}\u001b[39;00m\u001b[33m not in index\u001b[39m\u001b[33m\"\u001b[39m)\n",
      "\u001b[31mKeyError\u001b[39m: \"None of [Index([0], dtype='int64')] are in the [columns]\""
     ]
    }
   ],
   "source": [
    "scientists[[0]]"
   ]
  },
  {
   "cell_type": "markdown",
   "id": "f7a81e79",
   "metadata": {},
   "source": [
    "#### [Do It! 실습] 기술 통계량 계산하기"
   ]
  },
  {
   "cell_type": "code",
   "execution_count": 25,
   "id": "8a4b792a",
   "metadata": {},
   "outputs": [
    {
     "name": "stdout",
     "output_type": "stream",
     "text": [
      "0    37\n",
      "1    61\n",
      "2    90\n",
      "3    66\n",
      "4    56\n",
      "5    45\n",
      "6    41\n",
      "7    77\n",
      "Name: Age, dtype: int64\n"
     ]
    }
   ],
   "source": [
    "ages = scientists['Age']\n",
    "print(ages)"
   ]
  },
  {
   "cell_type": "code",
   "execution_count": 26,
   "id": "d0d2c0c8",
   "metadata": {},
   "outputs": [
    {
     "name": "stdout",
     "output_type": "stream",
     "text": [
      "count     8.000000\n",
      "mean     59.125000\n",
      "std      18.325918\n",
      "min      37.000000\n",
      "25%      44.000000\n",
      "50%      58.500000\n",
      "75%      68.750000\n",
      "max      90.000000\n",
      "Name: Age, dtype: float64\n"
     ]
    }
   ],
   "source": [
    "print(ages.describe())"
   ]
  },
  {
   "cell_type": "code",
   "execution_count": 28,
   "id": "5d020d24",
   "metadata": {},
   "outputs": [
    {
     "name": "stdout",
     "output_type": "stream",
     "text": [
      "59.125\n"
     ]
    }
   ],
   "source": [
    "print(ages.mean())"
   ]
  },
  {
   "cell_type": "code",
   "execution_count": 30,
   "id": "d6b2f856",
   "metadata": {},
   "outputs": [
    {
     "name": "stdout",
     "output_type": "stream",
     "text": [
      "0    37\n",
      "1    61\n",
      "2    90\n",
      "3    66\n",
      "4    56\n",
      "5    45\n",
      "6    41\n",
      "7    77\n",
      "Name: Age, dtype: int64\n"
     ]
    }
   ],
   "source": [
    "print(ages)"
   ]
  },
  {
   "cell_type": "code",
   "execution_count": 31,
   "id": "deb2a872",
   "metadata": {},
   "outputs": [
    {
     "name": "stdout",
     "output_type": "stream",
     "text": [
      "1    61\n",
      "2    90\n",
      "3    66\n",
      "7    77\n",
      "Name: Age, dtype: int64\n"
     ]
    }
   ],
   "source": [
    "print(ages[ages > ages.mean()])"
   ]
  },
  {
   "cell_type": "code",
   "execution_count": 32,
   "id": "656be7fb",
   "metadata": {},
   "outputs": [
    {
     "name": "stdout",
     "output_type": "stream",
     "text": [
      "0    False\n",
      "1     True\n",
      "2     True\n",
      "3     True\n",
      "4    False\n",
      "5    False\n",
      "6    False\n",
      "7     True\n",
      "Name: Age, dtype: bool\n"
     ]
    }
   ],
   "source": [
    "print(ages > ages.mean())"
   ]
  },
  {
   "cell_type": "code",
   "execution_count": null,
   "id": "b3eb2f15",
   "metadata": {},
   "outputs": [],
   "source": [
    "print(type(ages > ages.mean()))"
   ]
  },
  {
   "cell_type": "code",
   "execution_count": null,
   "id": "905bab93",
   "metadata": {},
   "outputs": [],
   "source": [
    "manual_bool_values = [\n",
    "    True,   # 0\n",
    "    True,   # 1\n",
    "    False,  # 2\n",
    "    False,  # 3\n",
    "    True,   # 4\n",
    "    True,   # 5\n",
    "    False,  # 6\n",
    "    True,   # 7\n",
    "]\n",
    "print(ages[manual_bool_values])"
   ]
  },
  {
   "cell_type": "markdown",
   "id": "6a1f00a2",
   "metadata": {},
   "source": [
    "### 시리즈와 브로드캐스팅"
   ]
  },
  {
   "cell_type": "markdown",
   "id": "75367733",
   "metadata": {},
   "source": [
    "#### [Do It! 실습] 벡터와 벡터, 벡터와 스칼라 계산하기"
   ]
  },
  {
   "cell_type": "code",
   "execution_count": null,
   "id": "e9d7dd01",
   "metadata": {},
   "outputs": [],
   "source": [
    "print(ages + ages)"
   ]
  },
  {
   "cell_type": "code",
   "execution_count": null,
   "id": "e30adc42",
   "metadata": {},
   "outputs": [],
   "source": [
    "print(ages * ages)"
   ]
  },
  {
   "cell_type": "code",
   "execution_count": null,
   "id": "f8f29f8b",
   "metadata": {},
   "outputs": [],
   "source": [
    "print(ages + 100)"
   ]
  },
  {
   "cell_type": "code",
   "execution_count": null,
   "id": "25a83405",
   "metadata": {},
   "outputs": [],
   "source": [
    "print(ages * 2)"
   ]
  },
  {
   "cell_type": "markdown",
   "id": "2ff14dbf",
   "metadata": {},
   "source": [
    "#### [Do It! 실습] 길이가 서로 다른 벡터 연산하기"
   ]
  },
  {
   "cell_type": "code",
   "execution_count": null,
   "id": "1e7e4029",
   "metadata": {},
   "outputs": [],
   "source": [
    "print(ages + pd.Series([1, 100]))"
   ]
  },
  {
   "cell_type": "code",
   "execution_count": null,
   "id": "4bea80a1",
   "metadata": {},
   "outputs": [],
   "source": [
    "import numpy as np\n",
    "\n",
    "# print(ages + np.array([1, 100]))  # 오류"
   ]
  },
  {
   "cell_type": "markdown",
   "id": "012018c8",
   "metadata": {},
   "source": [
    "#### [Do It! 실습] 인덱스가 같은 벡터 자동 정렬하기"
   ]
  },
  {
   "cell_type": "code",
   "execution_count": null,
   "id": "cd7a4a6e",
   "metadata": {},
   "outputs": [],
   "source": [
    "rev_ages = ages.sort_index(ascending=False)\n",
    "print(rev_ages)"
   ]
  },
  {
   "cell_type": "code",
   "execution_count": null,
   "id": "4fd3b0b2",
   "metadata": {},
   "outputs": [],
   "source": [
    "print(ages * 2)"
   ]
  },
  {
   "cell_type": "code",
   "execution_count": null,
   "id": "4ad6daa3",
   "metadata": {},
   "outputs": [],
   "source": [
    "print(ages + rev_ages)"
   ]
  },
  {
   "cell_type": "markdown",
   "id": "0c3c014b",
   "metadata": {},
   "source": [
    "## 03-3 데이터프레임 다루기"
   ]
  },
  {
   "cell_type": "markdown",
   "id": "e2ee22b4",
   "metadata": {},
   "source": [
    "### 데이터프레임의 구성"
   ]
  },
  {
   "cell_type": "code",
   "execution_count": null,
   "id": "e0601d89",
   "metadata": {},
   "outputs": [],
   "source": [
    "scientists.index"
   ]
  },
  {
   "cell_type": "code",
   "execution_count": null,
   "id": "06070d6b",
   "metadata": {},
   "outputs": [],
   "source": [
    "scientists.columns"
   ]
  },
  {
   "cell_type": "code",
   "execution_count": 38,
   "id": "7a5bcf0c",
   "metadata": {},
   "outputs": [
    {
     "data": {
      "text/plain": [
       "array([['Chemist', '1920-07-25', '1958-04-16', 61, 'Chemist',\n",
       "        Timestamp('1920-07-25 00:00:00'),\n",
       "        Timestamp('1958-04-16 00:00:00'),\n",
       "        Timedelta('13779 days 00:00:00'), 37.0],\n",
       "       ['Statistician', '1876-06-13', '1937-10-16', 45, 'Statistician',\n",
       "        Timestamp('1876-06-13 00:00:00'),\n",
       "        Timestamp('1937-10-16 00:00:00'),\n",
       "        Timedelta('22404 days 00:00:00'), 61.0],\n",
       "       ['Nurse', '1820-05-12', '1910-08-13', 37, 'Nurse',\n",
       "        Timestamp('1820-05-12 00:00:00'),\n",
       "        Timestamp('1910-08-13 00:00:00'),\n",
       "        Timedelta('32964 days 00:00:00'), 90.0],\n",
       "       ['Chemist', '1867-11-07', '1934-07-04', 77, 'Chemist',\n",
       "        Timestamp('1867-11-07 00:00:00'),\n",
       "        Timestamp('1934-07-04 00:00:00'),\n",
       "        Timedelta('24345 days 00:00:00'), 66.0],\n",
       "       ['Biologist', '1907-05-27', '1964-04-14', 90, 'Biologist',\n",
       "        Timestamp('1907-05-27 00:00:00'),\n",
       "        Timestamp('1964-04-14 00:00:00'),\n",
       "        Timedelta('20777 days 00:00:00'), 56.0],\n",
       "       ['Physician', '1813-03-15', '1858-06-16', 56, 'Physician',\n",
       "        Timestamp('1813-03-15 00:00:00'),\n",
       "        Timestamp('1858-06-16 00:00:00'),\n",
       "        Timedelta('16529 days 00:00:00'), 45.0],\n",
       "       ['Computer Scientist', '1912-06-23', '1954-06-07', 66,\n",
       "        'Computer Scientist', Timestamp('1912-06-23 00:00:00'),\n",
       "        Timestamp('1954-06-07 00:00:00'),\n",
       "        Timedelta('15324 days 00:00:00'), 41.0],\n",
       "       ['Mathematician', '1777-04-30', '1855-02-23', 41, 'Mathematician',\n",
       "        Timestamp('1777-04-30 00:00:00'),\n",
       "        Timestamp('1855-02-23 00:00:00'),\n",
       "        Timedelta('28422 days 00:00:00'), 77.0]], dtype=object)"
      ]
     },
     "execution_count": 38,
     "metadata": {},
     "output_type": "execute_result"
    }
   ],
   "source": [
    "scientists.values"
   ]
  },
  {
   "cell_type": "markdown",
   "id": "5738c609",
   "metadata": {},
   "source": [
    "### 데이터프레임과 불리언 추출"
   ]
  },
  {
   "cell_type": "code",
   "execution_count": null,
   "id": "5507fe80",
   "metadata": {},
   "outputs": [],
   "source": [
    "print(scientists.loc[scientists['Age'] > scientists['Age'].mean()])"
   ]
  },
  {
   "cell_type": "markdown",
   "id": "4d9da2fd",
   "metadata": {},
   "source": [
    "### 데이터프레임과 브로드캐스팅"
   ]
  },
  {
   "cell_type": "markdown",
   "id": "f010c834",
   "metadata": {},
   "source": [
    "#### [Do It! 실습] 데이터프레임을 대상으로 연산하기"
   ]
  },
  {
   "cell_type": "code",
   "execution_count": null,
   "id": "8af4d8fe",
   "metadata": {},
   "outputs": [],
   "source": [
    "first_half = scientists[:4]\n",
    "second_half = scientists[4:]\n",
    "\n",
    "print(first_half)"
   ]
  },
  {
   "cell_type": "code",
   "execution_count": null,
   "id": "2f600197",
   "metadata": {},
   "outputs": [],
   "source": [
    "print(second_half)"
   ]
  },
  {
   "cell_type": "code",
   "execution_count": null,
   "id": "473f71c4",
   "metadata": {},
   "outputs": [],
   "source": [
    "print(scientists * 2)"
   ]
  },
  {
   "cell_type": "code",
   "execution_count": null,
   "id": "d7ad55af",
   "metadata": {},
   "outputs": [],
   "source": [
    "df1 = df2 = pd.DataFrame(data=[[1, 2, 3], [4, 5, 6], [7, 8, 9]])\n",
    "\n",
    "df_added = df1.add(df2)\n",
    "print(df_added)"
   ]
  },
  {
   "cell_type": "markdown",
   "id": "297a5745",
   "metadata": {},
   "source": [
    "## 03-4 시리즈와 데이터프레임 데이터 변경하기"
   ]
  },
  {
   "cell_type": "markdown",
   "id": "62ed3774",
   "metadata": {},
   "source": [
    "#### [Do It! 실습] 열 추가하기"
   ]
  },
  {
   "cell_type": "code",
   "execution_count": 5,
   "id": "922a9c6c",
   "metadata": {},
   "outputs": [
    {
     "name": "stdout",
     "output_type": "stream",
     "text": [
      "Name          object\n",
      "Born          object\n",
      "Died          object\n",
      "Age            int64\n",
      "Occupation    object\n",
      "dtype: object\n"
     ]
    }
   ],
   "source": [
    "print(scientists.dtypes)"
   ]
  },
  {
   "cell_type": "code",
   "execution_count": 6,
   "id": "d3aa4312",
   "metadata": {},
   "outputs": [
    {
     "name": "stdout",
     "output_type": "stream",
     "text": [
      "<class 'pandas.core.frame.DataFrame'>\n",
      "RangeIndex: 8 entries, 0 to 7\n",
      "Data columns (total 5 columns):\n",
      " #   Column      Non-Null Count  Dtype \n",
      "---  ------      --------------  ----- \n",
      " 0   Name        8 non-null      object\n",
      " 1   Born        8 non-null      object\n",
      " 2   Died        8 non-null      object\n",
      " 3   Age         8 non-null      int64 \n",
      " 4   Occupation  8 non-null      object\n",
      "dtypes: int64(1), object(4)\n",
      "memory usage: 452.0+ bytes\n"
     ]
    }
   ],
   "source": [
    "scientists.info()"
   ]
  },
  {
   "cell_type": "code",
   "execution_count": 7,
   "id": "a9454cb0",
   "metadata": {},
   "outputs": [
    {
     "name": "stdout",
     "output_type": "stream",
     "text": [
      "0   1920-07-25\n",
      "1   1876-06-13\n",
      "2   1820-05-12\n",
      "3   1867-11-07\n",
      "4   1907-05-27\n",
      "5   1813-03-15\n",
      "6   1912-06-23\n",
      "7   1777-04-30\n",
      "Name: Born, dtype: datetime64[ns]\n"
     ]
    }
   ],
   "source": [
    "born_datetime = pd.to_datetime(scientists['Born'], format='%Y-%m-%d')\n",
    "print(born_datetime)"
   ]
  },
  {
   "cell_type": "code",
   "execution_count": 10,
   "id": "eb309ab6",
   "metadata": {},
   "outputs": [
    {
     "name": "stdout",
     "output_type": "stream",
     "text": [
      "0   1958-04-16\n",
      "1   1937-10-16\n",
      "2   1910-08-13\n",
      "3   1934-07-04\n",
      "4   1964-04-14\n",
      "5   1858-06-16\n",
      "6   1954-06-07\n",
      "7   1855-02-23\n",
      "Name: Died, dtype: datetime64[ns]\n"
     ]
    }
   ],
   "source": [
    "died_datetime = pd.to_datetime(scientists['Died'], format='%Y-%m-%d')\n",
    "print(died_datetime)"
   ]
  },
  {
   "cell_type": "code",
   "execution_count": 12,
   "id": "44d298dc",
   "metadata": {},
   "outputs": [
    {
     "data": {
      "text/html": [
       "<div>\n",
       "<style scoped>\n",
       "    .dataframe tbody tr th:only-of-type {\n",
       "        vertical-align: middle;\n",
       "    }\n",
       "\n",
       "    .dataframe tbody tr th {\n",
       "        vertical-align: top;\n",
       "    }\n",
       "\n",
       "    .dataframe thead th {\n",
       "        text-align: right;\n",
       "    }\n",
       "</style>\n",
       "<table border=\"1\" class=\"dataframe\">\n",
       "  <thead>\n",
       "    <tr style=\"text-align: right;\">\n",
       "      <th></th>\n",
       "      <th>Name</th>\n",
       "      <th>Born</th>\n",
       "      <th>Died</th>\n",
       "      <th>Age</th>\n",
       "      <th>Occupation</th>\n",
       "    </tr>\n",
       "  </thead>\n",
       "  <tbody>\n",
       "    <tr>\n",
       "      <th>0</th>\n",
       "      <td>Rosaline Franklin</td>\n",
       "      <td>1920-07-25</td>\n",
       "      <td>1958-04-16</td>\n",
       "      <td>37</td>\n",
       "      <td>Chemist</td>\n",
       "    </tr>\n",
       "    <tr>\n",
       "      <th>1</th>\n",
       "      <td>William Gosset</td>\n",
       "      <td>1876-06-13</td>\n",
       "      <td>1937-10-16</td>\n",
       "      <td>61</td>\n",
       "      <td>Statistician</td>\n",
       "    </tr>\n",
       "    <tr>\n",
       "      <th>2</th>\n",
       "      <td>Florence Nightingale</td>\n",
       "      <td>1820-05-12</td>\n",
       "      <td>1910-08-13</td>\n",
       "      <td>90</td>\n",
       "      <td>Nurse</td>\n",
       "    </tr>\n",
       "    <tr>\n",
       "      <th>3</th>\n",
       "      <td>Marie Curie</td>\n",
       "      <td>1867-11-07</td>\n",
       "      <td>1934-07-04</td>\n",
       "      <td>66</td>\n",
       "      <td>Chemist</td>\n",
       "    </tr>\n",
       "    <tr>\n",
       "      <th>4</th>\n",
       "      <td>Rachel Carson</td>\n",
       "      <td>1907-05-27</td>\n",
       "      <td>1964-04-14</td>\n",
       "      <td>56</td>\n",
       "      <td>Biologist</td>\n",
       "    </tr>\n",
       "    <tr>\n",
       "      <th>5</th>\n",
       "      <td>John Snow</td>\n",
       "      <td>1813-03-15</td>\n",
       "      <td>1858-06-16</td>\n",
       "      <td>45</td>\n",
       "      <td>Physician</td>\n",
       "    </tr>\n",
       "    <tr>\n",
       "      <th>6</th>\n",
       "      <td>Alan Turing</td>\n",
       "      <td>1912-06-23</td>\n",
       "      <td>1954-06-07</td>\n",
       "      <td>41</td>\n",
       "      <td>Computer Scientist</td>\n",
       "    </tr>\n",
       "    <tr>\n",
       "      <th>7</th>\n",
       "      <td>Johann Gauss</td>\n",
       "      <td>1777-04-30</td>\n",
       "      <td>1855-02-23</td>\n",
       "      <td>77</td>\n",
       "      <td>Mathematician</td>\n",
       "    </tr>\n",
       "  </tbody>\n",
       "</table>\n",
       "</div>"
      ],
      "text/plain": [
       "                   Name        Born        Died  Age          Occupation\n",
       "0     Rosaline Franklin  1920-07-25  1958-04-16   37             Chemist\n",
       "1        William Gosset  1876-06-13  1937-10-16   61        Statistician\n",
       "2  Florence Nightingale  1820-05-12  1910-08-13   90               Nurse\n",
       "3           Marie Curie  1867-11-07  1934-07-04   66             Chemist\n",
       "4         Rachel Carson  1907-05-27  1964-04-14   56           Biologist\n",
       "5             John Snow  1813-03-15  1858-06-16   45           Physician\n",
       "6           Alan Turing  1912-06-23  1954-06-07   41  Computer Scientist\n",
       "7          Johann Gauss  1777-04-30  1855-02-23   77       Mathematician"
      ]
     },
     "execution_count": 12,
     "metadata": {},
     "output_type": "execute_result"
    }
   ],
   "source": [
    "scientists"
   ]
  },
  {
   "cell_type": "code",
   "execution_count": 14,
   "id": "c0118869",
   "metadata": {},
   "outputs": [],
   "source": [
    "scientists['born_dt'] = born_datetime"
   ]
  },
  {
   "cell_type": "code",
   "execution_count": 16,
   "id": "b1356099",
   "metadata": {},
   "outputs": [
    {
     "data": {
      "text/html": [
       "<div>\n",
       "<style scoped>\n",
       "    .dataframe tbody tr th:only-of-type {\n",
       "        vertical-align: middle;\n",
       "    }\n",
       "\n",
       "    .dataframe tbody tr th {\n",
       "        vertical-align: top;\n",
       "    }\n",
       "\n",
       "    .dataframe thead th {\n",
       "        text-align: right;\n",
       "    }\n",
       "</style>\n",
       "<table border=\"1\" class=\"dataframe\">\n",
       "  <thead>\n",
       "    <tr style=\"text-align: right;\">\n",
       "      <th></th>\n",
       "      <th>Name</th>\n",
       "      <th>Born</th>\n",
       "      <th>Died</th>\n",
       "      <th>Age</th>\n",
       "      <th>Occupation</th>\n",
       "      <th>born_dt</th>\n",
       "    </tr>\n",
       "  </thead>\n",
       "  <tbody>\n",
       "    <tr>\n",
       "      <th>0</th>\n",
       "      <td>Rosaline Franklin</td>\n",
       "      <td>1920-07-25</td>\n",
       "      <td>1958-04-16</td>\n",
       "      <td>37</td>\n",
       "      <td>Chemist</td>\n",
       "      <td>1920-07-25</td>\n",
       "    </tr>\n",
       "    <tr>\n",
       "      <th>1</th>\n",
       "      <td>William Gosset</td>\n",
       "      <td>1876-06-13</td>\n",
       "      <td>1937-10-16</td>\n",
       "      <td>61</td>\n",
       "      <td>Statistician</td>\n",
       "      <td>1876-06-13</td>\n",
       "    </tr>\n",
       "    <tr>\n",
       "      <th>2</th>\n",
       "      <td>Florence Nightingale</td>\n",
       "      <td>1820-05-12</td>\n",
       "      <td>1910-08-13</td>\n",
       "      <td>90</td>\n",
       "      <td>Nurse</td>\n",
       "      <td>1820-05-12</td>\n",
       "    </tr>\n",
       "    <tr>\n",
       "      <th>3</th>\n",
       "      <td>Marie Curie</td>\n",
       "      <td>1867-11-07</td>\n",
       "      <td>1934-07-04</td>\n",
       "      <td>66</td>\n",
       "      <td>Chemist</td>\n",
       "      <td>1867-11-07</td>\n",
       "    </tr>\n",
       "    <tr>\n",
       "      <th>4</th>\n",
       "      <td>Rachel Carson</td>\n",
       "      <td>1907-05-27</td>\n",
       "      <td>1964-04-14</td>\n",
       "      <td>56</td>\n",
       "      <td>Biologist</td>\n",
       "      <td>1907-05-27</td>\n",
       "    </tr>\n",
       "    <tr>\n",
       "      <th>5</th>\n",
       "      <td>John Snow</td>\n",
       "      <td>1813-03-15</td>\n",
       "      <td>1858-06-16</td>\n",
       "      <td>45</td>\n",
       "      <td>Physician</td>\n",
       "      <td>1813-03-15</td>\n",
       "    </tr>\n",
       "    <tr>\n",
       "      <th>6</th>\n",
       "      <td>Alan Turing</td>\n",
       "      <td>1912-06-23</td>\n",
       "      <td>1954-06-07</td>\n",
       "      <td>41</td>\n",
       "      <td>Computer Scientist</td>\n",
       "      <td>1912-06-23</td>\n",
       "    </tr>\n",
       "    <tr>\n",
       "      <th>7</th>\n",
       "      <td>Johann Gauss</td>\n",
       "      <td>1777-04-30</td>\n",
       "      <td>1855-02-23</td>\n",
       "      <td>77</td>\n",
       "      <td>Mathematician</td>\n",
       "      <td>1777-04-30</td>\n",
       "    </tr>\n",
       "  </tbody>\n",
       "</table>\n",
       "</div>"
      ],
      "text/plain": [
       "                   Name        Born        Died  Age          Occupation  \\\n",
       "0     Rosaline Franklin  1920-07-25  1958-04-16   37             Chemist   \n",
       "1        William Gosset  1876-06-13  1937-10-16   61        Statistician   \n",
       "2  Florence Nightingale  1820-05-12  1910-08-13   90               Nurse   \n",
       "3           Marie Curie  1867-11-07  1934-07-04   66             Chemist   \n",
       "4         Rachel Carson  1907-05-27  1964-04-14   56           Biologist   \n",
       "5             John Snow  1813-03-15  1858-06-16   45           Physician   \n",
       "6           Alan Turing  1912-06-23  1954-06-07   41  Computer Scientist   \n",
       "7          Johann Gauss  1777-04-30  1855-02-23   77       Mathematician   \n",
       "\n",
       "     born_dt  \n",
       "0 1920-07-25  \n",
       "1 1876-06-13  \n",
       "2 1820-05-12  \n",
       "3 1867-11-07  \n",
       "4 1907-05-27  \n",
       "5 1813-03-15  \n",
       "6 1912-06-23  \n",
       "7 1777-04-30  "
      ]
     },
     "execution_count": 16,
     "metadata": {},
     "output_type": "execute_result"
    }
   ],
   "source": [
    "scientists"
   ]
  },
  {
   "cell_type": "code",
   "execution_count": 17,
   "id": "68b25bd6",
   "metadata": {},
   "outputs": [],
   "source": [
    "scientists['died_dt'] = died_datetime"
   ]
  },
  {
   "cell_type": "code",
   "execution_count": 19,
   "id": "125d50e1",
   "metadata": {},
   "outputs": [
    {
     "data": {
      "text/html": [
       "<div>\n",
       "<style scoped>\n",
       "    .dataframe tbody tr th:only-of-type {\n",
       "        vertical-align: middle;\n",
       "    }\n",
       "\n",
       "    .dataframe tbody tr th {\n",
       "        vertical-align: top;\n",
       "    }\n",
       "\n",
       "    .dataframe thead th {\n",
       "        text-align: right;\n",
       "    }\n",
       "</style>\n",
       "<table border=\"1\" class=\"dataframe\">\n",
       "  <thead>\n",
       "    <tr style=\"text-align: right;\">\n",
       "      <th></th>\n",
       "      <th>Name</th>\n",
       "      <th>Born</th>\n",
       "      <th>Died</th>\n",
       "      <th>Age</th>\n",
       "      <th>Occupation</th>\n",
       "      <th>born_dt</th>\n",
       "      <th>died_dt</th>\n",
       "    </tr>\n",
       "  </thead>\n",
       "  <tbody>\n",
       "    <tr>\n",
       "      <th>0</th>\n",
       "      <td>Rosaline Franklin</td>\n",
       "      <td>1920-07-25</td>\n",
       "      <td>1958-04-16</td>\n",
       "      <td>37</td>\n",
       "      <td>Chemist</td>\n",
       "      <td>1920-07-25</td>\n",
       "      <td>1958-04-16</td>\n",
       "    </tr>\n",
       "    <tr>\n",
       "      <th>1</th>\n",
       "      <td>William Gosset</td>\n",
       "      <td>1876-06-13</td>\n",
       "      <td>1937-10-16</td>\n",
       "      <td>61</td>\n",
       "      <td>Statistician</td>\n",
       "      <td>1876-06-13</td>\n",
       "      <td>1937-10-16</td>\n",
       "    </tr>\n",
       "    <tr>\n",
       "      <th>2</th>\n",
       "      <td>Florence Nightingale</td>\n",
       "      <td>1820-05-12</td>\n",
       "      <td>1910-08-13</td>\n",
       "      <td>90</td>\n",
       "      <td>Nurse</td>\n",
       "      <td>1820-05-12</td>\n",
       "      <td>1910-08-13</td>\n",
       "    </tr>\n",
       "    <tr>\n",
       "      <th>3</th>\n",
       "      <td>Marie Curie</td>\n",
       "      <td>1867-11-07</td>\n",
       "      <td>1934-07-04</td>\n",
       "      <td>66</td>\n",
       "      <td>Chemist</td>\n",
       "      <td>1867-11-07</td>\n",
       "      <td>1934-07-04</td>\n",
       "    </tr>\n",
       "    <tr>\n",
       "      <th>4</th>\n",
       "      <td>Rachel Carson</td>\n",
       "      <td>1907-05-27</td>\n",
       "      <td>1964-04-14</td>\n",
       "      <td>56</td>\n",
       "      <td>Biologist</td>\n",
       "      <td>1907-05-27</td>\n",
       "      <td>1964-04-14</td>\n",
       "    </tr>\n",
       "    <tr>\n",
       "      <th>5</th>\n",
       "      <td>John Snow</td>\n",
       "      <td>1813-03-15</td>\n",
       "      <td>1858-06-16</td>\n",
       "      <td>45</td>\n",
       "      <td>Physician</td>\n",
       "      <td>1813-03-15</td>\n",
       "      <td>1858-06-16</td>\n",
       "    </tr>\n",
       "    <tr>\n",
       "      <th>6</th>\n",
       "      <td>Alan Turing</td>\n",
       "      <td>1912-06-23</td>\n",
       "      <td>1954-06-07</td>\n",
       "      <td>41</td>\n",
       "      <td>Computer Scientist</td>\n",
       "      <td>1912-06-23</td>\n",
       "      <td>1954-06-07</td>\n",
       "    </tr>\n",
       "    <tr>\n",
       "      <th>7</th>\n",
       "      <td>Johann Gauss</td>\n",
       "      <td>1777-04-30</td>\n",
       "      <td>1855-02-23</td>\n",
       "      <td>77</td>\n",
       "      <td>Mathematician</td>\n",
       "      <td>1777-04-30</td>\n",
       "      <td>1855-02-23</td>\n",
       "    </tr>\n",
       "  </tbody>\n",
       "</table>\n",
       "</div>"
      ],
      "text/plain": [
       "                   Name        Born        Died  Age          Occupation  \\\n",
       "0     Rosaline Franklin  1920-07-25  1958-04-16   37             Chemist   \n",
       "1        William Gosset  1876-06-13  1937-10-16   61        Statistician   \n",
       "2  Florence Nightingale  1820-05-12  1910-08-13   90               Nurse   \n",
       "3           Marie Curie  1867-11-07  1934-07-04   66             Chemist   \n",
       "4         Rachel Carson  1907-05-27  1964-04-14   56           Biologist   \n",
       "5             John Snow  1813-03-15  1858-06-16   45           Physician   \n",
       "6           Alan Turing  1912-06-23  1954-06-07   41  Computer Scientist   \n",
       "7          Johann Gauss  1777-04-30  1855-02-23   77       Mathematician   \n",
       "\n",
       "     born_dt    died_dt  \n",
       "0 1920-07-25 1958-04-16  \n",
       "1 1876-06-13 1937-10-16  \n",
       "2 1820-05-12 1910-08-13  \n",
       "3 1867-11-07 1934-07-04  \n",
       "4 1907-05-27 1964-04-14  \n",
       "5 1813-03-15 1858-06-16  \n",
       "6 1912-06-23 1954-06-07  \n",
       "7 1777-04-30 1855-02-23  "
      ]
     },
     "execution_count": 19,
     "metadata": {},
     "output_type": "execute_result"
    }
   ],
   "source": [
    "scientists"
   ]
  },
  {
   "cell_type": "code",
   "execution_count": 20,
   "id": "33485029",
   "metadata": {},
   "outputs": [
    {
     "name": "stdout",
     "output_type": "stream",
     "text": [
      "<class 'pandas.core.frame.DataFrame'>\n",
      "RangeIndex: 8 entries, 0 to 7\n",
      "Data columns (total 7 columns):\n",
      " #   Column      Non-Null Count  Dtype         \n",
      "---  ------      --------------  -----         \n",
      " 0   Name        8 non-null      object        \n",
      " 1   Born        8 non-null      object        \n",
      " 2   Died        8 non-null      object        \n",
      " 3   Age         8 non-null      int64         \n",
      " 4   Occupation  8 non-null      object        \n",
      " 5   born_dt     8 non-null      datetime64[ns]\n",
      " 6   died_dt     8 non-null      datetime64[ns]\n",
      "dtypes: datetime64[ns](2), int64(1), object(4)\n",
      "memory usage: 580.0+ bytes\n"
     ]
    }
   ],
   "source": [
    "scientists.info()"
   ]
  },
  {
   "cell_type": "code",
   "execution_count": 21,
   "id": "786b1117",
   "metadata": {},
   "outputs": [],
   "source": [
    "scientists['born_dt'], scientists['died_dt'] = (born_datetime, died_datetime)"
   ]
  },
  {
   "cell_type": "code",
   "execution_count": 22,
   "id": "9d8814dc",
   "metadata": {},
   "outputs": [
    {
     "name": "stdout",
     "output_type": "stream",
     "text": [
      "                   Name        Born        Died  Age    Occupation    born_dt  \\\n",
      "0     Rosaline Franklin  1920-07-25  1958-04-16   37       Chemist 1920-07-25   \n",
      "1        William Gosset  1876-06-13  1937-10-16   61  Statistician 1876-06-13   \n",
      "2  Florence Nightingale  1820-05-12  1910-08-13   90         Nurse 1820-05-12   \n",
      "3           Marie Curie  1867-11-07  1934-07-04   66       Chemist 1867-11-07   \n",
      "4         Rachel Carson  1907-05-27  1964-04-14   56     Biologist 1907-05-27   \n",
      "\n",
      "     died_dt  \n",
      "0 1958-04-16  \n",
      "1 1937-10-16  \n",
      "2 1910-08-13  \n",
      "3 1934-07-04  \n",
      "4 1964-04-14  \n"
     ]
    }
   ],
   "source": [
    "print(scientists.head())"
   ]
  },
  {
   "cell_type": "code",
   "execution_count": 23,
   "id": "25ac723d",
   "metadata": {},
   "outputs": [
    {
     "name": "stdout",
     "output_type": "stream",
     "text": [
      "(8, 7)\n"
     ]
    }
   ],
   "source": [
    "print(scientists.shape)"
   ]
  },
  {
   "cell_type": "code",
   "execution_count": 24,
   "id": "d7a27234",
   "metadata": {},
   "outputs": [
    {
     "name": "stdout",
     "output_type": "stream",
     "text": [
      "Name                  object\n",
      "Born                  object\n",
      "Died                  object\n",
      "Age                    int64\n",
      "Occupation            object\n",
      "born_dt       datetime64[ns]\n",
      "died_dt       datetime64[ns]\n",
      "dtype: object\n"
     ]
    }
   ],
   "source": [
    "print(scientists.dtypes)"
   ]
  },
  {
   "cell_type": "markdown",
   "id": "48678753",
   "metadata": {},
   "source": [
    "#### [Do It! 실습] 열 내용 변경하기"
   ]
  },
  {
   "cell_type": "code",
   "execution_count": 25,
   "id": "3fcf23db",
   "metadata": {},
   "outputs": [
    {
     "name": "stdout",
     "output_type": "stream",
     "text": [
      "0    37\n",
      "1    61\n",
      "2    90\n",
      "3    66\n",
      "4    56\n",
      "5    45\n",
      "6    41\n",
      "7    77\n",
      "Name: Age, dtype: int64\n"
     ]
    }
   ],
   "source": [
    "print(scientists['Age'])"
   ]
  },
  {
   "cell_type": "code",
   "execution_count": 27,
   "id": "ac4587ff",
   "metadata": {},
   "outputs": [
    {
     "name": "stdout",
     "output_type": "stream",
     "text": [
      "1    61\n",
      "5    45\n",
      "0    37\n",
      "7    77\n",
      "2    90\n",
      "4    56\n",
      "3    66\n",
      "6    41\n",
      "Name: Age, dtype: int64\n"
     ]
    }
   ],
   "source": [
    "print(scientists[\"Age\"].sample(frac=1, random_state=42))"
   ]
  },
  {
   "cell_type": "code",
   "execution_count": 29,
   "id": "e2cfbd61",
   "metadata": {},
   "outputs": [
    {
     "name": "stdout",
     "output_type": "stream",
     "text": [
      "0    37\n",
      "1    61\n",
      "2    90\n",
      "3    66\n",
      "4    56\n",
      "5    45\n",
      "6    41\n",
      "7    77\n",
      "Name: Age, dtype: int64\n"
     ]
    }
   ],
   "source": [
    "scientists[\"Age\"] = scientists[\"Age\"].sample(frac=1, random_state=42)\n",
    "print(scientists['Age'])"
   ]
  },
  {
   "cell_type": "code",
   "execution_count": 30,
   "id": "ddccfff2",
   "metadata": {},
   "outputs": [
    {
     "data": {
      "text/html": [
       "<div>\n",
       "<style scoped>\n",
       "    .dataframe tbody tr th:only-of-type {\n",
       "        vertical-align: middle;\n",
       "    }\n",
       "\n",
       "    .dataframe tbody tr th {\n",
       "        vertical-align: top;\n",
       "    }\n",
       "\n",
       "    .dataframe thead th {\n",
       "        text-align: right;\n",
       "    }\n",
       "</style>\n",
       "<table border=\"1\" class=\"dataframe\">\n",
       "  <thead>\n",
       "    <tr style=\"text-align: right;\">\n",
       "      <th></th>\n",
       "      <th>Name</th>\n",
       "      <th>Born</th>\n",
       "      <th>Died</th>\n",
       "      <th>Age</th>\n",
       "      <th>Occupation</th>\n",
       "      <th>born_dt</th>\n",
       "      <th>died_dt</th>\n",
       "    </tr>\n",
       "  </thead>\n",
       "  <tbody>\n",
       "    <tr>\n",
       "      <th>0</th>\n",
       "      <td>Chemist</td>\n",
       "      <td>1920-07-25</td>\n",
       "      <td>1958-04-16</td>\n",
       "      <td>37</td>\n",
       "      <td>Chemist</td>\n",
       "      <td>1920-07-25</td>\n",
       "      <td>1958-04-16</td>\n",
       "    </tr>\n",
       "    <tr>\n",
       "      <th>1</th>\n",
       "      <td>Statistician</td>\n",
       "      <td>1876-06-13</td>\n",
       "      <td>1937-10-16</td>\n",
       "      <td>61</td>\n",
       "      <td>Statistician</td>\n",
       "      <td>1876-06-13</td>\n",
       "      <td>1937-10-16</td>\n",
       "    </tr>\n",
       "    <tr>\n",
       "      <th>2</th>\n",
       "      <td>Nurse</td>\n",
       "      <td>1820-05-12</td>\n",
       "      <td>1910-08-13</td>\n",
       "      <td>90</td>\n",
       "      <td>Nurse</td>\n",
       "      <td>1820-05-12</td>\n",
       "      <td>1910-08-13</td>\n",
       "    </tr>\n",
       "    <tr>\n",
       "      <th>3</th>\n",
       "      <td>Chemist</td>\n",
       "      <td>1867-11-07</td>\n",
       "      <td>1934-07-04</td>\n",
       "      <td>66</td>\n",
       "      <td>Chemist</td>\n",
       "      <td>1867-11-07</td>\n",
       "      <td>1934-07-04</td>\n",
       "    </tr>\n",
       "    <tr>\n",
       "      <th>4</th>\n",
       "      <td>Biologist</td>\n",
       "      <td>1907-05-27</td>\n",
       "      <td>1964-04-14</td>\n",
       "      <td>56</td>\n",
       "      <td>Biologist</td>\n",
       "      <td>1907-05-27</td>\n",
       "      <td>1964-04-14</td>\n",
       "    </tr>\n",
       "    <tr>\n",
       "      <th>5</th>\n",
       "      <td>Physician</td>\n",
       "      <td>1813-03-15</td>\n",
       "      <td>1858-06-16</td>\n",
       "      <td>45</td>\n",
       "      <td>Physician</td>\n",
       "      <td>1813-03-15</td>\n",
       "      <td>1858-06-16</td>\n",
       "    </tr>\n",
       "    <tr>\n",
       "      <th>6</th>\n",
       "      <td>Computer Scientist</td>\n",
       "      <td>1912-06-23</td>\n",
       "      <td>1954-06-07</td>\n",
       "      <td>41</td>\n",
       "      <td>Computer Scientist</td>\n",
       "      <td>1912-06-23</td>\n",
       "      <td>1954-06-07</td>\n",
       "    </tr>\n",
       "    <tr>\n",
       "      <th>7</th>\n",
       "      <td>Mathematician</td>\n",
       "      <td>1777-04-30</td>\n",
       "      <td>1855-02-23</td>\n",
       "      <td>77</td>\n",
       "      <td>Mathematician</td>\n",
       "      <td>1777-04-30</td>\n",
       "      <td>1855-02-23</td>\n",
       "    </tr>\n",
       "  </tbody>\n",
       "</table>\n",
       "</div>"
      ],
      "text/plain": [
       "                 Name        Born        Died  Age          Occupation  \\\n",
       "0             Chemist  1920-07-25  1958-04-16   37             Chemist   \n",
       "1        Statistician  1876-06-13  1937-10-16   61        Statistician   \n",
       "2               Nurse  1820-05-12  1910-08-13   90               Nurse   \n",
       "3             Chemist  1867-11-07  1934-07-04   66             Chemist   \n",
       "4           Biologist  1907-05-27  1964-04-14   56           Biologist   \n",
       "5           Physician  1813-03-15  1858-06-16   45           Physician   \n",
       "6  Computer Scientist  1912-06-23  1954-06-07   41  Computer Scientist   \n",
       "7       Mathematician  1777-04-30  1855-02-23   77       Mathematician   \n",
       "\n",
       "     born_dt    died_dt  \n",
       "0 1920-07-25 1958-04-16  \n",
       "1 1876-06-13 1937-10-16  \n",
       "2 1820-05-12 1910-08-13  \n",
       "3 1867-11-07 1934-07-04  \n",
       "4 1907-05-27 1964-04-14  \n",
       "5 1813-03-15 1858-06-16  \n",
       "6 1912-06-23 1954-06-07  \n",
       "7 1777-04-30 1855-02-23  "
      ]
     },
     "execution_count": 30,
     "metadata": {},
     "output_type": "execute_result"
    }
   ],
   "source": [
    "scientists['Name'] = scientists['Occupation']\n",
    "scientists"
   ]
  },
  {
   "cell_type": "code",
   "execution_count": 31,
   "id": "8a08971f",
   "metadata": {},
   "outputs": [
    {
     "name": "stdout",
     "output_type": "stream",
     "text": [
      "0    61\n",
      "1    45\n",
      "2    37\n",
      "3    77\n",
      "4    90\n",
      "5    56\n",
      "6    66\n",
      "7    41\n",
      "Name: Age, dtype: int64\n"
     ]
    }
   ],
   "source": [
    "scientists[\"Age\"] = scientists[\"Age\"].sample(frac=1, random_state=42).values\n",
    "print(scientists['Age'])"
   ]
  },
  {
   "cell_type": "code",
   "execution_count": 33,
   "id": "e7d4b8ae",
   "metadata": {},
   "outputs": [],
   "source": [
    "import numpy as np"
   ]
  },
  {
   "cell_type": "code",
   "execution_count": 35,
   "id": "bd5333ce",
   "metadata": {},
   "outputs": [
    {
     "data": {
      "text/plain": [
       "np.float64(3.0)"
      ]
     },
     "execution_count": 35,
     "metadata": {},
     "output_type": "execute_result"
    }
   ],
   "source": [
    "np.floor(3.5) # 소숫점을 버려줌"
   ]
  },
  {
   "cell_type": "code",
   "execution_count": null,
   "id": "a45a4d48",
   "metadata": {},
   "outputs": [],
   "source": [
    "scientists['age_years'] = (scientists['age_days'].dt.days / 365).apply(np.floor)"
   ]
  },
  {
   "cell_type": "code",
   "execution_count": null,
   "id": "2f4186be",
   "metadata": {},
   "outputs": [],
   "source": [
    "# scientists['age_years'] = (scientists['age_days'].astype('timedelta64[Y]'))  # pandas 2.0.3 오류\n",
    "scientists['age_years'] = (scientists['age_days'].dt.days / 365).apply(np.floor)  # 날짜 수를 햇수로 변환\n",
    "\n",
    "print(scientists)"
   ]
  },
  {
   "cell_type": "markdown",
   "id": "f59a0248",
   "metadata": {},
   "source": [
    "#### [Do It! 실습] assign()으로 열 수정하기 "
   ]
  },
  {
   "cell_type": "code",
   "execution_count": null,
   "id": "ce6d0cef",
   "metadata": {},
   "outputs": [],
   "source": [
    "scientists = scientists.assign(\n",
    "    age_days_assign=scientists['died_dt'] - scientists['born_dt'],\n",
    "    # age_year_assign=scientists['age_days'].astype('timedelta64[Y]'))  # pandas 2.0.3 오류\n",
    "    age_year_assign=(scientists['age_days'].dt.days / 365).apply(np.floor)\n",
    ")\n",
    "print(scientists)"
   ]
  },
  {
   "cell_type": "markdown",
   "id": "acecfb7a",
   "metadata": {},
   "source": [
    "##### <한 걸음 더!> 다른 방법으로 나이 계산하기"
   ]
  },
  {
   "cell_type": "code",
   "execution_count": null,
   "id": "e14b4e07",
   "metadata": {},
   "outputs": [],
   "source": [
    "scientists = scientists.assign(\n",
    "    age_days_assign=scientists[\"died_dt\"] - scientists[\"born_dt\"],\n",
    "    # age_year_assign=lambda df_: df_[\"age_days_assign\"].astype(\"timedelta64[Y]\"),  # pandas 2.0.3 오류\n",
    "    age_year_assign=lambda df_: (df_[\"age_days_assign\"].dt.days / 365).apply(np.floor), \n",
    ")\n",
    "print(scientists)"
   ]
  },
  {
   "cell_type": "markdown",
   "id": "56964d40",
   "metadata": {},
   "source": [
    "#### [Do It! 실습] 열 삭제하기"
   ]
  },
  {
   "cell_type": "code",
   "execution_count": null,
   "id": "621949ae",
   "metadata": {},
   "outputs": [],
   "source": [
    "print(scientists.columns)"
   ]
  },
  {
   "cell_type": "code",
   "execution_count": null,
   "id": "ebe1e85e",
   "metadata": {},
   "outputs": [],
   "source": [
    "scientists_dropped = scientists.drop(['Age'], axis=\"columns\")"
   ]
  },
  {
   "cell_type": "code",
   "execution_count": null,
   "id": "d5d8a6d4",
   "metadata": {},
   "outputs": [],
   "source": [
    "print(scientists_dropped.columns)"
   ]
  },
  {
   "cell_type": "markdown",
   "id": "d3c8dd7d",
   "metadata": {},
   "source": [
    "## 03-5 데이터 저장하고 불러오기   (시험범위 제외!!)"
   ]
  },
  {
   "cell_type": "markdown",
   "id": "b2f7cbe5",
   "metadata": {},
   "source": [
    "### 피클로 저장하고 불러오기"
   ]
  },
  {
   "cell_type": "markdown",
   "id": "e510feeb",
   "metadata": {},
   "source": [
    "#### [Do It! 실습] 시리즈와 데이터프레임 저장하기"
   ]
  },
  {
   "cell_type": "code",
   "execution_count": null,
   "id": "3a1306f3",
   "metadata": {},
   "outputs": [],
   "source": [
    "names = scientists['Name']\n",
    "print(names)"
   ]
  },
  {
   "cell_type": "code",
   "execution_count": null,
   "id": "ee00f574",
   "metadata": {},
   "outputs": [],
   "source": [
    "names.to_pickle('../output/scientists_names_series.pickle')"
   ]
  },
  {
   "cell_type": "code",
   "execution_count": null,
   "id": "1510766c",
   "metadata": {},
   "outputs": [],
   "source": [
    "scientists.to_pickle('../output/scientists_df.pickle')"
   ]
  },
  {
   "cell_type": "markdown",
   "id": "1abc7a8b",
   "metadata": {},
   "source": [
    "#### [Do It! 실습] 피클 데이터 읽어 오기"
   ]
  },
  {
   "cell_type": "code",
   "execution_count": null,
   "id": "4e23f1cd",
   "metadata": {},
   "outputs": [],
   "source": [
    "series_pickle = pd.read_pickle('../output/scientists_names_series.pickle')\n",
    "print(series_pickle)"
   ]
  },
  {
   "cell_type": "code",
   "execution_count": null,
   "id": "15324a2b",
   "metadata": {},
   "outputs": [],
   "source": [
    "dataframe_pickle = pd.read_pickle('../output/scientists_df.pickle')\n",
    "print(dataframe_pickle)"
   ]
  },
  {
   "cell_type": "markdown",
   "id": "5a42426b",
   "metadata": {},
   "source": [
    "### CSV와 TSV 파일로 저장하고 불러오기"
   ]
  },
  {
   "cell_type": "code",
   "execution_count": null,
   "id": "b0930a3f",
   "metadata": {},
   "outputs": [],
   "source": [
    "scientists.to_csv('../output/scientists_df_no_index.csv', index=False)"
   ]
  },
  {
   "cell_type": "markdown",
   "id": "6971ce7b",
   "metadata": {},
   "source": [
    "### 엑셀로 저장하기"
   ]
  },
  {
   "cell_type": "markdown",
   "id": "8fb7bd90",
   "metadata": {},
   "source": [
    "#### [Do It! 실습] 시리즈와 데이터프레임 저장하기"
   ]
  },
  {
   "cell_type": "code",
   "execution_count": null,
   "id": "34ad1451",
   "metadata": {},
   "outputs": [],
   "source": [
    "#!pip install openpyxl  # openpyxl이 없다면 주석을 제거하고 설치하세요."
   ]
  },
  {
   "cell_type": "code",
   "execution_count": null,
   "id": "9131d8a1",
   "metadata": {},
   "outputs": [],
   "source": [
    "names = scientists['Name']\n",
    "print(names)"
   ]
  },
  {
   "cell_type": "code",
   "execution_count": null,
   "id": "231f702a",
   "metadata": {},
   "outputs": [],
   "source": [
    "names_df = names.to_frame()"
   ]
  },
  {
   "cell_type": "code",
   "execution_count": null,
   "id": "8654808a",
   "metadata": {},
   "outputs": [],
   "source": [
    "names_df.to_excel('../output/scientists_names_series_df.xls',\n",
    "                  engine='openpyxl')"
   ]
  },
  {
   "cell_type": "code",
   "execution_count": null,
   "id": "51e5d8e5",
   "metadata": {},
   "outputs": [],
   "source": [
    "scientists.to_excel(\"../output/scientists_df.xlsx\",\n",
    "                    sheet_name=\"scientists\",\n",
    "                    index=False)"
   ]
  },
  {
   "cell_type": "markdown",
   "id": "5023b58f",
   "metadata": {},
   "source": [
    "### 다양한 형식으로 저장하기"
   ]
  },
  {
   "cell_type": "markdown",
   "id": "66e44d3e",
   "metadata": {},
   "source": [
    "#### [Do It! 실습] feather 파일로 저장하기"
   ]
  },
  {
   "cell_type": "code",
   "execution_count": null,
   "id": "89ff1034",
   "metadata": {},
   "outputs": [],
   "source": [
    "#!pip install pyarrow  # pyarrow가 없다면 주석을 제거하고 설치하세요."
   ]
  },
  {
   "cell_type": "code",
   "execution_count": null,
   "id": "df42e805",
   "metadata": {},
   "outputs": [],
   "source": [
    "scientists.to_feather('../output/scientists.feather')"
   ]
  },
  {
   "cell_type": "code",
   "execution_count": null,
   "id": "72ed82d2",
   "metadata": {},
   "outputs": [],
   "source": [
    "sci_feather = pd.read_feather('../output/scientists.feather')\n",
    "print(sci_feather)"
   ]
  },
  {
   "cell_type": "markdown",
   "id": "daa33bd3",
   "metadata": {},
   "source": [
    "#### [Do It! 실습] 딕셔너리로 변환하기"
   ]
  },
  {
   "cell_type": "code",
   "execution_count": null,
   "id": "bf261336",
   "metadata": {},
   "outputs": [],
   "source": [
    "sci_sub_dict = scientists.head(2)"
   ]
  },
  {
   "cell_type": "code",
   "execution_count": null,
   "id": "de86535b",
   "metadata": {},
   "outputs": [],
   "source": [
    "sci_dict = sci_sub_dict.to_dict()"
   ]
  },
  {
   "cell_type": "code",
   "execution_count": null,
   "id": "880b85a8",
   "metadata": {},
   "outputs": [],
   "source": [
    "import pprint\n",
    "pprint.pprint(sci_dict)"
   ]
  },
  {
   "cell_type": "code",
   "execution_count": null,
   "id": "cc706fb0",
   "metadata": {},
   "outputs": [],
   "source": [
    "sci_dict_df = pd.DataFrame.from_dict(sci_dict)\n",
    "print(sci_dict_df)"
   ]
  },
  {
   "cell_type": "markdown",
   "id": "41835ae9",
   "metadata": {},
   "source": [
    "#### [Do It! 실습] JSON으로 저장하기"
   ]
  },
  {
   "cell_type": "code",
   "execution_count": null,
   "id": "8b3bcfae",
   "metadata": {},
   "outputs": [],
   "source": [
    "sci_json = sci_sub_dict.to_json(orient='records', indent=2, date_format=\"iso\")\n",
    "pprint.pprint(sci_json)"
   ]
  },
  {
   "cell_type": "code",
   "execution_count": null,
   "id": "bf436259",
   "metadata": {},
   "outputs": [],
   "source": [
    "sci_json_df = pd.read_json(\n",
    "    ('[\\n'\n",
    " '  {\\n'\n",
    " '    \"Name\":\"Rosaline Franklin\",\\n'\n",
    " '    \"Born\":\"1920-07-25\",\\n'\n",
    " '    \"Died\":\"1958-04-16\",\\n'\n",
    " '    \"Age\":61,\\n'\n",
    " '    \"Occupation\":\"Chemist\",\\n'\n",
    " '    \"born_dt\":\"1920-07-25T00:00:00.000\",\\n'\n",
    " '    \"died_dt\":\"1958-04-16T00:00:00.000\",\\n'\n",
    " '    \"age_days\":\"P13779DT0H0M0S\",\\n'\n",
    " '    \"age_years\":37.0,\\n'\n",
    " '    \"age_days_assign\":\"P13779DT0H0M0S\",\\n'\n",
    " '    \"age_year_assign\":37.0\\n'\n",
    " '  },\\n'\n",
    " '  {\\n'\n",
    " '    \"Name\":\"William Gosset\",\\n'\n",
    " '    \"Born\":\"1876-06-13\",\\n'\n",
    " '    \"Died\":\"1937-10-16\",\\n'\n",
    " '    \"Age\":45,\\n'\n",
    " '    \"Occupation\":\"Statistician\",\\n'\n",
    " '    \"born_dt\":\"1876-06-13T00:00:00.000\",\\n'\n",
    " '    \"died_dt\":\"1937-10-16T00:00:00.000\",\\n'\n",
    " '    \"age_days\":\"P22404DT0H0M0S\",\\n'\n",
    " '    \"age_years\":61.0,\\n'\n",
    " '    \"age_days_assign\":\"P22404DT0H0M0S\",\\n'\n",
    " '    \"age_year_assign\":61.0\\n'\n",
    " '  }\\n'\n",
    " ']'),\n",
    "     orient=\"records\"\n",
    ")\n",
    "print(sci_json_df)"
   ]
  },
  {
   "cell_type": "code",
   "execution_count": null,
   "id": "fb9656b3",
   "metadata": {},
   "outputs": [],
   "source": [
    "print(sci_json_df.dtypes)"
   ]
  },
  {
   "cell_type": "code",
   "execution_count": null,
   "id": "dd4ce3f5",
   "metadata": {},
   "outputs": [],
   "source": [
    "sci_json_df[\"died_dt_json\"] = pd.to_datetime(sci_json_df[\"died_dt\"])\n",
    "print(sci_json_df)"
   ]
  },
  {
   "cell_type": "code",
   "execution_count": null,
   "id": "635c43fc",
   "metadata": {},
   "outputs": [],
   "source": [
    "print(sci_json_df.dtypes)"
   ]
  },
  {
   "cell_type": "code",
   "execution_count": null,
   "id": "edb468b4",
   "metadata": {},
   "outputs": [],
   "source": []
  }
 ],
 "metadata": {
  "kernelspec": {
   "display_name": "Python 3",
   "language": "python",
   "name": "python3"
  },
  "language_info": {
   "codemirror_mode": {
    "name": "ipython",
    "version": 3
   },
   "file_extension": ".py",
   "mimetype": "text/x-python",
   "name": "python",
   "nbconvert_exporter": "python",
   "pygments_lexer": "ipython3",
   "version": "3.13.2"
  },
  "toc": {
   "base_numbering": 1,
   "nav_menu": {},
   "number_sections": false,
   "sideBar": false,
   "skip_h1_title": false,
   "title_cell": "Table of Contents",
   "title_sidebar": "Contents",
   "toc_cell": false,
   "toc_position": {
    "height": "713px",
    "left": "1098px",
    "top": "110.533px",
    "width": "177px"
   },
   "toc_section_display": true,
   "toc_window_display": true
  }
 },
 "nbformat": 4,
 "nbformat_minor": 5
}
