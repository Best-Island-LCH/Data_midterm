{
 "cells": [
  {
   "cell_type": "markdown",
   "metadata": {
    "id": "Y3_UOEw2d__v"
   },
   "source": [
    "# 1. 데이터분석 및 시각화 개요"
   ]
  },
  {
   "cell_type": "markdown",
   "metadata": {
    "id": "MqgGAEE8Wvr8"
   },
   "source": [
    "\n",
    "## 1.1. 판다스 라이브러리란?\n",
    "\n",
    "\n",
    "1.   데이터 분석을 위한 Python의 라이브러리\n",
    "2.   특히 시계열 데이터를 다루는 것과 연산이 뛰어나다\n",
    "3. **데이터프레임**과 **시리즈**라는 자료형을 이용해 표데이터를 다룰 수 있게 해준다\n",
    "\n",
    "> 판다스 = Python의 엑셀\n",
    "\n"
   ]
  },
  {
   "cell_type": "markdown",
   "metadata": {
    "id": "dxM2hCOcW3rc"
   },
   "source": [
    "## 1.2. 데이터프레임과 시리즈"
   ]
  },
  {
   "cell_type": "markdown",
   "metadata": {
    "id": "G60mMrDxQjrS"
   },
   "source": [
    "### 1.2.1. 데이터프레임과 시리즈란 무엇인가?\n",
    "<img src=https://i.ibb.co/b1kHDjH/ppt01.jpg, width=600>\n",
    "\n",
    "> **데이터프레임**과 **시리즈**는 판다스에서 \n",
    "다루는 핵심 자료형이다.\n",
    "\n",
    "*   2차원 표 데이터가 데이터프레임이고 1차원 표 데이터가 시리즈이다\n",
    "\n",
    "* 표의 데이터부분을 values 라고 한다\n",
    "\n",
    "* 표에서의 행이름을 index라고 한다\n",
    "\n",
    "* 표에서의 열이름을 columns라고 한다\n",
    "\n",
    "*   데이터프레임은 values, index, columns로 이루어져 있고, 시리즈는 values와 index로 이루어져 있다.\n",
    "\n",
    "* 데이터프레임과 시리즈의 values는 넘파이의 array 기반이다. \n",
    "\n",
    "* index와 columns는 Index 자료형인데 array와 많은 부분에서 비슷하다.\n",
    "\n",
    "\n"
   ]
  },
  {
   "cell_type": "markdown",
   "metadata": {
    "id": "BOa8VGG5Srdw"
   },
   "source": [
    "### 1.2.2. 데이터프레임과 시리즈의 특징\n",
    "\n",
    "* 표 전체에 함수를 적용해 개별요소를 바꾼다.\n",
    "\n",
    "<img src=https://i.ibb.co/J5RZy9K/ppt02.jpg, width=600>\n",
    "\n",
    "데이터 프레임 전체에 연산을 적용하는 것으로 개별 요소별로 80보다 큰지 여부를 True 또는 False로 반환한다\n",
    "\n",
    "<br>\n",
    "\n",
    "* 함수를 적용할 때는 전체가 아닌 부분이 필요하다면 키(key)값인 index와 columns를 이용한다\n",
    "\n",
    "<img src=https://i.ibb.co/dbFkKPy/ppt03.jpg, width=600>\n",
    "\n"
   ]
  },
  {
   "cell_type": "markdown",
   "metadata": {},
   "source": [
    "## 1.3. 실습\n",
    "\n",
    "### 학습 목표\n",
    "- 데이터프레임을 생성한다. (`pd.DataFrame` 함수)\n",
    "- 시리즈를 생성한다. (`pd.Series` 함수)\n",
    "- 각종 속성(attribute)으로 데이터프레임을 확인한다. (`values`, `index`, `columns` 속성)"
   ]
  },
  {
   "cell_type": "markdown",
   "metadata": {
    "id": "43gr8pAqUs3T"
   },
   "source": [
    "### 1.3.1 데이터프레임 생성하기"
   ]
  },
  {
   "cell_type": "code",
   "execution_count": 3,
   "metadata": {
    "colab": {
     "base_uri": "https://localhost:8080/",
     "height": 238
    },
    "executionInfo": {
     "elapsed": 126,
     "status": "ok",
     "timestamp": 1669209971635,
     "user": {
      "displayName": "Panda Kim",
      "userId": "12926754989350056957"
     },
     "user_tz": -540
    },
    "id": "G045xo-BbzzI",
    "outputId": "84a5d1cd-6b7b-4a8b-8657-3ae4a916f6da"
   },
   "outputs": [
    {
     "ename": "ModuleNotFoundError",
     "evalue": "No module named 'pandas'",
     "output_type": "error",
     "traceback": [
      "\u001b[31m---------------------------------------------------------------------------\u001b[39m",
      "\u001b[31mModuleNotFoundError\u001b[39m                       Traceback (most recent call last)",
      "\u001b[36mCell\u001b[39m\u001b[36m \u001b[39m\u001b[32mIn[3]\u001b[39m\u001b[32m, line 1\u001b[39m\n\u001b[32m----> \u001b[39m\u001b[32m1\u001b[39m \u001b[38;5;28;01mimport\u001b[39;00m\u001b[38;5;250m \u001b[39m\u001b[34;01mpandas\u001b[39;00m\u001b[38;5;250m \u001b[39m\u001b[38;5;28;01mas\u001b[39;00m\u001b[38;5;250m \u001b[39m\u001b[34;01mpd\u001b[39;00m\n\u001b[32m      2\u001b[39m data1 = [[\u001b[32m67\u001b[39m, \u001b[32m93\u001b[39m, \u001b[32m91\u001b[39m, \u001b[32m88\u001b[39m],\n\u001b[32m      3\u001b[39m          [\u001b[32m75\u001b[39m, \u001b[32m69\u001b[39m, \u001b[32m96\u001b[39m, \u001b[32m69\u001b[39m],\n\u001b[32m      4\u001b[39m          [\u001b[32m75\u001b[39m, \u001b[32m81\u001b[39m, \u001b[32m74\u001b[39m, \u001b[32m82\u001b[39m],\n\u001b[32m      5\u001b[39m          [\u001b[32m96\u001b[39m, \u001b[32m65\u001b[39m, \u001b[32m84\u001b[39m, \u001b[32m66\u001b[39m],\n\u001b[32m      6\u001b[39m          [\u001b[32m79\u001b[39m, \u001b[32m70\u001b[39m, \u001b[32m76\u001b[39m, \u001b[32m75\u001b[39m],\n\u001b[32m      7\u001b[39m          [\u001b[32m62\u001b[39m, \u001b[32m99\u001b[39m, \u001b[32m87\u001b[39m, \u001b[32m76\u001b[39m]]\n\u001b[32m      8\u001b[39m idx1 = [\u001b[33m'\u001b[39m\u001b[33m송중기\u001b[39m\u001b[33m'\u001b[39m, \u001b[33m'\u001b[39m\u001b[33m김나현\u001b[39m\u001b[33m'\u001b[39m, \u001b[33m'\u001b[39m\u001b[33m권보아\u001b[39m\u001b[33m'\u001b[39m, \u001b[33m'\u001b[39m\u001b[33m박효신\u001b[39m\u001b[33m'\u001b[39m, \u001b[33m'\u001b[39m\u001b[33m김범수\u001b[39m\u001b[33m'\u001b[39m, \u001b[33m'\u001b[39m\u001b[33m이효리\u001b[39m\u001b[33m'\u001b[39m]\n",
      "\u001b[31mModuleNotFoundError\u001b[39m: No module named 'pandas'"
     ]
    }
   ],
   "source": [
    "import pandas as pd\n",
    "data1 = [[67, 93, 91, 88],\n",
    "         [75, 69, 96, 69],\n",
    "         [75, 81, 74, 82],\n",
    "         [96, 65, 84, 66],\n",
    "         [79, 70, 76, 75],\n",
    "         [62, 99, 87, 76]]\n",
    "idx1 = ['송중기', '김나현', '권보아', '박효신', '김범수', '이효리']\n",
    "col1 = ['국어', '영어', '수학', '과학']\n",
    "df1 = pd.DataFrame(data1, index=idx1, columns=col1)\n",
    "df1"
   ]
  },
  {
   "cell_type": "markdown",
   "metadata": {
    "id": "7bYhkmlwU8PE"
   },
   "source": [
    "### 1.3.2 각종 속성(attribute)으로 데이터프레임 확인하기\n",
    "\n",
    "* 속성은 함수와 비슷하게 약속된 데이터를 반환하지만 인자와 인수를 입력받지 않는다.\n",
    "\n",
    "* 인자와 인수를 입력받지 않기 때문에 \n",
    "소괄호를 쓰지 않는다\n",
    "\n",
    "* 대표적인 속성(attribute)은 values, columns, index 이다\n",
    "\n",
    "* 데이터프레임 뿐만 아니라 시리즈도 values, index 속성으로 확인이 가능하다. (시리즈의 경우 columns는 불가능)"
   ]
  },
  {
   "cell_type": "code",
   "execution_count": null,
   "metadata": {
    "colab": {
     "base_uri": "https://localhost:8080/"
    },
    "executionInfo": {
     "elapsed": 117,
     "status": "ok",
     "timestamp": 1669209971638,
     "user": {
      "displayName": "Panda Kim",
      "userId": "12926754989350056957"
     },
     "user_tz": -540
    },
    "id": "wmsrPx3hV7gn",
    "outputId": "a8024285-63e7-47f7-b1da-3bbf55bbf9d6"
   },
   "outputs": [],
   "source": [
    "df1.values"
   ]
  },
  {
   "cell_type": "code",
   "execution_count": null,
   "metadata": {
    "colab": {
     "base_uri": "https://localhost:8080/"
    },
    "executionInfo": {
     "elapsed": 111,
     "status": "ok",
     "timestamp": 1669209971640,
     "user": {
      "displayName": "Panda Kim",
      "userId": "12926754989350056957"
     },
     "user_tz": -540
    },
    "id": "ncHpISMiWCrR",
    "outputId": "21b3031c-8028-4450-8783-8e4f5d280912"
   },
   "outputs": [],
   "source": [
    "# df1.index 의 자료형은 Index\n",
    "# df1.index 안의 각 셀의 자료형은 object\n",
    "df1.index"
   ]
  },
  {
   "cell_type": "code",
   "execution_count": null,
   "metadata": {
    "colab": {
     "base_uri": "https://localhost:8080/"
    },
    "executionInfo": {
     "elapsed": 99,
     "status": "ok",
     "timestamp": 1669209971643,
     "user": {
      "displayName": "Panda Kim",
      "userId": "12926754989350056957"
     },
     "user_tz": -540
    },
    "id": "oXVSb01BWFm1",
    "outputId": "eea46868-0433-4a38-f7c3-12df8d41ad35"
   },
   "outputs": [],
   "source": [
    "# df1.columns 의 자료형은 Index\n",
    "# df1.columns 안의 각 셀의 자료형은 object\n",
    "df1.columns"
   ]
  },
  {
   "cell_type": "markdown",
   "metadata": {
    "id": "0AsLKPdbUzCU"
   },
   "source": [
    "### 1.3.3. 시리즈 생성하기"
   ]
  },
  {
   "cell_type": "code",
   "execution_count": null,
   "metadata": {
    "colab": {
     "base_uri": "https://localhost:8080/"
    },
    "executionInfo": {
     "elapsed": 94,
     "status": "ok",
     "timestamp": 1669209971644,
     "user": {
      "displayName": "Panda Kim",
      "userId": "12926754989350056957"
     },
     "user_tz": -540
    },
    "id": "dYTla1CPgcBX",
    "outputId": "404df089-3391-4d89-f2f8-2dbd0a5c9c22"
   },
   "outputs": [],
   "source": [
    "data_k = [67, 75, 75, 96, 79, 62]\n",
    "s1 = pd.Series(data_k, index=idx1)\n",
    "s1"
   ]
  },
  {
   "cell_type": "code",
   "execution_count": null,
   "metadata": {
    "colab": {
     "base_uri": "https://localhost:8080/"
    },
    "executionInfo": {
     "elapsed": 89,
     "status": "ok",
     "timestamp": 1669209971646,
     "user": {
      "displayName": "Panda Kim",
      "userId": "12926754989350056957"
     },
     "user_tz": -540
    },
    "id": "uFSosQckh4Fh",
    "outputId": "78dcd15b-0b63-4e5e-f356-52c2b91f1c30"
   },
   "outputs": [],
   "source": [
    "# 시리즈도 벡터화 연산을 한다\n",
    "s1 > 80"
   ]
  },
  {
   "cell_type": "markdown",
   "metadata": {
    "id": "lOVXipi9iSOe"
   },
   "source": [
    "- 시리즈도 index와 values 속성을 사용해 각각의 데이터를 리턴받을 수 있다 \n",
    "\n",
    "    (columns 속성은 없다)"
   ]
  },
  {
   "cell_type": "code",
   "execution_count": null,
   "metadata": {
    "colab": {
     "base_uri": "https://localhost:8080/"
    },
    "executionInfo": {
     "elapsed": 84,
     "status": "ok",
     "timestamp": 1669209971648,
     "user": {
      "displayName": "Panda Kim",
      "userId": "12926754989350056957"
     },
     "user_tz": -540
    },
    "id": "MSsmm2ZBh9OK",
    "outputId": "cb06b5fe-2267-454a-92c5-13e1aeaf7561"
   },
   "outputs": [],
   "source": [
    "s1.index"
   ]
  },
  {
   "cell_type": "code",
   "execution_count": 1,
   "metadata": {
    "colab": {
     "base_uri": "https://localhost:8080/"
    },
    "executionInfo": {
     "elapsed": 79,
     "status": "ok",
     "timestamp": 1669209971652,
     "user": {
      "displayName": "Panda Kim",
      "userId": "12926754989350056957"
     },
     "user_tz": -540
    },
    "id": "D2CIisvUiEXx",
    "outputId": "8ac468a2-e5e1-4215-e21a-37cd2042a922"
   },
   "outputs": [
    {
     "ename": "NameError",
     "evalue": "name 's1' is not defined",
     "output_type": "error",
     "traceback": [
      "\u001b[31m---------------------------------------------------------------------------\u001b[39m",
      "\u001b[31mNameError\u001b[39m                                 Traceback (most recent call last)",
      "\u001b[36mCell\u001b[39m\u001b[36m \u001b[39m\u001b[32mIn[1]\u001b[39m\u001b[32m, line 1\u001b[39m\n\u001b[32m----> \u001b[39m\u001b[32m1\u001b[39m \u001b[43ms1\u001b[49m.values\n",
      "\u001b[31mNameError\u001b[39m: name 's1' is not defined"
     ]
    }
   ],
   "source": [
    "s1.values"
   ]
  },
  {
   "cell_type": "code",
   "execution_count": null,
   "metadata": {},
   "outputs": [],
   "source": [
    "# 연습문제\n",
    "# 데이터프레임 스스로 아무렇게나 설계해서 생성해보기\n",
    "# -> 출력해서 확인\n",
    "\n"
   ]
  },
  {
   "cell_type": "markdown",
   "metadata": {
    "id": "FyAvAdDgXA0j"
   },
   "source": [
    "## 1.4 연습문제"
   ]
  },
  {
   "cell_type": "markdown",
   "metadata": {
    "id": "PAO5BtGKXH9U"
   },
   "source": [
    "### 1.4.1 데이터프레임 만들기 연습문제(1)\n",
    "\n",
    "- 아래와 같은 데이터프레임을 만들어라\n",
    "\n",
    "<img src=https://i.ibb.co/kBGCS3z/02.png, width=200>"
   ]
  },
  {
   "cell_type": "code",
   "execution_count": null,
   "metadata": {
    "colab": {
     "base_uri": "https://localhost:8080/",
     "height": 175
    },
    "executionInfo": {
     "elapsed": 83,
     "status": "ok",
     "timestamp": 1669209971656,
     "user": {
      "displayName": "Panda Kim",
      "userId": "12926754989350056957"
     },
     "user_tz": -540
    },
    "id": "FoRZzwGLgtjH",
    "outputId": "1c65502f-8541-417a-a21f-5d97efbab986"
   },
   "outputs": [],
   "source": [
    "data2 = [[67, 93, 91],[75, 69, 96],\n",
    "         [75, 81, 74],[96, 65, 84]]\n",
    "col2 = ['국어', '영어', '수학']\n",
    "df2 = pd.DataFrame(data2, index=list('ABCD'), columns=col2)\n",
    "df2"
   ]
  },
  {
   "cell_type": "markdown",
   "metadata": {
    "id": "Grv1RiymXP-h"
   },
   "source": [
    "### 1.4.2 데이터프레임 만들기 연습문제(2)\n",
    "\n",
    "- 아래와 같은 데이터프레임을 만들어라\n",
    "\n",
    "<img src=https://i.ibb.co/q9DfSz5/03.png, width=200>\n"
   ]
  },
  {
   "cell_type": "code",
   "execution_count": null,
   "metadata": {
    "colab": {
     "base_uri": "https://localhost:8080/",
     "height": 175
    },
    "executionInfo": {
     "elapsed": 79,
     "status": "ok",
     "timestamp": 1669209971663,
     "user": {
      "displayName": "Panda Kim",
      "userId": "12926754989350056957"
     },
     "user_tz": -540
    },
    "id": "PSP3OlQnXVbH",
    "outputId": "aac3a141-edef-4508-9f87-cc147b1d5ca0"
   },
   "outputs": [],
   "source": [
    "data3 = [[ 0,  1,  2], [ 3,  4,  5], [ 6,  7,  8], [ 9, 10, 11]]\n",
    "pd.DataFrame(data3, columns=['col1', 'col2', 'col3'])"
   ]
  },
  {
   "cell_type": "markdown",
   "metadata": {
    "id": "HkGMkrOrXXoW"
   },
   "source": [
    "### 1.4.3 데이터프레임 만들기 연습문제(3)\n",
    "- 아래와 같은 데이터프레임을 만들어라\n",
    "\n",
    "<img src=https://i.ibb.co/41pYxsy/04.png, width=300>\n"
   ]
  },
  {
   "cell_type": "code",
   "execution_count": null,
   "metadata": {
    "colab": {
     "base_uri": "https://localhost:8080/",
     "height": 112
    },
    "executionInfo": {
     "elapsed": 80,
     "status": "ok",
     "timestamp": 1669209971670,
     "user": {
      "displayName": "Panda Kim",
      "userId": "12926754989350056957"
     },
     "user_tz": -540
    },
    "id": "6NUff3lcXaDz",
    "outputId": "8a047956-7fcc-4952-db9e-419c2294916d"
   },
   "outputs": [],
   "source": [
    "data4 = [['A', 'B', 'C'], ['A', 'A', 'B']]\n",
    "pd.DataFrame(data4, index=['송중기', '김나현'], \n",
    "             columns=['국어학점', '영어학점', '수학학점'])"
   ]
  },
  {
   "cell_type": "markdown",
   "metadata": {
    "id": "nHjiWNJ1iLcL"
   },
   "source": [
    "## 1.5 마무리\n",
    "\n",
    "* 다음 질문에 답해보자.\n",
    "\n",
    "   1. 판다스는 무엇인가\n",
    "   2. 데이터프레임이란?\n",
    "   3. 시리즈란?\n",
    "   4. 데이터프레임과 시리즈를 만들수 있는가?\n",
    "   5. 데이터프레임과 시리즈의 각 요소를 확인할수 있는가?\n",
    "\n"
   ]
  },
  {
   "cell_type": "markdown",
   "metadata": {
    "id": "OtMwdbzs5ybv"
   },
   "source": [
    "### 1.6. 참고문헌\n",
    "\n",
    "\n",
    "   1.   판다스 공식문서 `pd.DataFrame` \n",
    "\n",
    "   [https://pandas.pydata.org/docs/reference/api/pandas.DataFrame.html](https://pandas.pydata.org/docs/reference/api/pandas.DataFrame.html)\n",
    "\n",
    "   2.   판다스 공식문서 `pd.Series`\n",
    "\n",
    "   [https://pandas.pydata.org/docs/reference/api/pandas.Series.html](https://pandas.pydata.org/docs/reference/api/pandas.Series.html)\n",
    "   \n",
    "\n",
    "   "
   ]
  }
 ],
 "metadata": {
  "colab": {
   "authorship_tag": "ABX9TyPilmsOrbYZwKc6dXsPnXDI",
   "provenance": []
  },
  "kernelspec": {
   "display_name": "Python 3",
   "name": "python3"
  },
  "language_info": {
   "codemirror_mode": {
    "name": "ipython",
    "version": 3
   },
   "file_extension": ".py",
   "mimetype": "text/x-python",
   "name": "python",
   "nbconvert_exporter": "python",
   "pygments_lexer": "ipython3",
   "version": "3.13.2"
  }
 },
 "nbformat": 4,
 "nbformat_minor": 0
}
