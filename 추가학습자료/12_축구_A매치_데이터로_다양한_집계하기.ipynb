{
  "cells": [
    {
      "cell_type": "markdown",
      "metadata": {
        "id": "exFgNKeqYNpw"
      },
      "source": [
        "# Ch12. 축구 A매치 데이터로 다양한 집계하기"
      ]
    },
    {
      "cell_type": "markdown",
      "metadata": {
        "id": "jzTXK2kdF582"
      },
      "source": [
        "1993 ~ 2022 축구 A매치 데이터를 사용한다."
      ]
    },
    {
      "cell_type": "markdown",
      "metadata": {
        "id": "9NJGoFCJYJAw"
      },
      "source": [
        "## 1. 전 세계 데이터를 value_counts로 간단히 집계하기"
      ]
    },
    {
      "cell_type": "code",
      "execution_count": null,
      "metadata": {
        "id": "KR92lDay9KX6"
      },
      "outputs": [],
      "source": [
        "# 프로젝트 코드\n",
        "import pandas as pd\n",
        "pd.options.display.max_rows = 6\n",
        "pd.options.display.float_format = '{:.2f}'.format\n",
        "url = './12_01_soccer_match.csv'"
      ]
    },
    {
      "cell_type": "code",
      "execution_count": null,
      "metadata": {
        "colab": {
          "base_uri": "https://localhost:8080/",
          "height": 342
        },
        "id": "hVY4bqysRwb5",
        "outputId": "5ccb1f8e-5934-45aa-d5f3-777427b3c222"
      },
      "outputs": [],
      "source": [
        "# date 열을 datetime으로 적용해 데이터 프레임부르기\n",
        "df = pd.read_csv(url, parse_dates=['date'])\n",
        "df"
      ]
    },
    {
      "cell_type": "markdown",
      "metadata": {
        "id": "qdv-ANQ61YrH"
      },
      "source": [
        "df의 열\n",
        "- date : 경기 날짜\n",
        "- nation : 경기를 치른 국가\n",
        "- continent : nation 열의 국가의 소속대륙\n",
        "- H/A : nation 열의 국가가 Home인지 Away인지 여부\n",
        "- oppenent : 상대팀 \n",
        "- o_continent : 상대팀의 소속대륙\n",
        "- score : nation 열의 국가의 득점\n",
        "- o_score : 상대팀의 득점\n",
        "- tournament : 경기 구분(Friendly : 친선, WC : 월드컵, Others: 그외)\n",
        "- result : 경기 결과"
      ]
    },
    {
      "cell_type": "code",
      "execution_count": null,
      "metadata": {
        "colab": {
          "base_uri": "https://localhost:8080/"
        },
        "id": "fBYT27niPzMn",
        "outputId": "ed4a9b6b-1d99-43ea-fb52-09d5c5fce189"
      },
      "outputs": [],
      "source": [
        "df.info()"
      ]
    },
    {
      "cell_type": "markdown",
      "metadata": {
        "id": "QKLSig3_fDqF"
      },
      "source": [
        "국가별 A매치 경기수와 총 득점 집계하기"
      ]
    },
    {
      "cell_type": "code",
      "execution_count": null,
      "metadata": {
        "colab": {
          "base_uri": "https://localhost:8080/"
        },
        "id": "xKV7H3yGJWf0",
        "outputId": "e020f5f8-672d-492d-dd40-189f18e19698"
      },
      "outputs": [],
      "source": [
        "# 경기수가 많은 나라 top5\n",
        "df['nation'].value_counts()[:5]"
      ]
    },
    {
      "cell_type": "code",
      "execution_count": null,
      "metadata": {
        "colab": {
          "base_uri": "https://localhost:8080/",
          "height": 337
        },
        "id": "Lm8Ge5JXJkii",
        "outputId": "68eedc34-ce48-4bba-f881-65d9f2cf448d"
      },
      "outputs": [],
      "source": [
        "# 경기수가 많은 나라 top5 그래프\n",
        "df['nation'].value_counts()[:5].plot(kind='bar')"
      ]
    },
    {
      "cell_type": "code",
      "execution_count": null,
      "metadata": {
        "colab": {
          "base_uri": "https://localhost:8080/"
        },
        "id": "Yxv5JK8sQH5U",
        "outputId": "d1bd82e6-ac51-443a-d44d-dc088a44a18d"
      },
      "outputs": [],
      "source": [
        "# 승리 많은 나라 top5\n",
        "cond1 = df['result'] == 'Win'\n",
        "df.loc[cond1, 'nation'].value_counts()[:5]"
      ]
    },
    {
      "cell_type": "code",
      "execution_count": null,
      "metadata": {
        "colab": {
          "base_uri": "https://localhost:8080/",
          "height": 319
        },
        "id": "xCUt9i4YQWos",
        "outputId": "a90b7640-1257-4514-9842-8f5c1506397c"
      },
      "outputs": [],
      "source": [
        "# 승리 많은 나라 top5 그래프\n",
        "df.loc[cond1, 'nation'].value_counts()[:5].plot(kind='bar')"
      ]
    },
    {
      "cell_type": "markdown",
      "metadata": {
        "id": "3_hOwYM1d7W6"
      },
      "source": [
        "## 2. 전 세계 데이터를 groupby로 다양한 집계하기"
      ]
    },
    {
      "cell_type": "code",
      "execution_count": null,
      "metadata": {
        "colab": {
          "base_uri": "https://localhost:8080/",
          "height": 342
        },
        "id": "YXosElSOeBlv",
        "outputId": "94568bac-8e9f-4bdb-a9a6-121d2a565c0c"
      },
      "outputs": [],
      "source": [
        "# 프로젝트 코드\n",
        "import pandas as pd\n",
        "pd.options.display.max_rows = 6\n",
        "pd.options.display.float_format = '{:.2f}'.format\n",
        "url = './12_01_soccer_match.csv'\n",
        "\n",
        "# date 열을 datetime으로 적용해 데이터 프레임부르기\n",
        "df = pd.read_csv(url, parse_dates=['date'])\n",
        "df"
      ]
    },
    {
      "cell_type": "markdown",
      "metadata": {
        "id": "lFrZ5jd5e90M"
      },
      "source": [
        "국가별 누적 득점 집계하기"
      ]
    },
    {
      "cell_type": "code",
      "execution_count": null,
      "metadata": {
        "colab": {
          "base_uri": "https://localhost:8080/"
        },
        "id": "zfLo9pqMHaLv",
        "outputId": "981ba384-7502-412c-eff7-9b39152780bf"
      },
      "outputs": [],
      "source": [
        "# 누적 득점 많은 나라 top5\n",
        "df.groupby('nation')['score'].sum().sort_values(ascending=False)[:5]"
      ]
    },
    {
      "cell_type": "code",
      "execution_count": null,
      "metadata": {
        "colab": {
          "base_uri": "https://localhost:8080/",
          "height": 337
        },
        "id": "2Sx25FPuJ4f-",
        "outputId": "8407aab5-866e-43d2-e394-6a3ff34892aa"
      },
      "outputs": [],
      "source": [
        "# 누적 득점 많은 나라 top5 그래프\n",
        "df.groupby('nation')['score'].sum().sort_values(ascending=False)[:5].plot(kind='bar')"
      ]
    },
    {
      "cell_type": "markdown",
      "metadata": {
        "id": "5VoI9pxvk-Ch"
      },
      "source": [
        "이제껏 배운 것을 복습할겸 정렬을 하고 슬라이싱을 했지만 그것이 번거롭다면 간편한 함수 `nlargest`를 쓸 수 있다\n",
        "\n",
        "작은 순서대로 뽑을 때는 `nsmallest`를 쓸 수 있다\n",
        "\n",
        "- pandas 공식문서 nlargest : https://pandas.pydata.org/docs/reference/api/pandas.DataFrame.nlargest.html\n",
        "- pandas 공식문서 nsmallest : https://pandas.pydata.org/docs/reference/api/pandas.DataFrame.nsmallest.html"
      ]
    },
    {
      "cell_type": "code",
      "execution_count": null,
      "metadata": {
        "colab": {
          "base_uri": "https://localhost:8080/"
        },
        "id": "2LF5Tv2LkFmJ",
        "outputId": "8fa7e973-55ba-44cb-adf1-2536d67d338e"
      },
      "outputs": [],
      "source": [
        "# 간편한 함수 nlargest를 쓸 수도 있다\n",
        "df.groupby('nation')['score'].sum().nlargest(5)"
      ]
    },
    {
      "cell_type": "markdown",
      "metadata": {
        "id": "_IZAOqwRl_KS"
      },
      "source": [
        "국가별 평균 득점 집계하기"
      ]
    },
    {
      "cell_type": "code",
      "execution_count": null,
      "metadata": {
        "colab": {
          "base_uri": "https://localhost:8080/"
        },
        "id": "Ova6Xs42IgFb",
        "outputId": "0c6f563f-0925-4116-b4b8-fddb2868b1d4"
      },
      "outputs": [],
      "source": [
        "# 평균 득점이 높은 나라 top 5\n",
        "df.groupby('nation')['score'].mean().sort_values(ascending=False)[:5]"
      ]
    },
    {
      "cell_type": "markdown",
      "metadata": {
        "id": "3OUXUpLQmCS_"
      },
      "source": [
        "New Caledonia 와 같이 경기수가 적은 나라가 평균 득점 상위에 오르는 것을 방지하기 위해 \n",
        "\n",
        "A매치 100경기 이상의 국가들만 평균 득점을 집계하겠다"
      ]
    },
    {
      "cell_type": "code",
      "execution_count": null,
      "metadata": {
        "colab": {
          "base_uri": "https://localhost:8080/",
          "height": 342
        },
        "id": "PTutzEf19ML6",
        "outputId": "759b2f85-6e1f-430a-d721-cf97eb64d615"
      },
      "outputs": [],
      "source": [
        "# 총 게임수가 100경기 이상의 국가들만의 데이터\n",
        "cond2 = df.groupby('nation')['score'].transform('count') >= 100\n",
        "df[cond2]"
      ]
    },
    {
      "cell_type": "code",
      "execution_count": null,
      "metadata": {
        "colab": {
          "base_uri": "https://localhost:8080/"
        },
        "id": "i6VoBd3KIoE7",
        "outputId": "946df3c3-805c-4a95-d0af-aef183e8cd9a"
      },
      "outputs": [],
      "source": [
        "# 100경기 이상 경기한 나라 중 평균 득점이 높은 5개국\n",
        "df[cond2].groupby('nation')['score'].mean().sort_values(ascending=False)[:5]"
      ]
    },
    {
      "cell_type": "code",
      "execution_count": null,
      "metadata": {
        "colab": {
          "base_uri": "https://localhost:8080/",
          "height": 348
        },
        "id": "B3bNdnDPKYp4",
        "outputId": "6bd49139-8fab-4fe7-872d-7fa27724b2b9"
      },
      "outputs": [],
      "source": [
        "# 100경기 이상 경기한 나라 중 평균 득점이 높은 나라 그래프\n",
        "df[cond2].groupby('nation')['score'].mean().sort_values(ascending=False)[:5].plot(kind='bar')"
      ]
    },
    {
      "cell_type": "markdown",
      "metadata": {
        "id": "l2jX0EQIP_Rh"
      },
      "source": [
        "월드컵 다득점 국가 집계하기"
      ]
    },
    {
      "cell_type": "code",
      "execution_count": null,
      "metadata": {
        "colab": {
          "base_uri": "https://localhost:8080/",
          "height": 342
        },
        "id": "RSU0_4J0epiz",
        "outputId": "e6eba65a-85b6-48fd-e2e5-90861c0ce893"
      },
      "outputs": [],
      "source": [
        "# 전체 데이터에서 월드컵 관련 데이터만 필터링\n",
        "cond3 = df['tournament'] == 'WC'\n",
        "df[cond3]"
      ]
    },
    {
      "cell_type": "code",
      "execution_count": null,
      "metadata": {
        "colab": {
          "base_uri": "https://localhost:8080/"
        },
        "id": "lk2cZayoP_s9",
        "outputId": "822677e4-d113-47f5-db6c-4d0cb154db4b"
      },
      "outputs": [],
      "source": [
        "# 월드컵 다득점 상위 5개국\n",
        "df[cond3].groupby('nation')['score'].sum().sort_values(ascending=False)[:5]"
      ]
    },
    {
      "cell_type": "code",
      "execution_count": null,
      "metadata": {
        "colab": {
          "base_uri": "https://localhost:8080/",
          "height": 348
        },
        "id": "zLQM1p4SeiCR",
        "outputId": "16dce32f-8393-4789-9312-80c4bc87af32"
      },
      "outputs": [],
      "source": [
        "# 월드컵 다득점 상위 5개국 그래프\n",
        "df[cond3].groupby('nation')['score'].sum().sort_values(ascending=False)[:5].plot(kind='bar')"
      ]
    },
    {
      "cell_type": "markdown",
      "metadata": {
        "id": "e_PLGU7Efk7f"
      },
      "source": [
        "## 3. 한국축구 데이터를 groupby와 resample로 집계하기"
      ]
    },
    {
      "cell_type": "code",
      "execution_count": null,
      "metadata": {
        "colab": {
          "base_uri": "https://localhost:8080/",
          "height": 342
        },
        "id": "C48B2kQYuoLC",
        "outputId": "f3b1cd11-e4e2-4fc6-a117-d7c0c7a17518"
      },
      "outputs": [],
      "source": [
        "# 프로젝트 코드\n",
        "import pandas as pd\n",
        "pd.options.display.max_rows = 6\n",
        "pd.options.display.float_format = '{:.2f}'.format\n",
        "url = './12_01_soccer_match.csv'\n",
        "\n",
        "# date 열을 datetime으로 적용해 데이터 프레임부르기\n",
        "df = pd.read_csv(url, parse_dates=['date'])\n",
        "df"
      ]
    },
    {
      "cell_type": "code",
      "execution_count": null,
      "metadata": {
        "colab": {
          "base_uri": "https://localhost:8080/",
          "height": 330
        },
        "id": "MPdel5yVMHFK",
        "outputId": "ed83b706-2351-4ea9-a5e8-fa056c265045"
      },
      "outputs": [],
      "source": [
        "# 한국의 데이터만 필터링하고 DatetimeIndex로 만들기\n",
        "cond4 = df['nation'] == 'Korea'\n",
        "df_kr = df[cond4].set_index('date')\n",
        "df_kr"
      ]
    },
    {
      "cell_type": "code",
      "execution_count": null,
      "metadata": {
        "colab": {
          "base_uri": "https://localhost:8080/",
          "height": 330
        },
        "id": "A56XK1bvNv2Q",
        "outputId": "c24f2be4-8161-4258-ac11-b1f6911634c1"
      },
      "outputs": [],
      "source": [
        "# 한국 데이터 중 2002년도의 데이터만 필터링\n",
        "df_kr.loc['2002']"
      ]
    },
    {
      "cell_type": "code",
      "execution_count": null,
      "metadata": {
        "colab": {
          "base_uri": "https://localhost:8080/"
        },
        "id": "lT95sIUkPc4n",
        "outputId": "2fac59ad-e86c-4cce-f8e8-fd24aedbda31"
      },
      "outputs": [],
      "source": [
        "# 승률을 구하기 위한 lambda 함수 만들기 위해 시리즈 생성\n",
        "x = pd.Series(['Win', 'Lose', 'Win', 'Draw'])\n",
        "x"
      ]
    },
    {
      "cell_type": "code",
      "execution_count": null,
      "metadata": {
        "colab": {
          "base_uri": "https://localhost:8080/"
        },
        "id": "4wYDRintPow3",
        "outputId": "57c2cbe4-6d57-4b71-f29e-4cd955d91e8d"
      },
      "outputs": [],
      "source": [
        "# x의 승률은 다음과 같다\n",
        "(x == 'Win').mean()"
      ]
    },
    {
      "cell_type": "code",
      "execution_count": null,
      "metadata": {
        "colab": {
          "base_uri": "https://localhost:8080/"
        },
        "id": "9YpMrckfvEOU",
        "outputId": "82ff35fa-30f4-4986-ddf1-95ddd575c804"
      },
      "outputs": [],
      "source": [
        "# 비교연산 == 대신 연산함수 eq를 쓰면 좀 더 코드가 깔끔하다 (실습은 ==로 진행)\n",
        "x.eq('Win').mean()"
      ]
    },
    {
      "cell_type": "code",
      "execution_count": null,
      "metadata": {
        "colab": {
          "base_uri": "https://localhost:8080/"
        },
        "id": "7NS1YCBsPzXY",
        "outputId": "57764c09-d150-44e6-ae05-a992dda4eb15"
      },
      "outputs": [],
      "source": [
        "# 상대 대륙별 한국팀의 승률\n",
        "df_kr.groupby('o_continent')['result'].agg(lambda x: (x == 'Win').mean())"
      ]
    },
    {
      "cell_type": "code",
      "execution_count": null,
      "metadata": {
        "colab": {
          "base_uri": "https://localhost:8080/"
        },
        "id": "yqzHHf4mQEqw",
        "outputId": "3e21dd94-0c4d-453f-db84-31a62d7dd5c6"
      },
      "outputs": [],
      "source": [
        "# 승률을 구하는 lambda 함수는 자주 쓰게 될것 같으니 함수 wp로 선언하자\n",
        "wp = lambda x: (x == 'Win').mean()\n",
        "df_kr.groupby('o_continent')['result'].agg(wp)"
      ]
    },
    {
      "cell_type": "code",
      "execution_count": null,
      "metadata": {
        "colab": {
          "base_uri": "https://localhost:8080/",
          "height": 269
        },
        "id": "nAz-FX3KMQHq",
        "outputId": "e20b14fe-a63a-4606-f3a1-7afded76699c"
      },
      "outputs": [],
      "source": [
        "# 한국의 상대 대륙별 승률과 평균 득점을 동시에\n",
        "wp = lambda x: (x == 'Win').mean()\n",
        "(df_kr\n",
        " .groupby('o_continent').agg({'result': wp, 'score': 'mean'})\n",
        " .set_axis(['wp', 'goal per game'], axis=1))"
      ]
    },
    {
      "cell_type": "code",
      "execution_count": null,
      "metadata": {
        "colab": {
          "base_uri": "https://localhost:8080/"
        },
        "id": "m7sEIRgSNbMf",
        "outputId": "60042f27-7c7b-4ef9-8c3c-43436b423c1a"
      },
      "outputs": [],
      "source": [
        "# 연도별 한국의 승률\n",
        "df_kr.resample('Y')['result'].agg(wp)"
      ]
    },
    {
      "cell_type": "code",
      "execution_count": null,
      "metadata": {
        "colab": {
          "base_uri": "https://localhost:8080/",
          "height": 297
        },
        "id": "Vz1gG8HbOfNU",
        "outputId": "2810d942-c51c-4c0c-c521-92a21fdc448b"
      },
      "outputs": [],
      "source": [
        "# 연도별 한국의 승률 그래프\n",
        "df_kr.resample('Y')['result'].agg(wp).plot()"
      ]
    },
    {
      "cell_type": "code",
      "execution_count": null,
      "metadata": {
        "colab": {
          "base_uri": "https://localhost:8080/"
        },
        "id": "Df9iVjAQJN_A",
        "outputId": "cd2c19b0-87a1-4def-ae8d-3f136843716f"
      },
      "outputs": [],
      "source": [
        "# 2002년의 승률 확인\n",
        "df_kr.loc['2002', 'result'].value_counts(normalize=True)"
      ]
    },
    {
      "cell_type": "code",
      "execution_count": null,
      "metadata": {
        "colab": {
          "base_uri": "https://localhost:8080/"
        },
        "id": "3oPO2tSYO2Aw",
        "outputId": "ecffe338-f9b3-4ce6-f8d3-1f1163ad8792"
      },
      "outputs": [],
      "source": [
        "# 연도별 한국의 평균 득점\n",
        "df_kr.resample('Y')['score'].mean()"
      ]
    },
    {
      "cell_type": "code",
      "execution_count": null,
      "metadata": {
        "colab": {
          "base_uri": "https://localhost:8080/",
          "height": 300
        },
        "id": "ZGq-A36rPKjP",
        "outputId": "dd1a39ef-ce6c-46b9-83d1-742d438d443c"
      },
      "outputs": [],
      "source": [
        "# 연도별 한국의 평균 득점 그래프\n",
        "df_kr.resample('Y')['score'].mean().plot()"
      ]
    },
    {
      "cell_type": "code",
      "execution_count": null,
      "metadata": {},
      "outputs": [],
      "source": []
    }
  ],
  "metadata": {
    "colab": {
      "provenance": []
    },
    "kernelspec": {
      "display_name": "Python 3",
      "name": "python3"
    },
    "language_info": {
      "codemirror_mode": {
        "name": "ipython",
        "version": 3
      },
      "file_extension": ".py",
      "mimetype": "text/x-python",
      "name": "python",
      "nbconvert_exporter": "python",
      "pygments_lexer": "ipython3",
      "version": "3.8.10"
    }
  },
  "nbformat": 4,
  "nbformat_minor": 0
}
