{
  "cells": [
    {
      "cell_type": "markdown",
      "metadata": {
        "id": "SdertD1ZLVVS"
      },
      "source": [
        "# Ch11. 온라인 쇼핑몰 데이터 요약하기"
      ]
    },
    {
      "cell_type": "markdown",
      "metadata": {
        "id": "G0L5fACFKu-T"
      },
      "source": [
        "## 1. 시계열 데이터란?"
      ]
    },
    {
      "cell_type": "markdown",
      "metadata": {
        "id": "2KW2dbJXKxIY"
      },
      "source": [
        "**시계열 데이터**\n",
        "- 날짜와 시간에 관련된 데이터\n",
        "- 판다스는 시계열 데이터를 다루는 것에 장점이 있다"
      ]
    },
    {
      "cell_type": "markdown",
      "metadata": {
        "id": "Pj3ABCzELIVJ"
      },
      "source": [
        "**판다스의 세가지 시계열 데이터**\n",
        "\n",
        "<img src=https://i.ibb.co/Kyt6ncD/11-01.png, width=600>"
      ]
    },
    {
      "cell_type": "markdown",
      "metadata": {
        "id": "jOqMck6kMJu4"
      },
      "source": [
        "**시계열 데이터에서 Timestamp가 가장 중요한 이유**\n",
        "\n",
        "<img src=https://i.ibb.co/crRJnCN/11-02.png, width=600>\n"
      ]
    },
    {
      "cell_type": "markdown",
      "metadata": {
        "id": "Rk8GD4i_LoLs"
      },
      "source": [
        "**Timestamp(datetime)에서 배워야할 것**\n",
        "\n",
        "- datetime으로 변환(to_datetime)\n",
        "- 주기\n",
        "- DatetimeIndex 생성(date_tange)\n",
        "- dt 접근자\n",
        "- 그룹집계(resample)"
      ]
    },
    {
      "cell_type": "markdown",
      "metadata": {
        "id": "59nE4Gv2LZCD"
      },
      "source": [
        "## 2. 시계열 데이터로 변환하기(to_datetime)"
      ]
    },
    {
      "cell_type": "markdown",
      "metadata": {},
      "source": [
        "### 학습 목표\n",
        "- datatime 자료형인 Timestamp로 변환한다. (`to_datetime` 함수)\n",
        "- 파일에서 부르면서 datetime 자료형으로 지정한다. (`parse_dates` 인자)\n",
        "- 시계열 인덱싱과 슬라이싱을 해본다."
      ]
    },
    {
      "cell_type": "markdown",
      "metadata": {
        "id": "7UjqbyGEWG8w"
      },
      "source": [
        "> pandas to_datetime\n",
        "\n",
        "자료형을 datetime으로 바꿔주는 함수\n",
        "\n",
        "<br><br>\n",
        "\n",
        "인자(parameter)\n",
        "\n",
        "**arg** (datetime으로 변환 가능한 데이터)\n",
        "\n",
        "datetime으로 변환할 데이터\n",
        "\n",
        " \n",
        "\n",
        "**errors** (인수는 ‘ignore’, ‘raise’, ‘coerce’ / 기본값 ‘raise’)\n",
        "\n",
        "에러 처리 방식\n",
        "\n",
        "- 'raise' : 변환할 수 없는 객체를 만나면 에러를 일으킨다\n",
        " \n",
        "- 'coerce' : 변환할 수 없는 객체를 만나면 해당 부분만 NaT으로 바꾸고 변환을 수행한다.\n",
        "- 'ignore' :  변환할 수 없는 객체를 만나면 모두 변환하지 않고 그냥 input을 그대로 반환한다\n",
        "  \n",
        "\n",
        "**format** (str, 기본값 None)\n",
        "\n",
        "문자열이 어떤 날짜형을 나타내는지 형식을 지정할 수 있다\n",
        "\n",
        "예) 2023년 1월 3일이 '03/01/2023'으로 표현되어 있는 데이터라면 '%d/%m/%Y'로 표현한다\n",
        "\n",
        " \n",
        "\n",
        "**unit** (str, 기본값은 'ns')\n",
        "\n",
        "Timestamp가 숫자로 주어질 때 숫자의 기본단위. 기본값은 nano second\n",
        "\n",
        " \n",
        "\n",
        "**origin** (scalar, 기본값 'unix')\n",
        "\n",
        "Timestamp가 숫자로 주어질 때 기준 날짜. unit에서 정한 단위만큼의 숫자를 기준 날짜에서 더한다\n",
        "\n",
        "예) origin으로 1970-01-01을 기준으로 정하고 unit가 D라면 숫자1은 기준열부터 1일 지난 후인 1970-01-02를 의미한다  \n",
        "\n",
        "\n",
        "- 'unix' (or POSIX) : origin 은 1970-01-01.\n",
        "- 'julian' : BC 4713년 1월 1일 정오. unit는 'D'여야 한다\n",
        "- Timestamp 로 변환가능한 문자열을 넣어도 된다\n",
        "\n",
        "<br><br>\n",
        "\n",
        "to_datetime 판다스 공식 문서 : https://pandas.pydata.org/docs/reference/api/pandas.to_datetime.html"
      ]
    },
    {
      "cell_type": "markdown",
      "metadata": {},
      "source": [
        "**astype 함수로 바꾸면 되는데 왜 to_datetime 함수를 쓰나요?**\n",
        "\n",
        "to_numeric 함수를 썼듯이, 세부적인 조정을 위해 to_datetime 을 주로 쓴다."
      ]
    },
    {
      "cell_type": "markdown",
      "metadata": {
        "id": "mZKuvlfVXcDj"
      },
      "source": [
        "**Timestamp와 datetime은 어떤 차이가 있나요?**\n",
        "\n",
        "1640962800 → 숫자로 나타낸 Timestamp\n",
        "\n",
        "2022-01-01 00:00:00 → datetime으로 나타낸 Timestamp\n",
        "\n",
        "날짜형식 Timestamp의  자료형이 datetime이다\n",
        "\n",
        "→ 숫자를 다루기 위한 단원은 아니기에 이번 단원의 Timestamp는 datetime이다 "
      ]
    },
    {
      "cell_type": "code",
      "execution_count": null,
      "metadata": {
        "colab": {
          "base_uri": "https://localhost:8080/",
          "height": 238
        },
        "id": "tpkvRgCZrNLn",
        "outputId": "76a1d131-7a66-4139-8348-1a3c2f871217"
      },
      "outputs": [],
      "source": [
        "# 실습 준비코드\n",
        "import pandas as pd\n",
        "data = [['2023-01-01', 10], ['2023-01-02', 50], ['2023-02-02', 20], \n",
        "        ['2023-Feb-03', 30], ['2023-Feb-04', 30], ['2023/Mar/01', 30]]\n",
        "df = pd.DataFrame(data, columns=['날짜', '판매량'])\n",
        "df"
      ]
    },
    {
      "cell_type": "code",
      "execution_count": null,
      "metadata": {
        "colab": {
          "base_uri": "https://localhost:8080/"
        },
        "id": "mCJkwigVtuWU",
        "outputId": "31d4a81f-52a2-4d88-c968-f772c55b474c"
      },
      "outputs": [],
      "source": [
        "# to_datetime 함수로 timestamp로 변경하기\n",
        "pd.to_datetime(df['날짜'], format='mixed')"
      ]
    },
    {
      "cell_type": "code",
      "execution_count": null,
      "metadata": {
        "colab": {
          "base_uri": "https://localhost:8080/"
        },
        "id": "LHnmu_got20d",
        "outputId": "abe9982c-4bac-4284-abd6-0249f9c2ea22"
      },
      "outputs": [],
      "source": [
        "# astype 함수로 timestamp로 변경하기 (잘 쓰지 않는다)\n",
        "df['날짜'].astype('datetime64[ns]')"
      ]
    },
    {
      "cell_type": "code",
      "execution_count": null,
      "metadata": {
        "colab": {
          "base_uri": "https://localhost:8080/"
        },
        "id": "NDtgmVMzxqSS",
        "outputId": "0c47ffd8-dc79-4bcf-9b77-b904cb746f74"
      },
      "outputs": [],
      "source": [
        "# to_datetime 함수의 장점 (바꿀 수 없는 데이터는 NaT로 바꾼다)\n",
        "s = pd.Series(['2022-01/03', '이상윤'])\n",
        "pd.to_datetime(s, errors='coerce')"
      ]
    },
    {
      "cell_type": "markdown",
      "metadata": {
        "id": "DWKMqOpaloN7"
      },
      "source": [
        "**시계열 데이터의 인덱싱과 슬라이싱(DatetimeIndex로 만들어야 한다)**"
      ]
    },
    {
      "cell_type": "code",
      "execution_count": null,
      "metadata": {
        "id": "PmSxSjqKtwVp"
      },
      "outputs": [],
      "source": [
        "# df를 복제한 df1으로 날짜열을 datetime으로 바꾸자\n",
        "df1 = df.copy()\n",
        "df1['날짜'] = pd.to_datetime(df1['날짜'], format='mixed')\n",
        "df1"
      ]
    },
    {
      "cell_type": "code",
      "execution_count": null,
      "metadata": {
        "colab": {
          "base_uri": "https://localhost:8080/",
          "height": 269
        },
        "id": "Pgjp5vaJr-KU",
        "outputId": "c7242699-6ce1-4084-81ac-c60705d43fc2"
      },
      "outputs": [],
      "source": [
        "# 자료형을 바꾼 날짜열을 index로 지정\n",
        "df1 = df1.set_index('날짜')\n",
        "df1"
      ]
    },
    {
      "cell_type": "code",
      "execution_count": null,
      "metadata": {
        "colab": {
          "base_uri": "https://localhost:8080/",
          "height": 143
        },
        "id": "yoKBc137u57M",
        "outputId": "c260521e-1d85-4f56-f49e-a5b68dcbc1a1"
      },
      "outputs": [],
      "source": [
        "# 2023-02의 자료만 가져오기\n",
        "df1.loc['2023-02'] # 단수의 문자열이라 df1['2023-02']을 사용하는 것보다 loc사용"
      ]
    },
    {
      "cell_type": "code",
      "execution_count": null,
      "metadata": {
        "colab": {
          "base_uri": "https://localhost:8080/",
          "height": 206
        },
        "id": "8KONrDN9vLv2",
        "outputId": "04c5a28a-ea59-4714-d44a-babebb44e754"
      },
      "outputs": [],
      "source": [
        "# 2023-02 부터 자료를 슬라이싱해서 가져오기\n",
        "df1.loc['2023-02':]"
      ]
    },
    {
      "cell_type": "markdown",
      "metadata": {
        "id": "Bcxf-h6Mr2NB"
      },
      "source": [
        "**파일에서 데이터 프레임을 불러올 때 datetime 자료형으로 지정하기**\n",
        "\n",
        "`read_csv`나 `read_excel`의 parse_dates 인자에 해당 열을 리스트로 입력한다(단독이어도 리스트로 입력)\n",
        "\n",
        "\n",
        "예) 시간열을 datetime 자료형으로 불러올 경우\n",
        "\n",
        "```python\n",
        "parse_dates=['시간']\n",
        "```\n",
        "\n",
        "\n"
      ]
    },
    {
      "cell_type": "code",
      "execution_count": null,
      "metadata": {
        "id": "6pmMgptCRjxK"
      },
      "outputs": [],
      "source": [
        "# 프로젝트 코드\n",
        "import pandas as pd\n",
        "pd.options.display.max_rows = 6\n",
        "url = './11_01_shop_data.csv'"
      ]
    },
    {
      "cell_type": "code",
      "execution_count": null,
      "metadata": {},
      "outputs": [],
      "source": [
        "# 단순히 불러올 경우\n",
        "df_ex1 = pd.read_csv(url)\n",
        "df_ex1"
      ]
    },
    {
      "cell_type": "code",
      "execution_count": null,
      "metadata": {
        "colab": {
          "base_uri": "https://localhost:8080/",
          "height": 330
        },
        "id": "303OhLBYp5Q9",
        "outputId": "0c2b11a4-7c14-4a9b-a007-faad89df30e9"
      },
      "outputs": [],
      "source": [
        "# csv파일에서 부를때 datetime으로 지정하고 index로 지정하기\n",
        "df_ex1 = pd.read_csv(url, parse_dates=['시간'], index_col=0)\n",
        "df_ex1"
      ]
    },
    {
      "cell_type": "code",
      "execution_count": null,
      "metadata": {},
      "outputs": [],
      "source": [
        "# 행동 열의 고유값 출력하기\n",
        "df_ex1['행동'].unique()"
      ]
    },
    {
      "cell_type": "code",
      "execution_count": null,
      "metadata": {
        "colab": {
          "base_uri": "https://localhost:8080/",
          "height": 330
        },
        "id": "oKsf5Fr4qCVt",
        "outputId": "223c8eee-e9ed-44ad-90aa-7bedd39951fb"
      },
      "outputs": [],
      "source": [
        "# 2022년 6월 1일 데이터만 인덱싱\n",
        "df_ex1.loc['2022-06-01']"
      ]
    },
    {
      "cell_type": "code",
      "execution_count": null,
      "metadata": {
        "colab": {
          "base_uri": "https://localhost:8080/",
          "height": 330
        },
        "id": "hJkzVonw2kgc",
        "outputId": "caba1fb9-8e6d-482c-8d0d-b5e18208ce64"
      },
      "outputs": [],
      "source": [
        "# 2022년 6월 1일 23시의 데이터만 인덱싱\n",
        "df_ex1.loc['2022-06-01 23']"
      ]
    },
    {
      "cell_type": "code",
      "execution_count": null,
      "metadata": {
        "colab": {
          "base_uri": "https://localhost:8080/",
          "height": 330
        },
        "id": "lN-7nL7j2l5L",
        "outputId": "70adf9be-d6da-4ad3-ff98-eba8c5181b6b"
      },
      "outputs": [],
      "source": [
        "# 2022년 6월 1일 23시 00분의 데이터만 인덱싱\n",
        "df_ex1.loc['2022-06-01 23:00']"
      ]
    },
    {
      "cell_type": "code",
      "execution_count": null,
      "metadata": {
        "colab": {
          "base_uri": "https://localhost:8080/",
          "height": 330
        },
        "id": "WETqI83E2ujm",
        "outputId": "0b2a46dc-afa5-4937-e0c1-543f95082a23"
      },
      "outputs": [],
      "source": [
        "# 2022-06-02 부터 2022-06-04까지 슬라이싱\n",
        "df_ex1.loc['2022-06-02':'2022-06-04']"
      ]
    },
    {
      "cell_type": "markdown",
      "metadata": {
        "id": "TSHS1OS0Tc0W"
      },
      "source": [
        "## 3. 시계열 배열 생성(date_range)과 주기\n"
      ]
    },
    {
      "cell_type": "markdown",
      "metadata": {},
      "source": [
        "### 학습 목표\n",
        "- 시계열 배열을 생성한다. (`data_range` 함수)\n",
        "- 시계열 데이터의 주기를 알게 된다."
      ]
    },
    {
      "cell_type": "markdown",
      "metadata": {
        "id": "b7FoM3LWX4fO"
      },
      "source": [
        "> pandas date_range\n",
        "\n",
        "특정 주기의 DatetimeIndex를 만드는 함수\n",
        " \n",
        "\n",
        "**start**\n",
        "\n",
        "배열의 시작\n",
        "\n",
        "**end**\n",
        "\n",
        "배열의 끝\n",
        "\n",
        "**periods** (int, optional)\n",
        "\n",
        "생성할 배열의 숫자\n",
        " \n",
        "**freq** (주기 / 기본값 ‘D’)\n",
        "\n",
        "생성할 데이터의 주기"
      ]
    },
    {
      "cell_type": "code",
      "execution_count": null,
      "metadata": {
        "id": "dYKAizrZY2yA"
      },
      "outputs": [],
      "source": [
        "# 실습 준비 코드\n",
        "import pandas as pd"
      ]
    },
    {
      "cell_type": "code",
      "execution_count": null,
      "metadata": {
        "colab": {
          "base_uri": "https://localhost:8080/"
        },
        "id": "qhCKsIswY_qj",
        "outputId": "a1e9fed7-324a-4324-c701-3ef958408c8e"
      },
      "outputs": [],
      "source": [
        "# 시작일과 끝일 사이의 모든 날짜\n",
        "pd.date_range('2022-01-03', '2022-01-10')"
      ]
    },
    {
      "cell_type": "code",
      "execution_count": null,
      "metadata": {
        "colab": {
          "base_uri": "https://localhost:8080/"
        },
        "id": "TMGzHdyLZJUw",
        "outputId": "d3c99473-3f55-41a0-ad0f-3a1dc3148e34"
      },
      "outputs": [],
      "source": [
        "# 시작일부터 지정된 개수의 배열 (날짜)\n",
        "pd.date_range('2022-01-03', periods=3)"
      ]
    },
    {
      "cell_type": "code",
      "execution_count": null,
      "metadata": {
        "colab": {
          "base_uri": "https://localhost:8080/"
        },
        "id": "tMh4PKKNZi-v",
        "outputId": "fb3b0006-839a-47e3-9a9b-058cbd4046a8"
      },
      "outputs": [],
      "source": [
        "# 결과가 index인 시리즈 만들기\n",
        "idx = pd.date_range('2022-01-03', periods=3)\n",
        "pd.Series([0, 1, 2], index=idx)"
      ]
    },
    {
      "cell_type": "code",
      "execution_count": null,
      "metadata": {
        "colab": {
          "base_uri": "https://localhost:8080/"
        },
        "id": "3Uo5XaCaZVOm",
        "outputId": "9c8b27b4-8027-4ec9-9c62-a5759c315b79"
      },
      "outputs": [],
      "source": [
        "# DatetimeIndex이지만 시리즈로 만들 수 있고 데이터프레임의 열로 만들 수도 있다\n",
        "pd.Series(pd.date_range('2022-01-03', periods=3))"
      ]
    },
    {
      "cell_type": "markdown",
      "metadata": {
        "id": "V2sOtrPSTc99"
      },
      "source": [
        "**주기**\n",
        "\n",
        "<img src=https://i.ibb.co/44LnkqM/image.jpg, width=600>\n",
        "\n",
        "- 이 외의 주기가 필요하면 링크를 참조 :\n",
        "\n",
        " https://pandas.pydata.org/docs/user_guide/timeseries.html#timeseries-offset-aliases"
      ]
    },
    {
      "cell_type": "code",
      "execution_count": null,
      "metadata": {
        "colab": {
          "base_uri": "https://localhost:8080/"
        },
        "id": "BB7CIDUIZtYE",
        "outputId": "019479e9-8b1c-4e6d-f742-d20df52b3f75"
      },
      "outputs": [],
      "source": [
        "# 주기 바꾸기 (월의 마지막날)\n",
        "pd.date_range('2022-01-03', periods=3, freq='M')"
      ]
    },
    {
      "cell_type": "code",
      "execution_count": null,
      "metadata": {
        "colab": {
          "base_uri": "https://localhost:8080/"
        },
        "id": "I6sow1GybQFP",
        "outputId": "551395d0-c812-446c-e156-80915e09ad35"
      },
      "outputs": [],
      "source": [
        "# 주기 바꾸기 (월의 첫날)\n",
        "pd.date_range('2022-01-03', periods=3, freq='MS')"
      ]
    },
    {
      "cell_type": "code",
      "execution_count": null,
      "metadata": {
        "colab": {
          "base_uri": "https://localhost:8080/"
        },
        "id": "zmEcJLwxjoeO",
        "outputId": "c8d87e7d-c395-4b11-885f-8ef07ed6e6a0"
      },
      "outputs": [],
      "source": [
        "# 주기 바꾸기 (2개월 주기의 마지막날)\n",
        "pd.date_range('2022-01-03', periods=3, freq='2M')"
      ]
    },
    {
      "cell_type": "code",
      "execution_count": null,
      "metadata": {
        "colab": {
          "base_uri": "https://localhost:8080/"
        },
        "id": "ZKOGpFw8Z3B1",
        "outputId": "6c5ce0cb-3a8f-4d95-85b4-f0e5ce816929"
      },
      "outputs": [],
      "source": [
        "# 주기 바꾸기 (년도별 마지막날)\n",
        "pd.date_range('2022-01-03', periods=3, freq='Y')"
      ]
    },
    {
      "cell_type": "code",
      "execution_count": null,
      "metadata": {
        "colab": {
          "base_uri": "https://localhost:8080/"
        },
        "id": "cxgq8cAwZ8RX",
        "outputId": "a9175a2e-494a-4796-c643-73dce0cc517e"
      },
      "outputs": [],
      "source": [
        "# 주기 바꾸기 (10분))\n",
        "pd.date_range('2022-01-03', periods=10, freq='10T')"
      ]
    },
    {
      "cell_type": "markdown",
      "metadata": {
        "id": "O596l1LEBBgP"
      },
      "source": [
        "## 4. dt 접근자"
      ]
    },
    {
      "cell_type": "markdown",
      "metadata": {
        "id": "UcZPfp8XbGAI"
      },
      "source": [
        "dt 접근자와 사용해서 datetime의 특정 데이터를 가져오는 속성과 함수들\n",
        "\n",
        "<img src=https://i.ibb.co/zr15b8r/dt.jpg, width=600>"
      ]
    },
    {
      "cell_type": "code",
      "execution_count": null,
      "metadata": {
        "id": "xW6cXZUhHGfN"
      },
      "outputs": [],
      "source": [
        "# 실습 준비 코드\n",
        "import pandas as pd\n",
        "idx = pd.date_range('2022-01-03', periods=6, freq='43D 9H 10T')\n",
        "df1 = pd.DataFrame(idx, columns=['date'])\n",
        "df2 = pd.DataFrame([20, 20, 30, 20, 40, 10], index=idx, columns=['sales'])"
      ]
    },
    {
      "cell_type": "code",
      "execution_count": null,
      "metadata": {
        "colab": {
          "base_uri": "https://localhost:8080/",
          "height": 238
        },
        "id": "vVBBn-s4Xl73",
        "outputId": "43a46967-4e08-4450-8ee6-692be32c6879"
      },
      "outputs": [],
      "source": [
        "# 실습에 쓰일 df1\n",
        "df1"
      ]
    },
    {
      "cell_type": "code",
      "execution_count": null,
      "metadata": {
        "colab": {
          "base_uri": "https://localhost:8080/"
        },
        "id": "zx_fn3ogYfAB",
        "outputId": "0d47b2de-f941-4063-9bfe-4d4c10c95c42"
      },
      "outputs": [],
      "source": [
        "# df1의 date열의 날짜만 추출\n",
        "df1['date'].dt.day"
      ]
    },
    {
      "cell_type": "code",
      "execution_count": null,
      "metadata": {
        "colab": {
          "base_uri": "https://localhost:8080/"
        },
        "id": "VGKC1JnsZFns",
        "outputId": "96fba065-5a9e-4537-935c-94fd72771d7a"
      },
      "outputs": [],
      "source": [
        "df1['date'].dt.year # 연도\n",
        "df1['date'].dt.quarter # 쿼터\n",
        "df1['date'].dt.month # 월\n",
        "df1['date'].dt.day # 일\n",
        "df1['date'].dt.hour # 시각\n",
        "df1['date'].dt.minute # 분\n",
        "df1['date'].dt.second # 초"
      ]
    },
    {
      "cell_type": "code",
      "execution_count": null,
      "metadata": {
        "colab": {
          "base_uri": "https://localhost:8080/"
        },
        "id": "8t4j8ed2Y6WQ",
        "outputId": "6114c948-76f7-4a53-9f16-6badd2ee862a"
      },
      "outputs": [],
      "source": [
        "# df1의 date열의 시간만 추출 (결과는 object)\n",
        "df1['date'].dt.time"
      ]
    },
    {
      "cell_type": "code",
      "execution_count": null,
      "metadata": {
        "colab": {
          "base_uri": "https://localhost:8080/"
        },
        "id": "kPtcm5SsgRoW",
        "outputId": "6ac93716-1eba-44aa-c0b7-3fffe27780b4"
      },
      "outputs": [],
      "source": [
        "# df1의 date열의 날짜만 추출 (결과는 object)\n",
        "df1['date'].dt.date"
      ]
    },
    {
      "cell_type": "code",
      "execution_count": null,
      "metadata": {
        "colab": {
          "base_uri": "https://localhost:8080/"
        },
        "id": "5Hz3ON6-Iqbu",
        "outputId": "5f971332-16f7-45db-dc97-e4acbc202833"
      },
      "outputs": [],
      "source": [
        "# 날짜만 표시 (datetime의 시간을 00:00:00으로 만든다)\n",
        "df1['date'].dt.normalize()"
      ]
    },
    {
      "cell_type": "code",
      "execution_count": null,
      "metadata": {
        "colab": {
          "base_uri": "https://localhost:8080/",
          "height": 238
        },
        "id": "ozFtlK4TItsl",
        "outputId": "f000f9f3-b503-4b47-f4a5-95fdf5c563ac"
      },
      "outputs": [],
      "source": [
        "# 연도 주 날짜를 데이터 프레임으로(주로 주를 추출할 때 쓴다)\n",
        "df1['date'].dt.isocalendar()"
      ]
    },
    {
      "cell_type": "code",
      "execution_count": null,
      "metadata": {
        "colab": {
          "base_uri": "https://localhost:8080/",
          "height": 238
        },
        "id": "KnloJBH-YbDr",
        "outputId": "7e64f869-ae22-48e8-b95a-232a92d423c1"
      },
      "outputs": [],
      "source": [
        "# 실습에 쓰일 df2\n",
        "df2"
      ]
    },
    {
      "cell_type": "code",
      "execution_count": null,
      "metadata": {
        "colab": {
          "base_uri": "https://localhost:8080/"
        },
        "id": "p12oSjqGYMis",
        "outputId": "e441d488-00e6-481c-bc0d-3890380988c1"
      },
      "outputs": [],
      "source": [
        "# df2의 index(DatetimeIndex)에서 연도만 추출 (dt접근자가 필요 없다)\n",
        "df2.index.year"
      ]
    },
    {
      "cell_type": "markdown",
      "metadata": {
        "id": "Nlt9c8tQOtZW"
      },
      "source": [
        "**지시자 (directive)**\n",
        "\n",
        "<img src=https://i.ibb.co/TBP9bPn/image.jpg, width=600>\n",
        "\n",
        "- 더 많은 지시자를 알고 싶다면 링크를 참조 : \n",
        "\n",
        " https://docs.python.org/3/library/datetime.html#strftime-and-strptime-behavior"
      ]
    },
    {
      "cell_type": "code",
      "execution_count": null,
      "metadata": {
        "colab": {
          "base_uri": "https://localhost:8080/"
        },
        "id": "INfObw10JY9P",
        "outputId": "dd77bec9-cc5f-4566-9fee-6685ccb40ef9"
      },
      "outputs": [],
      "source": [
        "# 표기형식 바꾸기\n",
        "df1['date'].dt.strftime('%y/%m/%d [%a]')"
      ]
    },
    {
      "cell_type": "code",
      "execution_count": null,
      "metadata": {
        "colab": {
          "base_uri": "https://localhost:8080/"
        },
        "id": "GEvgCXwjgjwp",
        "outputId": "a02044fd-e2bf-4ea1-bee7-6679267a998e"
      },
      "outputs": [],
      "source": [
        "# 연도와 합쳐진 월의 데이터를 가져올 때도 strftime을 쓴다\n",
        "df1['date'].dt.strftime('%Y-%m')"
      ]
    },
    {
      "cell_type": "code",
      "execution_count": null,
      "metadata": {
        "colab": {
          "base_uri": "https://localhost:8080/"
        },
        "id": "hgk3p1CNIEKF",
        "outputId": "95dc2f11-41ab-4972-b7d1-0055474f966a"
      },
      "outputs": [],
      "source": [
        "# 연도가 포함된 월을 얻고 싶다면 period 자료형을 사용하는 것이 더 정확하다\n",
        "df1['date'].dt.to_period('M')"
      ]
    },
    {
      "cell_type": "code",
      "execution_count": null,
      "metadata": {
        "colab": {
          "base_uri": "https://localhost:8080/"
        },
        "id": "OevKsEuZHfR8",
        "outputId": "a0c55a0e-44cb-4923-eb93-7b8d4b0f1e30"
      },
      "outputs": [],
      "source": [
        "# 연도가 포함된 쿼터를 얻을 경우도 시계열을 유지하려면 period 자료형을 쓴다\n",
        "df1['date'].dt.to_period('Q')"
      ]
    },
    {
      "cell_type": "markdown",
      "metadata": {
        "id": "pQBj7yuC_x3Y"
      },
      "source": [
        "## 5. 시계열 데이터의 그룹집계(resample)"
      ]
    },
    {
      "cell_type": "code",
      "execution_count": null,
      "metadata": {
        "colab": {
          "base_uri": "https://localhost:8080/",
          "height": 238
        },
        "id": "DbutT3f3_w9W",
        "outputId": "853d634a-4b5d-4907-ad3b-777a205adf11"
      },
      "outputs": [],
      "source": [
        "# 실습 준비 코드\n",
        "import pandas as pd\n",
        "idx = pd.date_range('2023-01-01', periods=6, freq='20D 9H 10T')\n",
        "df1 = pd.DataFrame(idx, columns=['날짜'])\n",
        "df1['금액'] = [10000, 20000, 20000, 20000, 30000, 10000]\n",
        "df1['구분'] = ['입금', '입금', '출금', '입금', '입금', '출금']\n",
        "df2 = df1.set_index('날짜')\n",
        "df1"
      ]
    },
    {
      "cell_type": "markdown",
      "metadata": {
        "id": "u5vQvBsGEemg"
      },
      "source": [
        "만약 df1을 월별 집계를 한다면 df1의 날짜열에서 월의 데이터를 추출해\n",
        "`groupby`를 사용할 수도 있을 것이다"
      ]
    },
    {
      "cell_type": "code",
      "execution_count": null,
      "metadata": {
        "colab": {
          "base_uri": "https://localhost:8080/",
          "height": 238
        },
        "id": "d9gfiJG1Ah_f",
        "outputId": "8ede4cb9-a479-4d9a-f1cf-6a8def4ee88a"
      },
      "outputs": [],
      "source": [
        "# df1을 복제한 df로 월별 정보를 담은 월 열을 만든다\n",
        "df = df1.copy()\n",
        "df['월'] = df['날짜'].dt.strftime('%Y-%m')\n",
        "df"
      ]
    },
    {
      "cell_type": "code",
      "execution_count": null,
      "metadata": {
        "colab": {
          "base_uri": "https://localhost:8080/"
        },
        "id": "BMrzQmp4AvvX",
        "outputId": "d9961dad-99fe-4554-f1c6-aff711a8d239"
      },
      "outputs": [],
      "source": [
        "# groupby로 월별 금액을 집계한다\n",
        "df.groupby('월')['금액'].sum()"
      ]
    },
    {
      "cell_type": "code",
      "execution_count": null,
      "metadata": {
        "colab": {
          "base_uri": "https://localhost:8080/",
          "height": 206
        },
        "id": "K_0u4da2A2AG",
        "outputId": "8905e026-7c98-40fd-b92d-bf905246502e"
      },
      "outputs": [],
      "source": [
        "# groupby로 월과 구분으로 집계해 unstack으로 피벗테이블 처럼 만든다\n",
        "df.groupby(['월', '구분'])['금액'].sum().unstack()"
      ]
    },
    {
      "cell_type": "markdown",
      "metadata": {
        "id": "CI90ysjQE4Ax"
      },
      "source": [
        "위 방법이 일감으로 떠오르겠지만 판다스에서는 대부분 이런식의 그룹집계를 하지 않는다\n",
        "\n",
        "> 판다스에는 그룹집계에 탁월한 `resample` 함수가 있기 때문\n",
        "\n",
        "`groupby`자리에 `resample`을 사용하며 따로 열로 만들 것 없이 `resample`에 집계할 주기를 지정하면 된다\n",
        "\n"
      ]
    },
    {
      "cell_type": "code",
      "execution_count": null,
      "metadata": {
        "colab": {
          "base_uri": "https://localhost:8080/"
        },
        "id": "Q3qYu5VwA9qP",
        "outputId": "1be99386-3213-4c66-e117-2c7bdc046fe6"
      },
      "outputs": [],
      "source": [
        "# 일자별 집계\n",
        "df1.resample(rule='M', on='날짜')['금액'].sum()"
      ]
    },
    {
      "cell_type": "code",
      "execution_count": null,
      "metadata": {
        "colab": {
          "base_uri": "https://localhost:8080/"
        },
        "id": "UJvXWkRkBjCv",
        "outputId": "6ce1d586-a538-4203-e200-1797e7c6e1b1"
      },
      "outputs": [],
      "source": [
        "# timestamp를 월의 첫날로 바꿔보자\n",
        "df1.resample('MS', on='날짜')['금액'].sum()"
      ]
    },
    {
      "cell_type": "code",
      "execution_count": null,
      "metadata": {
        "colab": {
          "base_uri": "https://localhost:8080/",
          "height": 206
        },
        "id": "fG6XV3vXBHht",
        "outputId": "e208cf00-6207-4f0f-dead-dc5ac0af4035"
      },
      "outputs": [],
      "source": [
        "# 시계열 resample과 groupby를 함께 사용할 때 (groupby부터 사용한다)\n",
        "df1.groupby('구분').resample('M', on='날짜')['금액'].sum().unstack(level=0)"
      ]
    },
    {
      "cell_type": "code",
      "execution_count": null,
      "metadata": {
        "colab": {
          "base_uri": "https://localhost:8080/",
          "height": 269
        },
        "id": "LMwCgsosC8Qs",
        "outputId": "87d74060-efa2-46b4-f8a5-ae2bb1938f3a"
      },
      "outputs": [],
      "source": [
        "# 실습에 쓰일 df2는 DatetimeIndex이다\n",
        "df2"
      ]
    },
    {
      "cell_type": "code",
      "execution_count": null,
      "metadata": {
        "colab": {
          "base_uri": "https://localhost:8080/"
        },
        "id": "NcS_GnwDCtqt",
        "outputId": "4f89bae3-892a-4b72-84e9-9c9aa885f017"
      },
      "outputs": [],
      "source": [
        "# DatetimeIndex일 때는 on의 지정이 필요없다\n",
        "df2.resample('MS')['금액'].sum()"
      ]
    },
    {
      "cell_type": "markdown",
      "metadata": {
        "id": "Ch9bG7y2Dhq7"
      },
      "source": [
        "프로젝트의 그룹집계로 프로젝트를 마무리\n",
        "\n",
        "온라인 쇼핑몰 데이터의 일자별 액션수를 집계해보자"
      ]
    },
    {
      "cell_type": "code",
      "execution_count": null,
      "metadata": {
        "colab": {
          "base_uri": "https://localhost:8080/",
          "height": 392
        },
        "id": "U7uMeyuJCFUW",
        "outputId": "2d198731-5e5a-4479-f680-7b2b35fa2338"
      },
      "outputs": [],
      "source": [
        "# 프로젝트 코드\n",
        "import pandas as pd\n",
        "pd.options.display.max_rows = 8\n",
        "url = './11_01_shop_data.csv'\n",
        "# csv파일에서 부를때 datetime으로 지정하고 index로 지정하기\n",
        "df_ex1 = pd.read_csv(url, parse_dates=['시간'], index_col=0)\n",
        "df_ex1"
      ]
    },
    {
      "cell_type": "code",
      "execution_count": null,
      "metadata": {
        "colab": {
          "base_uri": "https://localhost:8080/"
        },
        "id": "khfjbwj9Ca0q",
        "outputId": "0f3daa6c-c3ff-47f1-9f58-6b1b71f7ba8d"
      },
      "outputs": [],
      "source": [
        "# 일자별 총 행동의 횟수 집계\n",
        "df_ex1.resample('D')['가격'].count()"
      ]
    },
    {
      "cell_type": "code",
      "execution_count": null,
      "metadata": {
        "colab": {
          "base_uri": "https://localhost:8080/",
          "height": 378
        },
        "id": "Lvs7YB_XELRc",
        "outputId": "946c74b5-3fb1-434f-bb06-283cffd3fec5"
      },
      "outputs": [],
      "source": [
        "# 간단하게 시각화\n",
        "df_ex1.resample('D')['가격'].count().rename_axis('').plot(kind='bar')"
      ]
    },
    {
      "cell_type": "markdown",
      "metadata": {
        "id": "rkwtbzNKD_wY"
      },
      "source": [
        "프로젝트 데이터의 행동 유형\n",
        "\n",
        "- V(view) : 페이지 보기\n",
        "- C(cart) : 장바구니 담기\n",
        "- B(buy) : 구매\n",
        "\n",
        "유형별로 횟수를 집계해보자"
      ]
    },
    {
      "cell_type": "code",
      "execution_count": null,
      "metadata": {
        "colab": {
          "base_uri": "https://localhost:8080/",
          "height": 300
        },
        "id": "qBEXGR3LDtbE",
        "outputId": "10532f9f-cda5-47ee-cc95-714438aff20d"
      },
      "outputs": [],
      "source": [
        "# 일자별 행동 유형별로 횟수를 집계\n",
        "df_ex1.groupby('행동').resample('D')['가격'].count().unstack(level=0)"
      ]
    },
    {
      "cell_type": "code",
      "execution_count": null,
      "metadata": {},
      "outputs": [],
      "source": []
    }
  ],
  "metadata": {
    "colab": {
      "provenance": []
    },
    "kernelspec": {
      "display_name": "Python 3",
      "name": "python3"
    },
    "language_info": {
      "codemirror_mode": {
        "name": "ipython",
        "version": 3
      },
      "file_extension": ".py",
      "mimetype": "text/x-python",
      "name": "python",
      "nbconvert_exporter": "python",
      "pygments_lexer": "ipython3",
      "version": "3.8.10"
    }
  },
  "nbformat": 4,
  "nbformat_minor": 0
}
