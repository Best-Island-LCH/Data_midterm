{
  "cells": [
    {
      "cell_type": "markdown",
      "metadata": {
        "id": "P01Nhxa1L1D9"
      },
      "source": [
        "# Ch09. 주식데이터를 통해 groupby 사용하기"
      ]
    },
    {
      "cell_type": "markdown",
      "metadata": {
        "id": "Wjx7l_WBL8Nr"
      },
      "source": [
        "## 1. 데이터 이동하기 (shift)"
      ]
    },
    {
      "cell_type": "markdown",
      "metadata": {},
      "source": [
        "### 학습 목표\n",
        "- 데이터를 이동한다. (`shift` 함수)\n",
        "- 데이터를 이동해 연산한다. (`diff`, `pct_change` 함수)"
      ]
    },
    {
      "cell_type": "markdown",
      "metadata": {
        "id": "UxnQYCPPnT0C"
      },
      "source": [
        "> pandas shift\n",
        "\n",
        "<img src=https://i.ibb.co/vcxZn1B/09-01.png, width=600>\n",
        "\n",
        "데이터를 정해진 칸만큼 이동시키는 함수\n",
        "\n",
        "\n",
        "**periods** (정수)\n",
        "\n",
        "이동할 칸을 지정하는 인자\n",
        "\n",
        "**freq**\n",
        "\n",
        "날짜나 시간 데이터를 shift 할 때 사용하는 인자\n",
        " \n",
        "**axis** (0 or 1)\n",
        "\n",
        "이동 방향을 지정하는 인자\n",
        "\n",
        "<br><br>\n",
        "\n",
        "[shift 공식문서](https://pandas.pydata.org/docs/reference/api/pandas.DataFrame.shift.html)"
      ]
    },
    {
      "cell_type": "code",
      "execution_count": 1,
      "metadata": {
        "colab": {
          "base_uri": "https://localhost:8080/",
          "height": 206
        },
        "id": "S3ohZ2npchyn",
        "outputId": "7017cebe-20cd-4f46-81e8-11ea52833fd7"
      },
      "outputs": [
        {
          "data": {
            "text/html": [
              "<div>\n",
              "<style scoped>\n",
              "    .dataframe tbody tr th:only-of-type {\n",
              "        vertical-align: middle;\n",
              "    }\n",
              "\n",
              "    .dataframe tbody tr th {\n",
              "        vertical-align: top;\n",
              "    }\n",
              "\n",
              "    .dataframe thead th {\n",
              "        text-align: right;\n",
              "    }\n",
              "</style>\n",
              "<table border=\"1\" class=\"dataframe\">\n",
              "  <thead>\n",
              "    <tr style=\"text-align: right;\">\n",
              "      <th></th>\n",
              "      <th>날짜</th>\n",
              "      <th>가격</th>\n",
              "    </tr>\n",
              "  </thead>\n",
              "  <tbody>\n",
              "    <tr>\n",
              "      <th>0</th>\n",
              "      <td>01/01</td>\n",
              "      <td>1000</td>\n",
              "    </tr>\n",
              "    <tr>\n",
              "      <th>1</th>\n",
              "      <td>01/02</td>\n",
              "      <td>1200</td>\n",
              "    </tr>\n",
              "    <tr>\n",
              "      <th>2</th>\n",
              "      <td>01/03</td>\n",
              "      <td>900</td>\n",
              "    </tr>\n",
              "    <tr>\n",
              "      <th>3</th>\n",
              "      <td>01/04</td>\n",
              "      <td>1200</td>\n",
              "    </tr>\n",
              "    <tr>\n",
              "      <th>4</th>\n",
              "      <td>01/05</td>\n",
              "      <td>1500</td>\n",
              "    </tr>\n",
              "  </tbody>\n",
              "</table>\n",
              "</div>"
            ],
            "text/plain": [
              "      날짜    가격\n",
              "0  01/01  1000\n",
              "1  01/02  1200\n",
              "2  01/03   900\n",
              "3  01/04  1200\n",
              "4  01/05  1500"
            ]
          },
          "execution_count": 1,
          "metadata": {},
          "output_type": "execute_result"
        }
      ],
      "source": [
        "# 실습 준비 코드\n",
        "import pandas as pd\n",
        "data = [['01/01', 1000], ['01/02', 1200], ['01/03', 900], \n",
        "        ['01/04', 1200], ['01/05', 1500]]\n",
        "df = pd.DataFrame(data, columns=['날짜', '가격'])\n",
        "df"
      ]
    },
    {
      "cell_type": "code",
      "execution_count": 2,
      "metadata": {
        "colab": {
          "base_uri": "https://localhost:8080/",
          "height": 206
        },
        "id": "VBcjVy8cFTuf",
        "outputId": "677d7dfb-a892-4ebc-92a2-074368f548fc"
      },
      "outputs": [
        {
          "data": {
            "text/html": [
              "<div>\n",
              "<style scoped>\n",
              "    .dataframe tbody tr th:only-of-type {\n",
              "        vertical-align: middle;\n",
              "    }\n",
              "\n",
              "    .dataframe tbody tr th {\n",
              "        vertical-align: top;\n",
              "    }\n",
              "\n",
              "    .dataframe thead th {\n",
              "        text-align: right;\n",
              "    }\n",
              "</style>\n",
              "<table border=\"1\" class=\"dataframe\">\n",
              "  <thead>\n",
              "    <tr style=\"text-align: right;\">\n",
              "      <th></th>\n",
              "      <th>날짜</th>\n",
              "      <th>가격</th>\n",
              "    </tr>\n",
              "  </thead>\n",
              "  <tbody>\n",
              "    <tr>\n",
              "      <th>0</th>\n",
              "      <td>None</td>\n",
              "      <td>NaN</td>\n",
              "    </tr>\n",
              "    <tr>\n",
              "      <th>1</th>\n",
              "      <td>01/01</td>\n",
              "      <td>1000.0</td>\n",
              "    </tr>\n",
              "    <tr>\n",
              "      <th>2</th>\n",
              "      <td>01/02</td>\n",
              "      <td>1200.0</td>\n",
              "    </tr>\n",
              "    <tr>\n",
              "      <th>3</th>\n",
              "      <td>01/03</td>\n",
              "      <td>900.0</td>\n",
              "    </tr>\n",
              "    <tr>\n",
              "      <th>4</th>\n",
              "      <td>01/04</td>\n",
              "      <td>1200.0</td>\n",
              "    </tr>\n",
              "  </tbody>\n",
              "</table>\n",
              "</div>"
            ],
            "text/plain": [
              "      날짜      가격\n",
              "0   None     NaN\n",
              "1  01/01  1000.0\n",
              "2  01/02  1200.0\n",
              "3  01/03   900.0\n",
              "4  01/04  1200.0"
            ]
          },
          "execution_count": 2,
          "metadata": {},
          "output_type": "execute_result"
        }
      ],
      "source": [
        "# 데이터 프레임에 shift 함수 적용하기\n",
        "df.shift()"
      ]
    },
    {
      "cell_type": "code",
      "execution_count": 3,
      "metadata": {
        "colab": {
          "base_uri": "https://localhost:8080/",
          "height": 206
        },
        "id": "G3ZydTZBFV0p",
        "outputId": "cf6e291c-0fe7-4bc7-af2b-4e600f4ba82d"
      },
      "outputs": [
        {
          "data": {
            "text/html": [
              "<div>\n",
              "<style scoped>\n",
              "    .dataframe tbody tr th:only-of-type {\n",
              "        vertical-align: middle;\n",
              "    }\n",
              "\n",
              "    .dataframe tbody tr th {\n",
              "        vertical-align: top;\n",
              "    }\n",
              "\n",
              "    .dataframe thead th {\n",
              "        text-align: right;\n",
              "    }\n",
              "</style>\n",
              "<table border=\"1\" class=\"dataframe\">\n",
              "  <thead>\n",
              "    <tr style=\"text-align: right;\">\n",
              "      <th></th>\n",
              "      <th>날짜</th>\n",
              "      <th>가격</th>\n",
              "    </tr>\n",
              "  </thead>\n",
              "  <tbody>\n",
              "    <tr>\n",
              "      <th>0</th>\n",
              "      <td>01/02</td>\n",
              "      <td>1200.0</td>\n",
              "    </tr>\n",
              "    <tr>\n",
              "      <th>1</th>\n",
              "      <td>01/03</td>\n",
              "      <td>900.0</td>\n",
              "    </tr>\n",
              "    <tr>\n",
              "      <th>2</th>\n",
              "      <td>01/04</td>\n",
              "      <td>1200.0</td>\n",
              "    </tr>\n",
              "    <tr>\n",
              "      <th>3</th>\n",
              "      <td>01/05</td>\n",
              "      <td>1500.0</td>\n",
              "    </tr>\n",
              "    <tr>\n",
              "      <th>4</th>\n",
              "      <td>None</td>\n",
              "      <td>NaN</td>\n",
              "    </tr>\n",
              "  </tbody>\n",
              "</table>\n",
              "</div>"
            ],
            "text/plain": [
              "      날짜      가격\n",
              "0  01/02  1200.0\n",
              "1  01/03   900.0\n",
              "2  01/04  1200.0\n",
              "3  01/05  1500.0\n",
              "4   None     NaN"
            ]
          },
          "execution_count": 3,
          "metadata": {},
          "output_type": "execute_result"
        }
      ],
      "source": [
        "# shift 함수에 음수 입력하기\n",
        "df.shift(-1)"
      ]
    },
    {
      "cell_type": "code",
      "execution_count": 24,
      "metadata": {
        "colab": {
          "base_uri": "https://localhost:8080/",
          "height": 206
        },
        "id": "aWhwzhZHFXzt",
        "outputId": "73c9759c-d364-46b5-c8c0-5ac87b35ae91"
      },
      "outputs": [
        {
          "data": {
            "text/html": [
              "<div>\n",
              "<style scoped>\n",
              "    .dataframe tbody tr th:only-of-type {\n",
              "        vertical-align: middle;\n",
              "    }\n",
              "\n",
              "    .dataframe tbody tr th {\n",
              "        vertical-align: top;\n",
              "    }\n",
              "\n",
              "    .dataframe thead th {\n",
              "        text-align: right;\n",
              "    }\n",
              "</style>\n",
              "<table border=\"1\" class=\"dataframe\">\n",
              "  <thead>\n",
              "    <tr style=\"text-align: right;\">\n",
              "      <th></th>\n",
              "      <th>Open</th>\n",
              "      <th>High</th>\n",
              "      <th>Low</th>\n",
              "      <th>Close</th>\n",
              "      <th>Volume</th>\n",
              "      <th>Change</th>\n",
              "      <th>Code</th>\n",
              "    </tr>\n",
              "    <tr>\n",
              "      <th>Date</th>\n",
              "      <th></th>\n",
              "      <th></th>\n",
              "      <th></th>\n",
              "      <th></th>\n",
              "      <th></th>\n",
              "      <th></th>\n",
              "      <th></th>\n",
              "    </tr>\n",
              "  </thead>\n",
              "  <tbody>\n",
              "    <tr>\n",
              "      <th>2018-01-02</th>\n",
              "      <td>NaN</td>\n",
              "      <td>28100</td>\n",
              "      <td>29504</td>\n",
              "      <td>28000</td>\n",
              "      <td>29405</td>\n",
              "      <td>1345951</td>\n",
              "      <td>0.069350</td>\n",
              "    </tr>\n",
              "    <tr>\n",
              "      <th>2018-01-03</th>\n",
              "      <td>NaN</td>\n",
              "      <td>30205</td>\n",
              "      <td>30306</td>\n",
              "      <td>29203</td>\n",
              "      <td>29906</td>\n",
              "      <td>1154361</td>\n",
              "      <td>0.017038</td>\n",
              "    </tr>\n",
              "    <tr>\n",
              "      <th>2018-01-04</th>\n",
              "      <td>NaN</td>\n",
              "      <td>30608</td>\n",
              "      <td>31911</td>\n",
              "      <td>30006</td>\n",
              "      <td>31311</td>\n",
              "      <td>2265019</td>\n",
              "      <td>0.046981</td>\n",
              "    </tr>\n",
              "    <tr>\n",
              "      <th>...</th>\n",
              "      <td>...</td>\n",
              "      <td>...</td>\n",
              "      <td>...</td>\n",
              "      <td>...</td>\n",
              "      <td>...</td>\n",
              "      <td>...</td>\n",
              "      <td>...</td>\n",
              "    </tr>\n",
              "    <tr>\n",
              "      <th>2020-12-28</th>\n",
              "      <td>NaN</td>\n",
              "      <td>75168</td>\n",
              "      <td>75670</td>\n",
              "      <td>74164</td>\n",
              "      <td>74867</td>\n",
              "      <td>646464</td>\n",
              "      <td>-0.002678</td>\n",
              "    </tr>\n",
              "    <tr>\n",
              "      <th>2020-12-29</th>\n",
              "      <td>NaN</td>\n",
              "      <td>76472</td>\n",
              "      <td>77375</td>\n",
              "      <td>75869</td>\n",
              "      <td>77175</td>\n",
              "      <td>857404</td>\n",
              "      <td>0.030828</td>\n",
              "    </tr>\n",
              "    <tr>\n",
              "      <th>2020-12-30</th>\n",
              "      <td>NaN</td>\n",
              "      <td>77175</td>\n",
              "      <td>79082</td>\n",
              "      <td>76974</td>\n",
              "      <td>78179</td>\n",
              "      <td>813142</td>\n",
              "      <td>0.013009</td>\n",
              "    </tr>\n",
              "  </tbody>\n",
              "</table>\n",
              "<p>738 rows × 7 columns</p>\n",
              "</div>"
            ],
            "text/plain": [
              "            Open   High    Low  Close  Volume   Change      Code\n",
              "Date                                                            \n",
              "2018-01-02   NaN  28100  29504  28000   29405  1345951  0.069350\n",
              "2018-01-03   NaN  30205  30306  29203   29906  1154361  0.017038\n",
              "2018-01-04   NaN  30608  31911  30006   31311  2265019  0.046981\n",
              "...          ...    ...    ...    ...     ...      ...       ...\n",
              "2020-12-28   NaN  75168  75670  74164   74867   646464 -0.002678\n",
              "2020-12-29   NaN  76472  77375  75869   77175   857404  0.030828\n",
              "2020-12-30   NaN  77175  79082  76974   78179   813142  0.013009\n",
              "\n",
              "[738 rows x 7 columns]"
            ]
          },
          "execution_count": 24,
          "metadata": {},
          "output_type": "execute_result"
        }
      ],
      "source": [
        "# 가로방향으로 shift하기\n",
        "df.shift(axis=1)"
      ]
    },
    {
      "cell_type": "code",
      "execution_count": 5,
      "metadata": {
        "colab": {
          "base_uri": "https://localhost:8080/",
          "height": 206
        },
        "id": "vwo6czbgFaWG",
        "outputId": "60645b4a-54fe-4dba-ed7b-d6aeb309008f"
      },
      "outputs": [
        {
          "data": {
            "text/html": [
              "<div>\n",
              "<style scoped>\n",
              "    .dataframe tbody tr th:only-of-type {\n",
              "        vertical-align: middle;\n",
              "    }\n",
              "\n",
              "    .dataframe tbody tr th {\n",
              "        vertical-align: top;\n",
              "    }\n",
              "\n",
              "    .dataframe thead th {\n",
              "        text-align: right;\n",
              "    }\n",
              "</style>\n",
              "<table border=\"1\" class=\"dataframe\">\n",
              "  <thead>\n",
              "    <tr style=\"text-align: right;\">\n",
              "      <th></th>\n",
              "      <th>날짜</th>\n",
              "      <th>가격</th>\n",
              "      <th>가격변동</th>\n",
              "    </tr>\n",
              "  </thead>\n",
              "  <tbody>\n",
              "    <tr>\n",
              "      <th>0</th>\n",
              "      <td>01/01</td>\n",
              "      <td>1000</td>\n",
              "      <td>NaN</td>\n",
              "    </tr>\n",
              "    <tr>\n",
              "      <th>1</th>\n",
              "      <td>01/02</td>\n",
              "      <td>1200</td>\n",
              "      <td>200.0</td>\n",
              "    </tr>\n",
              "    <tr>\n",
              "      <th>2</th>\n",
              "      <td>01/03</td>\n",
              "      <td>900</td>\n",
              "      <td>-300.0</td>\n",
              "    </tr>\n",
              "    <tr>\n",
              "      <th>3</th>\n",
              "      <td>01/04</td>\n",
              "      <td>1200</td>\n",
              "      <td>300.0</td>\n",
              "    </tr>\n",
              "    <tr>\n",
              "      <th>4</th>\n",
              "      <td>01/05</td>\n",
              "      <td>1500</td>\n",
              "      <td>300.0</td>\n",
              "    </tr>\n",
              "  </tbody>\n",
              "</table>\n",
              "</div>"
            ],
            "text/plain": [
              "      날짜    가격   가격변동\n",
              "0  01/01  1000    NaN\n",
              "1  01/02  1200  200.0\n",
              "2  01/03   900 -300.0\n",
              "3  01/04  1200  300.0\n",
              "4  01/05  1500  300.0"
            ]
          },
          "execution_count": 5,
          "metadata": {},
          "output_type": "execute_result"
        }
      ],
      "source": [
        "# 시리즈를 shift해서 가격변동 열 만들기\n",
        "df1 = df.copy()\n",
        "df1['가격변동'] = df1['가격'] - df1['가격'].shift()\n",
        "df1"
      ]
    },
    {
      "cell_type": "code",
      "execution_count": 6,
      "metadata": {
        "colab": {
          "base_uri": "https://localhost:8080/",
          "height": 206
        },
        "id": "DfrFlYwAFpED",
        "outputId": "9ae1403a-c106-403f-efaf-065f7b20a483"
      },
      "outputs": [
        {
          "data": {
            "text/html": [
              "<div>\n",
              "<style scoped>\n",
              "    .dataframe tbody tr th:only-of-type {\n",
              "        vertical-align: middle;\n",
              "    }\n",
              "\n",
              "    .dataframe tbody tr th {\n",
              "        vertical-align: top;\n",
              "    }\n",
              "\n",
              "    .dataframe thead th {\n",
              "        text-align: right;\n",
              "    }\n",
              "</style>\n",
              "<table border=\"1\" class=\"dataframe\">\n",
              "  <thead>\n",
              "    <tr style=\"text-align: right;\">\n",
              "      <th></th>\n",
              "      <th>날짜</th>\n",
              "      <th>가격</th>\n",
              "      <th>가격변동</th>\n",
              "    </tr>\n",
              "  </thead>\n",
              "  <tbody>\n",
              "    <tr>\n",
              "      <th>0</th>\n",
              "      <td>01/01</td>\n",
              "      <td>1000</td>\n",
              "      <td>NaN</td>\n",
              "    </tr>\n",
              "    <tr>\n",
              "      <th>1</th>\n",
              "      <td>01/02</td>\n",
              "      <td>1200</td>\n",
              "      <td>200.0</td>\n",
              "    </tr>\n",
              "    <tr>\n",
              "      <th>2</th>\n",
              "      <td>01/03</td>\n",
              "      <td>900</td>\n",
              "      <td>-300.0</td>\n",
              "    </tr>\n",
              "    <tr>\n",
              "      <th>3</th>\n",
              "      <td>01/04</td>\n",
              "      <td>1200</td>\n",
              "      <td>300.0</td>\n",
              "    </tr>\n",
              "    <tr>\n",
              "      <th>4</th>\n",
              "      <td>01/05</td>\n",
              "      <td>1500</td>\n",
              "      <td>300.0</td>\n",
              "    </tr>\n",
              "  </tbody>\n",
              "</table>\n",
              "</div>"
            ],
            "text/plain": [
              "      날짜    가격   가격변동\n",
              "0  01/01  1000    NaN\n",
              "1  01/02  1200  200.0\n",
              "2  01/03   900 -300.0\n",
              "3  01/04  1200  300.0\n",
              "4  01/05  1500  300.0"
            ]
          },
          "execution_count": 6,
          "metadata": {},
          "output_type": "execute_result"
        }
      ],
      "source": [
        "# diff 함수로 가격변동 열 만들기\n",
        "df1['가격변동'] = df1['가격'].diff()\n",
        "df1"
      ]
    },
    {
      "cell_type": "code",
      "execution_count": 7,
      "metadata": {
        "colab": {
          "base_uri": "https://localhost:8080/",
          "height": 206
        },
        "id": "rnZvpXRAFxJK",
        "outputId": "4d789d21-6ae4-4949-bcf9-fe9224cd4f07"
      },
      "outputs": [
        {
          "data": {
            "text/html": [
              "<div>\n",
              "<style scoped>\n",
              "    .dataframe tbody tr th:only-of-type {\n",
              "        vertical-align: middle;\n",
              "    }\n",
              "\n",
              "    .dataframe tbody tr th {\n",
              "        vertical-align: top;\n",
              "    }\n",
              "\n",
              "    .dataframe thead th {\n",
              "        text-align: right;\n",
              "    }\n",
              "</style>\n",
              "<table border=\"1\" class=\"dataframe\">\n",
              "  <thead>\n",
              "    <tr style=\"text-align: right;\">\n",
              "      <th></th>\n",
              "      <th>날짜</th>\n",
              "      <th>가격</th>\n",
              "      <th>변동률</th>\n",
              "    </tr>\n",
              "  </thead>\n",
              "  <tbody>\n",
              "    <tr>\n",
              "      <th>0</th>\n",
              "      <td>01/01</td>\n",
              "      <td>1000</td>\n",
              "      <td>NaN</td>\n",
              "    </tr>\n",
              "    <tr>\n",
              "      <th>1</th>\n",
              "      <td>01/02</td>\n",
              "      <td>1200</td>\n",
              "      <td>0.200000</td>\n",
              "    </tr>\n",
              "    <tr>\n",
              "      <th>2</th>\n",
              "      <td>01/03</td>\n",
              "      <td>900</td>\n",
              "      <td>-0.250000</td>\n",
              "    </tr>\n",
              "    <tr>\n",
              "      <th>3</th>\n",
              "      <td>01/04</td>\n",
              "      <td>1200</td>\n",
              "      <td>0.333333</td>\n",
              "    </tr>\n",
              "    <tr>\n",
              "      <th>4</th>\n",
              "      <td>01/05</td>\n",
              "      <td>1500</td>\n",
              "      <td>0.250000</td>\n",
              "    </tr>\n",
              "  </tbody>\n",
              "</table>\n",
              "</div>"
            ],
            "text/plain": [
              "      날짜    가격       변동률\n",
              "0  01/01  1000       NaN\n",
              "1  01/02  1200  0.200000\n",
              "2  01/03   900 -0.250000\n",
              "3  01/04  1200  0.333333\n",
              "4  01/05  1500  0.250000"
            ]
          },
          "execution_count": 7,
          "metadata": {},
          "output_type": "execute_result"
        }
      ],
      "source": [
        "# 시리즈를 shift해서 변동률 열 만들기\n",
        "df1 = df.copy()\n",
        "df1['변동률'] = (df1['가격'] - df1['가격'].shift()) / df1['가격'].shift()\n",
        "df1"
      ]
    },
    {
      "cell_type": "code",
      "execution_count": null,
      "metadata": {
        "colab": {
          "base_uri": "https://localhost:8080/",
          "height": 206
        },
        "id": "fmZwwGj4F89K",
        "outputId": "00f34991-d21f-4209-f339-bf516060f776"
      },
      "outputs": [
        {
          "data": {
            "text/html": [
              "<div>\n",
              "<style scoped>\n",
              "    .dataframe tbody tr th:only-of-type {\n",
              "        vertical-align: middle;\n",
              "    }\n",
              "\n",
              "    .dataframe tbody tr th {\n",
              "        vertical-align: top;\n",
              "    }\n",
              "\n",
              "    .dataframe thead th {\n",
              "        text-align: right;\n",
              "    }\n",
              "</style>\n",
              "<table border=\"1\" class=\"dataframe\">\n",
              "  <thead>\n",
              "    <tr style=\"text-align: right;\">\n",
              "      <th></th>\n",
              "      <th>날짜</th>\n",
              "      <th>가격</th>\n",
              "      <th>변동률</th>\n",
              "    </tr>\n",
              "  </thead>\n",
              "  <tbody>\n",
              "    <tr>\n",
              "      <th>0</th>\n",
              "      <td>01/01</td>\n",
              "      <td>1000</td>\n",
              "      <td>NaN</td>\n",
              "    </tr>\n",
              "    <tr>\n",
              "      <th>1</th>\n",
              "      <td>01/02</td>\n",
              "      <td>1200</td>\n",
              "      <td>0.200000</td>\n",
              "    </tr>\n",
              "    <tr>\n",
              "      <th>2</th>\n",
              "      <td>01/03</td>\n",
              "      <td>900</td>\n",
              "      <td>-0.250000</td>\n",
              "    </tr>\n",
              "    <tr>\n",
              "      <th>3</th>\n",
              "      <td>01/04</td>\n",
              "      <td>1200</td>\n",
              "      <td>0.333333</td>\n",
              "    </tr>\n",
              "    <tr>\n",
              "      <th>4</th>\n",
              "      <td>01/05</td>\n",
              "      <td>1500</td>\n",
              "      <td>0.250000</td>\n",
              "    </tr>\n",
              "  </tbody>\n",
              "</table>\n",
              "</div>"
            ],
            "text/plain": [
              "      날짜    가격       변동률\n",
              "0  01/01  1000       NaN\n",
              "1  01/02  1200  0.200000\n",
              "2  01/03   900 -0.250000\n",
              "3  01/04  1200  0.333333\n",
              "4  01/05  1500  0.250000"
            ]
          },
          "execution_count": 8,
          "metadata": {},
          "output_type": "execute_result"
        }
      ],
      "source": [
        "# pct_change 함수로 열 만들기\n",
        "df1['변동률'] = df1['가격'].pct_change()  # 이걸 몰라도 shift를 이용해서 구현 가능.\n",
        "df1"
      ]
    },
    {
      "cell_type": "markdown",
      "metadata": {
        "id": "vs4bB1MmMLLz"
      },
      "source": [
        "## 2. groupby가 필요한 이유"
      ]
    },
    {
      "attachments": {
        "image-2.png": {
          "image/png": "[encoded data removed]"
        }
      },
      "cell_type": "markdown",
      "metadata": {
        "id": "Q8mnf-cEMUn4"
      },
      "source": [
        "![image-2.png](attachment:image-2.png)\n",
        "\n",
        "raw data에서 다른 열의 특성으로 그룹화해서 함수를 적용할 때 필요하다\n",
        "\n",
        "→ raw data를 다룰 때는 매우 빈번한 일이다\n",
        "\n",
        "예를 들어, 위 그림에서 성별 내 등수, 지역 내 등수 등을 구해야 하는 경우를 말한다\n",
        "\n",
        "이런 경우, groupby로 성별 열로 그룹화한 후 rank 함수를 적용하면 성별 내 등수를 구할 수 있다 \n",
        "\n",
        "\n"
      ]
    },
    {
      "cell_type": "markdown",
      "metadata": {
        "id": "WfHj4BeWUzHD"
      },
      "source": [
        "## 3. groupby 함수 배우기"
      ]
    },
    {
      "cell_type": "markdown",
      "metadata": {},
      "source": [
        "### 학습 목표\n",
        "- 그룹화해서 함수를 적용한다. (`groupby` 함수)\n",
        "- `groupby` 함수의 구조를 숙지한다.\n",
        "- `groupby` 함수를 적용했을 때 차원축소함수와 일반 함수의 차이를 알게 된다."
      ]
    },
    {
      "cell_type": "markdown",
      "metadata": {
        "id": "IvxE34j--SG8"
      },
      "source": [
        "> pandas groupby\n",
        "\n",
        "\n",
        "<img src=https://i.ibb.co/5rk4LCy/09-03.png, width=600>\n",
        "\n",
        "그룹 내에서 함수를 적용하게 해주는 함수\n",
        "\n",
        "\n",
        "**by** \n",
        "\n",
        "그룹을 나누는 기준. 복수라면 리스트로 입력\n",
        "\n",
        " \n",
        "\n",
        "**axis** (0 or 1)\n",
        "\n",
        "그룹해서 함수를 행에 적용할 것인지 열에 적용할 것인지 지정하는 인자. 기본값은 열\n",
        "\n",
        " \n",
        "\n",
        "**level**\n",
        "\n",
        "인덱스로 그룹을 나눌 때 사용하는 인자\n",
        "\n",
        " \n",
        "\n",
        "**as_index** (bool / 기본값은 True)\n",
        "\n",
        "groupby로 집계 함수를 사용할 때 그룹이 인덱스가 될지 지정하는 인자\n",
        "\n",
        " \n",
        "\n",
        "**sort** (bool / 기본값은 True)\n",
        "\n",
        "그룹의 key로 정렬을 할 것인지 지정하는 인자\n",
        "\n",
        "<br><br>\n",
        "\n",
        "[groupby 판다스 공식문서](https://pandas.pydata.org/docs/reference/api/pandas.DataFrame.groupby.html)"
      ]
    },
    {
      "cell_type": "code",
      "execution_count": 9,
      "metadata": {
        "colab": {
          "base_uri": "https://localhost:8080/",
          "height": 238
        },
        "id": "IDaAyp1OUzaF",
        "outputId": "f482c59d-616a-44e7-b912-76a5132b1b48"
      },
      "outputs": [
        {
          "data": {
            "text/html": [
              "<div>\n",
              "<style scoped>\n",
              "    .dataframe tbody tr th:only-of-type {\n",
              "        vertical-align: middle;\n",
              "    }\n",
              "\n",
              "    .dataframe tbody tr th {\n",
              "        vertical-align: top;\n",
              "    }\n",
              "\n",
              "    .dataframe thead th {\n",
              "        text-align: right;\n",
              "    }\n",
              "</style>\n",
              "<table border=\"1\" class=\"dataframe\">\n",
              "  <thead>\n",
              "    <tr style=\"text-align: right;\">\n",
              "      <th></th>\n",
              "      <th>이름</th>\n",
              "      <th>반</th>\n",
              "      <th>성별</th>\n",
              "      <th>점수</th>\n",
              "    </tr>\n",
              "  </thead>\n",
              "  <tbody>\n",
              "    <tr>\n",
              "      <th>0</th>\n",
              "      <td>이상윤</td>\n",
              "      <td>A</td>\n",
              "      <td>남</td>\n",
              "      <td>95</td>\n",
              "    </tr>\n",
              "    <tr>\n",
              "      <th>1</th>\n",
              "      <td>송중기</td>\n",
              "      <td>B</td>\n",
              "      <td>남</td>\n",
              "      <td>93</td>\n",
              "    </tr>\n",
              "    <tr>\n",
              "      <th>2</th>\n",
              "      <td>카리나</td>\n",
              "      <td>B</td>\n",
              "      <td>여</td>\n",
              "      <td>88</td>\n",
              "    </tr>\n",
              "    <tr>\n",
              "      <th>3</th>\n",
              "      <td>박효신</td>\n",
              "      <td>A</td>\n",
              "      <td>남</td>\n",
              "      <td>85</td>\n",
              "    </tr>\n",
              "    <tr>\n",
              "      <th>4</th>\n",
              "      <td>박보영</td>\n",
              "      <td>B</td>\n",
              "      <td>여</td>\n",
              "      <td>78</td>\n",
              "    </tr>\n",
              "    <tr>\n",
              "      <th>5</th>\n",
              "      <td>안유진</td>\n",
              "      <td>A</td>\n",
              "      <td>여</td>\n",
              "      <td>72</td>\n",
              "    </tr>\n",
              "  </tbody>\n",
              "</table>\n",
              "</div>"
            ],
            "text/plain": [
              "    이름  반 성별  점수\n",
              "0  이상윤  A  남  95\n",
              "1  송중기  B  남  93\n",
              "2  카리나  B  여  88\n",
              "3  박효신  A  남  85\n",
              "4  박보영  B  여  78\n",
              "5  안유진  A  여  72"
            ]
          },
          "execution_count": 9,
          "metadata": {},
          "output_type": "execute_result"
        }
      ],
      "source": [
        "# 수업 준비 코드\n",
        "import pandas as pd\n",
        "data1 = [['이상윤', 'A', '남', 95], ['송중기', 'B', '남', 93],\n",
        "         ['카리나', 'B', '여', 88], ['박효신', 'A', '남', 85],\n",
        "         ['박보영', 'B', '여', 78], ['안유진', 'A', '여', 72]]\n",
        "\n",
        "data2 = [['2021-01-01', '이상윤', 10000], ['2021-01-01', '박보영', 2000],\n",
        "         ['2021-01-02', '이상윤', 20000], ['2021-01-02', '박보영', 5000],\n",
        "         ['2021-01-03', '박보영', 8000], ['2021-01-03', '이상윤', 5000]]\n",
        "\n",
        "df1 = pd.DataFrame(data1, columns=['이름', '반', '성별', '점수'])\n",
        "df2 = pd.DataFrame(data2, columns=['날짜', '이름', '입금'])\n",
        "df1"
      ]
    },
    {
      "cell_type": "markdown",
      "metadata": {},
      "source": [
        "#### 일반적인 사용법 : `df.groupby(그룹의 기준)[함수를 적용할 열].적용할 함수호출`"
      ]
    },
    {
      "cell_type": "code",
      "execution_count": 10,
      "metadata": {
        "colab": {
          "base_uri": "https://localhost:8080/",
          "height": 238
        },
        "id": "_0L0gebFbwZE",
        "outputId": "6ebe6c44-c319-41dc-b331-1cf5d7981f0a"
      },
      "outputs": [
        {
          "data": {
            "text/html": [
              "<div>\n",
              "<style scoped>\n",
              "    .dataframe tbody tr th:only-of-type {\n",
              "        vertical-align: middle;\n",
              "    }\n",
              "\n",
              "    .dataframe tbody tr th {\n",
              "        vertical-align: top;\n",
              "    }\n",
              "\n",
              "    .dataframe thead th {\n",
              "        text-align: right;\n",
              "    }\n",
              "</style>\n",
              "<table border=\"1\" class=\"dataframe\">\n",
              "  <thead>\n",
              "    <tr style=\"text-align: right;\">\n",
              "      <th></th>\n",
              "      <th>이름</th>\n",
              "      <th>반</th>\n",
              "      <th>성별</th>\n",
              "      <th>점수</th>\n",
              "      <th>학급내등수</th>\n",
              "    </tr>\n",
              "  </thead>\n",
              "  <tbody>\n",
              "    <tr>\n",
              "      <th>0</th>\n",
              "      <td>이상윤</td>\n",
              "      <td>A</td>\n",
              "      <td>남</td>\n",
              "      <td>95</td>\n",
              "      <td>1.0</td>\n",
              "    </tr>\n",
              "    <tr>\n",
              "      <th>1</th>\n",
              "      <td>송중기</td>\n",
              "      <td>B</td>\n",
              "      <td>남</td>\n",
              "      <td>93</td>\n",
              "      <td>1.0</td>\n",
              "    </tr>\n",
              "    <tr>\n",
              "      <th>2</th>\n",
              "      <td>카리나</td>\n",
              "      <td>B</td>\n",
              "      <td>여</td>\n",
              "      <td>88</td>\n",
              "      <td>2.0</td>\n",
              "    </tr>\n",
              "    <tr>\n",
              "      <th>3</th>\n",
              "      <td>박효신</td>\n",
              "      <td>A</td>\n",
              "      <td>남</td>\n",
              "      <td>85</td>\n",
              "      <td>2.0</td>\n",
              "    </tr>\n",
              "    <tr>\n",
              "      <th>4</th>\n",
              "      <td>박보영</td>\n",
              "      <td>B</td>\n",
              "      <td>여</td>\n",
              "      <td>78</td>\n",
              "      <td>3.0</td>\n",
              "    </tr>\n",
              "    <tr>\n",
              "      <th>5</th>\n",
              "      <td>안유진</td>\n",
              "      <td>A</td>\n",
              "      <td>여</td>\n",
              "      <td>72</td>\n",
              "      <td>3.0</td>\n",
              "    </tr>\n",
              "  </tbody>\n",
              "</table>\n",
              "</div>"
            ],
            "text/plain": [
              "    이름  반 성별  점수  학급내등수\n",
              "0  이상윤  A  남  95    1.0\n",
              "1  송중기  B  남  93    1.0\n",
              "2  카리나  B  여  88    2.0\n",
              "3  박효신  A  남  85    2.0\n",
              "4  박보영  B  여  78    3.0\n",
              "5  안유진  A  여  72    3.0"
            ]
          },
          "execution_count": 10,
          "metadata": {},
          "output_type": "execute_result"
        }
      ],
      "source": [
        "# 반으로 그룹화 해서 rank 함수 적용하기\n",
        "df = df1.copy()\n",
        "df['학급내등수'] = df.groupby('반')['점수'].rank(ascending=False)\n",
        "df"
      ]
    },
    {
      "cell_type": "code",
      "execution_count": 11,
      "metadata": {
        "colab": {
          "base_uri": "https://localhost:8080/",
          "height": 238
        },
        "id": "0W-gcqn6cAA3",
        "outputId": "fcf90fd7-8d30-400d-a995-3c3e4c5f5867"
      },
      "outputs": [
        {
          "data": {
            "text/html": [
              "<div>\n",
              "<style scoped>\n",
              "    .dataframe tbody tr th:only-of-type {\n",
              "        vertical-align: middle;\n",
              "    }\n",
              "\n",
              "    .dataframe tbody tr th {\n",
              "        vertical-align: top;\n",
              "    }\n",
              "\n",
              "    .dataframe thead th {\n",
              "        text-align: right;\n",
              "    }\n",
              "</style>\n",
              "<table border=\"1\" class=\"dataframe\">\n",
              "  <thead>\n",
              "    <tr style=\"text-align: right;\">\n",
              "      <th></th>\n",
              "      <th>이름</th>\n",
              "      <th>반</th>\n",
              "      <th>성별</th>\n",
              "      <th>점수</th>\n",
              "      <th>등수2</th>\n",
              "    </tr>\n",
              "  </thead>\n",
              "  <tbody>\n",
              "    <tr>\n",
              "      <th>0</th>\n",
              "      <td>이상윤</td>\n",
              "      <td>A</td>\n",
              "      <td>남</td>\n",
              "      <td>95</td>\n",
              "      <td>1.0</td>\n",
              "    </tr>\n",
              "    <tr>\n",
              "      <th>1</th>\n",
              "      <td>송중기</td>\n",
              "      <td>B</td>\n",
              "      <td>남</td>\n",
              "      <td>93</td>\n",
              "      <td>1.0</td>\n",
              "    </tr>\n",
              "    <tr>\n",
              "      <th>2</th>\n",
              "      <td>카리나</td>\n",
              "      <td>B</td>\n",
              "      <td>여</td>\n",
              "      <td>88</td>\n",
              "      <td>1.0</td>\n",
              "    </tr>\n",
              "    <tr>\n",
              "      <th>3</th>\n",
              "      <td>박효신</td>\n",
              "      <td>A</td>\n",
              "      <td>남</td>\n",
              "      <td>85</td>\n",
              "      <td>2.0</td>\n",
              "    </tr>\n",
              "    <tr>\n",
              "      <th>4</th>\n",
              "      <td>박보영</td>\n",
              "      <td>B</td>\n",
              "      <td>여</td>\n",
              "      <td>78</td>\n",
              "      <td>2.0</td>\n",
              "    </tr>\n",
              "    <tr>\n",
              "      <th>5</th>\n",
              "      <td>안유진</td>\n",
              "      <td>A</td>\n",
              "      <td>여</td>\n",
              "      <td>72</td>\n",
              "      <td>1.0</td>\n",
              "    </tr>\n",
              "  </tbody>\n",
              "</table>\n",
              "</div>"
            ],
            "text/plain": [
              "    이름  반 성별  점수  등수2\n",
              "0  이상윤  A  남  95  1.0\n",
              "1  송중기  B  남  93  1.0\n",
              "2  카리나  B  여  88  1.0\n",
              "3  박효신  A  남  85  2.0\n",
              "4  박보영  B  여  78  2.0\n",
              "5  안유진  A  여  72  1.0"
            ]
          },
          "execution_count": 11,
          "metadata": {},
          "output_type": "execute_result"
        }
      ],
      "source": [
        "# 반과 성별로 그룹화 해서 rank 함수 적용하기\n",
        "df = df1.copy()\n",
        "df['등수2'] = df.groupby(['반', '성별'])['점수'].rank(ascending=False)\n",
        "df"
      ]
    },
    {
      "cell_type": "code",
      "execution_count": 12,
      "metadata": {
        "colab": {
          "base_uri": "https://localhost:8080/"
        },
        "id": "i3sFwZvxcJpv",
        "outputId": "16bae5b5-2447-4478-8d29-043a29e33bc4"
      },
      "outputs": [
        {
          "data": {
            "text/plain": [
              "반  성별\n",
              "A  남     90.0\n",
              "   여     72.0\n",
              "B  남     93.0\n",
              "   여     83.0\n",
              "Name: 점수, dtype: float64"
            ]
          },
          "execution_count": 12,
          "metadata": {},
          "output_type": "execute_result"
        }
      ],
      "source": [
        "# 적용할 함수로 집계함수 적용하기\n",
        "df.groupby(['반', '성별'])['점수'].mean()"
      ]
    },
    {
      "cell_type": "code",
      "execution_count": 13,
      "metadata": {
        "colab": {
          "base_uri": "https://localhost:8080/",
          "height": 143
        },
        "id": "SBxJqbUUnr5I",
        "outputId": "7c84dd49-ed04-4f24-af5e-78298db6f3e3"
      },
      "outputs": [
        {
          "data": {
            "text/html": [
              "<div>\n",
              "<style scoped>\n",
              "    .dataframe tbody tr th:only-of-type {\n",
              "        vertical-align: middle;\n",
              "    }\n",
              "\n",
              "    .dataframe tbody tr th {\n",
              "        vertical-align: top;\n",
              "    }\n",
              "\n",
              "    .dataframe thead th {\n",
              "        text-align: right;\n",
              "    }\n",
              "</style>\n",
              "<table border=\"1\" class=\"dataframe\">\n",
              "  <thead>\n",
              "    <tr style=\"text-align: right;\">\n",
              "      <th>성별</th>\n",
              "      <th>남</th>\n",
              "      <th>여</th>\n",
              "    </tr>\n",
              "    <tr>\n",
              "      <th>반</th>\n",
              "      <th></th>\n",
              "      <th></th>\n",
              "    </tr>\n",
              "  </thead>\n",
              "  <tbody>\n",
              "    <tr>\n",
              "      <th>A</th>\n",
              "      <td>90.0</td>\n",
              "      <td>72.0</td>\n",
              "    </tr>\n",
              "    <tr>\n",
              "      <th>B</th>\n",
              "      <td>93.0</td>\n",
              "      <td>83.0</td>\n",
              "    </tr>\n",
              "  </tbody>\n",
              "</table>\n",
              "</div>"
            ],
            "text/plain": [
              "성별     남     여\n",
              "반             \n",
              "A   90.0  72.0\n",
              "B   93.0  83.0"
            ]
          },
          "execution_count": 13,
          "metadata": {},
          "output_type": "execute_result"
        }
      ],
      "source": [
        "# 피벗테이블과 같은 교차표 만들기\n",
        "df.groupby(['반', '성별'])['점수'].mean().unstack()"
      ]
    },
    {
      "cell_type": "markdown",
      "metadata": {
        "id": "QSg5Ktjc8OVw"
      },
      "source": [
        "<img src=https://i.ibb.co/hRFtSTb/groupby.jpg, width=600>"
      ]
    },
    {
      "cell_type": "code",
      "execution_count": 14,
      "metadata": {
        "colab": {
          "base_uri": "https://localhost:8080/",
          "height": 238
        },
        "id": "lKB7NMNRnXv9",
        "outputId": "80376f55-81b4-4f1b-8891-78b9069fc3b4"
      },
      "outputs": [
        {
          "data": {
            "text/html": [
              "<div>\n",
              "<style scoped>\n",
              "    .dataframe tbody tr th:only-of-type {\n",
              "        vertical-align: middle;\n",
              "    }\n",
              "\n",
              "    .dataframe tbody tr th {\n",
              "        vertical-align: top;\n",
              "    }\n",
              "\n",
              "    .dataframe thead th {\n",
              "        text-align: right;\n",
              "    }\n",
              "</style>\n",
              "<table border=\"1\" class=\"dataframe\">\n",
              "  <thead>\n",
              "    <tr style=\"text-align: right;\">\n",
              "      <th></th>\n",
              "      <th>날짜</th>\n",
              "      <th>이름</th>\n",
              "      <th>입금</th>\n",
              "    </tr>\n",
              "  </thead>\n",
              "  <tbody>\n",
              "    <tr>\n",
              "      <th>0</th>\n",
              "      <td>2021-01-01</td>\n",
              "      <td>이상윤</td>\n",
              "      <td>10000</td>\n",
              "    </tr>\n",
              "    <tr>\n",
              "      <th>1</th>\n",
              "      <td>2021-01-01</td>\n",
              "      <td>박보영</td>\n",
              "      <td>2000</td>\n",
              "    </tr>\n",
              "    <tr>\n",
              "      <th>2</th>\n",
              "      <td>2021-01-02</td>\n",
              "      <td>이상윤</td>\n",
              "      <td>20000</td>\n",
              "    </tr>\n",
              "    <tr>\n",
              "      <th>3</th>\n",
              "      <td>2021-01-02</td>\n",
              "      <td>박보영</td>\n",
              "      <td>5000</td>\n",
              "    </tr>\n",
              "    <tr>\n",
              "      <th>4</th>\n",
              "      <td>2021-01-03</td>\n",
              "      <td>박보영</td>\n",
              "      <td>8000</td>\n",
              "    </tr>\n",
              "    <tr>\n",
              "      <th>5</th>\n",
              "      <td>2021-01-03</td>\n",
              "      <td>이상윤</td>\n",
              "      <td>5000</td>\n",
              "    </tr>\n",
              "  </tbody>\n",
              "</table>\n",
              "</div>"
            ],
            "text/plain": [
              "           날짜   이름     입금\n",
              "0  2021-01-01  이상윤  10000\n",
              "1  2021-01-01  박보영   2000\n",
              "2  2021-01-02  이상윤  20000\n",
              "3  2021-01-02  박보영   5000\n",
              "4  2021-01-03  박보영   8000\n",
              "5  2021-01-03  이상윤   5000"
            ]
          },
          "execution_count": 14,
          "metadata": {},
          "output_type": "execute_result"
        }
      ],
      "source": [
        "df2"
      ]
    },
    {
      "cell_type": "code",
      "execution_count": 15,
      "metadata": {
        "colab": {
          "base_uri": "https://localhost:8080/",
          "height": 238
        },
        "id": "wX5gobcHbvA0",
        "outputId": "a279bee5-b230-416a-c093-7cb93d9c78d7"
      },
      "outputs": [
        {
          "data": {
            "text/html": [
              "<div>\n",
              "<style scoped>\n",
              "    .dataframe tbody tr th:only-of-type {\n",
              "        vertical-align: middle;\n",
              "    }\n",
              "\n",
              "    .dataframe tbody tr th {\n",
              "        vertical-align: top;\n",
              "    }\n",
              "\n",
              "    .dataframe thead th {\n",
              "        text-align: right;\n",
              "    }\n",
              "</style>\n",
              "<table border=\"1\" class=\"dataframe\">\n",
              "  <thead>\n",
              "    <tr style=\"text-align: right;\">\n",
              "      <th></th>\n",
              "      <th>날짜</th>\n",
              "      <th>이름</th>\n",
              "      <th>입금</th>\n",
              "      <th>전일입금</th>\n",
              "    </tr>\n",
              "  </thead>\n",
              "  <tbody>\n",
              "    <tr>\n",
              "      <th>0</th>\n",
              "      <td>2021-01-01</td>\n",
              "      <td>이상윤</td>\n",
              "      <td>10000</td>\n",
              "      <td>NaN</td>\n",
              "    </tr>\n",
              "    <tr>\n",
              "      <th>1</th>\n",
              "      <td>2021-01-01</td>\n",
              "      <td>박보영</td>\n",
              "      <td>2000</td>\n",
              "      <td>NaN</td>\n",
              "    </tr>\n",
              "    <tr>\n",
              "      <th>2</th>\n",
              "      <td>2021-01-02</td>\n",
              "      <td>이상윤</td>\n",
              "      <td>20000</td>\n",
              "      <td>10000.0</td>\n",
              "    </tr>\n",
              "    <tr>\n",
              "      <th>3</th>\n",
              "      <td>2021-01-02</td>\n",
              "      <td>박보영</td>\n",
              "      <td>5000</td>\n",
              "      <td>2000.0</td>\n",
              "    </tr>\n",
              "    <tr>\n",
              "      <th>4</th>\n",
              "      <td>2021-01-03</td>\n",
              "      <td>박보영</td>\n",
              "      <td>8000</td>\n",
              "      <td>5000.0</td>\n",
              "    </tr>\n",
              "    <tr>\n",
              "      <th>5</th>\n",
              "      <td>2021-01-03</td>\n",
              "      <td>이상윤</td>\n",
              "      <td>5000</td>\n",
              "      <td>20000.0</td>\n",
              "    </tr>\n",
              "  </tbody>\n",
              "</table>\n",
              "</div>"
            ],
            "text/plain": [
              "           날짜   이름     입금     전일입금\n",
              "0  2021-01-01  이상윤  10000      NaN\n",
              "1  2021-01-01  박보영   2000      NaN\n",
              "2  2021-01-02  이상윤  20000  10000.0\n",
              "3  2021-01-02  박보영   5000   2000.0\n",
              "4  2021-01-03  박보영   8000   5000.0\n",
              "5  2021-01-03  이상윤   5000  20000.0"
            ]
          },
          "execution_count": 15,
          "metadata": {},
          "output_type": "execute_result"
        }
      ],
      "source": [
        "# groupby로 shift 함수 적용하기\n",
        "df2['전일입금'] = df2.groupby('이름')['입금'].shift()\n",
        "df2"
      ]
    },
    {
      "cell_type": "markdown",
      "metadata": {
        "id": "0ioQVhy1n3VN"
      },
      "source": [
        "## 4. 파이썬 라이브러리를 통해 주식데이터 가져오기 (Finance Data Reader)"
      ]
    },
    {
      "cell_type": "markdown",
      "metadata": {
        "id": "KdCPCDPvn4BU"
      },
      "source": [
        "**Finance Data Reader**\n",
        "\n",
        "한국 주식 가격, 미국주식 가격, 지수, 환율, 암호화폐 가격, 종목 리스팅 등 금융 데이터 수집 라이브러리\n",
        "\n",
        "\n",
        "<br><br>\n",
        "\n",
        "**설치**\n",
        "\n",
        "\n",
        "\n",
        "```python\n",
        "import sys\n",
        "!{sys.executable} -m pip install -U finance-datareader\n",
        "```\n",
        "\n",
        "<br>\n",
        "\n",
        "**사용**\n",
        "```python\n",
        "import FinanceDataReader as fdr\n",
        "```\n",
        "\n",
        "<br>\n",
        "\n",
        "**국내주식 데이터 가져오기**\n",
        "\n",
        "`fdr.DataReader` 함수로 국내 주식 데이터를 가져올 수 있다\n",
        "\n",
        "삼성전자 주가 데이터를 2018-01-01부터 2020-12-31까지 가져온다\n",
        "\n",
        "```python\n",
        "fdr.DataReader('005930', '2018-01-01', '2020-12-31')\n",
        "```\n",
        "\n",
        "2018년부터 2020년까지의 모든 데이터이므로 아래와 같은 코드도 가능하다\n",
        "\n",
        "\n",
        "```python\n",
        "fdr.DataReader('005930', '2018', '2021')\n",
        "```\n",
        "\n",
        "<br>\n",
        "\n",
        "**차트 설정**\n",
        "\n",
        "```python\n",
        "%matplotlib inline\n",
        "import matplotlib.pyplot as plt\n",
        "\n",
        "plt.rcParams[\"figure.figsize\"] = (14,4)\n",
        "plt.rcParams['lines.linewidth'] = 2\n",
        "plt.rcParams[\"axes.grid\"] = True\n",
        "```\n",
        "\n",
        "\n",
        "<br>\n",
        "\n",
        "**기간내 종가 변동 차트 그리기**\n",
        "\n",
        "데이터 프레임이니까 `pandas`의 `plot` 함수로 그려보자\n",
        "\n",
        "```python\n",
        "fdr.DataReader('005930', '2018', '2021')['Close'].plot()\n",
        "```\n",
        "\n",
        "<br>\n",
        "\n",
        "**캔들 차트 그리기**\n",
        "\n",
        "`fdr.chart.plot` 함수로 캔들 차트를 그릴 수 있다\n",
        "\n",
        "삼성전자의 2020년 1월 주가를 캔들차트로 그려보자\n",
        "\n",
        "```python\n",
        "df1 = fdr.DataReader('005930', '2020-01', '2020-02')\n",
        "fdr.chart.candle(df1)\n",
        "```\n",
        "\n",
        "캔들 차트의 인자는 링크를 참조 : \n",
        "https://nbviewer.org/gist/FinanceData/c6c336c4727386810bec9264e81f6bba\n",
        "\n",
        "\n",
        "<br><br>\n",
        "\n",
        "그외 많은 기능들이 있으니 다음링크를 참조\n",
        "\n",
        "<img src=https://i.imgur.com/r0YE5Xs.png, width=400>\n",
        "\n",
        "https://financedata.github.io/posts/finance-data-reader-users-guide.html\n"
      ]
    },
    {
      "cell_type": "code",
      "execution_count": 16,
      "metadata": {
        "colab": {
          "base_uri": "https://localhost:8080/"
        },
        "id": "4Ty340F7qdS-",
        "outputId": "fbecb179-cd40-4b14-8aca-9f7afdde08d8"
      },
      "outputs": [
        {
          "name": "stdout",
          "output_type": "stream",
          "text": [
            "Collecting finance-datareader\n",
            "  Downloading finance_datareader-0.9.96-py3-none-any.whl.metadata (12 kB)\n",
            "Collecting bs4\n",
            "  Downloading bs4-0.0.2-py2.py3-none-any.whl.metadata (411 bytes)\n",
            "Collecting plotly\n",
            "  Downloading plotly-6.0.1-py3-none-any.whl.metadata (6.7 kB)\n",
            "Collecting bokeh\n",
            "  Downloading bokeh-3.7.2-py3-none-any.whl.metadata (12 kB)\n",
            "Collecting beautifulsoup4 (from finance-datareader)\n",
            "  Downloading beautifulsoup4-4.13.4-py3-none-any.whl.metadata (3.8 kB)\n",
            "Requirement already satisfied: lxml in c:\\users\\이창현\\appdata\\local\\programs\\python\\python313\\lib\\site-packages (from finance-datareader) (5.3.1)\n",
            "Requirement already satisfied: pandas>=1.1.0 in c:\\users\\이창현\\appdata\\local\\programs\\python\\python313\\lib\\site-packages (from finance-datareader) (2.2.3)\n",
            "Collecting requests-file (from finance-datareader)\n",
            "  Downloading requests_file-2.1.0-py2.py3-none-any.whl.metadata (1.7 kB)\n",
            "Collecting requests>=2.3.0 (from finance-datareader)\n",
            "  Downloading requests-2.32.3-py3-none-any.whl.metadata (4.6 kB)\n",
            "Requirement already satisfied: tqdm in c:\\users\\이창현\\appdata\\local\\programs\\python\\python313\\lib\\site-packages (from finance-datareader) (4.67.1)\n",
            "Collecting narwhals>=1.15.1 (from plotly)\n",
            "  Downloading narwhals-1.35.0-py3-none-any.whl.metadata (9.2 kB)\n",
            "Requirement already satisfied: packaging in c:\\users\\이창현\\appdata\\roaming\\python\\python313\\site-packages (from plotly) (24.2)\n",
            "Collecting Jinja2>=2.9 (from bokeh)\n",
            "  Downloading jinja2-3.1.6-py3-none-any.whl.metadata (2.9 kB)\n",
            "Requirement already satisfied: contourpy>=1.2 in c:\\users\\이창현\\appdata\\local\\programs\\python\\python313\\lib\\site-packages (from bokeh) (1.3.1)\n",
            "Requirement already satisfied: numpy>=1.16 in c:\\users\\이창현\\appdata\\local\\programs\\python\\python313\\lib\\site-packages (from bokeh) (2.2.3)\n",
            "Requirement already satisfied: pillow>=7.1.0 in c:\\users\\이창현\\appdata\\local\\programs\\python\\python313\\lib\\site-packages (from bokeh) (11.1.0)\n",
            "Collecting PyYAML>=3.10 (from bokeh)\n",
            "  Downloading PyYAML-6.0.2-cp313-cp313-win_amd64.whl.metadata (2.1 kB)\n",
            "Requirement already satisfied: tornado>=6.2 in c:\\users\\이창현\\appdata\\roaming\\python\\python313\\site-packages (from bokeh) (6.4.2)\n",
            "Collecting xyzservices>=2021.09.1 (from bokeh)\n",
            "  Downloading xyzservices-2025.1.0-py3-none-any.whl.metadata (4.3 kB)\n",
            "Collecting MarkupSafe>=2.0 (from Jinja2>=2.9->bokeh)\n",
            "  Downloading MarkupSafe-3.0.2-cp313-cp313-win_amd64.whl.metadata (4.1 kB)\n",
            "Requirement already satisfied: python-dateutil>=2.8.2 in c:\\users\\이창현\\appdata\\roaming\\python\\python313\\site-packages (from pandas>=1.1.0->finance-datareader) (2.9.0.post0)\n",
            "Requirement already satisfied: pytz>=2020.1 in c:\\users\\이창현\\appdata\\local\\programs\\python\\python313\\lib\\site-packages (from pandas>=1.1.0->finance-datareader) (2025.1)\n",
            "Requirement already satisfied: tzdata>=2022.7 in c:\\users\\이창현\\appdata\\local\\programs\\python\\python313\\lib\\site-packages (from pandas>=1.1.0->finance-datareader) (2025.1)\n",
            "Collecting charset-normalizer<4,>=2 (from requests>=2.3.0->finance-datareader)\n",
            "  Downloading charset_normalizer-3.4.1-cp313-cp313-win_amd64.whl.metadata (36 kB)\n",
            "Collecting idna<4,>=2.5 (from requests>=2.3.0->finance-datareader)\n",
            "  Downloading idna-3.10-py3-none-any.whl.metadata (10 kB)\n",
            "Collecting urllib3<3,>=1.21.1 (from requests>=2.3.0->finance-datareader)\n",
            "  Downloading urllib3-2.4.0-py3-none-any.whl.metadata (6.5 kB)\n",
            "Collecting certifi>=2017.4.17 (from requests>=2.3.0->finance-datareader)\n",
            "  Downloading certifi-2025.1.31-py3-none-any.whl.metadata (2.5 kB)\n",
            "Collecting soupsieve>1.2 (from beautifulsoup4->finance-datareader)\n",
            "  Downloading soupsieve-2.6-py3-none-any.whl.metadata (4.6 kB)\n",
            "Collecting typing-extensions>=4.0.0 (from beautifulsoup4->finance-datareader)\n",
            "  Downloading typing_extensions-4.13.2-py3-none-any.whl.metadata (3.0 kB)\n",
            "Requirement already satisfied: colorama in c:\\users\\이창현\\appdata\\roaming\\python\\python313\\site-packages (from tqdm->finance-datareader) (0.4.6)\n",
            "Requirement already satisfied: six>=1.5 in c:\\users\\이창현\\appdata\\roaming\\python\\python313\\site-packages (from python-dateutil>=2.8.2->pandas>=1.1.0->finance-datareader) (1.17.0)\n",
            "Downloading finance_datareader-0.9.96-py3-none-any.whl (48 kB)\n",
            "Downloading bs4-0.0.2-py2.py3-none-any.whl (1.2 kB)\n",
            "Downloading plotly-6.0.1-py3-none-any.whl (14.8 MB)\n",
            "   ---------------------------------------- 0.0/14.8 MB ? eta -:--:--\n",
            "   ---------------------------------------- 0.0/14.8 MB ? eta -:--:--\n",
            "    --------------------------------------- 0.3/14.8 MB ? eta -:--:--\n",
            "   ---- ----------------------------------- 1.6/14.8 MB 6.7 MB/s eta 0:00:02\n",
            "   ------- -------------------------------- 2.6/14.8 MB 5.4 MB/s eta 0:00:03\n",
            "   ------------ --------------------------- 4.7/14.8 MB 6.8 MB/s eta 0:00:02\n",
            "   ------------------- -------------------- 7.1/14.8 MB 7.8 MB/s eta 0:00:01\n",
            "   ------------------------ --------------- 9.2/14.8 MB 8.3 MB/s eta 0:00:01\n",
            "   ----------------------------- ---------- 11.0/14.8 MB 8.4 MB/s eta 0:00:01\n",
            "   ------------------------------- -------- 11.8/14.8 MB 7.7 MB/s eta 0:00:01\n",
            "   ------------------------------------ --- 13.6/14.8 MB 8.0 MB/s eta 0:00:01\n",
            "   -------------------------------------- - 14.4/14.8 MB 7.3 MB/s eta 0:00:01\n",
            "   ---------------------------------------- 14.8/14.8 MB 7.3 MB/s eta 0:00:00\n",
            "Downloading bokeh-3.7.2-py3-none-any.whl (7.0 MB)\n",
            "   ---------------------------------------- 0.0/7.0 MB ? eta -:--:--\n",
            "   ---------- ----------------------------- 1.8/7.0 MB 10.7 MB/s eta 0:00:01\n",
            "   ----------------- ---------------------- 3.1/7.0 MB 10.7 MB/s eta 0:00:01\n",
            "   ----------------------- ---------------- 4.2/7.0 MB 6.6 MB/s eta 0:00:01\n",
            "   ------------------------------- -------- 5.5/7.0 MB 6.6 MB/s eta 0:00:01\n",
            "   ---------------------------------------- 7.0/7.0 MB 7.0 MB/s eta 0:00:00\n",
            "Downloading jinja2-3.1.6-py3-none-any.whl (134 kB)\n",
            "Downloading narwhals-1.35.0-py3-none-any.whl (325 kB)\n",
            "Downloading PyYAML-6.0.2-cp313-cp313-win_amd64.whl (156 kB)\n",
            "Downloading requests-2.32.3-py3-none-any.whl (64 kB)\n",
            "Downloading xyzservices-2025.1.0-py3-none-any.whl (88 kB)\n",
            "Downloading beautifulsoup4-4.13.4-py3-none-any.whl (187 kB)\n",
            "Downloading requests_file-2.1.0-py2.py3-none-any.whl (4.2 kB)\n",
            "Downloading certifi-2025.1.31-py3-none-any.whl (166 kB)\n",
            "Downloading charset_normalizer-3.4.1-cp313-cp313-win_amd64.whl (102 kB)\n",
            "Downloading idna-3.10-py3-none-any.whl (70 kB)\n",
            "Downloading MarkupSafe-3.0.2-cp313-cp313-win_amd64.whl (15 kB)\n",
            "Downloading soupsieve-2.6-py3-none-any.whl (36 kB)\n",
            "Downloading typing_extensions-4.13.2-py3-none-any.whl (45 kB)\n",
            "Downloading urllib3-2.4.0-py3-none-any.whl (128 kB)\n",
            "Installing collected packages: xyzservices, urllib3, typing-extensions, soupsieve, PyYAML, narwhals, MarkupSafe, idna, charset-normalizer, certifi, requests, plotly, Jinja2, beautifulsoup4, requests-file, bs4, bokeh, finance-datareader\n",
            "Successfully installed Jinja2-3.1.6 MarkupSafe-3.0.2 PyYAML-6.0.2 beautifulsoup4-4.13.4 bokeh-3.7.2 bs4-0.0.2 certifi-2025.1.31 charset-normalizer-3.4.1 finance-datareader-0.9.96 idna-3.10 narwhals-1.35.0 plotly-6.0.1 requests-2.32.3 requests-file-2.1.0 soupsieve-2.6 typing-extensions-4.13.2 urllib3-2.4.0 xyzservices-2025.1.0\n"
          ]
        }
      ],
      "source": [
        "# finance data reader 설치\n",
        "import sys\n",
        "!{sys.executable} -m pip install -U finance-datareader bs4 plotly bokeh"
      ]
    },
    {
      "cell_type": "code",
      "execution_count": 17,
      "metadata": {
        "colab": {
          "base_uri": "https://localhost:8080/",
          "height": 330
        },
        "id": "vuEhHq-uvPSk",
        "outputId": "ca1e77fc-f86e-46e4-e36d-ad5cb6791f83"
      },
      "outputs": [
        {
          "data": {
            "text/html": [
              "<div>\n",
              "<style scoped>\n",
              "    .dataframe tbody tr th:only-of-type {\n",
              "        vertical-align: middle;\n",
              "    }\n",
              "\n",
              "    .dataframe tbody tr th {\n",
              "        vertical-align: top;\n",
              "    }\n",
              "\n",
              "    .dataframe thead th {\n",
              "        text-align: right;\n",
              "    }\n",
              "</style>\n",
              "<table border=\"1\" class=\"dataframe\">\n",
              "  <thead>\n",
              "    <tr style=\"text-align: right;\">\n",
              "      <th></th>\n",
              "      <th>Open</th>\n",
              "      <th>High</th>\n",
              "      <th>Low</th>\n",
              "      <th>Close</th>\n",
              "      <th>Volume</th>\n",
              "      <th>Change</th>\n",
              "    </tr>\n",
              "    <tr>\n",
              "      <th>Date</th>\n",
              "      <th></th>\n",
              "      <th></th>\n",
              "      <th></th>\n",
              "      <th></th>\n",
              "      <th></th>\n",
              "      <th></th>\n",
              "    </tr>\n",
              "  </thead>\n",
              "  <tbody>\n",
              "    <tr>\n",
              "      <th>2018-01-02</th>\n",
              "      <td>51380</td>\n",
              "      <td>51400</td>\n",
              "      <td>50780</td>\n",
              "      <td>51020</td>\n",
              "      <td>169485</td>\n",
              "      <td>0.001177</td>\n",
              "    </tr>\n",
              "    <tr>\n",
              "      <th>2018-01-03</th>\n",
              "      <td>52540</td>\n",
              "      <td>52560</td>\n",
              "      <td>51420</td>\n",
              "      <td>51620</td>\n",
              "      <td>200270</td>\n",
              "      <td>0.011760</td>\n",
              "    </tr>\n",
              "    <tr>\n",
              "      <th>2018-01-04</th>\n",
              "      <td>52120</td>\n",
              "      <td>52180</td>\n",
              "      <td>50640</td>\n",
              "      <td>51080</td>\n",
              "      <td>233909</td>\n",
              "      <td>-0.010461</td>\n",
              "    </tr>\n",
              "    <tr>\n",
              "      <th>...</th>\n",
              "      <td>...</td>\n",
              "      <td>...</td>\n",
              "      <td>...</td>\n",
              "      <td>...</td>\n",
              "      <td>...</td>\n",
              "      <td>...</td>\n",
              "    </tr>\n",
              "    <tr>\n",
              "      <th>2020-12-28</th>\n",
              "      <td>79000</td>\n",
              "      <td>80100</td>\n",
              "      <td>78200</td>\n",
              "      <td>78700</td>\n",
              "      <td>40085044</td>\n",
              "      <td>0.011568</td>\n",
              "    </tr>\n",
              "    <tr>\n",
              "      <th>2020-12-29</th>\n",
              "      <td>78800</td>\n",
              "      <td>78900</td>\n",
              "      <td>77300</td>\n",
              "      <td>78300</td>\n",
              "      <td>30339449</td>\n",
              "      <td>-0.005083</td>\n",
              "    </tr>\n",
              "    <tr>\n",
              "      <th>2020-12-30</th>\n",
              "      <td>77400</td>\n",
              "      <td>81300</td>\n",
              "      <td>77300</td>\n",
              "      <td>81000</td>\n",
              "      <td>29417421</td>\n",
              "      <td>0.034483</td>\n",
              "    </tr>\n",
              "  </tbody>\n",
              "</table>\n",
              "<p>738 rows × 6 columns</p>\n",
              "</div>"
            ],
            "text/plain": [
              "             Open   High    Low  Close    Volume    Change\n",
              "Date                                                      \n",
              "2018-01-02  51380  51400  50780  51020    169485  0.001177\n",
              "2018-01-03  52540  52560  51420  51620    200270  0.011760\n",
              "2018-01-04  52120  52180  50640  51080    233909 -0.010461\n",
              "...           ...    ...    ...    ...       ...       ...\n",
              "2020-12-28  79000  80100  78200  78700  40085044  0.011568\n",
              "2020-12-29  78800  78900  77300  78300  30339449 -0.005083\n",
              "2020-12-30  77400  81300  77300  81000  29417421  0.034483\n",
              "\n",
              "[738 rows x 6 columns]"
            ]
          },
          "execution_count": 17,
          "metadata": {},
          "output_type": "execute_result"
        }
      ],
      "source": [
        "# 삼성전자의 주가 데이터를 2018년부터 2020년까지 모두 가져오기\n",
        "import FinanceDataReader as fdr\n",
        "import pandas as pd\n",
        "pd.options.display.max_rows = 6\n",
        "fdr.DataReader('005930', '2018-01-01', '2020-12-31')"
      ]
    },
    {
      "cell_type": "code",
      "execution_count": 18,
      "metadata": {
        "colab": {
          "base_uri": "https://localhost:8080/",
          "height": 330
        },
        "id": "WhbmTYSdoEyl",
        "outputId": "777e5cbd-a2ac-4da9-a8bd-de4307351b77"
      },
      "outputs": [
        {
          "data": {
            "text/html": [
              "<div>\n",
              "<style scoped>\n",
              "    .dataframe tbody tr th:only-of-type {\n",
              "        vertical-align: middle;\n",
              "    }\n",
              "\n",
              "    .dataframe tbody tr th {\n",
              "        vertical-align: top;\n",
              "    }\n",
              "\n",
              "    .dataframe thead th {\n",
              "        text-align: right;\n",
              "    }\n",
              "</style>\n",
              "<table border=\"1\" class=\"dataframe\">\n",
              "  <thead>\n",
              "    <tr style=\"text-align: right;\">\n",
              "      <th></th>\n",
              "      <th>Open</th>\n",
              "      <th>High</th>\n",
              "      <th>Low</th>\n",
              "      <th>Close</th>\n",
              "      <th>Volume</th>\n",
              "      <th>Change</th>\n",
              "    </tr>\n",
              "    <tr>\n",
              "      <th>Date</th>\n",
              "      <th></th>\n",
              "      <th></th>\n",
              "      <th></th>\n",
              "      <th></th>\n",
              "      <th></th>\n",
              "      <th></th>\n",
              "    </tr>\n",
              "  </thead>\n",
              "  <tbody>\n",
              "    <tr>\n",
              "      <th>2018-01-02</th>\n",
              "      <td>51380</td>\n",
              "      <td>51400</td>\n",
              "      <td>50780</td>\n",
              "      <td>51020</td>\n",
              "      <td>169485</td>\n",
              "      <td>0.001177</td>\n",
              "    </tr>\n",
              "    <tr>\n",
              "      <th>2018-01-03</th>\n",
              "      <td>52540</td>\n",
              "      <td>52560</td>\n",
              "      <td>51420</td>\n",
              "      <td>51620</td>\n",
              "      <td>200270</td>\n",
              "      <td>0.011760</td>\n",
              "    </tr>\n",
              "    <tr>\n",
              "      <th>2018-01-04</th>\n",
              "      <td>52120</td>\n",
              "      <td>52180</td>\n",
              "      <td>50640</td>\n",
              "      <td>51080</td>\n",
              "      <td>233909</td>\n",
              "      <td>-0.010461</td>\n",
              "    </tr>\n",
              "    <tr>\n",
              "      <th>...</th>\n",
              "      <td>...</td>\n",
              "      <td>...</td>\n",
              "      <td>...</td>\n",
              "      <td>...</td>\n",
              "      <td>...</td>\n",
              "      <td>...</td>\n",
              "    </tr>\n",
              "    <tr>\n",
              "      <th>2020-12-28</th>\n",
              "      <td>79000</td>\n",
              "      <td>80100</td>\n",
              "      <td>78200</td>\n",
              "      <td>78700</td>\n",
              "      <td>40085044</td>\n",
              "      <td>0.011568</td>\n",
              "    </tr>\n",
              "    <tr>\n",
              "      <th>2020-12-29</th>\n",
              "      <td>78800</td>\n",
              "      <td>78900</td>\n",
              "      <td>77300</td>\n",
              "      <td>78300</td>\n",
              "      <td>30339449</td>\n",
              "      <td>-0.005083</td>\n",
              "    </tr>\n",
              "    <tr>\n",
              "      <th>2020-12-30</th>\n",
              "      <td>77400</td>\n",
              "      <td>81300</td>\n",
              "      <td>77300</td>\n",
              "      <td>81000</td>\n",
              "      <td>29417421</td>\n",
              "      <td>0.034483</td>\n",
              "    </tr>\n",
              "  </tbody>\n",
              "</table>\n",
              "<p>738 rows × 6 columns</p>\n",
              "</div>"
            ],
            "text/plain": [
              "             Open   High    Low  Close    Volume    Change\n",
              "Date                                                      \n",
              "2018-01-02  51380  51400  50780  51020    169485  0.001177\n",
              "2018-01-03  52540  52560  51420  51620    200270  0.011760\n",
              "2018-01-04  52120  52180  50640  51080    233909 -0.010461\n",
              "...           ...    ...    ...    ...       ...       ...\n",
              "2020-12-28  79000  80100  78200  78700  40085044  0.011568\n",
              "2020-12-29  78800  78900  77300  78300  30339449 -0.005083\n",
              "2020-12-30  77400  81300  77300  81000  29417421  0.034483\n",
              "\n",
              "[738 rows x 6 columns]"
            ]
          },
          "execution_count": 18,
          "metadata": {},
          "output_type": "execute_result"
        }
      ],
      "source": [
        "# 연도로 가져올 수도 있다\n",
        "fdr.DataReader('005930', '2018', '2021')"
      ]
    },
    {
      "cell_type": "code",
      "execution_count": 19,
      "metadata": {
        "id": "rWoIFeVhv0sK"
      },
      "outputs": [],
      "source": [
        "# 차트 설정\n",
        "%matplotlib inline\n",
        "import matplotlib.pyplot as plt\n",
        "\n",
        "plt.rcParams[\"figure.figsize\"] = (14,4)\n",
        "plt.rcParams['lines.linewidth'] = 2\n",
        "plt.rcParams[\"axes.grid\"] = True"
      ]
    },
    {
      "cell_type": "code",
      "execution_count": 20,
      "metadata": {
        "colab": {
          "base_uri": "https://localhost:8080/",
          "height": 295
        },
        "id": "Wddh-pp3v19Y",
        "outputId": "6def1276-94f0-4b34-a27c-b8bff8cd9f49"
      },
      "outputs": [
        {
          "data": {
            "text/plain": [
              "<Axes: xlabel='Date'>"
            ]
          },
          "execution_count": 20,
          "metadata": {},
          "output_type": "execute_result"
        },
        {
          "data": {
            "image/png": "[encoded data removed]",
            "text/plain": [
              "<Figure size 1400x400 with 1 Axes>"
            ]
          },
          "metadata": {},
          "output_type": "display_data"
        }
      ],
      "source": [
        "# 종가 그래프 그리기\n",
        "df = fdr.DataReader('005930', '2018-01-01', '2020-12-31')\n",
        "df.head()\n",
        "df['Close'].plot()"
      ]
    },
    {
      "cell_type": "code",
      "execution_count": 21,
      "metadata": {
        "colab": {
          "base_uri": "https://localhost:8080/",
          "height": 447
        },
        "id": "m8OZXnaqLxc1",
        "outputId": "2a285c6d-58e7-4d6a-bbd1-48b57e24cc23"
      },
      "outputs": [
        {
          "ename": "ValueError",
          "evalue": "Mime type rendering requires nbformat>=4.2.0 but it is not installed",
          "output_type": "error",
          "traceback": [
            "\u001b[31m---------------------------------------------------------------------------\u001b[39m",
            "\u001b[31mValueError\u001b[39m                                Traceback (most recent call last)",
            "\u001b[36mFile \u001b[39m\u001b[32m~\\AppData\\Roaming\\Python\\Python313\\site-packages\\IPython\\core\\formatters.py:984\u001b[39m, in \u001b[36mIPythonDisplayFormatter.__call__\u001b[39m\u001b[34m(self, obj)\u001b[39m\n\u001b[32m    982\u001b[39m method = get_real_method(obj, \u001b[38;5;28mself\u001b[39m.print_method)\n\u001b[32m    983\u001b[39m \u001b[38;5;28;01mif\u001b[39;00m method \u001b[38;5;129;01mis\u001b[39;00m \u001b[38;5;129;01mnot\u001b[39;00m \u001b[38;5;28;01mNone\u001b[39;00m:\n\u001b[32m--> \u001b[39m\u001b[32m984\u001b[39m     \u001b[43mmethod\u001b[49m\u001b[43m(\u001b[49m\u001b[43m)\u001b[49m\n\u001b[32m    985\u001b[39m     \u001b[38;5;28;01mreturn\u001b[39;00m \u001b[38;5;28;01mTrue\u001b[39;00m\n",
            "\u001b[36mFile \u001b[39m\u001b[32mc:\\Users\\이창현\\AppData\\Local\\Programs\\Python\\Python313\\Lib\\site-packages\\plotly\\basedatatypes.py:833\u001b[39m, in \u001b[36mBaseFigure._ipython_display_\u001b[39m\u001b[34m(self)\u001b[39m\n\u001b[32m    830\u001b[39m \u001b[38;5;28;01mimport\u001b[39;00m\u001b[38;5;250m \u001b[39m\u001b[34;01mplotly\u001b[39;00m\u001b[34;01m.\u001b[39;00m\u001b[34;01mio\u001b[39;00m\u001b[38;5;250m \u001b[39m\u001b[38;5;28;01mas\u001b[39;00m\u001b[38;5;250m \u001b[39m\u001b[34;01mpio\u001b[39;00m\n\u001b[32m    832\u001b[39m \u001b[38;5;28;01mif\u001b[39;00m pio.renderers.render_on_display \u001b[38;5;129;01mand\u001b[39;00m pio.renderers.default:\n\u001b[32m--> \u001b[39m\u001b[32m833\u001b[39m     \u001b[43mpio\u001b[49m\u001b[43m.\u001b[49m\u001b[43mshow\u001b[49m\u001b[43m(\u001b[49m\u001b[38;5;28;43mself\u001b[39;49m\u001b[43m)\u001b[49m\n\u001b[32m    834\u001b[39m \u001b[38;5;28;01melse\u001b[39;00m:\n\u001b[32m    835\u001b[39m     \u001b[38;5;28mprint\u001b[39m(\u001b[38;5;28mrepr\u001b[39m(\u001b[38;5;28mself\u001b[39m))\n",
            "\u001b[36mFile \u001b[39m\u001b[32mc:\\Users\\이창현\\AppData\\Local\\Programs\\Python\\Python313\\Lib\\site-packages\\plotly\\io\\_renderers.py:425\u001b[39m, in \u001b[36mshow\u001b[39m\u001b[34m(fig, renderer, validate, **kwargs)\u001b[39m\n\u001b[32m    420\u001b[39m     \u001b[38;5;28;01mraise\u001b[39;00m \u001b[38;5;167;01mValueError\u001b[39;00m(\n\u001b[32m    421\u001b[39m         \u001b[33m\"\u001b[39m\u001b[33mMime type rendering requires ipython but it is not installed\u001b[39m\u001b[33m\"\u001b[39m\n\u001b[32m    422\u001b[39m     )\n\u001b[32m    424\u001b[39m \u001b[38;5;28;01mif\u001b[39;00m \u001b[38;5;129;01mnot\u001b[39;00m nbformat \u001b[38;5;129;01mor\u001b[39;00m Version(nbformat.__version__) < Version(\u001b[33m\"\u001b[39m\u001b[33m4.2.0\u001b[39m\u001b[33m\"\u001b[39m):\n\u001b[32m--> \u001b[39m\u001b[32m425\u001b[39m     \u001b[38;5;28;01mraise\u001b[39;00m \u001b[38;5;167;01mValueError\u001b[39;00m(\n\u001b[32m    426\u001b[39m         \u001b[33m\"\u001b[39m\u001b[33mMime type rendering requires nbformat>=4.2.0 but it is not installed\u001b[39m\u001b[33m\"\u001b[39m\n\u001b[32m    427\u001b[39m     )\n\u001b[32m    429\u001b[39m display_jupyter_version_warnings()\n\u001b[32m    431\u001b[39m ipython_display.display(bundle, raw=\u001b[38;5;28;01mTrue\u001b[39;00m)\n",
            "\u001b[31mValueError\u001b[39m: Mime type rendering requires nbformat>=4.2.0 but it is not installed"
          ]
        },
        {
          "data": {
            "application/vnd.plotly.v1+json": {
              "config": {
                "plotlyServerURL": "https://plot.ly"
              },
              "data": [
                {
                  "close": {
                    "bdata": "oNcAAMzYAADM2AAA+NkAAODdAADo5AAAbOgAAGDqAABg6gAAeOYAABztAAB07wAAwPMAANjvAABc8wAAgO0AALDlAADc5gAAcN8AAFDcAAA=",
                    "dtype": "i4"
                  },
                  "decreasing": {
                    "fillcolor": "blue",
                    "line": {
                      "color": "blue",
                      "width": 1.5
                    }
                  },
                  "high": {
                    "bdata": "wNoAABjdAAAw2QAAUNwAADjgAADo5AAANOkAAGDqAABI7gAA0OgAABztAAAw8gAAUPUAAMDzAACI9AAAaPEAAAjoAAA06QAAsOUAACDkAAA=",
                    "dtype": "i4"
                  },
                  "increasing": {
                    "fillcolor": "red",
                    "line": {
                      "color": "red",
                      "width": 1.5
                    }
                  },
                  "low": {
                    "bdata": "2NYAAHTWAABI1QAAMNkAAFzaAAA44AAAvOMAANzmAAD86QAAFOYAAHjmAABI7gAABPEAABDvAADw6wAAHO0AALzjAACw5QAA4N0AAFDcAAA=",
                    "dtype": "i4"
                  },
                  "name": "",
                  "opacity": 0.75,
                  "open": {
                    "bdata": "zNgAAMDaAAB01gAAlNkAAIjbAAAg5AAAsOUAANDoAADw6wAAbOgAANzmAADM8QAAMPIAADDyAABU7AAAaPEAAAjoAADc5gAAsOUAAMjhAAA=",
                    "dtype": "i4"
                  },
                  "showlegend": false,
                  "text": [
                    "DoD: nan% OC: -0.5%, OH: 0.9%",
                    "DoD: 0.5% OC: -0.9%, OH: 1.1%",
                    "DoD: 0.0% OC: 1.1%, OH: 1.3%",
                    "DoD: 0.5% OC: 0.2%, OH: 1.3%",
                    "DoD: 1.8% OC: 1.1%, OH: 2.1%",
                    "DoD: 3.2% OC: 0.3%, OH: 0.3%",
                    "DoD: 1.5% OC: 1.2%, OH: 1.5%",
                    "DoD: 0.8% OC: 0.7%, OH: 0.7%",
                    "DoD: 0.0% OC: -0.7%, OH: 1.0%",
                    "DoD: -1.7% OC: -0.8%, OH: 0.2%",
                    "DoD: 2.9% OC: 2.7%, OH: 2.7%",
                    "DoD: 1.0% OC: -1.0%, OH: 0.2%",
                    "DoD: 1.8% OC: 0.6%, OH: 1.3%",
                    "DoD: -1.6% OC: -1.0%, OH: 0.6%",
                    "DoD: 1.5% OC: 3.0%, OH: 3.5%",
                    "DoD: -2.4% OC: -1.6%, OH: 0.0%",
                    "DoD: -3.3% OC: -1.0%, OH: 0.0%",
                    "DoD: 0.5% OC: 0.0%, OH: 1.0%",
                    "DoD: -3.2% OC: -2.7%, OH: 0.0%",
                    "DoD: -1.4% OC: -2.4%, OH: 1.0%"
                  ],
                  "type": "candlestick",
                  "x": [
                    "2020-01-02T00:00:00.000000000",
                    "2020-01-03T00:00:00.000000000",
                    "2020-01-06T00:00:00.000000000",
                    "2020-01-07T00:00:00.000000000",
                    "2020-01-08T00:00:00.000000000",
                    "2020-01-09T00:00:00.000000000",
                    "2020-01-10T00:00:00.000000000",
                    "2020-01-13T00:00:00.000000000",
                    "2020-01-14T00:00:00.000000000",
                    "2020-01-15T00:00:00.000000000",
                    "2020-01-16T00:00:00.000000000",
                    "2020-01-17T00:00:00.000000000",
                    "2020-01-20T00:00:00.000000000",
                    "2020-01-21T00:00:00.000000000",
                    "2020-01-22T00:00:00.000000000",
                    "2020-01-23T00:00:00.000000000",
                    "2020-01-28T00:00:00.000000000",
                    "2020-01-29T00:00:00.000000000",
                    "2020-01-30T00:00:00.000000000",
                    "2020-01-31T00:00:00.000000000"
                  ],
                  "xaxis": "x",
                  "yaxis": "y"
                },
                {
                  "marker": {
                    "color": [
                      "red",
                      "red",
                      "red",
                      "red",
                      "red",
                      "red",
                      "red",
                      "red",
                      "red",
                      "blue",
                      "red",
                      "red",
                      "red",
                      "blue",
                      "red",
                      "blue",
                      "blue",
                      "red",
                      "blue",
                      "blue"
                    ]
                  },
                  "name": "",
                  "opacity": 0.5,
                  "showlegend": false,
                  "type": "bar",
                  "x": [
                    "2020-01-02T00:00:00.000000000",
                    "2020-01-03T00:00:00.000000000",
                    "2020-01-06T00:00:00.000000000",
                    "2020-01-07T00:00:00.000000000",
                    "2020-01-08T00:00:00.000000000",
                    "2020-01-09T00:00:00.000000000",
                    "2020-01-10T00:00:00.000000000",
                    "2020-01-13T00:00:00.000000000",
                    "2020-01-14T00:00:00.000000000",
                    "2020-01-15T00:00:00.000000000",
                    "2020-01-16T00:00:00.000000000",
                    "2020-01-17T00:00:00.000000000",
                    "2020-01-20T00:00:00.000000000",
                    "2020-01-21T00:00:00.000000000",
                    "2020-01-22T00:00:00.000000000",
                    "2020-01-23T00:00:00.000000000",
                    "2020-01-28T00:00:00.000000000",
                    "2020-01-29T00:00:00.000000000",
                    "2020-01-30T00:00:00.000000000",
                    "2020-01-31T00:00:00.000000000"
                  ],
                  "xaxis": "x2",
                  "y": {
                    "bdata": "zELGAC9T6wAn2JwAsryYAHOZZgGzxm8BqiT0AKNTrQA3+AEBADfaAM5y2wA9iPQA1yy/ACUGqgAtEOoAy5vjAJ0XaQGW8voAs7c9AVFaLQE=",
                    "dtype": "i4"
                  },
                  "yaxis": "y2"
                },
                {
                  "line": {
                    "color": "darkmagenta",
                    "dash": "solid",
                    "width": 0.75
                  },
                  "name": "SMA_10",
                  "type": "scatter",
                  "x": [
                    "2020-01-02T00:00:00.000000000",
                    "2020-01-03T00:00:00.000000000",
                    "2020-01-06T00:00:00.000000000",
                    "2020-01-07T00:00:00.000000000",
                    "2020-01-08T00:00:00.000000000",
                    "2020-01-09T00:00:00.000000000",
                    "2020-01-10T00:00:00.000000000",
                    "2020-01-13T00:00:00.000000000",
                    "2020-01-14T00:00:00.000000000",
                    "2020-01-15T00:00:00.000000000",
                    "2020-01-16T00:00:00.000000000",
                    "2020-01-17T00:00:00.000000000",
                    "2020-01-20T00:00:00.000000000",
                    "2020-01-21T00:00:00.000000000",
                    "2020-01-22T00:00:00.000000000",
                    "2020-01-23T00:00:00.000000000",
                    "2020-01-28T00:00:00.000000000",
                    "2020-01-29T00:00:00.000000000",
                    "2020-01-30T00:00:00.000000000",
                    "2020-01-31T00:00:00.000000000"
                  ],
                  "xaxis": "x",
                  "y": {
                    "bdata": "AAAAAAAA+H8AAAAAAAD4fwAAAAAAAPh/AAAAAAAA+H8AAAAAAAD4fwAAAAAAAPh/AAAAAAAA+H8AAAAAAAD4fwAAAAAAAPh/AAAAAMAe7EAAAAAAgGPsQAAAAAAArOxAAAAAAEAC7UAAAAAAQEjtQAAAAAAAje1AAAAAAICo7UAAAAAAwJ/tQAAAAACAlO1AAAAAAIBx7UAAAAAAAFHtQA==",
                    "dtype": "f8"
                  },
                  "yaxis": "y"
                },
                {
                  "line": {
                    "color": "gold",
                    "dash": "solid",
                    "width": 0.75
                  },
                  "name": "SMA_20",
                  "type": "scatter",
                  "x": [
                    "2020-01-02T00:00:00.000000000",
                    "2020-01-03T00:00:00.000000000",
                    "2020-01-06T00:00:00.000000000",
                    "2020-01-07T00:00:00.000000000",
                    "2020-01-08T00:00:00.000000000",
                    "2020-01-09T00:00:00.000000000",
                    "2020-01-10T00:00:00.000000000",
                    "2020-01-13T00:00:00.000000000",
                    "2020-01-14T00:00:00.000000000",
                    "2020-01-15T00:00:00.000000000",
                    "2020-01-16T00:00:00.000000000",
                    "2020-01-17T00:00:00.000000000",
                    "2020-01-20T00:00:00.000000000",
                    "2020-01-21T00:00:00.000000000",
                    "2020-01-22T00:00:00.000000000",
                    "2020-01-23T00:00:00.000000000",
                    "2020-01-28T00:00:00.000000000",
                    "2020-01-29T00:00:00.000000000",
                    "2020-01-30T00:00:00.000000000",
                    "2020-01-31T00:00:00.000000000"
                  ],
                  "xaxis": "x",
                  "y": {
                    "bdata": "AAAAAAAA+H8AAAAAAAD4fwAAAAAAAPh/AAAAAAAA+H8AAAAAAAD4fwAAAAAAAPh/AAAAAAAA+H8AAAAAAAD4fwAAAAAAAPh/AAAAAAAA+H8AAAAAAAD4fwAAAAAAAPh/AAAAAAAA+H8AAAAAAAD4fwAAAAAAAPh/AAAAAAAA+H8AAAAAAAD4fwAAAAAAAPh/AAAAAAAA+H8AAAAA4LfsQA==",
                    "dtype": "f8"
                  },
                  "yaxis": "y"
                },
                {
                  "line": {
                    "color": "limegreen",
                    "dash": "solid",
                    "width": 0.75
                  },
                  "name": "SMA_60",
                  "type": "scatter",
                  "x": [
                    "2020-01-02T00:00:00.000000000",
                    "2020-01-03T00:00:00.000000000",
                    "2020-01-06T00:00:00.000000000",
                    "2020-01-07T00:00:00.000000000",
                    "2020-01-08T00:00:00.000000000",
                    "2020-01-09T00:00:00.000000000",
                    "2020-01-10T00:00:00.000000000",
                    "2020-01-13T00:00:00.000000000",
                    "2020-01-14T00:00:00.000000000",
                    "2020-01-15T00:00:00.000000000",
                    "2020-01-16T00:00:00.000000000",
                    "2020-01-17T00:00:00.000000000",
                    "2020-01-20T00:00:00.000000000",
                    "2020-01-21T00:00:00.000000000",
                    "2020-01-22T00:00:00.000000000",
                    "2020-01-23T00:00:00.000000000",
                    "2020-01-28T00:00:00.000000000",
                    "2020-01-29T00:00:00.000000000",
                    "2020-01-30T00:00:00.000000000",
                    "2020-01-31T00:00:00.000000000"
                  ],
                  "xaxis": "x",
                  "y": {
                    "bdata": "AAAAAAAA+H8AAAAAAAD4fwAAAAAAAPh/AAAAAAAA+H8AAAAAAAD4fwAAAAAAAPh/AAAAAAAA+H8AAAAAAAD4fwAAAAAAAPh/AAAAAAAA+H8AAAAAAAD4fwAAAAAAAPh/AAAAAAAA+H8AAAAAAAD4fwAAAAAAAPh/AAAAAAAA+H8AAAAAAAD4fwAAAAAAAPh/AAAAAAAA+H8AAAAAAAD4fw==",
                    "dtype": "f8"
                  },
                  "yaxis": "y"
                }
              ],
              "layout": {
                "height": 640,
                "hovermode": "x",
                "margin": {
                  "b": 0,
                  "l": 0,
                  "r": 0,
                  "t": 0
                },
                "paper_bgcolor": "white",
                "plot_bgcolor": "white",
                "template": {
                  "data": {
                    "bar": [
                      {
                        "error_x": {
                          "color": "#2a3f5f"
                        },
                        "error_y": {
                          "color": "#2a3f5f"
                        },
                        "marker": {
                          "line": {
                            "color": "white",
                            "width": 0.5
                          },
                          "pattern": {
                            "fillmode": "overlay",
                            "size": 10,
                            "solidity": 0.2
                          }
                        },
                        "type": "bar"
                      }
                    ],
                    "barpolar": [
                      {
                        "marker": {
                          "line": {
                            "color": "white",
                            "width": 0.5
                          },
                          "pattern": {
                            "fillmode": "overlay",
                            "size": 10,
                            "solidity": 0.2
                          }
                        },
                        "type": "barpolar"
                      }
                    ],
                    "carpet": [
                      {
                        "aaxis": {
                          "endlinecolor": "#2a3f5f",
                          "gridcolor": "#C8D4E3",
                          "linecolor": "#C8D4E3",
                          "minorgridcolor": "#C8D4E3",
                          "startlinecolor": "#2a3f5f"
                        },
                        "baxis": {
                          "endlinecolor": "#2a3f5f",
                          "gridcolor": "#C8D4E3",
                          "linecolor": "#C8D4E3",
                          "minorgridcolor": "#C8D4E3",
                          "startlinecolor": "#2a3f5f"
                        },
                        "type": "carpet"
                      }
                    ],
                    "choropleth": [
                      {
                        "colorbar": {
                          "outlinewidth": 0,
                          "ticks": ""
                        },
                        "type": "choropleth"
                      }
                    ],
                    "contour": [
                      {
                        "colorbar": {
                          "outlinewidth": 0,
                          "ticks": ""
                        },
                        "colorscale": [
                          [
                            0,
                            "#0d0887"
                          ],
                          [
                            0.1111111111111111,
                            "#46039f"
                          ],
                          [
                            0.2222222222222222,
                            "#7201a8"
                          ],
                          [
                            0.3333333333333333,
                            "#9c179e"
                          ],
                          [
                            0.4444444444444444,
                            "#bd3786"
                          ],
                          [
                            0.5555555555555556,
                            "#d8576b"
                          ],
                          [
                            0.6666666666666666,
                            "#ed7953"
                          ],
                          [
                            0.7777777777777778,
                            "#fb9f3a"
                          ],
                          [
                            0.8888888888888888,
                            "#fdca26"
                          ],
                          [
                            1,
                            "#f0f921"
                          ]
                        ],
                        "type": "contour"
                      }
                    ],
                    "contourcarpet": [
                      {
                        "colorbar": {
                          "outlinewidth": 0,
                          "ticks": ""
                        },
                        "type": "contourcarpet"
                      }
                    ],
                    "heatmap": [
                      {
                        "colorbar": {
                          "outlinewidth": 0,
                          "ticks": ""
                        },
                        "colorscale": [
                          [
                            0,
                            "#0d0887"
                          ],
                          [
                            0.1111111111111111,
                            "#46039f"
                          ],
                          [
                            0.2222222222222222,
                            "#7201a8"
                          ],
                          [
                            0.3333333333333333,
                            "#9c179e"
                          ],
                          [
                            0.4444444444444444,
                            "#bd3786"
                          ],
                          [
                            0.5555555555555556,
                            "#d8576b"
                          ],
                          [
                            0.6666666666666666,
                            "#ed7953"
                          ],
                          [
                            0.7777777777777778,
                            "#fb9f3a"
                          ],
                          [
                            0.8888888888888888,
                            "#fdca26"
                          ],
                          [
                            1,
                            "#f0f921"
                          ]
                        ],
                        "type": "heatmap"
                      }
                    ],
                    "histogram": [
                      {
                        "marker": {
                          "pattern": {
                            "fillmode": "overlay",
                            "size": 10,
                            "solidity": 0.2
                          }
                        },
                        "type": "histogram"
                      }
                    ],
                    "histogram2d": [
                      {
                        "colorbar": {
                          "outlinewidth": 0,
                          "ticks": ""
                        },
                        "colorscale": [
                          [
                            0,
                            "#0d0887"
                          ],
                          [
                            0.1111111111111111,
                            "#46039f"
                          ],
                          [
                            0.2222222222222222,
                            "#7201a8"
                          ],
                          [
                            0.3333333333333333,
                            "#9c179e"
                          ],
                          [
                            0.4444444444444444,
                            "#bd3786"
                          ],
                          [
                            0.5555555555555556,
                            "#d8576b"
                          ],
                          [
                            0.6666666666666666,
                            "#ed7953"
                          ],
                          [
                            0.7777777777777778,
                            "#fb9f3a"
                          ],
                          [
                            0.8888888888888888,
                            "#fdca26"
                          ],
                          [
                            1,
                            "#f0f921"
                          ]
                        ],
                        "type": "histogram2d"
                      }
                    ],
                    "histogram2dcontour": [
                      {
                        "colorbar": {
                          "outlinewidth": 0,
                          "ticks": ""
                        },
                        "colorscale": [
                          [
                            0,
                            "#0d0887"
                          ],
                          [
                            0.1111111111111111,
                            "#46039f"
                          ],
                          [
                            0.2222222222222222,
                            "#7201a8"
                          ],
                          [
                            0.3333333333333333,
                            "#9c179e"
                          ],
                          [
                            0.4444444444444444,
                            "#bd3786"
                          ],
                          [
                            0.5555555555555556,
                            "#d8576b"
                          ],
                          [
                            0.6666666666666666,
                            "#ed7953"
                          ],
                          [
                            0.7777777777777778,
                            "#fb9f3a"
                          ],
                          [
                            0.8888888888888888,
                            "#fdca26"
                          ],
                          [
                            1,
                            "#f0f921"
                          ]
                        ],
                        "type": "histogram2dcontour"
                      }
                    ],
                    "mesh3d": [
                      {
                        "colorbar": {
                          "outlinewidth": 0,
                          "ticks": ""
                        },
                        "type": "mesh3d"
                      }
                    ],
                    "parcoords": [
                      {
                        "line": {
                          "colorbar": {
                            "outlinewidth": 0,
                            "ticks": ""
                          }
                        },
                        "type": "parcoords"
                      }
                    ],
                    "pie": [
                      {
                        "automargin": true,
                        "type": "pie"
                      }
                    ],
                    "scatter": [
                      {
                        "fillpattern": {
                          "fillmode": "overlay",
                          "size": 10,
                          "solidity": 0.2
                        },
                        "type": "scatter"
                      }
                    ],
                    "scatter3d": [
                      {
                        "line": {
                          "colorbar": {
                            "outlinewidth": 0,
                            "ticks": ""
                          }
                        },
                        "marker": {
                          "colorbar": {
                            "outlinewidth": 0,
                            "ticks": ""
                          }
                        },
                        "type": "scatter3d"
                      }
                    ],
                    "scattercarpet": [
                      {
                        "marker": {
                          "colorbar": {
                            "outlinewidth": 0,
                            "ticks": ""
                          }
                        },
                        "type": "scattercarpet"
                      }
                    ],
                    "scattergeo": [
                      {
                        "marker": {
                          "colorbar": {
                            "outlinewidth": 0,
                            "ticks": ""
                          }
                        },
                        "type": "scattergeo"
                      }
                    ],
                    "scattergl": [
                      {
                        "marker": {
                          "colorbar": {
                            "outlinewidth": 0,
                            "ticks": ""
                          }
                        },
                        "type": "scattergl"
                      }
                    ],
                    "scattermap": [
                      {
                        "marker": {
                          "colorbar": {
                            "outlinewidth": 0,
                            "ticks": ""
                          }
                        },
                        "type": "scattermap"
                      }
                    ],
                    "scattermapbox": [
                      {
                        "marker": {
                          "colorbar": {
                            "outlinewidth": 0,
                            "ticks": ""
                          }
                        },
                        "type": "scattermapbox"
                      }
                    ],
                    "scatterpolar": [
                      {
                        "marker": {
                          "colorbar": {
                            "outlinewidth": 0,
                            "ticks": ""
                          }
                        },
                        "type": "scatterpolar"
                      }
                    ],
                    "scatterpolargl": [
                      {
                        "marker": {
                          "colorbar": {
                            "outlinewidth": 0,
                            "ticks": ""
                          }
                        },
                        "type": "scatterpolargl"
                      }
                    ],
                    "scatterternary": [
                      {
                        "marker": {
                          "colorbar": {
                            "outlinewidth": 0,
                            "ticks": ""
                          }
                        },
                        "type": "scatterternary"
                      }
                    ],
                    "surface": [
                      {
                        "colorbar": {
                          "outlinewidth": 0,
                          "ticks": ""
                        },
                        "colorscale": [
                          [
                            0,
                            "#0d0887"
                          ],
                          [
                            0.1111111111111111,
                            "#46039f"
                          ],
                          [
                            0.2222222222222222,
                            "#7201a8"
                          ],
                          [
                            0.3333333333333333,
                            "#9c179e"
                          ],
                          [
                            0.4444444444444444,
                            "#bd3786"
                          ],
                          [
                            0.5555555555555556,
                            "#d8576b"
                          ],
                          [
                            0.6666666666666666,
                            "#ed7953"
                          ],
                          [
                            0.7777777777777778,
                            "#fb9f3a"
                          ],
                          [
                            0.8888888888888888,
                            "#fdca26"
                          ],
                          [
                            1,
                            "#f0f921"
                          ]
                        ],
                        "type": "surface"
                      }
                    ],
                    "table": [
                      {
                        "cells": {
                          "fill": {
                            "color": "#EBF0F8"
                          },
                          "line": {
                            "color": "white"
                          }
                        },
                        "header": {
                          "fill": {
                            "color": "#C8D4E3"
                          },
                          "line": {
                            "color": "white"
                          }
                        },
                        "type": "table"
                      }
                    ]
                  },
                  "layout": {
                    "annotationdefaults": {
                      "arrowcolor": "#2a3f5f",
                      "arrowhead": 0,
                      "arrowwidth": 1
                    },
                    "autotypenumbers": "strict",
                    "coloraxis": {
                      "colorbar": {
                        "outlinewidth": 0,
                        "ticks": ""
                      }
                    },
                    "colorscale": {
                      "diverging": [
                        [
                          0,
                          "#8e0152"
                        ],
                        [
                          0.1,
                          "#c51b7d"
                        ],
                        [
                          0.2,
                          "#de77ae"
                        ],
                        [
                          0.3,
                          "#f1b6da"
                        ],
                        [
                          0.4,
                          "#fde0ef"
                        ],
                        [
                          0.5,
                          "#f7f7f7"
                        ],
                        [
                          0.6,
                          "#e6f5d0"
                        ],
                        [
                          0.7,
                          "#b8e186"
                        ],
                        [
                          0.8,
                          "#7fbc41"
                        ],
                        [
                          0.9,
                          "#4d9221"
                        ],
                        [
                          1,
                          "#276419"
                        ]
                      ],
                      "sequential": [
                        [
                          0,
                          "#0d0887"
                        ],
                        [
                          0.1111111111111111,
                          "#46039f"
                        ],
                        [
                          0.2222222222222222,
                          "#7201a8"
                        ],
                        [
                          0.3333333333333333,
                          "#9c179e"
                        ],
                        [
                          0.4444444444444444,
                          "#bd3786"
                        ],
                        [
                          0.5555555555555556,
                          "#d8576b"
                        ],
                        [
                          0.6666666666666666,
                          "#ed7953"
                        ],
                        [
                          0.7777777777777778,
                          "#fb9f3a"
                        ],
                        [
                          0.8888888888888888,
                          "#fdca26"
                        ],
                        [
                          1,
                          "#f0f921"
                        ]
                      ],
                      "sequentialminus": [
                        [
                          0,
                          "#0d0887"
                        ],
                        [
                          0.1111111111111111,
                          "#46039f"
                        ],
                        [
                          0.2222222222222222,
                          "#7201a8"
                        ],
                        [
                          0.3333333333333333,
                          "#9c179e"
                        ],
                        [
                          0.4444444444444444,
                          "#bd3786"
                        ],
                        [
                          0.5555555555555556,
                          "#d8576b"
                        ],
                        [
                          0.6666666666666666,
                          "#ed7953"
                        ],
                        [
                          0.7777777777777778,
                          "#fb9f3a"
                        ],
                        [
                          0.8888888888888888,
                          "#fdca26"
                        ],
                        [
                          1,
                          "#f0f921"
                        ]
                      ]
                    },
                    "colorway": [
                      "#636efa",
                      "#EF553B",
                      "#00cc96",
                      "#ab63fa",
                      "#FFA15A",
                      "#19d3f3",
                      "#FF6692",
                      "#B6E880",
                      "#FF97FF",
                      "#FECB52"
                    ],
                    "font": {
                      "color": "#2a3f5f"
                    },
                    "geo": {
                      "bgcolor": "white",
                      "lakecolor": "white",
                      "landcolor": "white",
                      "showlakes": true,
                      "showland": true,
                      "subunitcolor": "#C8D4E3"
                    },
                    "hoverlabel": {
                      "align": "left"
                    },
                    "hovermode": "closest",
                    "mapbox": {
                      "style": "light"
                    },
                    "paper_bgcolor": "white",
                    "plot_bgcolor": "white",
                    "polar": {
                      "angularaxis": {
                        "gridcolor": "#EBF0F8",
                        "linecolor": "#EBF0F8",
                        "ticks": ""
                      },
                      "bgcolor": "white",
                      "radialaxis": {
                        "gridcolor": "#EBF0F8",
                        "linecolor": "#EBF0F8",
                        "ticks": ""
                      }
                    },
                    "scene": {
                      "xaxis": {
                        "backgroundcolor": "white",
                        "gridcolor": "#DFE8F3",
                        "gridwidth": 2,
                        "linecolor": "#EBF0F8",
                        "showbackground": true,
                        "ticks": "",
                        "zerolinecolor": "#EBF0F8"
                      },
                      "yaxis": {
                        "backgroundcolor": "white",
                        "gridcolor": "#DFE8F3",
                        "gridwidth": 2,
                        "linecolor": "#EBF0F8",
                        "showbackground": true,
                        "ticks": "",
                        "zerolinecolor": "#EBF0F8"
                      },
                      "zaxis": {
                        "backgroundcolor": "white",
                        "gridcolor": "#DFE8F3",
                        "gridwidth": 2,
                        "linecolor": "#EBF0F8",
                        "showbackground": true,
                        "ticks": "",
                        "zerolinecolor": "#EBF0F8"
                      }
                    },
                    "shapedefaults": {
                      "line": {
                        "color": "#2a3f5f"
                      }
                    },
                    "ternary": {
                      "aaxis": {
                        "gridcolor": "#DFE8F3",
                        "linecolor": "#A2B1C6",
                        "ticks": ""
                      },
                      "baxis": {
                        "gridcolor": "#DFE8F3",
                        "linecolor": "#A2B1C6",
                        "ticks": ""
                      },
                      "bgcolor": "white",
                      "caxis": {
                        "gridcolor": "#DFE8F3",
                        "linecolor": "#A2B1C6",
                        "ticks": ""
                      }
                    },
                    "title": {
                      "x": 0.05
                    },
                    "xaxis": {
                      "automargin": true,
                      "gridcolor": "#EBF0F8",
                      "linecolor": "#EBF0F8",
                      "ticks": "",
                      "title": {
                        "standoff": 15
                      },
                      "zerolinecolor": "#EBF0F8",
                      "zerolinewidth": 2
                    },
                    "yaxis": {
                      "automargin": true,
                      "gridcolor": "#EBF0F8",
                      "linecolor": "#EBF0F8",
                      "ticks": "",
                      "title": {
                        "standoff": 15
                      },
                      "zerolinecolor": "#EBF0F8",
                      "zerolinewidth": 2
                    }
                  }
                },
                "width": 1280,
                "xaxis": {
                  "anchor": "y",
                  "domain": [
                    0,
                    1
                  ],
                  "gridcolor": "lightgray",
                  "linecolor": "black",
                  "linewidth": 1,
                  "matches": "x2",
                  "rangebreaks": [
                    {
                      "bounds": [
                        "sat",
                        "mon"
                      ]
                    },
                    {
                      "values": [
                        "2000-01-17",
                        "2000-02-21",
                        "2000-04-21",
                        "2000-05-29",
                        "2000-07-04",
                        "2000-09-04",
                        "2000-10-09",
                        "2000-11-23",
                        "2000-12-25",
                        "2001-01-01",
                        "2001-01-15",
                        "2001-02-19",
                        "2001-04-13",
                        "2001-05-28",
                        "2001-07-04",
                        "2001-09-03",
                        "2001-09-11",
                        "2001-09-12",
                        "2001-09-13",
                        "2001-09-14",
                        "2001-10-08",
                        "2001-11-12",
                        "2001-11-22",
                        "2001-12-25",
                        "2002-01-01",
                        "2002-01-21",
                        "2002-02-18",
                        "2002-03-29",
                        "2002-05-27",
                        "2002-07-04",
                        "2002-09-02",
                        "2002-10-14",
                        "2002-11-11",
                        "2002-11-28",
                        "2002-12-25",
                        "2003-01-01",
                        "2003-01-20",
                        "2003-02-17",
                        "2003-04-18",
                        "2003-05-26",
                        "2003-07-04",
                        "2003-09-01",
                        "2003-10-13",
                        "2003-11-11",
                        "2003-11-27",
                        "2003-12-25",
                        "2004-01-01",
                        "2004-01-19",
                        "2004-02-16",
                        "2004-04-09",
                        "2004-05-31",
                        "2004-06-11",
                        "2004-07-05",
                        "2004-09-06",
                        "2004-10-11",
                        "2004-11-11",
                        "2004-11-24",
                        "2004-12-24",
                        "2005-01-17",
                        "2005-02-21",
                        "2005-03-25",
                        "2005-05-30",
                        "2005-07-04",
                        "2005-09-05",
                        "2005-10-10",
                        "2005-11-11",
                        "2005-11-24",
                        "2005-12-26",
                        "2006-01-02",
                        "2006-01-16",
                        "2006-02-20",
                        "2006-04-14",
                        "2006-05-29",
                        "2006-07-04",
                        "2006-09-04",
                        "2006-10-09",
                        "2006-11-23",
                        "2006-12-25",
                        "2007-01-01",
                        "2007-01-02",
                        "2007-01-15",
                        "2007-02-19",
                        "2007-04-06",
                        "2007-05-28",
                        "2007-07-03",
                        "2007-07-04",
                        "2007-09-03",
                        "2007-10-08",
                        "2007-11-12",
                        "2007-11-22",
                        "2007-11-23",
                        "2007-12-24",
                        "2007-12-25",
                        "2008-01-01",
                        "2008-01-21",
                        "2008-02-18",
                        "2008-03-21",
                        "2008-05-26",
                        "2008-07-03",
                        "2008-07-04",
                        "2008-09-01",
                        "2008-10-13",
                        "2008-11-11",
                        "2008-11-27",
                        "2008-11-28",
                        "2008-12-24",
                        "2008-12-25",
                        "2009-01-01",
                        "2009-01-19",
                        "2009-02-16",
                        "2009-04-10",
                        "2009-05-25",
                        "2009-07-03",
                        "2009-09-07",
                        "2009-10-12",
                        "2009-11-11",
                        "2009-11-26",
                        "2009-11-27",
                        "2009-12-24",
                        "2009-12-25",
                        "2010-01-01",
                        "2010-01-18",
                        "2010-02-15",
                        "2010-04-02",
                        "2010-05-31",
                        "2010-07-05",
                        "2010-09-06",
                        "2010-10-11",
                        "2010-11-11",
                        "2010-11-25",
                        "2010-11-26",
                        "2010-12-24",
                        "2011-01-17",
                        "2011-02-21",
                        "2011-04-22",
                        "2011-05-30",
                        "2011-07-04",
                        "2011-09-05",
                        "2011-10-10",
                        "2011-11-11",
                        "2011-11-24",
                        "2011-11-25",
                        "2011-12-26",
                        "2012-01-02",
                        "2012-01-16",
                        "2012-02-20",
                        "2012-04-06",
                        "2012-05-28",
                        "2012-07-03",
                        "2012-07-04",
                        "2012-09-03",
                        "2012-10-08",
                        "2012-10-29",
                        "2012-10-30",
                        "2012-11-12",
                        "2012-11-22",
                        "2012-11-23",
                        "2012-12-24",
                        "2012-12-25",
                        "2013-01-01",
                        "2013-01-21",
                        "2013-02-18",
                        "2013-03-29",
                        "2013-05-27",
                        "2013-07-03",
                        "2013-07-04",
                        "2013-09-02",
                        "2013-10-14",
                        "2013-11-11",
                        "2013-11-28",
                        "2013-11-29",
                        "2013-12-24",
                        "2013-12-25",
                        "2014-01-01",
                        "2014-01-20",
                        "2014-02-17",
                        "2014-04-18",
                        "2014-05-26",
                        "2014-07-03",
                        "2014-07-04",
                        "2014-09-01",
                        "2014-10-13",
                        "2014-11-11",
                        "2014-11-27",
                        "2014-11-28",
                        "2014-12-24",
                        "2014-12-25",
                        "2015-01-01",
                        "2015-01-19",
                        "2015-02-16",
                        "2015-04-03",
                        "2015-05-25",
                        "2015-07-03",
                        "2015-09-07",
                        "2015-10-12",
                        "2015-11-11",
                        "2015-11-26",
                        "2015-11-27",
                        "2015-12-24",
                        "2015-12-25",
                        "2016-01-01",
                        "2016-01-18",
                        "2016-02-15",
                        "2016-03-25",
                        "2016-05-30",
                        "2016-07-04",
                        "2016-09-05",
                        "2016-10-10",
                        "2016-11-11",
                        "2016-11-24",
                        "2016-11-25",
                        "2016-12-26",
                        "2017-01-02",
                        "2017-01-16",
                        "2017-02-20",
                        "2017-04-14",
                        "2017-05-29",
                        "2017-07-03",
                        "2017-07-04",
                        "2017-09-04",
                        "2017-10-09",
                        "2017-11-23",
                        "2017-11-24",
                        "2017-12-25",
                        "2018-01-01",
                        "2018-01-15",
                        "2018-02-19",
                        "2018-03-30",
                        "2018-05-28",
                        "2018-07-03",
                        "2018-07-04",
                        "2018-09-03",
                        "2018-10-08",
                        "2018-11-12",
                        "2018-11-22",
                        "2018-11-23",
                        "2018-12-05",
                        "2018-12-24",
                        "2018-12-25",
                        "2019-01-01",
                        "2019-01-21",
                        "2019-02-18",
                        "2019-04-19",
                        "2019-05-27",
                        "2019-07-03",
                        "2019-07-04",
                        "2019-09-02",
                        "2019-10-14",
                        "2019-11-11",
                        "2019-11-28",
                        "2019-11-29",
                        "2019-12-24",
                        "2019-12-25",
                        "2020-01-01",
                        "2020-01-20",
                        "2020-02-17",
                        "2020-04-10",
                        "2020-05-25",
                        "2020-07-03",
                        "2020-09-07",
                        "2020-10-12",
                        "2020-11-11",
                        "2020-11-26",
                        "2020-11-27",
                        "2020-12-24",
                        "2020-12-25",
                        "2021-01-01",
                        "2021-01-18",
                        "2021-02-15",
                        "2021-04-02",
                        "2021-05-31",
                        "2021-07-05",
                        "2021-09-06",
                        "2021-10-11",
                        "2021-11-11",
                        "2021-11-25",
                        "2021-11-26",
                        "2021-12-24",
                        "2022-01-17",
                        "2022-02-21",
                        "2022-04-15",
                        "2022-05-30",
                        "2022-06-20",
                        "2022-07-04",
                        "2022-09-05",
                        "2022-10-10",
                        "2022-11-11",
                        "2022-11-24",
                        "2022-11-25",
                        "2022-12-26",
                        "2023-01-02",
                        "2023-01-16",
                        "2023-02-20",
                        "2023-04-07",
                        "2023-05-29",
                        "2023-06-19",
                        "2023-07-03",
                        "2023-07-04",
                        "2023-09-04",
                        "2023-10-09",
                        "2023-11-23",
                        "2023-11-24",
                        "2023-12-25",
                        "2024-01-01",
                        "2024-01-15",
                        "2024-02-19",
                        "2024-03-29",
                        "2024-05-27",
                        "2024-06-19",
                        "2024-07-03",
                        "2024-07-04",
                        "2024-09-02",
                        "2024-10-14",
                        "2024-11-11",
                        "2024-11-28",
                        "2024-11-29",
                        "2024-12-24",
                        "2024-12-25",
                        "2025-01-01",
                        "2025-01-20",
                        "2025-02-17",
                        "2025-04-18",
                        "2025-05-26",
                        "2025-06-19",
                        "2025-07-03",
                        "2025-07-04",
                        "2025-09-01",
                        "2025-10-13",
                        "2025-11-11",
                        "2025-11-27",
                        "2025-11-28",
                        "2025-12-24",
                        "2025-12-25"
                      ]
                    }
                  ],
                  "rangeslider": {
                    "visible": false
                  },
                  "showline": true,
                  "showspikes": true,
                  "showticklabels": false,
                  "spikecolor": "lightgray",
                  "spikedash": "dot",
                  "spikemode": "across",
                  "spikesnap": "cursor",
                  "spikethickness": 1,
                  "tickangle": 45
                },
                "xaxis2": {
                  "anchor": "y2",
                  "domain": [
                    0,
                    1
                  ],
                  "gridcolor": "lightgray",
                  "linecolor": "black",
                  "linewidth": 1,
                  "rangebreaks": [
                    {
                      "bounds": [
                        "sat",
                        "mon"
                      ]
                    },
                    {
                      "values": [
                        "2000-01-17",
                        "2000-02-21",
                        "2000-04-21",
                        "2000-05-29",
                        "2000-07-04",
                        "2000-09-04",
                        "2000-10-09",
                        "2000-11-23",
                        "2000-12-25",
                        "2001-01-01",
                        "2001-01-15",
                        "2001-02-19",
                        "2001-04-13",
                        "2001-05-28",
                        "2001-07-04",
                        "2001-09-03",
                        "2001-09-11",
                        "2001-09-12",
                        "2001-09-13",
                        "2001-09-14",
                        "2001-10-08",
                        "2001-11-12",
                        "2001-11-22",
                        "2001-12-25",
                        "2002-01-01",
                        "2002-01-21",
                        "2002-02-18",
                        "2002-03-29",
                        "2002-05-27",
                        "2002-07-04",
                        "2002-09-02",
                        "2002-10-14",
                        "2002-11-11",
                        "2002-11-28",
                        "2002-12-25",
                        "2003-01-01",
                        "2003-01-20",
                        "2003-02-17",
                        "2003-04-18",
                        "2003-05-26",
                        "2003-07-04",
                        "2003-09-01",
                        "2003-10-13",
                        "2003-11-11",
                        "2003-11-27",
                        "2003-12-25",
                        "2004-01-01",
                        "2004-01-19",
                        "2004-02-16",
                        "2004-04-09",
                        "2004-05-31",
                        "2004-06-11",
                        "2004-07-05",
                        "2004-09-06",
                        "2004-10-11",
                        "2004-11-11",
                        "2004-11-24",
                        "2004-12-24",
                        "2005-01-17",
                        "2005-02-21",
                        "2005-03-25",
                        "2005-05-30",
                        "2005-07-04",
                        "2005-09-05",
                        "2005-10-10",
                        "2005-11-11",
                        "2005-11-24",
                        "2005-12-26",
                        "2006-01-02",
                        "2006-01-16",
                        "2006-02-20",
                        "2006-04-14",
                        "2006-05-29",
                        "2006-07-04",
                        "2006-09-04",
                        "2006-10-09",
                        "2006-11-23",
                        "2006-12-25",
                        "2007-01-01",
                        "2007-01-02",
                        "2007-01-15",
                        "2007-02-19",
                        "2007-04-06",
                        "2007-05-28",
                        "2007-07-03",
                        "2007-07-04",
                        "2007-09-03",
                        "2007-10-08",
                        "2007-11-12",
                        "2007-11-22",
                        "2007-11-23",
                        "2007-12-24",
                        "2007-12-25",
                        "2008-01-01",
                        "2008-01-21",
                        "2008-02-18",
                        "2008-03-21",
                        "2008-05-26",
                        "2008-07-03",
                        "2008-07-04",
                        "2008-09-01",
                        "2008-10-13",
                        "2008-11-11",
                        "2008-11-27",
                        "2008-11-28",
                        "2008-12-24",
                        "2008-12-25",
                        "2009-01-01",
                        "2009-01-19",
                        "2009-02-16",
                        "2009-04-10",
                        "2009-05-25",
                        "2009-07-03",
                        "2009-09-07",
                        "2009-10-12",
                        "2009-11-11",
                        "2009-11-26",
                        "2009-11-27",
                        "2009-12-24",
                        "2009-12-25",
                        "2010-01-01",
                        "2010-01-18",
                        "2010-02-15",
                        "2010-04-02",
                        "2010-05-31",
                        "2010-07-05",
                        "2010-09-06",
                        "2010-10-11",
                        "2010-11-11",
                        "2010-11-25",
                        "2010-11-26",
                        "2010-12-24",
                        "2011-01-17",
                        "2011-02-21",
                        "2011-04-22",
                        "2011-05-30",
                        "2011-07-04",
                        "2011-09-05",
                        "2011-10-10",
                        "2011-11-11",
                        "2011-11-24",
                        "2011-11-25",
                        "2011-12-26",
                        "2012-01-02",
                        "2012-01-16",
                        "2012-02-20",
                        "2012-04-06",
                        "2012-05-28",
                        "2012-07-03",
                        "2012-07-04",
                        "2012-09-03",
                        "2012-10-08",
                        "2012-10-29",
                        "2012-10-30",
                        "2012-11-12",
                        "2012-11-22",
                        "2012-11-23",
                        "2012-12-24",
                        "2012-12-25",
                        "2013-01-01",
                        "2013-01-21",
                        "2013-02-18",
                        "2013-03-29",
                        "2013-05-27",
                        "2013-07-03",
                        "2013-07-04",
                        "2013-09-02",
                        "2013-10-14",
                        "2013-11-11",
                        "2013-11-28",
                        "2013-11-29",
                        "2013-12-24",
                        "2013-12-25",
                        "2014-01-01",
                        "2014-01-20",
                        "2014-02-17",
                        "2014-04-18",
                        "2014-05-26",
                        "2014-07-03",
                        "2014-07-04",
                        "2014-09-01",
                        "2014-10-13",
                        "2014-11-11",
                        "2014-11-27",
                        "2014-11-28",
                        "2014-12-24",
                        "2014-12-25",
                        "2015-01-01",
                        "2015-01-19",
                        "2015-02-16",
                        "2015-04-03",
                        "2015-05-25",
                        "2015-07-03",
                        "2015-09-07",
                        "2015-10-12",
                        "2015-11-11",
                        "2015-11-26",
                        "2015-11-27",
                        "2015-12-24",
                        "2015-12-25",
                        "2016-01-01",
                        "2016-01-18",
                        "2016-02-15",
                        "2016-03-25",
                        "2016-05-30",
                        "2016-07-04",
                        "2016-09-05",
                        "2016-10-10",
                        "2016-11-11",
                        "2016-11-24",
                        "2016-11-25",
                        "2016-12-26",
                        "2017-01-02",
                        "2017-01-16",
                        "2017-02-20",
                        "2017-04-14",
                        "2017-05-29",
                        "2017-07-03",
                        "2017-07-04",
                        "2017-09-04",
                        "2017-10-09",
                        "2017-11-23",
                        "2017-11-24",
                        "2017-12-25",
                        "2018-01-01",
                        "2018-01-15",
                        "2018-02-19",
                        "2018-03-30",
                        "2018-05-28",
                        "2018-07-03",
                        "2018-07-04",
                        "2018-09-03",
                        "2018-10-08",
                        "2018-11-12",
                        "2018-11-22",
                        "2018-11-23",
                        "2018-12-05",
                        "2018-12-24",
                        "2018-12-25",
                        "2019-01-01",
                        "2019-01-21",
                        "2019-02-18",
                        "2019-04-19",
                        "2019-05-27",
                        "2019-07-03",
                        "2019-07-04",
                        "2019-09-02",
                        "2019-10-14",
                        "2019-11-11",
                        "2019-11-28",
                        "2019-11-29",
                        "2019-12-24",
                        "2019-12-25",
                        "2020-01-01",
                        "2020-01-20",
                        "2020-02-17",
                        "2020-04-10",
                        "2020-05-25",
                        "2020-07-03",
                        "2020-09-07",
                        "2020-10-12",
                        "2020-11-11",
                        "2020-11-26",
                        "2020-11-27",
                        "2020-12-24",
                        "2020-12-25",
                        "2021-01-01",
                        "2021-01-18",
                        "2021-02-15",
                        "2021-04-02",
                        "2021-05-31",
                        "2021-07-05",
                        "2021-09-06",
                        "2021-10-11",
                        "2021-11-11",
                        "2021-11-25",
                        "2021-11-26",
                        "2021-12-24",
                        "2022-01-17",
                        "2022-02-21",
                        "2022-04-15",
                        "2022-05-30",
                        "2022-06-20",
                        "2022-07-04",
                        "2022-09-05",
                        "2022-10-10",
                        "2022-11-11",
                        "2022-11-24",
                        "2022-11-25",
                        "2022-12-26",
                        "2023-01-02",
                        "2023-01-16",
                        "2023-02-20",
                        "2023-04-07",
                        "2023-05-29",
                        "2023-06-19",
                        "2023-07-03",
                        "2023-07-04",
                        "2023-09-04",
                        "2023-10-09",
                        "2023-11-23",
                        "2023-11-24",
                        "2023-12-25",
                        "2024-01-01",
                        "2024-01-15",
                        "2024-02-19",
                        "2024-03-29",
                        "2024-05-27",
                        "2024-06-19",
                        "2024-07-03",
                        "2024-07-04",
                        "2024-09-02",
                        "2024-10-14",
                        "2024-11-11",
                        "2024-11-28",
                        "2024-11-29",
                        "2024-12-24",
                        "2024-12-25",
                        "2025-01-01",
                        "2025-01-20",
                        "2025-02-17",
                        "2025-04-18",
                        "2025-05-26",
                        "2025-06-19",
                        "2025-07-03",
                        "2025-07-04",
                        "2025-09-01",
                        "2025-10-13",
                        "2025-11-11",
                        "2025-11-27",
                        "2025-11-28",
                        "2025-12-24",
                        "2025-12-25"
                      ]
                    }
                  ],
                  "rangeslider": {
                    "visible": false
                  },
                  "showline": true,
                  "showspikes": true,
                  "spikecolor": "lightgray",
                  "spikedash": "dot",
                  "spikemode": "across",
                  "spikesnap": "cursor",
                  "spikethickness": 1,
                  "tickangle": 45,
                  "tickformat": "%Y-%m-%d"
                },
                "yaxis": {
                  "anchor": "x",
                  "domain": [
                    0.3,
                    1
                  ],
                  "gridcolor": "lightgray",
                  "linecolor": "black",
                  "linewidth": 1,
                  "showline": true
                },
                "yaxis2": {
                  "anchor": "x2",
                  "domain": [
                    0,
                    0.3
                  ],
                  "gridcolor": "lightgray",
                  "linecolor": "black",
                  "linewidth": 1,
                  "showline": true
                }
              }
            },
            "text/html": [
              "<div>                        <script type=\"text/javascript\">window.PlotlyConfig = {MathJaxConfig: 'local'};</script>\n",
              "        <script charset=\"utf-8\" src=\"https://cdn.plot.ly/plotly-3.0.1.min.js\"></script>                <div id=\"effeff3e-2bf7-4718-9673-46bbeb7009f9\" class=\"plotly-graph-div\" style=\"height:640px; width:1280px;\"></div>            <script type=\"text/javascript\">                window.PLOTLYENV=window.PLOTLYENV || {};                                if (document.getElementById(\"effeff3e-2bf7-4718-9673-46bbeb7009f9\")) {                    Plotly.newPlot(                        \"effeff3e-2bf7-4718-9673-46bbeb7009f9\",                        [{\"close\":{\"dtype\":\"i4\",\"bdata\":\"oNcAAMzYAADM2AAA+NkAAODdAADo5AAAbOgAAGDqAABg6gAAeOYAABztAAB07wAAwPMAANjvAABc8wAAgO0AALDlAADc5gAAcN8AAFDcAAA=\"},\"decreasing\":{\"fillcolor\":\"blue\",\"line\":{\"color\":\"blue\",\"width\":1.5}},\"high\":{\"dtype\":\"i4\",\"bdata\":\"wNoAABjdAAAw2QAAUNwAADjgAADo5AAANOkAAGDqAABI7gAA0OgAABztAAAw8gAAUPUAAMDzAACI9AAAaPEAAAjoAAA06QAAsOUAACDkAAA=\"},\"increasing\":{\"fillcolor\":\"red\",\"line\":{\"color\":\"red\",\"width\":1.5}},\"low\":{\"dtype\":\"i4\",\"bdata\":\"2NYAAHTWAABI1QAAMNkAAFzaAAA44AAAvOMAANzmAAD86QAAFOYAAHjmAABI7gAABPEAABDvAADw6wAAHO0AALzjAACw5QAA4N0AAFDcAAA=\"},\"name\":\"\",\"opacity\":0.75,\"open\":{\"dtype\":\"i4\",\"bdata\":\"zNgAAMDaAAB01gAAlNkAAIjbAAAg5AAAsOUAANDoAADw6wAAbOgAANzmAADM8QAAMPIAADDyAABU7AAAaPEAAAjoAADc5gAAsOUAAMjhAAA=\"},\"showlegend\":false,\"text\":[\"DoD: nan% OC: -0.5%, OH: 0.9%\",\"DoD: 0.5% OC: -0.9%, OH: 1.1%\",\"DoD: 0.0% OC: 1.1%, OH: 1.3%\",\"DoD: 0.5% OC: 0.2%, OH: 1.3%\",\"DoD: 1.8% OC: 1.1%, OH: 2.1%\",\"DoD: 3.2% OC: 0.3%, OH: 0.3%\",\"DoD: 1.5% OC: 1.2%, OH: 1.5%\",\"DoD: 0.8% OC: 0.7%, OH: 0.7%\",\"DoD: 0.0% OC: -0.7%, OH: 1.0%\",\"DoD: -1.7% OC: -0.8%, OH: 0.2%\",\"DoD: 2.9% OC: 2.7%, OH: 2.7%\",\"DoD: 1.0% OC: -1.0%, OH: 0.2%\",\"DoD: 1.8% OC: 0.6%, OH: 1.3%\",\"DoD: -1.6% OC: -1.0%, OH: 0.6%\",\"DoD: 1.5% OC: 3.0%, OH: 3.5%\",\"DoD: -2.4% OC: -1.6%, OH: 0.0%\",\"DoD: -3.3% OC: -1.0%, OH: 0.0%\",\"DoD: 0.5% OC: 0.0%, OH: 1.0%\",\"DoD: -3.2% OC: -2.7%, OH: 0.0%\",\"DoD: -1.4% OC: -2.4%, OH: 1.0%\"],\"x\":[\"2020-01-02T00:00:00.000000000\",\"2020-01-03T00:00:00.000000000\",\"2020-01-06T00:00:00.000000000\",\"2020-01-07T00:00:00.000000000\",\"2020-01-08T00:00:00.000000000\",\"2020-01-09T00:00:00.000000000\",\"2020-01-10T00:00:00.000000000\",\"2020-01-13T00:00:00.000000000\",\"2020-01-14T00:00:00.000000000\",\"2020-01-15T00:00:00.000000000\",\"2020-01-16T00:00:00.000000000\",\"2020-01-17T00:00:00.000000000\",\"2020-01-20T00:00:00.000000000\",\"2020-01-21T00:00:00.000000000\",\"2020-01-22T00:00:00.000000000\",\"2020-01-23T00:00:00.000000000\",\"2020-01-28T00:00:00.000000000\",\"2020-01-29T00:00:00.000000000\",\"2020-01-30T00:00:00.000000000\",\"2020-01-31T00:00:00.000000000\"],\"type\":\"candlestick\",\"xaxis\":\"x\",\"yaxis\":\"y\"},{\"marker\":{\"color\":[\"red\",\"red\",\"red\",\"red\",\"red\",\"red\",\"red\",\"red\",\"red\",\"blue\",\"red\",\"red\",\"red\",\"blue\",\"red\",\"blue\",\"blue\",\"red\",\"blue\",\"blue\"]},\"name\":\"\",\"opacity\":0.5,\"showlegend\":false,\"x\":[\"2020-01-02T00:00:00.000000000\",\"2020-01-03T00:00:00.000000000\",\"2020-01-06T00:00:00.000000000\",\"2020-01-07T00:00:00.000000000\",\"2020-01-08T00:00:00.000000000\",\"2020-01-09T00:00:00.000000000\",\"2020-01-10T00:00:00.000000000\",\"2020-01-13T00:00:00.000000000\",\"2020-01-14T00:00:00.000000000\",\"2020-01-15T00:00:00.000000000\",\"2020-01-16T00:00:00.000000000\",\"2020-01-17T00:00:00.000000000\",\"2020-01-20T00:00:00.000000000\",\"2020-01-21T00:00:00.000000000\",\"2020-01-22T00:00:00.000000000\",\"2020-01-23T00:00:00.000000000\",\"2020-01-28T00:00:00.000000000\",\"2020-01-29T00:00:00.000000000\",\"2020-01-30T00:00:00.000000000\",\"2020-01-31T00:00:00.000000000\"],\"y\":{\"dtype\":\"i4\",\"bdata\":\"zELGAC9T6wAn2JwAsryYAHOZZgGzxm8BqiT0AKNTrQA3+AEBADfaAM5y2wA9iPQA1yy\\u002fACUGqgAtEOoAy5vjAJ0XaQGW8voAs7c9AVFaLQE=\"},\"type\":\"bar\",\"xaxis\":\"x2\",\"yaxis\":\"y2\"},{\"line\":{\"color\":\"darkmagenta\",\"dash\":\"solid\",\"width\":0.75},\"name\":\"SMA_10\",\"x\":[\"2020-01-02T00:00:00.000000000\",\"2020-01-03T00:00:00.000000000\",\"2020-01-06T00:00:00.000000000\",\"2020-01-07T00:00:00.000000000\",\"2020-01-08T00:00:00.000000000\",\"2020-01-09T00:00:00.000000000\",\"2020-01-10T00:00:00.000000000\",\"2020-01-13T00:00:00.000000000\",\"2020-01-14T00:00:00.000000000\",\"2020-01-15T00:00:00.000000000\",\"2020-01-16T00:00:00.000000000\",\"2020-01-17T00:00:00.000000000\",\"2020-01-20T00:00:00.000000000\",\"2020-01-21T00:00:00.000000000\",\"2020-01-22T00:00:00.000000000\",\"2020-01-23T00:00:00.000000000\",\"2020-01-28T00:00:00.000000000\",\"2020-01-29T00:00:00.000000000\",\"2020-01-30T00:00:00.000000000\",\"2020-01-31T00:00:00.000000000\"],\"y\":{\"dtype\":\"f8\",\"bdata\":\"AAAAAAAA+H8AAAAAAAD4fwAAAAAAAPh\\u002fAAAAAAAA+H8AAAAAAAD4fwAAAAAAAPh\\u002fAAAAAAAA+H8AAAAAAAD4fwAAAAAAAPh\\u002fAAAAAMAe7EAAAAAAgGPsQAAAAAAArOxAAAAAAEAC7UAAAAAAQEjtQAAAAAAAje1AAAAAAICo7UAAAAAAwJ\\u002ftQAAAAACAlO1AAAAAAIBx7UAAAAAAAFHtQA==\"},\"type\":\"scatter\",\"xaxis\":\"x\",\"yaxis\":\"y\"},{\"line\":{\"color\":\"gold\",\"dash\":\"solid\",\"width\":0.75},\"name\":\"SMA_20\",\"x\":[\"2020-01-02T00:00:00.000000000\",\"2020-01-03T00:00:00.000000000\",\"2020-01-06T00:00:00.000000000\",\"2020-01-07T00:00:00.000000000\",\"2020-01-08T00:00:00.000000000\",\"2020-01-09T00:00:00.000000000\",\"2020-01-10T00:00:00.000000000\",\"2020-01-13T00:00:00.000000000\",\"2020-01-14T00:00:00.000000000\",\"2020-01-15T00:00:00.000000000\",\"2020-01-16T00:00:00.000000000\",\"2020-01-17T00:00:00.000000000\",\"2020-01-20T00:00:00.000000000\",\"2020-01-21T00:00:00.000000000\",\"2020-01-22T00:00:00.000000000\",\"2020-01-23T00:00:00.000000000\",\"2020-01-28T00:00:00.000000000\",\"2020-01-29T00:00:00.000000000\",\"2020-01-30T00:00:00.000000000\",\"2020-01-31T00:00:00.000000000\"],\"y\":{\"dtype\":\"f8\",\"bdata\":\"AAAAAAAA+H8AAAAAAAD4fwAAAAAAAPh\\u002fAAAAAAAA+H8AAAAAAAD4fwAAAAAAAPh\\u002fAAAAAAAA+H8AAAAAAAD4fwAAAAAAAPh\\u002fAAAAAAAA+H8AAAAAAAD4fwAAAAAAAPh\\u002fAAAAAAAA+H8AAAAAAAD4fwAAAAAAAPh\\u002fAAAAAAAA+H8AAAAAAAD4fwAAAAAAAPh\\u002fAAAAAAAA+H8AAAAA4LfsQA==\"},\"type\":\"scatter\",\"xaxis\":\"x\",\"yaxis\":\"y\"},{\"line\":{\"color\":\"limegreen\",\"dash\":\"solid\",\"width\":0.75},\"name\":\"SMA_60\",\"x\":[\"2020-01-02T00:00:00.000000000\",\"2020-01-03T00:00:00.000000000\",\"2020-01-06T00:00:00.000000000\",\"2020-01-07T00:00:00.000000000\",\"2020-01-08T00:00:00.000000000\",\"2020-01-09T00:00:00.000000000\",\"2020-01-10T00:00:00.000000000\",\"2020-01-13T00:00:00.000000000\",\"2020-01-14T00:00:00.000000000\",\"2020-01-15T00:00:00.000000000\",\"2020-01-16T00:00:00.000000000\",\"2020-01-17T00:00:00.000000000\",\"2020-01-20T00:00:00.000000000\",\"2020-01-21T00:00:00.000000000\",\"2020-01-22T00:00:00.000000000\",\"2020-01-23T00:00:00.000000000\",\"2020-01-28T00:00:00.000000000\",\"2020-01-29T00:00:00.000000000\",\"2020-01-30T00:00:00.000000000\",\"2020-01-31T00:00:00.000000000\"],\"y\":{\"dtype\":\"f8\",\"bdata\":\"AAAAAAAA+H8AAAAAAAD4fwAAAAAAAPh\\u002fAAAAAAAA+H8AAAAAAAD4fwAAAAAAAPh\\u002fAAAAAAAA+H8AAAAAAAD4fwAAAAAAAPh\\u002fAAAAAAAA+H8AAAAAAAD4fwAAAAAAAPh\\u002fAAAAAAAA+H8AAAAAAAD4fwAAAAAAAPh\\u002fAAAAAAAA+H8AAAAAAAD4fwAAAAAAAPh\\u002fAAAAAAAA+H8AAAAAAAD4fw==\"},\"type\":\"scatter\",\"xaxis\":\"x\",\"yaxis\":\"y\"}],                        {\"template\":{\"data\":{\"histogram2dcontour\":[{\"type\":\"histogram2dcontour\",\"colorbar\":{\"outlinewidth\":0,\"ticks\":\"\"},\"colorscale\":[[0.0,\"#0d0887\"],[0.1111111111111111,\"#46039f\"],[0.2222222222222222,\"#7201a8\"],[0.3333333333333333,\"#9c179e\"],[0.4444444444444444,\"#bd3786\"],[0.5555555555555556,\"#d8576b\"],[0.6666666666666666,\"#ed7953\"],[0.7777777777777778,\"#fb9f3a\"],[0.8888888888888888,\"#fdca26\"],[1.0,\"#f0f921\"]]}],\"choropleth\":[{\"type\":\"choropleth\",\"colorbar\":{\"outlinewidth\":0,\"ticks\":\"\"}}],\"histogram2d\":[{\"type\":\"histogram2d\",\"colorbar\":{\"outlinewidth\":0,\"ticks\":\"\"},\"colorscale\":[[0.0,\"#0d0887\"],[0.1111111111111111,\"#46039f\"],[0.2222222222222222,\"#7201a8\"],[0.3333333333333333,\"#9c179e\"],[0.4444444444444444,\"#bd3786\"],[0.5555555555555556,\"#d8576b\"],[0.6666666666666666,\"#ed7953\"],[0.7777777777777778,\"#fb9f3a\"],[0.8888888888888888,\"#fdca26\"],[1.0,\"#f0f921\"]]}],\"heatmap\":[{\"type\":\"heatmap\",\"colorbar\":{\"outlinewidth\":0,\"ticks\":\"\"},\"colorscale\":[[0.0,\"#0d0887\"],[0.1111111111111111,\"#46039f\"],[0.2222222222222222,\"#7201a8\"],[0.3333333333333333,\"#9c179e\"],[0.4444444444444444,\"#bd3786\"],[0.5555555555555556,\"#d8576b\"],[0.6666666666666666,\"#ed7953\"],[0.7777777777777778,\"#fb9f3a\"],[0.8888888888888888,\"#fdca26\"],[1.0,\"#f0f921\"]]}],\"contourcarpet\":[{\"type\":\"contourcarpet\",\"colorbar\":{\"outlinewidth\":0,\"ticks\":\"\"}}],\"contour\":[{\"type\":\"contour\",\"colorbar\":{\"outlinewidth\":0,\"ticks\":\"\"},\"colorscale\":[[0.0,\"#0d0887\"],[0.1111111111111111,\"#46039f\"],[0.2222222222222222,\"#7201a8\"],[0.3333333333333333,\"#9c179e\"],[0.4444444444444444,\"#bd3786\"],[0.5555555555555556,\"#d8576b\"],[0.6666666666666666,\"#ed7953\"],[0.7777777777777778,\"#fb9f3a\"],[0.8888888888888888,\"#fdca26\"],[1.0,\"#f0f921\"]]}],\"surface\":[{\"type\":\"surface\",\"colorbar\":{\"outlinewidth\":0,\"ticks\":\"\"},\"colorscale\":[[0.0,\"#0d0887\"],[0.1111111111111111,\"#46039f\"],[0.2222222222222222,\"#7201a8\"],[0.3333333333333333,\"#9c179e\"],[0.4444444444444444,\"#bd3786\"],[0.5555555555555556,\"#d8576b\"],[0.6666666666666666,\"#ed7953\"],[0.7777777777777778,\"#fb9f3a\"],[0.8888888888888888,\"#fdca26\"],[1.0,\"#f0f921\"]]}],\"mesh3d\":[{\"type\":\"mesh3d\",\"colorbar\":{\"outlinewidth\":0,\"ticks\":\"\"}}],\"scatter\":[{\"fillpattern\":{\"fillmode\":\"overlay\",\"size\":10,\"solidity\":0.2},\"type\":\"scatter\"}],\"parcoords\":[{\"type\":\"parcoords\",\"line\":{\"colorbar\":{\"outlinewidth\":0,\"ticks\":\"\"}}}],\"scatterpolargl\":[{\"type\":\"scatterpolargl\",\"marker\":{\"colorbar\":{\"outlinewidth\":0,\"ticks\":\"\"}}}],\"bar\":[{\"error_x\":{\"color\":\"#2a3f5f\"},\"error_y\":{\"color\":\"#2a3f5f\"},\"marker\":{\"line\":{\"color\":\"white\",\"width\":0.5},\"pattern\":{\"fillmode\":\"overlay\",\"size\":10,\"solidity\":0.2}},\"type\":\"bar\"}],\"scattergeo\":[{\"type\":\"scattergeo\",\"marker\":{\"colorbar\":{\"outlinewidth\":0,\"ticks\":\"\"}}}],\"scatterpolar\":[{\"type\":\"scatterpolar\",\"marker\":{\"colorbar\":{\"outlinewidth\":0,\"ticks\":\"\"}}}],\"histogram\":[{\"marker\":{\"pattern\":{\"fillmode\":\"overlay\",\"size\":10,\"solidity\":0.2}},\"type\":\"histogram\"}],\"scattergl\":[{\"type\":\"scattergl\",\"marker\":{\"colorbar\":{\"outlinewidth\":0,\"ticks\":\"\"}}}],\"scatter3d\":[{\"type\":\"scatter3d\",\"line\":{\"colorbar\":{\"outlinewidth\":0,\"ticks\":\"\"}},\"marker\":{\"colorbar\":{\"outlinewidth\":0,\"ticks\":\"\"}}}],\"scattermap\":[{\"type\":\"scattermap\",\"marker\":{\"colorbar\":{\"outlinewidth\":0,\"ticks\":\"\"}}}],\"scattermapbox\":[{\"type\":\"scattermapbox\",\"marker\":{\"colorbar\":{\"outlinewidth\":0,\"ticks\":\"\"}}}],\"scatterternary\":[{\"type\":\"scatterternary\",\"marker\":{\"colorbar\":{\"outlinewidth\":0,\"ticks\":\"\"}}}],\"scattercarpet\":[{\"type\":\"scattercarpet\",\"marker\":{\"colorbar\":{\"outlinewidth\":0,\"ticks\":\"\"}}}],\"carpet\":[{\"aaxis\":{\"endlinecolor\":\"#2a3f5f\",\"gridcolor\":\"#C8D4E3\",\"linecolor\":\"#C8D4E3\",\"minorgridcolor\":\"#C8D4E3\",\"startlinecolor\":\"#2a3f5f\"},\"baxis\":{\"endlinecolor\":\"#2a3f5f\",\"gridcolor\":\"#C8D4E3\",\"linecolor\":\"#C8D4E3\",\"minorgridcolor\":\"#C8D4E3\",\"startlinecolor\":\"#2a3f5f\"},\"type\":\"carpet\"}],\"table\":[{\"cells\":{\"fill\":{\"color\":\"#EBF0F8\"},\"line\":{\"color\":\"white\"}},\"header\":{\"fill\":{\"color\":\"#C8D4E3\"},\"line\":{\"color\":\"white\"}},\"type\":\"table\"}],\"barpolar\":[{\"marker\":{\"line\":{\"color\":\"white\",\"width\":0.5},\"pattern\":{\"fillmode\":\"overlay\",\"size\":10,\"solidity\":0.2}},\"type\":\"barpolar\"}],\"pie\":[{\"automargin\":true,\"type\":\"pie\"}]},\"layout\":{\"autotypenumbers\":\"strict\",\"colorway\":[\"#636efa\",\"#EF553B\",\"#00cc96\",\"#ab63fa\",\"#FFA15A\",\"#19d3f3\",\"#FF6692\",\"#B6E880\",\"#FF97FF\",\"#FECB52\"],\"font\":{\"color\":\"#2a3f5f\"},\"hovermode\":\"closest\",\"hoverlabel\":{\"align\":\"left\"},\"paper_bgcolor\":\"white\",\"plot_bgcolor\":\"white\",\"polar\":{\"bgcolor\":\"white\",\"angularaxis\":{\"gridcolor\":\"#EBF0F8\",\"linecolor\":\"#EBF0F8\",\"ticks\":\"\"},\"radialaxis\":{\"gridcolor\":\"#EBF0F8\",\"linecolor\":\"#EBF0F8\",\"ticks\":\"\"}},\"ternary\":{\"bgcolor\":\"white\",\"aaxis\":{\"gridcolor\":\"#DFE8F3\",\"linecolor\":\"#A2B1C6\",\"ticks\":\"\"},\"baxis\":{\"gridcolor\":\"#DFE8F3\",\"linecolor\":\"#A2B1C6\",\"ticks\":\"\"},\"caxis\":{\"gridcolor\":\"#DFE8F3\",\"linecolor\":\"#A2B1C6\",\"ticks\":\"\"}},\"coloraxis\":{\"colorbar\":{\"outlinewidth\":0,\"ticks\":\"\"}},\"colorscale\":{\"sequential\":[[0.0,\"#0d0887\"],[0.1111111111111111,\"#46039f\"],[0.2222222222222222,\"#7201a8\"],[0.3333333333333333,\"#9c179e\"],[0.4444444444444444,\"#bd3786\"],[0.5555555555555556,\"#d8576b\"],[0.6666666666666666,\"#ed7953\"],[0.7777777777777778,\"#fb9f3a\"],[0.8888888888888888,\"#fdca26\"],[1.0,\"#f0f921\"]],\"sequentialminus\":[[0.0,\"#0d0887\"],[0.1111111111111111,\"#46039f\"],[0.2222222222222222,\"#7201a8\"],[0.3333333333333333,\"#9c179e\"],[0.4444444444444444,\"#bd3786\"],[0.5555555555555556,\"#d8576b\"],[0.6666666666666666,\"#ed7953\"],[0.7777777777777778,\"#fb9f3a\"],[0.8888888888888888,\"#fdca26\"],[1.0,\"#f0f921\"]],\"diverging\":[[0,\"#8e0152\"],[0.1,\"#c51b7d\"],[0.2,\"#de77ae\"],[0.3,\"#f1b6da\"],[0.4,\"#fde0ef\"],[0.5,\"#f7f7f7\"],[0.6,\"#e6f5d0\"],[0.7,\"#b8e186\"],[0.8,\"#7fbc41\"],[0.9,\"#4d9221\"],[1,\"#276419\"]]},\"xaxis\":{\"gridcolor\":\"#EBF0F8\",\"linecolor\":\"#EBF0F8\",\"ticks\":\"\",\"title\":{\"standoff\":15},\"zerolinecolor\":\"#EBF0F8\",\"automargin\":true,\"zerolinewidth\":2},\"yaxis\":{\"gridcolor\":\"#EBF0F8\",\"linecolor\":\"#EBF0F8\",\"ticks\":\"\",\"title\":{\"standoff\":15},\"zerolinecolor\":\"#EBF0F8\",\"automargin\":true,\"zerolinewidth\":2},\"scene\":{\"xaxis\":{\"backgroundcolor\":\"white\",\"gridcolor\":\"#DFE8F3\",\"linecolor\":\"#EBF0F8\",\"showbackground\":true,\"ticks\":\"\",\"zerolinecolor\":\"#EBF0F8\",\"gridwidth\":2},\"yaxis\":{\"backgroundcolor\":\"white\",\"gridcolor\":\"#DFE8F3\",\"linecolor\":\"#EBF0F8\",\"showbackground\":true,\"ticks\":\"\",\"zerolinecolor\":\"#EBF0F8\",\"gridwidth\":2},\"zaxis\":{\"backgroundcolor\":\"white\",\"gridcolor\":\"#DFE8F3\",\"linecolor\":\"#EBF0F8\",\"showbackground\":true,\"ticks\":\"\",\"zerolinecolor\":\"#EBF0F8\",\"gridwidth\":2}},\"shapedefaults\":{\"line\":{\"color\":\"#2a3f5f\"}},\"annotationdefaults\":{\"arrowcolor\":\"#2a3f5f\",\"arrowhead\":0,\"arrowwidth\":1},\"geo\":{\"bgcolor\":\"white\",\"landcolor\":\"white\",\"subunitcolor\":\"#C8D4E3\",\"showland\":true,\"showlakes\":true,\"lakecolor\":\"white\"},\"title\":{\"x\":0.05},\"mapbox\":{\"style\":\"light\"}}},\"xaxis\":{\"anchor\":\"y\",\"domain\":[0.0,1.0],\"matches\":\"x2\",\"showticklabels\":false,\"rangeslider\":{\"visible\":false},\"rangebreaks\":[{\"bounds\":[\"sat\",\"mon\"]},{\"values\":[\"2000-01-17\",\"2000-02-21\",\"2000-04-21\",\"2000-05-29\",\"2000-07-04\",\"2000-09-04\",\"2000-10-09\",\"2000-11-23\",\"2000-12-25\",\"2001-01-01\",\"2001-01-15\",\"2001-02-19\",\"2001-04-13\",\"2001-05-28\",\"2001-07-04\",\"2001-09-03\",\"2001-09-11\",\"2001-09-12\",\"2001-09-13\",\"2001-09-14\",\"2001-10-08\",\"2001-11-12\",\"2001-11-22\",\"2001-12-25\",\"2002-01-01\",\"2002-01-21\",\"2002-02-18\",\"2002-03-29\",\"2002-05-27\",\"2002-07-04\",\"2002-09-02\",\"2002-10-14\",\"2002-11-11\",\"2002-11-28\",\"2002-12-25\",\"2003-01-01\",\"2003-01-20\",\"2003-02-17\",\"2003-04-18\",\"2003-05-26\",\"2003-07-04\",\"2003-09-01\",\"2003-10-13\",\"2003-11-11\",\"2003-11-27\",\"2003-12-25\",\"2004-01-01\",\"2004-01-19\",\"2004-02-16\",\"2004-04-09\",\"2004-05-31\",\"2004-06-11\",\"2004-07-05\",\"2004-09-06\",\"2004-10-11\",\"2004-11-11\",\"2004-11-24\",\"2004-12-24\",\"2005-01-17\",\"2005-02-21\",\"2005-03-25\",\"2005-05-30\",\"2005-07-04\",\"2005-09-05\",\"2005-10-10\",\"2005-11-11\",\"2005-11-24\",\"2005-12-26\",\"2006-01-02\",\"2006-01-16\",\"2006-02-20\",\"2006-04-14\",\"2006-05-29\",\"2006-07-04\",\"2006-09-04\",\"2006-10-09\",\"2006-11-23\",\"2006-12-25\",\"2007-01-01\",\"2007-01-02\",\"2007-01-15\",\"2007-02-19\",\"2007-04-06\",\"2007-05-28\",\"2007-07-03\",\"2007-07-04\",\"2007-09-03\",\"2007-10-08\",\"2007-11-12\",\"2007-11-22\",\"2007-11-23\",\"2007-12-24\",\"2007-12-25\",\"2008-01-01\",\"2008-01-21\",\"2008-02-18\",\"2008-03-21\",\"2008-05-26\",\"2008-07-03\",\"2008-07-04\",\"2008-09-01\",\"2008-10-13\",\"2008-11-11\",\"2008-11-27\",\"2008-11-28\",\"2008-12-24\",\"2008-12-25\",\"2009-01-01\",\"2009-01-19\",\"2009-02-16\",\"2009-04-10\",\"2009-05-25\",\"2009-07-03\",\"2009-09-07\",\"2009-10-12\",\"2009-11-11\",\"2009-11-26\",\"2009-11-27\",\"2009-12-24\",\"2009-12-25\",\"2010-01-01\",\"2010-01-18\",\"2010-02-15\",\"2010-04-02\",\"2010-05-31\",\"2010-07-05\",\"2010-09-06\",\"2010-10-11\",\"2010-11-11\",\"2010-11-25\",\"2010-11-26\",\"2010-12-24\",\"2011-01-17\",\"2011-02-21\",\"2011-04-22\",\"2011-05-30\",\"2011-07-04\",\"2011-09-05\",\"2011-10-10\",\"2011-11-11\",\"2011-11-24\",\"2011-11-25\",\"2011-12-26\",\"2012-01-02\",\"2012-01-16\",\"2012-02-20\",\"2012-04-06\",\"2012-05-28\",\"2012-07-03\",\"2012-07-04\",\"2012-09-03\",\"2012-10-08\",\"2012-10-29\",\"2012-10-30\",\"2012-11-12\",\"2012-11-22\",\"2012-11-23\",\"2012-12-24\",\"2012-12-25\",\"2013-01-01\",\"2013-01-21\",\"2013-02-18\",\"2013-03-29\",\"2013-05-27\",\"2013-07-03\",\"2013-07-04\",\"2013-09-02\",\"2013-10-14\",\"2013-11-11\",\"2013-11-28\",\"2013-11-29\",\"2013-12-24\",\"2013-12-25\",\"2014-01-01\",\"2014-01-20\",\"2014-02-17\",\"2014-04-18\",\"2014-05-26\",\"2014-07-03\",\"2014-07-04\",\"2014-09-01\",\"2014-10-13\",\"2014-11-11\",\"2014-11-27\",\"2014-11-28\",\"2014-12-24\",\"2014-12-25\",\"2015-01-01\",\"2015-01-19\",\"2015-02-16\",\"2015-04-03\",\"2015-05-25\",\"2015-07-03\",\"2015-09-07\",\"2015-10-12\",\"2015-11-11\",\"2015-11-26\",\"2015-11-27\",\"2015-12-24\",\"2015-12-25\",\"2016-01-01\",\"2016-01-18\",\"2016-02-15\",\"2016-03-25\",\"2016-05-30\",\"2016-07-04\",\"2016-09-05\",\"2016-10-10\",\"2016-11-11\",\"2016-11-24\",\"2016-11-25\",\"2016-12-26\",\"2017-01-02\",\"2017-01-16\",\"2017-02-20\",\"2017-04-14\",\"2017-05-29\",\"2017-07-03\",\"2017-07-04\",\"2017-09-04\",\"2017-10-09\",\"2017-11-23\",\"2017-11-24\",\"2017-12-25\",\"2018-01-01\",\"2018-01-15\",\"2018-02-19\",\"2018-03-30\",\"2018-05-28\",\"2018-07-03\",\"2018-07-04\",\"2018-09-03\",\"2018-10-08\",\"2018-11-12\",\"2018-11-22\",\"2018-11-23\",\"2018-12-05\",\"2018-12-24\",\"2018-12-25\",\"2019-01-01\",\"2019-01-21\",\"2019-02-18\",\"2019-04-19\",\"2019-05-27\",\"2019-07-03\",\"2019-07-04\",\"2019-09-02\",\"2019-10-14\",\"2019-11-11\",\"2019-11-28\",\"2019-11-29\",\"2019-12-24\",\"2019-12-25\",\"2020-01-01\",\"2020-01-20\",\"2020-02-17\",\"2020-04-10\",\"2020-05-25\",\"2020-07-03\",\"2020-09-07\",\"2020-10-12\",\"2020-11-11\",\"2020-11-26\",\"2020-11-27\",\"2020-12-24\",\"2020-12-25\",\"2021-01-01\",\"2021-01-18\",\"2021-02-15\",\"2021-04-02\",\"2021-05-31\",\"2021-07-05\",\"2021-09-06\",\"2021-10-11\",\"2021-11-11\",\"2021-11-25\",\"2021-11-26\",\"2021-12-24\",\"2022-01-17\",\"2022-02-21\",\"2022-04-15\",\"2022-05-30\",\"2022-06-20\",\"2022-07-04\",\"2022-09-05\",\"2022-10-10\",\"2022-11-11\",\"2022-11-24\",\"2022-11-25\",\"2022-12-26\",\"2023-01-02\",\"2023-01-16\",\"2023-02-20\",\"2023-04-07\",\"2023-05-29\",\"2023-06-19\",\"2023-07-03\",\"2023-07-04\",\"2023-09-04\",\"2023-10-09\",\"2023-11-23\",\"2023-11-24\",\"2023-12-25\",\"2024-01-01\",\"2024-01-15\",\"2024-02-19\",\"2024-03-29\",\"2024-05-27\",\"2024-06-19\",\"2024-07-03\",\"2024-07-04\",\"2024-09-02\",\"2024-10-14\",\"2024-11-11\",\"2024-11-28\",\"2024-11-29\",\"2024-12-24\",\"2024-12-25\",\"2025-01-01\",\"2025-01-20\",\"2025-02-17\",\"2025-04-18\",\"2025-05-26\",\"2025-06-19\",\"2025-07-03\",\"2025-07-04\",\"2025-09-01\",\"2025-10-13\",\"2025-11-11\",\"2025-11-27\",\"2025-11-28\",\"2025-12-24\",\"2025-12-25\"]}],\"showline\":true,\"linewidth\":1,\"linecolor\":\"black\",\"gridcolor\":\"lightgray\",\"tickangle\":45,\"showspikes\":true,\"spikethickness\":1,\"spikedash\":\"dot\",\"spikecolor\":\"lightgray\",\"spikemode\":\"across\",\"spikesnap\":\"cursor\"},\"yaxis\":{\"anchor\":\"x\",\"domain\":[0.3,1.0],\"showline\":true,\"linewidth\":1,\"linecolor\":\"black\",\"gridcolor\":\"lightgray\"},\"xaxis2\":{\"anchor\":\"y2\",\"domain\":[0.0,1.0],\"rangeslider\":{\"visible\":false},\"rangebreaks\":[{\"bounds\":[\"sat\",\"mon\"]},{\"values\":[\"2000-01-17\",\"2000-02-21\",\"2000-04-21\",\"2000-05-29\",\"2000-07-04\",\"2000-09-04\",\"2000-10-09\",\"2000-11-23\",\"2000-12-25\",\"2001-01-01\",\"2001-01-15\",\"2001-02-19\",\"2001-04-13\",\"2001-05-28\",\"2001-07-04\",\"2001-09-03\",\"2001-09-11\",\"2001-09-12\",\"2001-09-13\",\"2001-09-14\",\"2001-10-08\",\"2001-11-12\",\"2001-11-22\",\"2001-12-25\",\"2002-01-01\",\"2002-01-21\",\"2002-02-18\",\"2002-03-29\",\"2002-05-27\",\"2002-07-04\",\"2002-09-02\",\"2002-10-14\",\"2002-11-11\",\"2002-11-28\",\"2002-12-25\",\"2003-01-01\",\"2003-01-20\",\"2003-02-17\",\"2003-04-18\",\"2003-05-26\",\"2003-07-04\",\"2003-09-01\",\"2003-10-13\",\"2003-11-11\",\"2003-11-27\",\"2003-12-25\",\"2004-01-01\",\"2004-01-19\",\"2004-02-16\",\"2004-04-09\",\"2004-05-31\",\"2004-06-11\",\"2004-07-05\",\"2004-09-06\",\"2004-10-11\",\"2004-11-11\",\"2004-11-24\",\"2004-12-24\",\"2005-01-17\",\"2005-02-21\",\"2005-03-25\",\"2005-05-30\",\"2005-07-04\",\"2005-09-05\",\"2005-10-10\",\"2005-11-11\",\"2005-11-24\",\"2005-12-26\",\"2006-01-02\",\"2006-01-16\",\"2006-02-20\",\"2006-04-14\",\"2006-05-29\",\"2006-07-04\",\"2006-09-04\",\"2006-10-09\",\"2006-11-23\",\"2006-12-25\",\"2007-01-01\",\"2007-01-02\",\"2007-01-15\",\"2007-02-19\",\"2007-04-06\",\"2007-05-28\",\"2007-07-03\",\"2007-07-04\",\"2007-09-03\",\"2007-10-08\",\"2007-11-12\",\"2007-11-22\",\"2007-11-23\",\"2007-12-24\",\"2007-12-25\",\"2008-01-01\",\"2008-01-21\",\"2008-02-18\",\"2008-03-21\",\"2008-05-26\",\"2008-07-03\",\"2008-07-04\",\"2008-09-01\",\"2008-10-13\",\"2008-11-11\",\"2008-11-27\",\"2008-11-28\",\"2008-12-24\",\"2008-12-25\",\"2009-01-01\",\"2009-01-19\",\"2009-02-16\",\"2009-04-10\",\"2009-05-25\",\"2009-07-03\",\"2009-09-07\",\"2009-10-12\",\"2009-11-11\",\"2009-11-26\",\"2009-11-27\",\"2009-12-24\",\"2009-12-25\",\"2010-01-01\",\"2010-01-18\",\"2010-02-15\",\"2010-04-02\",\"2010-05-31\",\"2010-07-05\",\"2010-09-06\",\"2010-10-11\",\"2010-11-11\",\"2010-11-25\",\"2010-11-26\",\"2010-12-24\",\"2011-01-17\",\"2011-02-21\",\"2011-04-22\",\"2011-05-30\",\"2011-07-04\",\"2011-09-05\",\"2011-10-10\",\"2011-11-11\",\"2011-11-24\",\"2011-11-25\",\"2011-12-26\",\"2012-01-02\",\"2012-01-16\",\"2012-02-20\",\"2012-04-06\",\"2012-05-28\",\"2012-07-03\",\"2012-07-04\",\"2012-09-03\",\"2012-10-08\",\"2012-10-29\",\"2012-10-30\",\"2012-11-12\",\"2012-11-22\",\"2012-11-23\",\"2012-12-24\",\"2012-12-25\",\"2013-01-01\",\"2013-01-21\",\"2013-02-18\",\"2013-03-29\",\"2013-05-27\",\"2013-07-03\",\"2013-07-04\",\"2013-09-02\",\"2013-10-14\",\"2013-11-11\",\"2013-11-28\",\"2013-11-29\",\"2013-12-24\",\"2013-12-25\",\"2014-01-01\",\"2014-01-20\",\"2014-02-17\",\"2014-04-18\",\"2014-05-26\",\"2014-07-03\",\"2014-07-04\",\"2014-09-01\",\"2014-10-13\",\"2014-11-11\",\"2014-11-27\",\"2014-11-28\",\"2014-12-24\",\"2014-12-25\",\"2015-01-01\",\"2015-01-19\",\"2015-02-16\",\"2015-04-03\",\"2015-05-25\",\"2015-07-03\",\"2015-09-07\",\"2015-10-12\",\"2015-11-11\",\"2015-11-26\",\"2015-11-27\",\"2015-12-24\",\"2015-12-25\",\"2016-01-01\",\"2016-01-18\",\"2016-02-15\",\"2016-03-25\",\"2016-05-30\",\"2016-07-04\",\"2016-09-05\",\"2016-10-10\",\"2016-11-11\",\"2016-11-24\",\"2016-11-25\",\"2016-12-26\",\"2017-01-02\",\"2017-01-16\",\"2017-02-20\",\"2017-04-14\",\"2017-05-29\",\"2017-07-03\",\"2017-07-04\",\"2017-09-04\",\"2017-10-09\",\"2017-11-23\",\"2017-11-24\",\"2017-12-25\",\"2018-01-01\",\"2018-01-15\",\"2018-02-19\",\"2018-03-30\",\"2018-05-28\",\"2018-07-03\",\"2018-07-04\",\"2018-09-03\",\"2018-10-08\",\"2018-11-12\",\"2018-11-22\",\"2018-11-23\",\"2018-12-05\",\"2018-12-24\",\"2018-12-25\",\"2019-01-01\",\"2019-01-21\",\"2019-02-18\",\"2019-04-19\",\"2019-05-27\",\"2019-07-03\",\"2019-07-04\",\"2019-09-02\",\"2019-10-14\",\"2019-11-11\",\"2019-11-28\",\"2019-11-29\",\"2019-12-24\",\"2019-12-25\",\"2020-01-01\",\"2020-01-20\",\"2020-02-17\",\"2020-04-10\",\"2020-05-25\",\"2020-07-03\",\"2020-09-07\",\"2020-10-12\",\"2020-11-11\",\"2020-11-26\",\"2020-11-27\",\"2020-12-24\",\"2020-12-25\",\"2021-01-01\",\"2021-01-18\",\"2021-02-15\",\"2021-04-02\",\"2021-05-31\",\"2021-07-05\",\"2021-09-06\",\"2021-10-11\",\"2021-11-11\",\"2021-11-25\",\"2021-11-26\",\"2021-12-24\",\"2022-01-17\",\"2022-02-21\",\"2022-04-15\",\"2022-05-30\",\"2022-06-20\",\"2022-07-04\",\"2022-09-05\",\"2022-10-10\",\"2022-11-11\",\"2022-11-24\",\"2022-11-25\",\"2022-12-26\",\"2023-01-02\",\"2023-01-16\",\"2023-02-20\",\"2023-04-07\",\"2023-05-29\",\"2023-06-19\",\"2023-07-03\",\"2023-07-04\",\"2023-09-04\",\"2023-10-09\",\"2023-11-23\",\"2023-11-24\",\"2023-12-25\",\"2024-01-01\",\"2024-01-15\",\"2024-02-19\",\"2024-03-29\",\"2024-05-27\",\"2024-06-19\",\"2024-07-03\",\"2024-07-04\",\"2024-09-02\",\"2024-10-14\",\"2024-11-11\",\"2024-11-28\",\"2024-11-29\",\"2024-12-24\",\"2024-12-25\",\"2025-01-01\",\"2025-01-20\",\"2025-02-17\",\"2025-04-18\",\"2025-05-26\",\"2025-06-19\",\"2025-07-03\",\"2025-07-04\",\"2025-09-01\",\"2025-10-13\",\"2025-11-11\",\"2025-11-27\",\"2025-11-28\",\"2025-12-24\",\"2025-12-25\"]}],\"showline\":true,\"linewidth\":1,\"linecolor\":\"black\",\"gridcolor\":\"lightgray\",\"tickformat\":\"%Y-%m-%d\",\"tickangle\":45,\"showspikes\":true,\"spikethickness\":1,\"spikedash\":\"dot\",\"spikecolor\":\"lightgray\",\"spikemode\":\"across\",\"spikesnap\":\"cursor\"},\"yaxis2\":{\"anchor\":\"x2\",\"domain\":[0.0,0.3],\"showline\":true,\"linewidth\":1,\"linecolor\":\"black\",\"gridcolor\":\"lightgray\"},\"plot_bgcolor\":\"white\",\"paper_bgcolor\":\"white\",\"hovermode\":\"x\",\"margin\":{\"b\":0,\"l\":0,\"r\":0,\"t\":0},\"width\":1280,\"height\":640},                        {\"responsive\": true}                    )                };            </script>        </div>"
            ],
            "text/plain": [
              "Figure({\n",
              "    'data': [{'close': {'bdata': ('oNcAAMzYAADM2AAA+NkAAODdAADo5A' ... 'AAgO0AALDlAADc5gAAcN8AAFDcAAA='),\n",
              "                        'dtype': 'i4'},\n",
              "              'decreasing': {'fillcolor': 'blue', 'line': {'color': 'blue', 'width': 1.5}},\n",
              "              'high': {'bdata': ('wNoAABjdAAAw2QAAUNwAADjgAADo5A' ... 'AAaPEAAAjoAAA06QAAsOUAACDkAAA='),\n",
              "                       'dtype': 'i4'},\n",
              "              'increasing': {'fillcolor': 'red', 'line': {'color': 'red', 'width': 1.5}},\n",
              "              'low': {'bdata': ('2NYAAHTWAABI1QAAMNkAAFzaAAA44A' ... 'AAHO0AALzjAACw5QAA4N0AAFDcAAA='),\n",
              "                      'dtype': 'i4'},\n",
              "              'name': '',\n",
              "              'opacity': 0.75,\n",
              "              'open': {'bdata': ('zNgAAMDaAAB01gAAlNkAAIjbAAAg5A' ... 'AAaPEAAAjoAADc5gAAsOUAAMjhAAA='),\n",
              "                       'dtype': 'i4'},\n",
              "              'showlegend': False,\n",
              "              'text': [DoD: nan% OC: -0.5%, OH: 0.9%, DoD: 0.5% OC: -0.9%, OH:\n",
              "                       1.1%, DoD: 0.0% OC: 1.1%, OH: 1.3%, DoD: 0.5% OC: 0.2%, OH:\n",
              "                       1.3%, DoD: 1.8% OC: 1.1%, OH: 2.1%, DoD: 3.2% OC: 0.3%, OH:\n",
              "                       0.3%, DoD: 1.5% OC: 1.2%, OH: 1.5%, DoD: 0.8% OC: 0.7%, OH:\n",
              "                       0.7%, DoD: 0.0% OC: -0.7%, OH: 1.0%, DoD: -1.7% OC: -0.8%,\n",
              "                       OH: 0.2%, DoD: 2.9% OC: 2.7%, OH: 2.7%, DoD: 1.0% OC: -1.0%,\n",
              "                       OH: 0.2%, DoD: 1.8% OC: 0.6%, OH: 1.3%, DoD: -1.6% OC:\n",
              "                       -1.0%, OH: 0.6%, DoD: 1.5% OC: 3.0%, OH: 3.5%, DoD: -2.4%\n",
              "                       OC: -1.6%, OH: 0.0%, DoD: -3.3% OC: -1.0%, OH: 0.0%, DoD:\n",
              "                       0.5% OC: 0.0%, OH: 1.0%, DoD: -3.2% OC: -2.7%, OH: 0.0%,\n",
              "                       DoD: -1.4% OC: -2.4%, OH: 1.0%],\n",
              "              'type': 'candlestick',\n",
              "              'x': array(['2020-01-02T00:00:00.000000000', '2020-01-03T00:00:00.000000000',\n",
              "                          '2020-01-06T00:00:00.000000000', '2020-01-07T00:00:00.000000000',\n",
              "                          '2020-01-08T00:00:00.000000000', '2020-01-09T00:00:00.000000000',\n",
              "                          '2020-01-10T00:00:00.000000000', '2020-01-13T00:00:00.000000000',\n",
              "                          '2020-01-14T00:00:00.000000000', '2020-01-15T00:00:00.000000000',\n",
              "                          '2020-01-16T00:00:00.000000000', '2020-01-17T00:00:00.000000000',\n",
              "                          '2020-01-20T00:00:00.000000000', '2020-01-21T00:00:00.000000000',\n",
              "                          '2020-01-22T00:00:00.000000000', '2020-01-23T00:00:00.000000000',\n",
              "                          '2020-01-28T00:00:00.000000000', '2020-01-29T00:00:00.000000000',\n",
              "                          '2020-01-30T00:00:00.000000000', '2020-01-31T00:00:00.000000000'],\n",
              "                         dtype='datetime64[ns]'),\n",
              "              'xaxis': 'x',\n",
              "              'yaxis': 'y'},\n",
              "             {'marker': {'color': array(['red', 'red', 'red', 'red', 'red', 'red', 'red', 'red', 'red', 'blue',\n",
              "                                         'red', 'red', 'red', 'blue', 'red', 'blue', 'blue', 'red', 'blue',\n",
              "                                         'blue'], dtype=object)},\n",
              "              'name': '',\n",
              "              'opacity': 0.5,\n",
              "              'showlegend': False,\n",
              "              'type': 'bar',\n",
              "              'x': array(['2020-01-02T00:00:00.000000000', '2020-01-03T00:00:00.000000000',\n",
              "                          '2020-01-06T00:00:00.000000000', '2020-01-07T00:00:00.000000000',\n",
              "                          '2020-01-08T00:00:00.000000000', '2020-01-09T00:00:00.000000000',\n",
              "                          '2020-01-10T00:00:00.000000000', '2020-01-13T00:00:00.000000000',\n",
              "                          '2020-01-14T00:00:00.000000000', '2020-01-15T00:00:00.000000000',\n",
              "                          '2020-01-16T00:00:00.000000000', '2020-01-17T00:00:00.000000000',\n",
              "                          '2020-01-20T00:00:00.000000000', '2020-01-21T00:00:00.000000000',\n",
              "                          '2020-01-22T00:00:00.000000000', '2020-01-23T00:00:00.000000000',\n",
              "                          '2020-01-28T00:00:00.000000000', '2020-01-29T00:00:00.000000000',\n",
              "                          '2020-01-30T00:00:00.000000000', '2020-01-31T00:00:00.000000000'],\n",
              "                         dtype='datetime64[ns]'),\n",
              "              'xaxis': 'x2',\n",
              "              'y': {'bdata': ('zELGAC9T6wAn2JwAsryYAHOZZgGzxm' ... 'oAy5vjAJ0XaQGW8voAs7c9AVFaLQE='),\n",
              "                    'dtype': 'i4'},\n",
              "              'yaxis': 'y2'},\n",
              "             {'line': {'color': 'darkmagenta', 'dash': 'solid', 'width': 0.75},\n",
              "              'name': 'SMA_10',\n",
              "              'type': 'scatter',\n",
              "              'x': array(['2020-01-02T00:00:00.000000000', '2020-01-03T00:00:00.000000000',\n",
              "                          '2020-01-06T00:00:00.000000000', '2020-01-07T00:00:00.000000000',\n",
              "                          '2020-01-08T00:00:00.000000000', '2020-01-09T00:00:00.000000000',\n",
              "                          '2020-01-10T00:00:00.000000000', '2020-01-13T00:00:00.000000000',\n",
              "                          '2020-01-14T00:00:00.000000000', '2020-01-15T00:00:00.000000000',\n",
              "                          '2020-01-16T00:00:00.000000000', '2020-01-17T00:00:00.000000000',\n",
              "                          '2020-01-20T00:00:00.000000000', '2020-01-21T00:00:00.000000000',\n",
              "                          '2020-01-22T00:00:00.000000000', '2020-01-23T00:00:00.000000000',\n",
              "                          '2020-01-28T00:00:00.000000000', '2020-01-29T00:00:00.000000000',\n",
              "                          '2020-01-30T00:00:00.000000000', '2020-01-31T00:00:00.000000000'],\n",
              "                         dtype='datetime64[ns]'),\n",
              "              'xaxis': 'x',\n",
              "              'y': {'bdata': ('AAAAAAAA+H8AAAAAAAD4fwAAAAAAAP' ... 'CAlO1AAAAAAIBx7UAAAAAAAFHtQA=='),\n",
              "                    'dtype': 'f8'},\n",
              "              'yaxis': 'y'},\n",
              "             {'line': {'color': 'gold', 'dash': 'solid', 'width': 0.75},\n",
              "              'name': 'SMA_20',\n",
              "              'type': 'scatter',\n",
              "              'x': array(['2020-01-02T00:00:00.000000000', '2020-01-03T00:00:00.000000000',\n",
              "                          '2020-01-06T00:00:00.000000000', '2020-01-07T00:00:00.000000000',\n",
              "                          '2020-01-08T00:00:00.000000000', '2020-01-09T00:00:00.000000000',\n",
              "                          '2020-01-10T00:00:00.000000000', '2020-01-13T00:00:00.000000000',\n",
              "                          '2020-01-14T00:00:00.000000000', '2020-01-15T00:00:00.000000000',\n",
              "                          '2020-01-16T00:00:00.000000000', '2020-01-17T00:00:00.000000000',\n",
              "                          '2020-01-20T00:00:00.000000000', '2020-01-21T00:00:00.000000000',\n",
              "                          '2020-01-22T00:00:00.000000000', '2020-01-23T00:00:00.000000000',\n",
              "                          '2020-01-28T00:00:00.000000000', '2020-01-29T00:00:00.000000000',\n",
              "                          '2020-01-30T00:00:00.000000000', '2020-01-31T00:00:00.000000000'],\n",
              "                         dtype='datetime64[ns]'),\n",
              "              'xaxis': 'x',\n",
              "              'y': {'bdata': ('AAAAAAAA+H8AAAAAAAD4fwAAAAAAAP' ... 'AAAPh/AAAAAAAA+H8AAAAA4LfsQA=='),\n",
              "                    'dtype': 'f8'},\n",
              "              'yaxis': 'y'},\n",
              "             {'line': {'color': 'limegreen', 'dash': 'solid', 'width': 0.75},\n",
              "              'name': 'SMA_60',\n",
              "              'type': 'scatter',\n",
              "              'x': array(['2020-01-02T00:00:00.000000000', '2020-01-03T00:00:00.000000000',\n",
              "                          '2020-01-06T00:00:00.000000000', '2020-01-07T00:00:00.000000000',\n",
              "                          '2020-01-08T00:00:00.000000000', '2020-01-09T00:00:00.000000000',\n",
              "                          '2020-01-10T00:00:00.000000000', '2020-01-13T00:00:00.000000000',\n",
              "                          '2020-01-14T00:00:00.000000000', '2020-01-15T00:00:00.000000000',\n",
              "                          '2020-01-16T00:00:00.000000000', '2020-01-17T00:00:00.000000000',\n",
              "                          '2020-01-20T00:00:00.000000000', '2020-01-21T00:00:00.000000000',\n",
              "                          '2020-01-22T00:00:00.000000000', '2020-01-23T00:00:00.000000000',\n",
              "                          '2020-01-28T00:00:00.000000000', '2020-01-29T00:00:00.000000000',\n",
              "                          '2020-01-30T00:00:00.000000000', '2020-01-31T00:00:00.000000000'],\n",
              "                         dtype='datetime64[ns]'),\n",
              "              'xaxis': 'x',\n",
              "              'y': {'bdata': ('AAAAAAAA+H8AAAAAAAD4fwAAAAAAAP' ... 'AAAPh/AAAAAAAA+H8AAAAAAAD4fw=='),\n",
              "                    'dtype': 'f8'},\n",
              "              'yaxis': 'y'}],\n",
              "    'layout': {'height': 640,\n",
              "               'hovermode': 'x',\n",
              "               'margin': {'b': 0, 'l': 0, 'r': 0, 't': 0},\n",
              "               'paper_bgcolor': 'white',\n",
              "               'plot_bgcolor': 'white',\n",
              "               'template': '...',\n",
              "               'width': 1280,\n",
              "               'xaxis': {'anchor': 'y',\n",
              "                         'domain': [0.0, 1.0],\n",
              "                         'gridcolor': 'lightgray',\n",
              "                         'linecolor': 'black',\n",
              "                         'linewidth': 1,\n",
              "                         'matches': 'x2',\n",
              "                         'rangebreaks': [{'bounds': ['sat', 'mon']},\n",
              "                                         {'values': [2000-01-17, 2000-02-21,\n",
              "                                                     2000-04-21, ..., 2025-11-28,\n",
              "                                                     2025-12-24, 2025-12-25]}],\n",
              "                         'rangeslider': {'visible': False},\n",
              "                         'showline': True,\n",
              "                         'showspikes': True,\n",
              "                         'showticklabels': False,\n",
              "                         'spikecolor': 'lightgray',\n",
              "                         'spikedash': 'dot',\n",
              "                         'spikemode': 'across',\n",
              "                         'spikesnap': 'cursor',\n",
              "                         'spikethickness': 1,\n",
              "                         'tickangle': 45},\n",
              "               'xaxis2': {'anchor': 'y2',\n",
              "                          'domain': [0.0, 1.0],\n",
              "                          'gridcolor': 'lightgray',\n",
              "                          'linecolor': 'black',\n",
              "                          'linewidth': 1,\n",
              "                          'rangebreaks': [{'bounds': ['sat', 'mon']},\n",
              "                                          {'values': [2000-01-17, 2000-02-21,\n",
              "                                                      2000-04-21, ..., 2025-11-28,\n",
              "                                                      2025-12-24, 2025-12-25]}],\n",
              "                          'rangeslider': {'visible': False},\n",
              "                          'showline': True,\n",
              "                          'showspikes': True,\n",
              "                          'spikecolor': 'lightgray',\n",
              "                          'spikedash': 'dot',\n",
              "                          'spikemode': 'across',\n",
              "                          'spikesnap': 'cursor',\n",
              "                          'spikethickness': 1,\n",
              "                          'tickangle': 45,\n",
              "                          'tickformat': '%Y-%m-%d'},\n",
              "               'yaxis': {'anchor': 'x',\n",
              "                         'domain': [0.3, 1.0],\n",
              "                         'gridcolor': 'lightgray',\n",
              "                         'linecolor': 'black',\n",
              "                         'linewidth': 1,\n",
              "                         'showline': True},\n",
              "               'yaxis2': {'anchor': 'x2',\n",
              "                          'domain': [0.0, 0.3],\n",
              "                          'gridcolor': 'lightgray',\n",
              "                          'linecolor': 'black',\n",
              "                          'linewidth': 1,\n",
              "                          'showline': True}}\n",
              "})"
            ]
          },
          "execution_count": 21,
          "metadata": {},
          "output_type": "execute_result"
        }
      ],
      "source": [
        "# 캔들차트 그리기\n",
        "df1 = fdr.DataReader('005930', '2020-01', '2020-02')\n",
        "fdr.chart.candle(df1)"
      ]
    },
    {
      "cell_type": "code",
      "execution_count": 22,
      "metadata": {
        "colab": {
          "base_uri": "https://localhost:8080/",
          "height": 330
        },
        "id": "Uhxbvot5LtJ1",
        "outputId": "bb7c4bea-219c-4a7c-8c4d-73c07f288a18"
      },
      "outputs": [
        {
          "data": {
            "text/html": [
              "<div>\n",
              "<style scoped>\n",
              "    .dataframe tbody tr th:only-of-type {\n",
              "        vertical-align: middle;\n",
              "    }\n",
              "\n",
              "    .dataframe tbody tr th {\n",
              "        vertical-align: top;\n",
              "    }\n",
              "\n",
              "    .dataframe thead th {\n",
              "        text-align: right;\n",
              "    }\n",
              "</style>\n",
              "<table border=\"1\" class=\"dataframe\">\n",
              "  <thead>\n",
              "    <tr style=\"text-align: right;\">\n",
              "      <th></th>\n",
              "      <th>Open</th>\n",
              "      <th>High</th>\n",
              "      <th>Low</th>\n",
              "      <th>Close</th>\n",
              "      <th>Volume</th>\n",
              "      <th>Change</th>\n",
              "      <th>Code</th>\n",
              "    </tr>\n",
              "    <tr>\n",
              "      <th>Date</th>\n",
              "      <th></th>\n",
              "      <th></th>\n",
              "      <th></th>\n",
              "      <th></th>\n",
              "      <th></th>\n",
              "      <th></th>\n",
              "      <th></th>\n",
              "    </tr>\n",
              "  </thead>\n",
              "  <tbody>\n",
              "    <tr>\n",
              "      <th>2018-01-02</th>\n",
              "      <td>51380</td>\n",
              "      <td>51400</td>\n",
              "      <td>50780</td>\n",
              "      <td>51020</td>\n",
              "      <td>169485</td>\n",
              "      <td>0.001177</td>\n",
              "      <td>005930</td>\n",
              "    </tr>\n",
              "    <tr>\n",
              "      <th>2018-01-03</th>\n",
              "      <td>52540</td>\n",
              "      <td>52560</td>\n",
              "      <td>51420</td>\n",
              "      <td>51620</td>\n",
              "      <td>200270</td>\n",
              "      <td>0.011760</td>\n",
              "      <td>005930</td>\n",
              "    </tr>\n",
              "    <tr>\n",
              "      <th>2018-01-04</th>\n",
              "      <td>52120</td>\n",
              "      <td>52180</td>\n",
              "      <td>50640</td>\n",
              "      <td>51080</td>\n",
              "      <td>233909</td>\n",
              "      <td>-0.010461</td>\n",
              "      <td>005930</td>\n",
              "    </tr>\n",
              "    <tr>\n",
              "      <th>...</th>\n",
              "      <td>...</td>\n",
              "      <td>...</td>\n",
              "      <td>...</td>\n",
              "      <td>...</td>\n",
              "      <td>...</td>\n",
              "      <td>...</td>\n",
              "      <td>...</td>\n",
              "    </tr>\n",
              "    <tr>\n",
              "      <th>2020-12-28</th>\n",
              "      <td>75168</td>\n",
              "      <td>75670</td>\n",
              "      <td>74164</td>\n",
              "      <td>74867</td>\n",
              "      <td>646464</td>\n",
              "      <td>-0.002678</td>\n",
              "      <td>035720</td>\n",
              "    </tr>\n",
              "    <tr>\n",
              "      <th>2020-12-29</th>\n",
              "      <td>76472</td>\n",
              "      <td>77375</td>\n",
              "      <td>75869</td>\n",
              "      <td>77175</td>\n",
              "      <td>857404</td>\n",
              "      <td>0.030828</td>\n",
              "      <td>035720</td>\n",
              "    </tr>\n",
              "    <tr>\n",
              "      <th>2020-12-30</th>\n",
              "      <td>77175</td>\n",
              "      <td>79082</td>\n",
              "      <td>76974</td>\n",
              "      <td>78179</td>\n",
              "      <td>813142</td>\n",
              "      <td>0.013009</td>\n",
              "      <td>035720</td>\n",
              "    </tr>\n",
              "  </tbody>\n",
              "</table>\n",
              "<p>1476 rows × 7 columns</p>\n",
              "</div>"
            ],
            "text/plain": [
              "             Open   High    Low  Close  Volume    Change    Code\n",
              "Date                                                            \n",
              "2018-01-02  51380  51400  50780  51020  169485  0.001177  005930\n",
              "2018-01-03  52540  52560  51420  51620  200270  0.011760  005930\n",
              "2018-01-04  52120  52180  50640  51080  233909 -0.010461  005930\n",
              "...           ...    ...    ...    ...     ...       ...     ...\n",
              "2020-12-28  75168  75670  74164  74867  646464 -0.002678  035720\n",
              "2020-12-29  76472  77375  75869  77175  857404  0.030828  035720\n",
              "2020-12-30  77175  79082  76974  78179  813142  0.013009  035720\n",
              "\n",
              "[1476 rows x 7 columns]"
            ]
          },
          "execution_count": 22,
          "metadata": {},
          "output_type": "execute_result"
        }
      ],
      "source": [
        "# 삼성전자와 카카오 두개 종목의 주가데이터 합쳐서 불러오기\n",
        "stocks = ['005930', '035720']\n",
        "df_ex1 = pd.DataFrame()\n",
        "for i in stocks:\n",
        "  df = fdr.DataReader(i, '2018', '2021')\n",
        "  df['Code'] = i\n",
        "  df_ex1 = pd.concat([df_ex1, df])\n",
        "df_ex1"
      ]
    },
    {
      "cell_type": "markdown",
      "metadata": {
        "id": "TNFeTPB5q1iu"
      },
      "source": [
        "**주식 종목 코드와 종목명 얻기**\n",
        "\n",
        "- `FinanceDataReader`를 통해서 주가 데이터를 가져오려면 종목 코드가 필요하다\n",
        "\n",
        "- `FinanceDataReader`도 기본적인 종목명과 코드를 제공하지만 보다 세부적인 지표와 함께 종목코드와 종목명을 얻기 위해 KRX 사이트를 이용하자\n",
        "\n",
        "  <img src=https://i.ibb.co/ZNLKc86/09-04.png, width=600>\n",
        "\n",
        "  http://data.krx.co.kr/contents/MDC/MDI/mdiLoader/index.cmd?menuId=MDC0201\n",
        "\n",
        "\n",
        "- 단순히 종목코드와 종목명 뿐만 아니라 시가총액, 등락률 등으로 원하는 종목을 필터링해서 파일로 가져올 수 있다\n",
        "\n",
        "- 파일에서 데이터 프레임을 불러낼 수 있으니 종목의 데이터를 활용할 수 있다\n",
        "\n",
        "\n",
        "- 단순 실습을 원하는 경우 23-02-27 기준의 전종목 데이터를 미리 다운받아둔 `./09_01_stock_230227.csv` 파일을 이용하자\n",
        "\n",
        "- 실제 주가 데이터를 업무에 활용하는 경우는 직접 다운받아서 활용하자"
      ]
    },
    {
      "cell_type": "code",
      "execution_count": 25,
      "metadata": {
        "colab": {
          "base_uri": "https://localhost:8080/",
          "height": 298
        },
        "id": "LIX9HYpHMVqn",
        "outputId": "c56c4c3c-5817-46fe-82d0-3de659340d37"
      },
      "outputs": [
        {
          "data": {
            "text/html": [
              "<div>\n",
              "<style scoped>\n",
              "    .dataframe tbody tr th:only-of-type {\n",
              "        vertical-align: middle;\n",
              "    }\n",
              "\n",
              "    .dataframe tbody tr th {\n",
              "        vertical-align: top;\n",
              "    }\n",
              "\n",
              "    .dataframe thead th {\n",
              "        text-align: right;\n",
              "    }\n",
              "</style>\n",
              "<table border=\"1\" class=\"dataframe\">\n",
              "  <thead>\n",
              "    <tr style=\"text-align: right;\">\n",
              "      <th></th>\n",
              "      <th>종목코드</th>\n",
              "      <th>종목명</th>\n",
              "    </tr>\n",
              "  </thead>\n",
              "  <tbody>\n",
              "    <tr>\n",
              "      <th>999</th>\n",
              "      <td>005930</td>\n",
              "      <td>삼성전자</td>\n",
              "    </tr>\n",
              "    <tr>\n",
              "      <th>155</th>\n",
              "      <td>373220</td>\n",
              "      <td>LG에너지솔루션</td>\n",
              "    </tr>\n",
              "    <tr>\n",
              "      <th>247</th>\n",
              "      <td>000660</td>\n",
              "      <td>SK하이닉스</td>\n",
              "    </tr>\n",
              "    <tr>\n",
              "      <th>...</th>\n",
              "      <td>...</td>\n",
              "      <td>...</td>\n",
              "    </tr>\n",
              "    <tr>\n",
              "      <th>645</th>\n",
              "      <td>241560</td>\n",
              "      <td>두산밥캣</td>\n",
              "    </tr>\n",
              "    <tr>\n",
              "      <th>2342</th>\n",
              "      <td>028670</td>\n",
              "      <td>팬오션</td>\n",
              "    </tr>\n",
              "    <tr>\n",
              "      <th>1006</th>\n",
              "      <td>029780</td>\n",
              "      <td>삼성카드</td>\n",
              "    </tr>\n",
              "  </tbody>\n",
              "</table>\n",
              "<p>90 rows × 2 columns</p>\n",
              "</div>"
            ],
            "text/plain": [
              "        종목코드       종목명\n",
              "999   005930      삼성전자\n",
              "155   373220  LG에너지솔루션\n",
              "247   000660    SK하이닉스\n",
              "...      ...       ...\n",
              "645   241560      두산밥캣\n",
              "2342  028670       팬오션\n",
              "1006  029780      삼성카드\n",
              "\n",
              "[90 rows x 2 columns]"
            ]
          },
          "execution_count": 25,
          "metadata": {},
          "output_type": "execute_result"
        }
      ],
      "source": [
        "# KRX 사이트에서 현시점 기준 시가총액 상위 90개의 종목 리스트 가져오기\n",
        "url1 = './09_01_stock_230227.csv'\n",
        "df_stocks = pd.read_csv(url1).iloc[:, [0, 1, 2, 4, 5, 6, 7, 8, 9, 12]]\n",
        "df_90 = df_stocks.sort_values('시가총액', ascending=False).iloc[:90, [0, 1]]\n",
        "df_90"
      ]
    },
    {
      "cell_type": "code",
      "execution_count": 26,
      "metadata": {
        "colab": {
          "base_uri": "https://localhost:8080/",
          "height": 457
        },
        "id": "A_CxqLIHLquC",
        "outputId": "aa90afb9-3d14-4f7f-99d3-30c9caef3b77"
      },
      "outputs": [
        {
          "data": {
            "text/html": [
              "<div>\n",
              "<style scoped>\n",
              "    .dataframe tbody tr th:only-of-type {\n",
              "        vertical-align: middle;\n",
              "    }\n",
              "\n",
              "    .dataframe tbody tr th {\n",
              "        vertical-align: top;\n",
              "    }\n",
              "\n",
              "    .dataframe thead th {\n",
              "        text-align: right;\n",
              "    }\n",
              "</style>\n",
              "<table border=\"1\" class=\"dataframe\">\n",
              "  <thead>\n",
              "    <tr style=\"text-align: right;\">\n",
              "      <th></th>\n",
              "      <th>Open</th>\n",
              "      <th>High</th>\n",
              "      <th>Low</th>\n",
              "      <th>Close</th>\n",
              "      <th>Volume</th>\n",
              "      <th>Change</th>\n",
              "      <th>Code</th>\n",
              "    </tr>\n",
              "    <tr>\n",
              "      <th>Date</th>\n",
              "      <th></th>\n",
              "      <th></th>\n",
              "      <th></th>\n",
              "      <th></th>\n",
              "      <th></th>\n",
              "      <th></th>\n",
              "      <th></th>\n",
              "    </tr>\n",
              "  </thead>\n",
              "  <tbody>\n",
              "    <tr>\n",
              "      <th>2018-01-02</th>\n",
              "      <td>51380</td>\n",
              "      <td>51400</td>\n",
              "      <td>50780</td>\n",
              "      <td>51020</td>\n",
              "      <td>169485</td>\n",
              "      <td>0.001177</td>\n",
              "      <td>005930</td>\n",
              "    </tr>\n",
              "    <tr>\n",
              "      <th>2018-01-03</th>\n",
              "      <td>52540</td>\n",
              "      <td>52560</td>\n",
              "      <td>51420</td>\n",
              "      <td>51620</td>\n",
              "      <td>200270</td>\n",
              "      <td>0.011760</td>\n",
              "      <td>005930</td>\n",
              "    </tr>\n",
              "    <tr>\n",
              "      <th>2018-01-04</th>\n",
              "      <td>52120</td>\n",
              "      <td>52180</td>\n",
              "      <td>50640</td>\n",
              "      <td>51080</td>\n",
              "      <td>233909</td>\n",
              "      <td>-0.010461</td>\n",
              "      <td>005930</td>\n",
              "    </tr>\n",
              "    <tr>\n",
              "      <th>...</th>\n",
              "      <td>...</td>\n",
              "      <td>...</td>\n",
              "      <td>...</td>\n",
              "      <td>...</td>\n",
              "      <td>...</td>\n",
              "      <td>...</td>\n",
              "      <td>...</td>\n",
              "    </tr>\n",
              "    <tr>\n",
              "      <th>2020-12-28</th>\n",
              "      <td>35700</td>\n",
              "      <td>35700</td>\n",
              "      <td>34700</td>\n",
              "      <td>35050</td>\n",
              "      <td>348624</td>\n",
              "      <td>-0.005674</td>\n",
              "      <td>029780</td>\n",
              "    </tr>\n",
              "    <tr>\n",
              "      <th>2020-12-29</th>\n",
              "      <td>33500</td>\n",
              "      <td>33600</td>\n",
              "      <td>32750</td>\n",
              "      <td>33100</td>\n",
              "      <td>325446</td>\n",
              "      <td>-0.055635</td>\n",
              "      <td>029780</td>\n",
              "    </tr>\n",
              "    <tr>\n",
              "      <th>2020-12-30</th>\n",
              "      <td>33050</td>\n",
              "      <td>33050</td>\n",
              "      <td>32000</td>\n",
              "      <td>32500</td>\n",
              "      <td>256237</td>\n",
              "      <td>-0.018127</td>\n",
              "      <td>029780</td>\n",
              "    </tr>\n",
              "  </tbody>\n",
              "</table>\n",
              "<p>57262 rows × 7 columns</p>\n",
              "</div>"
            ],
            "text/plain": [
              "             Open   High    Low  Close  Volume    Change    Code\n",
              "Date                                                            \n",
              "2018-01-02  51380  51400  50780  51020  169485  0.001177  005930\n",
              "2018-01-03  52540  52560  51420  51620  200270  0.011760  005930\n",
              "2018-01-04  52120  52180  50640  51080  233909 -0.010461  005930\n",
              "...           ...    ...    ...    ...     ...       ...     ...\n",
              "2020-12-28  35700  35700  34700  35050  348624 -0.005674  029780\n",
              "2020-12-29  33500  33600  32750  33100  325446 -0.055635  029780\n",
              "2020-12-30  33050  33050  32000  32500  256237 -0.018127  029780\n",
              "\n",
              "[57262 rows x 7 columns]"
            ]
          },
          "execution_count": 26,
          "metadata": {},
          "output_type": "execute_result"
        }
      ],
      "source": [
        "# 현시점 기준 시가총액 상위 90개의 2018~2020년 주가 가져오기\n",
        "stocks = df_90['종목코드'].tolist()\n",
        "df_ex1 = pd.DataFrame()\n",
        "for i in stocks:\n",
        "  df = fdr.DataReader(i, '2018', '2021')\n",
        "  df['Code'] = i\n",
        "  df_ex1 = pd.concat([df_ex1, df])\n",
        "df_ex1"
      ]
    },
    {
      "cell_type": "markdown",
      "metadata": {
        "id": "GTtxJcGyU30D"
      },
      "source": [
        "현 시점 기준으로는 시총 상위 90개에 해당하지만 2020년에 상장하지 않은 종목들이 있어 90개 종목의 데이터는 아니다"
      ]
    },
    {
      "cell_type": "code",
      "execution_count": 27,
      "metadata": {
        "colab": {
          "base_uri": "https://localhost:8080/",
          "height": 298
        },
        "id": "g5FBPfksMhgU",
        "outputId": "96016c64-9d8d-407d-c6c5-b8adbb79d083"
      },
      "outputs": [
        {
          "data": {
            "text/html": [
              "<div>\n",
              "<style scoped>\n",
              "    .dataframe tbody tr th:only-of-type {\n",
              "        vertical-align: middle;\n",
              "    }\n",
              "\n",
              "    .dataframe tbody tr th {\n",
              "        vertical-align: top;\n",
              "    }\n",
              "\n",
              "    .dataframe thead th {\n",
              "        text-align: right;\n",
              "    }\n",
              "</style>\n",
              "<table border=\"1\" class=\"dataframe\">\n",
              "  <thead>\n",
              "    <tr style=\"text-align: right;\">\n",
              "      <th></th>\n",
              "      <th>Date</th>\n",
              "      <th>Open</th>\n",
              "      <th>High</th>\n",
              "      <th>Low</th>\n",
              "      <th>Close</th>\n",
              "      <th>Volume</th>\n",
              "      <th>Change</th>\n",
              "      <th>Code</th>\n",
              "      <th>Stock</th>\n",
              "    </tr>\n",
              "  </thead>\n",
              "  <tbody>\n",
              "    <tr>\n",
              "      <th>0</th>\n",
              "      <td>2018-01-02</td>\n",
              "      <td>51380</td>\n",
              "      <td>51400</td>\n",
              "      <td>50780</td>\n",
              "      <td>51020</td>\n",
              "      <td>169485</td>\n",
              "      <td>0.001177</td>\n",
              "      <td>005930</td>\n",
              "      <td>삼성전자</td>\n",
              "    </tr>\n",
              "    <tr>\n",
              "      <th>1</th>\n",
              "      <td>2018-01-03</td>\n",
              "      <td>52540</td>\n",
              "      <td>52560</td>\n",
              "      <td>51420</td>\n",
              "      <td>51620</td>\n",
              "      <td>200270</td>\n",
              "      <td>0.011760</td>\n",
              "      <td>005930</td>\n",
              "      <td>삼성전자</td>\n",
              "    </tr>\n",
              "    <tr>\n",
              "      <th>2</th>\n",
              "      <td>2018-01-04</td>\n",
              "      <td>52120</td>\n",
              "      <td>52180</td>\n",
              "      <td>50640</td>\n",
              "      <td>51080</td>\n",
              "      <td>233909</td>\n",
              "      <td>-0.010461</td>\n",
              "      <td>005930</td>\n",
              "      <td>삼성전자</td>\n",
              "    </tr>\n",
              "    <tr>\n",
              "      <th>...</th>\n",
              "      <td>...</td>\n",
              "      <td>...</td>\n",
              "      <td>...</td>\n",
              "      <td>...</td>\n",
              "      <td>...</td>\n",
              "      <td>...</td>\n",
              "      <td>...</td>\n",
              "      <td>...</td>\n",
              "      <td>...</td>\n",
              "    </tr>\n",
              "    <tr>\n",
              "      <th>57259</th>\n",
              "      <td>2020-12-28</td>\n",
              "      <td>35700</td>\n",
              "      <td>35700</td>\n",
              "      <td>34700</td>\n",
              "      <td>35050</td>\n",
              "      <td>348624</td>\n",
              "      <td>-0.005674</td>\n",
              "      <td>029780</td>\n",
              "      <td>삼성카드</td>\n",
              "    </tr>\n",
              "    <tr>\n",
              "      <th>57260</th>\n",
              "      <td>2020-12-29</td>\n",
              "      <td>33500</td>\n",
              "      <td>33600</td>\n",
              "      <td>32750</td>\n",
              "      <td>33100</td>\n",
              "      <td>325446</td>\n",
              "      <td>-0.055635</td>\n",
              "      <td>029780</td>\n",
              "      <td>삼성카드</td>\n",
              "    </tr>\n",
              "    <tr>\n",
              "      <th>57261</th>\n",
              "      <td>2020-12-30</td>\n",
              "      <td>33050</td>\n",
              "      <td>33050</td>\n",
              "      <td>32000</td>\n",
              "      <td>32500</td>\n",
              "      <td>256237</td>\n",
              "      <td>-0.018127</td>\n",
              "      <td>029780</td>\n",
              "      <td>삼성카드</td>\n",
              "    </tr>\n",
              "  </tbody>\n",
              "</table>\n",
              "<p>57262 rows × 9 columns</p>\n",
              "</div>"
            ],
            "text/plain": [
              "            Date   Open   High    Low  Close  Volume    Change    Code Stock\n",
              "0     2018-01-02  51380  51400  50780  51020  169485  0.001177  005930  삼성전자\n",
              "1     2018-01-03  52540  52560  51420  51620  200270  0.011760  005930  삼성전자\n",
              "2     2018-01-04  52120  52180  50640  51080  233909 -0.010461  005930  삼성전자\n",
              "...          ...    ...    ...    ...    ...     ...       ...     ...   ...\n",
              "57259 2020-12-28  35700  35700  34700  35050  348624 -0.005674  029780  삼성카드\n",
              "57260 2020-12-29  33500  33600  32750  33100  325446 -0.055635  029780  삼성카드\n",
              "57261 2020-12-30  33050  33050  32000  32500  256237 -0.018127  029780  삼성카드\n",
              "\n",
              "[57262 rows x 9 columns]"
            ]
          },
          "execution_count": 27,
          "metadata": {},
          "output_type": "execute_result"
        }
      ],
      "source": [
        "# 날짜를 열로 만들고 종목명도 붙혀주기\n",
        "df_ex2 = df_ex1.reset_index().merge(df_90.set_axis(['Code', 'Stock'], axis=1), how='left')\n",
        "df_ex2"
      ]
    },
    {
      "cell_type": "code",
      "execution_count": 28,
      "metadata": {
        "id": "JGmxMBeVM9Hn"
      },
      "outputs": [],
      "source": [
        "# 파일로 저장하기\n",
        "df_ex2.to_csv('result_stocks.csv', index=False)"
      ]
    },
    {
      "cell_type": "markdown",
      "metadata": {
        "id": "-UsKdDplFkvi"
      },
      "source": [
        "## 5. 2일 연속 급상승 주식 필터링하기"
      ]
    },
    {
      "cell_type": "markdown",
      "metadata": {
        "id": "gSMrVNRRFnjX"
      },
      "source": [
        "**데이터와 경로명** : \n",
        "\n",
        "현 시점 시총 상위 90개 종목의 2018~2020년의 주가 데이터 \n",
        "\n",
        "(2020년까지 상장하지 않았던 종목 제외하면 81개)\n",
        "\n",
        "<br>\n",
        "\n",
        "**위 종목들 중에 2일 연속 20%이상 상승한 데이터만 필터링 해보자**"
      ]
    },
    {
      "cell_type": "code",
      "execution_count": 29,
      "metadata": {
        "colab": {
          "base_uri": "https://localhost:8080/",
          "height": 298
        },
        "id": "yaqx0FIL7kTS",
        "outputId": "36c3b7c8-c5b4-4284-dd43-2568b383ff67"
      },
      "outputs": [
        {
          "data": {
            "text/html": [
              "<div>\n",
              "<style scoped>\n",
              "    .dataframe tbody tr th:only-of-type {\n",
              "        vertical-align: middle;\n",
              "    }\n",
              "\n",
              "    .dataframe tbody tr th {\n",
              "        vertical-align: top;\n",
              "    }\n",
              "\n",
              "    .dataframe thead th {\n",
              "        text-align: right;\n",
              "    }\n",
              "</style>\n",
              "<table border=\"1\" class=\"dataframe\">\n",
              "  <thead>\n",
              "    <tr style=\"text-align: right;\">\n",
              "      <th></th>\n",
              "      <th>Date</th>\n",
              "      <th>Open</th>\n",
              "      <th>High</th>\n",
              "      <th>Low</th>\n",
              "      <th>Close</th>\n",
              "      <th>Volume</th>\n",
              "      <th>Change</th>\n",
              "      <th>Code</th>\n",
              "      <th>Stock</th>\n",
              "    </tr>\n",
              "  </thead>\n",
              "  <tbody>\n",
              "    <tr>\n",
              "      <th>0</th>\n",
              "      <td>2018-01-02</td>\n",
              "      <td>51380</td>\n",
              "      <td>51400</td>\n",
              "      <td>50780</td>\n",
              "      <td>51020</td>\n",
              "      <td>169485</td>\n",
              "      <td>0.001177</td>\n",
              "      <td>005930</td>\n",
              "      <td>삼성전자</td>\n",
              "    </tr>\n",
              "    <tr>\n",
              "      <th>1</th>\n",
              "      <td>2018-01-03</td>\n",
              "      <td>52540</td>\n",
              "      <td>52560</td>\n",
              "      <td>51420</td>\n",
              "      <td>51620</td>\n",
              "      <td>200270</td>\n",
              "      <td>0.011760</td>\n",
              "      <td>005930</td>\n",
              "      <td>삼성전자</td>\n",
              "    </tr>\n",
              "    <tr>\n",
              "      <th>2</th>\n",
              "      <td>2018-01-04</td>\n",
              "      <td>52120</td>\n",
              "      <td>52180</td>\n",
              "      <td>50640</td>\n",
              "      <td>51080</td>\n",
              "      <td>233909</td>\n",
              "      <td>-0.010461</td>\n",
              "      <td>005930</td>\n",
              "      <td>삼성전자</td>\n",
              "    </tr>\n",
              "    <tr>\n",
              "      <th>...</th>\n",
              "      <td>...</td>\n",
              "      <td>...</td>\n",
              "      <td>...</td>\n",
              "      <td>...</td>\n",
              "      <td>...</td>\n",
              "      <td>...</td>\n",
              "      <td>...</td>\n",
              "      <td>...</td>\n",
              "      <td>...</td>\n",
              "    </tr>\n",
              "    <tr>\n",
              "      <th>57259</th>\n",
              "      <td>2020-12-28</td>\n",
              "      <td>35700</td>\n",
              "      <td>35700</td>\n",
              "      <td>34700</td>\n",
              "      <td>35050</td>\n",
              "      <td>348624</td>\n",
              "      <td>-0.005674</td>\n",
              "      <td>029780</td>\n",
              "      <td>삼성카드</td>\n",
              "    </tr>\n",
              "    <tr>\n",
              "      <th>57260</th>\n",
              "      <td>2020-12-29</td>\n",
              "      <td>33500</td>\n",
              "      <td>33600</td>\n",
              "      <td>32750</td>\n",
              "      <td>33100</td>\n",
              "      <td>325446</td>\n",
              "      <td>-0.055635</td>\n",
              "      <td>029780</td>\n",
              "      <td>삼성카드</td>\n",
              "    </tr>\n",
              "    <tr>\n",
              "      <th>57261</th>\n",
              "      <td>2020-12-30</td>\n",
              "      <td>33050</td>\n",
              "      <td>33050</td>\n",
              "      <td>32000</td>\n",
              "      <td>32500</td>\n",
              "      <td>256237</td>\n",
              "      <td>-0.018127</td>\n",
              "      <td>029780</td>\n",
              "      <td>삼성카드</td>\n",
              "    </tr>\n",
              "  </tbody>\n",
              "</table>\n",
              "<p>57262 rows × 9 columns</p>\n",
              "</div>"
            ],
            "text/plain": [
              "             Date   Open   High    Low  Close  Volume    Change    Code Stock\n",
              "0      2018-01-02  51380  51400  50780  51020  169485  0.001177  005930  삼성전자\n",
              "1      2018-01-03  52540  52560  51420  51620  200270  0.011760  005930  삼성전자\n",
              "2      2018-01-04  52120  52180  50640  51080  233909 -0.010461  005930  삼성전자\n",
              "...           ...    ...    ...    ...    ...     ...       ...     ...   ...\n",
              "57259  2020-12-28  35700  35700  34700  35050  348624 -0.005674  029780  삼성카드\n",
              "57260  2020-12-29  33500  33600  32750  33100  325446 -0.055635  029780  삼성카드\n",
              "57261  2020-12-30  33050  33050  32000  32500  256237 -0.018127  029780  삼성카드\n",
              "\n",
              "[57262 rows x 9 columns]"
            ]
          },
          "execution_count": 29,
          "metadata": {},
          "output_type": "execute_result"
        }
      ],
      "source": [
        "# 프로젝트 코드\n",
        "import pandas as pd\n",
        "pd.options.display.max_rows = 6\n",
        "url = './09_02_stocks.csv'\n",
        "df_ex2 = pd.read_csv(url, dtype={'Code':'str'})\n",
        "df_ex2"
      ]
    },
    {
      "cell_type": "code",
      "execution_count": 30,
      "metadata": {
        "colab": {
          "base_uri": "https://localhost:8080/",
          "height": 175
        },
        "id": "IOm0iNxAGs8R",
        "outputId": "4af37519-11ca-44aa-82a4-af92fe3c3c27"
      },
      "outputs": [
        {
          "data": {
            "text/html": [
              "<div>\n",
              "<style scoped>\n",
              "    .dataframe tbody tr th:only-of-type {\n",
              "        vertical-align: middle;\n",
              "    }\n",
              "\n",
              "    .dataframe tbody tr th {\n",
              "        vertical-align: top;\n",
              "    }\n",
              "\n",
              "    .dataframe thead th {\n",
              "        text-align: right;\n",
              "    }\n",
              "</style>\n",
              "<table border=\"1\" class=\"dataframe\">\n",
              "  <thead>\n",
              "    <tr style=\"text-align: right;\">\n",
              "      <th></th>\n",
              "      <th>Date</th>\n",
              "      <th>Open</th>\n",
              "      <th>High</th>\n",
              "      <th>Low</th>\n",
              "      <th>Close</th>\n",
              "      <th>Volume</th>\n",
              "      <th>Change</th>\n",
              "      <th>Code</th>\n",
              "      <th>Stock</th>\n",
              "    </tr>\n",
              "  </thead>\n",
              "  <tbody>\n",
              "    <tr>\n",
              "      <th>22484</th>\n",
              "      <td>2020-07-22</td>\n",
              "      <td>6986</td>\n",
              "      <td>8236</td>\n",
              "      <td>6986</td>\n",
              "      <td>7608</td>\n",
              "      <td>92389322</td>\n",
              "      <td>0.200189</td>\n",
              "      <td>034020</td>\n",
              "      <td>두산에너빌리티</td>\n",
              "    </tr>\n",
              "    <tr>\n",
              "      <th>22511</th>\n",
              "      <td>2020-08-31</td>\n",
              "      <td>11969</td>\n",
              "      <td>14672</td>\n",
              "      <td>11747</td>\n",
              "      <td>14275</td>\n",
              "      <td>82099317</td>\n",
              "      <td>0.238504</td>\n",
              "      <td>034020</td>\n",
              "      <td>두산에너빌리티</td>\n",
              "    </tr>\n",
              "    <tr>\n",
              "      <th>39353</th>\n",
              "      <td>2020-07-06</td>\n",
              "      <td>214500</td>\n",
              "      <td>214500</td>\n",
              "      <td>193500</td>\n",
              "      <td>214500</td>\n",
              "      <td>7126211</td>\n",
              "      <td>0.300000</td>\n",
              "      <td>326030</td>\n",
              "      <td>SK바이오팜</td>\n",
              "    </tr>\n",
              "    <tr>\n",
              "      <th>54666</th>\n",
              "      <td>2019-10-07</td>\n",
              "      <td>38810</td>\n",
              "      <td>45906</td>\n",
              "      <td>37224</td>\n",
              "      <td>45448</td>\n",
              "      <td>14077449</td>\n",
              "      <td>0.266278</td>\n",
              "      <td>028300</td>\n",
              "      <td>HLB</td>\n",
              "    </tr>\n",
              "  </tbody>\n",
              "</table>\n",
              "</div>"
            ],
            "text/plain": [
              "             Date    Open    High     Low   Close    Volume    Change    Code  \\\n",
              "22484  2020-07-22    6986    8236    6986    7608  92389322  0.200189  034020   \n",
              "22511  2020-08-31   11969   14672   11747   14275  82099317  0.238504  034020   \n",
              "39353  2020-07-06  214500  214500  193500  214500   7126211  0.300000  326030   \n",
              "54666  2019-10-07   38810   45906   37224   45448  14077449  0.266278  028300   \n",
              "\n",
              "         Stock  \n",
              "22484  두산에너빌리티  \n",
              "22511  두산에너빌리티  \n",
              "39353   SK바이오팜  \n",
              "54666      HLB  "
            ]
          },
          "execution_count": 30,
          "metadata": {},
          "output_type": "execute_result"
        }
      ],
      "source": [
        "# 2거래일 연속 20%이상 상승한 데이터 필터링\n",
        "cond1 = df_ex2['Change'] >= 0.2\n",
        "cond2 = df_ex2.groupby('Stock')['Change'].shift() >= 0.2\n",
        "df_ex2[cond1 & cond2]"
      ]
    },
    {
      "cell_type": "markdown",
      "metadata": {
        "id": "MTSyTD9-ZaJZ"
      },
      "source": [
        "결과가 맞는지 두산에너빌리티로 확인해보자\n",
        "\n",
        "<img src=https://i.ibb.co/5RX6WpG/09-05-01.png, width=600>"
      ]
    },
    {
      "cell_type": "markdown",
      "metadata": {
        "id": "Hx89yKZfn3-d"
      },
      "source": [
        "## 6. 시리즈와 데이터프레임의 연산 (broad casting)"
      ]
    },
    {
      "cell_type": "markdown",
      "metadata": {},
      "source": [
        "### 학습 목표\n",
        "- 시리즈와 데이터 프레임의 연산 방식을 알게 된다. (`apply` 함수)"
      ]
    },
    {
      "cell_type": "markdown",
      "metadata": {
        "id": "Zbr4Ii2Ar--v"
      },
      "source": [
        "**시리즈와 데이터 프레임의 연산은 브로드 캐스팅(broad casting)을 한다**\n",
        "\n",
        "<img src=https://i.ibb.co/1GrVPzq/09-06-01.png, width=600>\n",
        "\n",
        "<img src=https://i.ibb.co/d5BwbVt/09-06-02.png, width=600>\n",
        "\n",
        "먼저 시리즈의 눕혀진 다음 그 후 행방향으로 확장해서 데이터 프레임을 만들어 연산을 하는 것과 같다 (axis=1이며 기본값)"
      ]
    },
    {
      "cell_type": "code",
      "execution_count": 35,
      "metadata": {
        "id": "MfZ2alBEglVx"
      },
      "outputs": [
        {
          "data": {
            "text/html": [
              "<div>\n",
              "<style scoped>\n",
              "    .dataframe tbody tr th:only-of-type {\n",
              "        vertical-align: middle;\n",
              "    }\n",
              "\n",
              "    .dataframe tbody tr th {\n",
              "        vertical-align: top;\n",
              "    }\n",
              "\n",
              "    .dataframe thead th {\n",
              "        text-align: right;\n",
              "    }\n",
              "</style>\n",
              "<table border=\"1\" class=\"dataframe\">\n",
              "  <thead>\n",
              "    <tr style=\"text-align: right;\">\n",
              "      <th></th>\n",
              "      <th>국어</th>\n",
              "      <th>영어</th>\n",
              "      <th>수학</th>\n",
              "    </tr>\n",
              "  </thead>\n",
              "  <tbody>\n",
              "    <tr>\n",
              "      <th>A</th>\n",
              "      <td>83</td>\n",
              "      <td>66</td>\n",
              "      <td>72</td>\n",
              "    </tr>\n",
              "    <tr>\n",
              "      <th>B</th>\n",
              "      <td>87</td>\n",
              "      <td>94</td>\n",
              "      <td>98</td>\n",
              "    </tr>\n",
              "    <tr>\n",
              "      <th>C</th>\n",
              "      <td>62</td>\n",
              "      <td>71</td>\n",
              "      <td>69</td>\n",
              "    </tr>\n",
              "    <tr>\n",
              "      <th>D</th>\n",
              "      <td>94</td>\n",
              "      <td>92</td>\n",
              "      <td>72</td>\n",
              "    </tr>\n",
              "  </tbody>\n",
              "</table>\n",
              "</div>"
            ],
            "text/plain": [
              "   국어  영어  수학\n",
              "A  83  66  72\n",
              "B  87  94  98\n",
              "C  62  71  69\n",
              "D  94  92  72"
            ]
          },
          "execution_count": 35,
          "metadata": {},
          "output_type": "execute_result"
        }
      ],
      "source": [
        "# 실습 준비 코드\n",
        "import pandas as pd\n",
        "data = [[83, 66, 72], [87, 94, 98], [62, 71, 69], [94, 92, 72]]\n",
        "df = pd.DataFrame(data, index=list('ABCD'), columns=['국어', '영어', '수학'])\n",
        "df"
      ]
    },
    {
      "cell_type": "code",
      "execution_count": 36,
      "metadata": {},
      "outputs": [
        {
          "data": {
            "text/plain": [
              "국어    1\n",
              "영어    2\n",
              "수학    3\n",
              "dtype: int64"
            ]
          },
          "execution_count": 36,
          "metadata": {},
          "output_type": "execute_result"
        }
      ],
      "source": [
        "s1 = pd.Series([1, 2, 3], index=['국어', '영어', '수학'])\n",
        "s1"
      ]
    },
    {
      "cell_type": "code",
      "execution_count": 37,
      "metadata": {
        "colab": {
          "base_uri": "https://localhost:8080/",
          "height": 175
        },
        "id": "Y8kmUrbA30Ks",
        "outputId": "60d4edee-7724-4c1f-81c4-b9e44ea27a82"
      },
      "outputs": [
        {
          "data": {
            "text/html": [
              "<div>\n",
              "<style scoped>\n",
              "    .dataframe tbody tr th:only-of-type {\n",
              "        vertical-align: middle;\n",
              "    }\n",
              "\n",
              "    .dataframe tbody tr th {\n",
              "        vertical-align: top;\n",
              "    }\n",
              "\n",
              "    .dataframe thead th {\n",
              "        text-align: right;\n",
              "    }\n",
              "</style>\n",
              "<table border=\"1\" class=\"dataframe\">\n",
              "  <thead>\n",
              "    <tr style=\"text-align: right;\">\n",
              "      <th></th>\n",
              "      <th>국어</th>\n",
              "      <th>영어</th>\n",
              "      <th>수학</th>\n",
              "    </tr>\n",
              "  </thead>\n",
              "  <tbody>\n",
              "    <tr>\n",
              "      <th>A</th>\n",
              "      <td>84</td>\n",
              "      <td>68</td>\n",
              "      <td>75</td>\n",
              "    </tr>\n",
              "    <tr>\n",
              "      <th>B</th>\n",
              "      <td>88</td>\n",
              "      <td>96</td>\n",
              "      <td>101</td>\n",
              "    </tr>\n",
              "    <tr>\n",
              "      <th>C</th>\n",
              "      <td>63</td>\n",
              "      <td>73</td>\n",
              "      <td>72</td>\n",
              "    </tr>\n",
              "    <tr>\n",
              "      <th>D</th>\n",
              "      <td>95</td>\n",
              "      <td>94</td>\n",
              "      <td>75</td>\n",
              "    </tr>\n",
              "  </tbody>\n",
              "</table>\n",
              "</div>"
            ],
            "text/plain": [
              "   국어  영어   수학\n",
              "A  84  68   75\n",
              "B  88  96  101\n",
              "C  63  73   72\n",
              "D  95  94   75"
            ]
          },
          "execution_count": 37,
          "metadata": {},
          "output_type": "execute_result"
        }
      ],
      "source": [
        "# 시리즈와 데이터 프레임의 연산 : 브로드 캐스팅\n",
        "df + s1"
      ]
    },
    {
      "cell_type": "code",
      "execution_count": 38,
      "metadata": {},
      "outputs": [
        {
          "data": {
            "text/plain": [
              "A    10\n",
              "B     0\n",
              "C     0\n",
              "D    10\n",
              "dtype: int64"
            ]
          },
          "execution_count": 38,
          "metadata": {},
          "output_type": "execute_result"
        }
      ],
      "source": [
        "s2 = pd.Series([10, 0, 0, 10], index=list('ABCD'))\n",
        "s2"
      ]
    },
    {
      "cell_type": "code",
      "execution_count": 39,
      "metadata": {
        "colab": {
          "base_uri": "https://localhost:8080/",
          "height": 175
        },
        "id": "O9e5nqT633oV",
        "outputId": "5b21af8e-7f81-4390-df12-5bbc4b43a6c3"
      },
      "outputs": [
        {
          "data": {
            "text/html": [
              "<div>\n",
              "<style scoped>\n",
              "    .dataframe tbody tr th:only-of-type {\n",
              "        vertical-align: middle;\n",
              "    }\n",
              "\n",
              "    .dataframe tbody tr th {\n",
              "        vertical-align: top;\n",
              "    }\n",
              "\n",
              "    .dataframe thead th {\n",
              "        text-align: right;\n",
              "    }\n",
              "</style>\n",
              "<table border=\"1\" class=\"dataframe\">\n",
              "  <thead>\n",
              "    <tr style=\"text-align: right;\">\n",
              "      <th></th>\n",
              "      <th>A</th>\n",
              "      <th>B</th>\n",
              "      <th>C</th>\n",
              "      <th>D</th>\n",
              "      <th>국어</th>\n",
              "      <th>수학</th>\n",
              "      <th>영어</th>\n",
              "    </tr>\n",
              "  </thead>\n",
              "  <tbody>\n",
              "    <tr>\n",
              "      <th>A</th>\n",
              "      <td>NaN</td>\n",
              "      <td>NaN</td>\n",
              "      <td>NaN</td>\n",
              "      <td>NaN</td>\n",
              "      <td>NaN</td>\n",
              "      <td>NaN</td>\n",
              "      <td>NaN</td>\n",
              "    </tr>\n",
              "    <tr>\n",
              "      <th>B</th>\n",
              "      <td>NaN</td>\n",
              "      <td>NaN</td>\n",
              "      <td>NaN</td>\n",
              "      <td>NaN</td>\n",
              "      <td>NaN</td>\n",
              "      <td>NaN</td>\n",
              "      <td>NaN</td>\n",
              "    </tr>\n",
              "    <tr>\n",
              "      <th>C</th>\n",
              "      <td>NaN</td>\n",
              "      <td>NaN</td>\n",
              "      <td>NaN</td>\n",
              "      <td>NaN</td>\n",
              "      <td>NaN</td>\n",
              "      <td>NaN</td>\n",
              "      <td>NaN</td>\n",
              "    </tr>\n",
              "    <tr>\n",
              "      <th>D</th>\n",
              "      <td>NaN</td>\n",
              "      <td>NaN</td>\n",
              "      <td>NaN</td>\n",
              "      <td>NaN</td>\n",
              "      <td>NaN</td>\n",
              "      <td>NaN</td>\n",
              "      <td>NaN</td>\n",
              "    </tr>\n",
              "  </tbody>\n",
              "</table>\n",
              "</div>"
            ],
            "text/plain": [
              "    A   B   C   D  국어  수학  영어\n",
              "A NaN NaN NaN NaN NaN NaN NaN\n",
              "B NaN NaN NaN NaN NaN NaN NaN\n",
              "C NaN NaN NaN NaN NaN NaN NaN\n",
              "D NaN NaN NaN NaN NaN NaN NaN"
            ]
          },
          "execution_count": 39,
          "metadata": {},
          "output_type": "execute_result"
        }
      ],
      "source": [
        "# 아래 연산은 연산 함수를 사용해 브로드 캐스팅의 축을 바꿔야 한다\n",
        "df + s2"
      ]
    },
    {
      "cell_type": "markdown",
      "metadata": {
        "id": "dvo7VSTuSNoW"
      },
      "source": [
        "**broad casting의 방향 바꾸기**\n",
        "\n",
        "<img src=https://i.ibb.co/4WV6S0z/09-06-03.png, width=600>\n",
        "\n",
        "<img src=https://i.ibb.co/ZLYWJYf/09-06-04.png, width=600>\n",
        "\n",
        "열 방향으로 확장시킨 것과 같은 결과를 얻으려면 axis=0으로 브로드 캐스팅을 해야한다\n",
        "\n",
        "이것은 연산자로는 할 수 없고 연산 함수를 써야 한다"
      ]
    },
    {
      "cell_type": "markdown",
      "metadata": {
        "id": "CQCVDpoxsJM-"
      },
      "source": [
        "**연산자와 연산함수**\n",
        "\n",
        "- 덧셈(+) : `add`\n",
        "- 뺄셈(-) : `sub`\n",
        "- 곱셈(*) : `mul`\n",
        "- 나눗셈(/) : `div` "
      ]
    },
    {
      "cell_type": "code",
      "execution_count": 40,
      "metadata": {},
      "outputs": [],
      "source": [
        "# df.add(s2) 이거는 df + s2 랑 같음."
      ]
    },
    {
      "cell_type": "code",
      "execution_count": 41,
      "metadata": {
        "colab": {
          "base_uri": "https://localhost:8080/",
          "height": 175
        },
        "id": "eyO2odHT37Ab",
        "outputId": "f7e80b29-6064-40d7-ec1a-fc4e3d859189"
      },
      "outputs": [
        {
          "data": {
            "text/html": [
              "<div>\n",
              "<style scoped>\n",
              "    .dataframe tbody tr th:only-of-type {\n",
              "        vertical-align: middle;\n",
              "    }\n",
              "\n",
              "    .dataframe tbody tr th {\n",
              "        vertical-align: top;\n",
              "    }\n",
              "\n",
              "    .dataframe thead th {\n",
              "        text-align: right;\n",
              "    }\n",
              "</style>\n",
              "<table border=\"1\" class=\"dataframe\">\n",
              "  <thead>\n",
              "    <tr style=\"text-align: right;\">\n",
              "      <th></th>\n",
              "      <th>국어</th>\n",
              "      <th>영어</th>\n",
              "      <th>수학</th>\n",
              "    </tr>\n",
              "  </thead>\n",
              "  <tbody>\n",
              "    <tr>\n",
              "      <th>A</th>\n",
              "      <td>93</td>\n",
              "      <td>76</td>\n",
              "      <td>82</td>\n",
              "    </tr>\n",
              "    <tr>\n",
              "      <th>B</th>\n",
              "      <td>87</td>\n",
              "      <td>94</td>\n",
              "      <td>98</td>\n",
              "    </tr>\n",
              "    <tr>\n",
              "      <th>C</th>\n",
              "      <td>62</td>\n",
              "      <td>71</td>\n",
              "      <td>69</td>\n",
              "    </tr>\n",
              "    <tr>\n",
              "      <th>D</th>\n",
              "      <td>104</td>\n",
              "      <td>102</td>\n",
              "      <td>82</td>\n",
              "    </tr>\n",
              "  </tbody>\n",
              "</table>\n",
              "</div>"
            ],
            "text/plain": [
              "    국어   영어  수학\n",
              "A   93   76  82\n",
              "B   87   94  98\n",
              "C   62   71  69\n",
              "D  104  102  82"
            ]
          },
          "execution_count": 41,
          "metadata": {},
          "output_type": "execute_result"
        }
      ],
      "source": [
        "# 브로드 캐스팅은 axis=1이 기본값이다\n",
        "df.add(s2, axis=0)"
      ]
    },
    {
      "cell_type": "code",
      "execution_count": 44,
      "metadata": {},
      "outputs": [
        {
          "data": {
            "text/html": [
              "<div>\n",
              "<style scoped>\n",
              "    .dataframe tbody tr th:only-of-type {\n",
              "        vertical-align: middle;\n",
              "    }\n",
              "\n",
              "    .dataframe tbody tr th {\n",
              "        vertical-align: top;\n",
              "    }\n",
              "\n",
              "    .dataframe thead th {\n",
              "        text-align: right;\n",
              "    }\n",
              "</style>\n",
              "<table border=\"1\" class=\"dataframe\">\n",
              "  <thead>\n",
              "    <tr style=\"text-align: right;\">\n",
              "      <th></th>\n",
              "      <th>국어</th>\n",
              "      <th>영어</th>\n",
              "      <th>수학</th>\n",
              "    </tr>\n",
              "  </thead>\n",
              "  <tbody>\n",
              "    <tr>\n",
              "      <th>A</th>\n",
              "      <td>83</td>\n",
              "      <td>66</td>\n",
              "      <td>72</td>\n",
              "    </tr>\n",
              "    <tr>\n",
              "      <th>B</th>\n",
              "      <td>87</td>\n",
              "      <td>94</td>\n",
              "      <td>98</td>\n",
              "    </tr>\n",
              "    <tr>\n",
              "      <th>C</th>\n",
              "      <td>62</td>\n",
              "      <td>71</td>\n",
              "      <td>69</td>\n",
              "    </tr>\n",
              "    <tr>\n",
              "      <th>D</th>\n",
              "      <td>94</td>\n",
              "      <td>92</td>\n",
              "      <td>72</td>\n",
              "    </tr>\n",
              "  </tbody>\n",
              "</table>\n",
              "</div>"
            ],
            "text/plain": [
              "   국어  영어  수학\n",
              "A  83  66  72\n",
              "B  87  94  98\n",
              "C  62  71  69\n",
              "D  94  92  72"
            ]
          },
          "execution_count": 44,
          "metadata": {},
          "output_type": "execute_result"
        }
      ],
      "source": [
        "df"
      ]
    },
    {
      "cell_type": "code",
      "execution_count": 45,
      "metadata": {},
      "outputs": [
        {
          "data": {
            "text/plain": [
              "국어    81.50\n",
              "영어    80.75\n",
              "수학    77.75\n",
              "dtype: float64"
            ]
          },
          "execution_count": 45,
          "metadata": {},
          "output_type": "execute_result"
        }
      ],
      "source": [
        "df.mean()"
      ]
    },
    {
      "cell_type": "code",
      "execution_count": 43,
      "metadata": {
        "colab": {
          "base_uri": "https://localhost:8080/",
          "height": 175
        },
        "id": "DnLdpFqor9CZ",
        "outputId": "55a7de30-b0f7-402c-c13d-7f7264c9f4a3"
      },
      "outputs": [
        {
          "data": {
            "text/html": [
              "<div>\n",
              "<style scoped>\n",
              "    .dataframe tbody tr th:only-of-type {\n",
              "        vertical-align: middle;\n",
              "    }\n",
              "\n",
              "    .dataframe tbody tr th {\n",
              "        vertical-align: top;\n",
              "    }\n",
              "\n",
              "    .dataframe thead th {\n",
              "        text-align: right;\n",
              "    }\n",
              "</style>\n",
              "<table border=\"1\" class=\"dataframe\">\n",
              "  <thead>\n",
              "    <tr style=\"text-align: right;\">\n",
              "      <th></th>\n",
              "      <th>국어</th>\n",
              "      <th>영어</th>\n",
              "      <th>수학</th>\n",
              "    </tr>\n",
              "  </thead>\n",
              "  <tbody>\n",
              "    <tr>\n",
              "      <th>A</th>\n",
              "      <td>True</td>\n",
              "      <td>False</td>\n",
              "      <td>False</td>\n",
              "    </tr>\n",
              "    <tr>\n",
              "      <th>B</th>\n",
              "      <td>True</td>\n",
              "      <td>True</td>\n",
              "      <td>True</td>\n",
              "    </tr>\n",
              "    <tr>\n",
              "      <th>C</th>\n",
              "      <td>False</td>\n",
              "      <td>False</td>\n",
              "      <td>False</td>\n",
              "    </tr>\n",
              "    <tr>\n",
              "      <th>D</th>\n",
              "      <td>True</td>\n",
              "      <td>True</td>\n",
              "      <td>False</td>\n",
              "    </tr>\n",
              "  </tbody>\n",
              "</table>\n",
              "</div>"
            ],
            "text/plain": [
              "      국어     영어     수학\n",
              "A   True  False  False\n",
              "B   True   True   True\n",
              "C  False  False  False\n",
              "D   True   True  False"
            ]
          },
          "execution_count": 43,
          "metadata": {},
          "output_type": "execute_result"
        }
      ],
      "source": [
        "# 비교연산도 브로드 캐스팅 할 수 있다\n",
        "df > df.mean()"
      ]
    },
    {
      "cell_type": "markdown",
      "metadata": {
        "id": "g7VLQbdK4O2V"
      },
      "source": [
        "## 7. 신규 상장 주식의 주가 변동 추이 알아보기"
      ]
    },
    {
      "cell_type": "code",
      "execution_count": 46,
      "metadata": {
        "colab": {
          "base_uri": "https://localhost:8080/",
          "height": 298
        },
        "id": "Q9flauWh4PXf",
        "outputId": "10441fe6-4fa2-499c-ee02-6b7a1dfc3b34"
      },
      "outputs": [
        {
          "data": {
            "text/html": [
              "<div>\n",
              "<style scoped>\n",
              "    .dataframe tbody tr th:only-of-type {\n",
              "        vertical-align: middle;\n",
              "    }\n",
              "\n",
              "    .dataframe tbody tr th {\n",
              "        vertical-align: top;\n",
              "    }\n",
              "\n",
              "    .dataframe thead th {\n",
              "        text-align: right;\n",
              "    }\n",
              "</style>\n",
              "<table border=\"1\" class=\"dataframe\">\n",
              "  <thead>\n",
              "    <tr style=\"text-align: right;\">\n",
              "      <th></th>\n",
              "      <th>Date</th>\n",
              "      <th>Open</th>\n",
              "      <th>High</th>\n",
              "      <th>Low</th>\n",
              "      <th>Close</th>\n",
              "      <th>Volume</th>\n",
              "      <th>Change</th>\n",
              "      <th>Code</th>\n",
              "      <th>Stock</th>\n",
              "    </tr>\n",
              "  </thead>\n",
              "  <tbody>\n",
              "    <tr>\n",
              "      <th>0</th>\n",
              "      <td>2018-01-02</td>\n",
              "      <td>51380</td>\n",
              "      <td>51400</td>\n",
              "      <td>50780</td>\n",
              "      <td>51020</td>\n",
              "      <td>169485</td>\n",
              "      <td>0.001177</td>\n",
              "      <td>005930</td>\n",
              "      <td>삼성전자</td>\n",
              "    </tr>\n",
              "    <tr>\n",
              "      <th>1</th>\n",
              "      <td>2018-01-03</td>\n",
              "      <td>52540</td>\n",
              "      <td>52560</td>\n",
              "      <td>51420</td>\n",
              "      <td>51620</td>\n",
              "      <td>200270</td>\n",
              "      <td>0.011760</td>\n",
              "      <td>005930</td>\n",
              "      <td>삼성전자</td>\n",
              "    </tr>\n",
              "    <tr>\n",
              "      <th>2</th>\n",
              "      <td>2018-01-04</td>\n",
              "      <td>52120</td>\n",
              "      <td>52180</td>\n",
              "      <td>50640</td>\n",
              "      <td>51080</td>\n",
              "      <td>233909</td>\n",
              "      <td>-0.010461</td>\n",
              "      <td>005930</td>\n",
              "      <td>삼성전자</td>\n",
              "    </tr>\n",
              "    <tr>\n",
              "      <th>...</th>\n",
              "      <td>...</td>\n",
              "      <td>...</td>\n",
              "      <td>...</td>\n",
              "      <td>...</td>\n",
              "      <td>...</td>\n",
              "      <td>...</td>\n",
              "      <td>...</td>\n",
              "      <td>...</td>\n",
              "      <td>...</td>\n",
              "    </tr>\n",
              "    <tr>\n",
              "      <th>57259</th>\n",
              "      <td>2020-12-28</td>\n",
              "      <td>35700</td>\n",
              "      <td>35700</td>\n",
              "      <td>34700</td>\n",
              "      <td>35050</td>\n",
              "      <td>348624</td>\n",
              "      <td>-0.005674</td>\n",
              "      <td>029780</td>\n",
              "      <td>삼성카드</td>\n",
              "    </tr>\n",
              "    <tr>\n",
              "      <th>57260</th>\n",
              "      <td>2020-12-29</td>\n",
              "      <td>33500</td>\n",
              "      <td>33600</td>\n",
              "      <td>32750</td>\n",
              "      <td>33100</td>\n",
              "      <td>325446</td>\n",
              "      <td>-0.055635</td>\n",
              "      <td>029780</td>\n",
              "      <td>삼성카드</td>\n",
              "    </tr>\n",
              "    <tr>\n",
              "      <th>57261</th>\n",
              "      <td>2020-12-30</td>\n",
              "      <td>33050</td>\n",
              "      <td>33050</td>\n",
              "      <td>32000</td>\n",
              "      <td>32500</td>\n",
              "      <td>256237</td>\n",
              "      <td>-0.018127</td>\n",
              "      <td>029780</td>\n",
              "      <td>삼성카드</td>\n",
              "    </tr>\n",
              "  </tbody>\n",
              "</table>\n",
              "<p>57262 rows × 9 columns</p>\n",
              "</div>"
            ],
            "text/plain": [
              "             Date   Open   High    Low  Close  Volume    Change    Code Stock\n",
              "0      2018-01-02  51380  51400  50780  51020  169485  0.001177  005930  삼성전자\n",
              "1      2018-01-03  52540  52560  51420  51620  200270  0.011760  005930  삼성전자\n",
              "2      2018-01-04  52120  52180  50640  51080  233909 -0.010461  005930  삼성전자\n",
              "...           ...    ...    ...    ...    ...     ...       ...     ...   ...\n",
              "57259  2020-12-28  35700  35700  34700  35050  348624 -0.005674  029780  삼성카드\n",
              "57260  2020-12-29  33500  33600  32750  33100  325446 -0.055635  029780  삼성카드\n",
              "57261  2020-12-30  33050  33050  32000  32500  256237 -0.018127  029780  삼성카드\n",
              "\n",
              "[57262 rows x 9 columns]"
            ]
          },
          "execution_count": 46,
          "metadata": {},
          "output_type": "execute_result"
        }
      ],
      "source": [
        "# 프로젝트 코드\n",
        "import pandas as pd\n",
        "pd.options.display.max_rows = 6\n",
        "url = './09_02_stocks.csv'\n",
        "df_ex2 = pd.read_csv(url, dtype={'Code':'str'})\n",
        "df_ex2"
      ]
    },
    {
      "cell_type": "code",
      "execution_count": 47,
      "metadata": {
        "colab": {
          "base_uri": "https://localhost:8080/"
        },
        "id": "oFz4D0GFO0Nx",
        "outputId": "caf2537c-d9ea-4629-ab54-898c808430f8"
      },
      "outputs": [
        {
          "data": {
            "text/plain": [
              "['에코프로비엠', '우리금융지주', '하이브', 'SK바이오팜', '카카오게임즈']"
            ]
          },
          "execution_count": 47,
          "metadata": {},
          "output_type": "execute_result"
        }
      ],
      "source": [
        "# 신규상장 종목 리스트\n",
        "new = ['에코프로비엠', '우리금융지주', '하이브', 'SK바이오팜', '카카오게임즈']\n",
        "new"
      ]
    },
    {
      "cell_type": "code",
      "execution_count": 48,
      "metadata": {
        "colab": {
          "base_uri": "https://localhost:8080/",
          "height": 298
        },
        "id": "liLCqfhnOplh",
        "outputId": "834d7273-e23e-4cbc-9500-4bf3595f410f"
      },
      "outputs": [
        {
          "data": {
            "text/html": [
              "<div>\n",
              "<style scoped>\n",
              "    .dataframe tbody tr th:only-of-type {\n",
              "        vertical-align: middle;\n",
              "    }\n",
              "\n",
              "    .dataframe tbody tr th {\n",
              "        vertical-align: top;\n",
              "    }\n",
              "\n",
              "    .dataframe thead th {\n",
              "        text-align: right;\n",
              "    }\n",
              "</style>\n",
              "<table border=\"1\" class=\"dataframe\">\n",
              "  <thead>\n",
              "    <tr style=\"text-align: right;\">\n",
              "      <th></th>\n",
              "      <th>Date</th>\n",
              "      <th>Open</th>\n",
              "      <th>High</th>\n",
              "      <th>Low</th>\n",
              "      <th>Close</th>\n",
              "      <th>Volume</th>\n",
              "      <th>Change</th>\n",
              "      <th>Code</th>\n",
              "      <th>Stock</th>\n",
              "    </tr>\n",
              "  </thead>\n",
              "  <tbody>\n",
              "    <tr>\n",
              "      <th>13284</th>\n",
              "      <td>2019-03-05</td>\n",
              "      <td>15096</td>\n",
              "      <td>16208</td>\n",
              "      <td>14800</td>\n",
              "      <td>15616</td>\n",
              "      <td>15995367</td>\n",
              "      <td>NaN</td>\n",
              "      <td>247540</td>\n",
              "      <td>에코프로비엠</td>\n",
              "    </tr>\n",
              "    <tr>\n",
              "      <th>13285</th>\n",
              "      <td>2019-03-06</td>\n",
              "      <td>15911</td>\n",
              "      <td>17196</td>\n",
              "      <td>15738</td>\n",
              "      <td>16975</td>\n",
              "      <td>6007950</td>\n",
              "      <td>0.087026</td>\n",
              "      <td>247540</td>\n",
              "      <td>에코프로비엠</td>\n",
              "    </tr>\n",
              "    <tr>\n",
              "      <th>13286</th>\n",
              "      <td>2019-03-07</td>\n",
              "      <td>17369</td>\n",
              "      <td>17888</td>\n",
              "      <td>17097</td>\n",
              "      <td>17296</td>\n",
              "      <td>4126721</td>\n",
              "      <td>0.018910</td>\n",
              "      <td>247540</td>\n",
              "      <td>에코프로비엠</td>\n",
              "    </tr>\n",
              "    <tr>\n",
              "      <th>...</th>\n",
              "      <td>...</td>\n",
              "      <td>...</td>\n",
              "      <td>...</td>\n",
              "      <td>...</td>\n",
              "      <td>...</td>\n",
              "      <td>...</td>\n",
              "      <td>...</td>\n",
              "      <td>...</td>\n",
              "      <td>...</td>\n",
              "    </tr>\n",
              "    <tr>\n",
              "      <th>55045</th>\n",
              "      <td>2020-12-28</td>\n",
              "      <td>45250</td>\n",
              "      <td>45500</td>\n",
              "      <td>44900</td>\n",
              "      <td>45500</td>\n",
              "      <td>511144</td>\n",
              "      <td>0.005525</td>\n",
              "      <td>293490</td>\n",
              "      <td>카카오게임즈</td>\n",
              "    </tr>\n",
              "    <tr>\n",
              "      <th>55046</th>\n",
              "      <td>2020-12-29</td>\n",
              "      <td>45700</td>\n",
              "      <td>45750</td>\n",
              "      <td>45300</td>\n",
              "      <td>45450</td>\n",
              "      <td>358189</td>\n",
              "      <td>-0.001099</td>\n",
              "      <td>293490</td>\n",
              "      <td>카카오게임즈</td>\n",
              "    </tr>\n",
              "    <tr>\n",
              "      <th>55047</th>\n",
              "      <td>2020-12-30</td>\n",
              "      <td>45450</td>\n",
              "      <td>46400</td>\n",
              "      <td>45250</td>\n",
              "      <td>46000</td>\n",
              "      <td>468697</td>\n",
              "      <td>0.012101</td>\n",
              "      <td>293490</td>\n",
              "      <td>카카오게임즈</td>\n",
              "    </tr>\n",
              "  </tbody>\n",
              "</table>\n",
              "<p>1174 rows × 9 columns</p>\n",
              "</div>"
            ],
            "text/plain": [
              "             Date   Open   High    Low  Close    Volume    Change    Code  \\\n",
              "13284  2019-03-05  15096  16208  14800  15616  15995367       NaN  247540   \n",
              "13285  2019-03-06  15911  17196  15738  16975   6007950  0.087026  247540   \n",
              "13286  2019-03-07  17369  17888  17097  17296   4126721  0.018910  247540   \n",
              "...           ...    ...    ...    ...    ...       ...       ...     ...   \n",
              "55045  2020-12-28  45250  45500  44900  45500    511144  0.005525  293490   \n",
              "55046  2020-12-29  45700  45750  45300  45450    358189 -0.001099  293490   \n",
              "55047  2020-12-30  45450  46400  45250  46000    468697  0.012101  293490   \n",
              "\n",
              "        Stock  \n",
              "13284  에코프로비엠  \n",
              "13285  에코프로비엠  \n",
              "13286  에코프로비엠  \n",
              "...       ...  \n",
              "55045  카카오게임즈  \n",
              "55046  카카오게임즈  \n",
              "55047  카카오게임즈  \n",
              "\n",
              "[1174 rows x 9 columns]"
            ]
          },
          "execution_count": 48,
          "metadata": {},
          "output_type": "execute_result"
        }
      ],
      "source": [
        "# 신규 상장 종목만 필터링\n",
        "cond1 = df_ex2['Stock'].isin(new)\n",
        "df_ex3 = df_ex2[cond1].copy()\n",
        "df_ex3"
      ]
    },
    {
      "cell_type": "code",
      "execution_count": 49,
      "metadata": {
        "colab": {
          "base_uri": "https://localhost:8080/",
          "height": 298
        },
        "id": "I0uMpRl8O86J",
        "outputId": "57c12bfc-d470-4f7c-faa2-557d14613d71"
      },
      "outputs": [
        {
          "data": {
            "text/html": [
              "<div>\n",
              "<style scoped>\n",
              "    .dataframe tbody tr th:only-of-type {\n",
              "        vertical-align: middle;\n",
              "    }\n",
              "\n",
              "    .dataframe tbody tr th {\n",
              "        vertical-align: top;\n",
              "    }\n",
              "\n",
              "    .dataframe thead th {\n",
              "        text-align: right;\n",
              "    }\n",
              "</style>\n",
              "<table border=\"1\" class=\"dataframe\">\n",
              "  <thead>\n",
              "    <tr style=\"text-align: right;\">\n",
              "      <th></th>\n",
              "      <th>Date</th>\n",
              "      <th>Open</th>\n",
              "      <th>High</th>\n",
              "      <th>Low</th>\n",
              "      <th>Close</th>\n",
              "      <th>Volume</th>\n",
              "      <th>Change</th>\n",
              "      <th>Code</th>\n",
              "      <th>Stock</th>\n",
              "      <th>Days</th>\n",
              "    </tr>\n",
              "  </thead>\n",
              "  <tbody>\n",
              "    <tr>\n",
              "      <th>13284</th>\n",
              "      <td>2019-03-05</td>\n",
              "      <td>15096</td>\n",
              "      <td>16208</td>\n",
              "      <td>14800</td>\n",
              "      <td>15616</td>\n",
              "      <td>15995367</td>\n",
              "      <td>NaN</td>\n",
              "      <td>247540</td>\n",
              "      <td>에코프로비엠</td>\n",
              "      <td>1</td>\n",
              "    </tr>\n",
              "    <tr>\n",
              "      <th>13285</th>\n",
              "      <td>2019-03-06</td>\n",
              "      <td>15911</td>\n",
              "      <td>17196</td>\n",
              "      <td>15738</td>\n",
              "      <td>16975</td>\n",
              "      <td>6007950</td>\n",
              "      <td>0.087026</td>\n",
              "      <td>247540</td>\n",
              "      <td>에코프로비엠</td>\n",
              "      <td>2</td>\n",
              "    </tr>\n",
              "    <tr>\n",
              "      <th>13286</th>\n",
              "      <td>2019-03-07</td>\n",
              "      <td>17369</td>\n",
              "      <td>17888</td>\n",
              "      <td>17097</td>\n",
              "      <td>17296</td>\n",
              "      <td>4126721</td>\n",
              "      <td>0.018910</td>\n",
              "      <td>247540</td>\n",
              "      <td>에코프로비엠</td>\n",
              "      <td>3</td>\n",
              "    </tr>\n",
              "    <tr>\n",
              "      <th>...</th>\n",
              "      <td>...</td>\n",
              "      <td>...</td>\n",
              "      <td>...</td>\n",
              "      <td>...</td>\n",
              "      <td>...</td>\n",
              "      <td>...</td>\n",
              "      <td>...</td>\n",
              "      <td>...</td>\n",
              "      <td>...</td>\n",
              "      <td>...</td>\n",
              "    </tr>\n",
              "    <tr>\n",
              "      <th>55045</th>\n",
              "      <td>2020-12-28</td>\n",
              "      <td>45250</td>\n",
              "      <td>45500</td>\n",
              "      <td>44900</td>\n",
              "      <td>45500</td>\n",
              "      <td>511144</td>\n",
              "      <td>0.005525</td>\n",
              "      <td>293490</td>\n",
              "      <td>카카오게임즈</td>\n",
              "      <td>73</td>\n",
              "    </tr>\n",
              "    <tr>\n",
              "      <th>55046</th>\n",
              "      <td>2020-12-29</td>\n",
              "      <td>45700</td>\n",
              "      <td>45750</td>\n",
              "      <td>45300</td>\n",
              "      <td>45450</td>\n",
              "      <td>358189</td>\n",
              "      <td>-0.001099</td>\n",
              "      <td>293490</td>\n",
              "      <td>카카오게임즈</td>\n",
              "      <td>74</td>\n",
              "    </tr>\n",
              "    <tr>\n",
              "      <th>55047</th>\n",
              "      <td>2020-12-30</td>\n",
              "      <td>45450</td>\n",
              "      <td>46400</td>\n",
              "      <td>45250</td>\n",
              "      <td>46000</td>\n",
              "      <td>468697</td>\n",
              "      <td>0.012101</td>\n",
              "      <td>293490</td>\n",
              "      <td>카카오게임즈</td>\n",
              "      <td>75</td>\n",
              "    </tr>\n",
              "  </tbody>\n",
              "</table>\n",
              "<p>1174 rows × 10 columns</p>\n",
              "</div>"
            ],
            "text/plain": [
              "             Date   Open   High    Low  Close    Volume    Change    Code  \\\n",
              "13284  2019-03-05  15096  16208  14800  15616  15995367       NaN  247540   \n",
              "13285  2019-03-06  15911  17196  15738  16975   6007950  0.087026  247540   \n",
              "13286  2019-03-07  17369  17888  17097  17296   4126721  0.018910  247540   \n",
              "...           ...    ...    ...    ...    ...       ...       ...     ...   \n",
              "55045  2020-12-28  45250  45500  44900  45500    511144  0.005525  293490   \n",
              "55046  2020-12-29  45700  45750  45300  45450    358189 -0.001099  293490   \n",
              "55047  2020-12-30  45450  46400  45250  46000    468697  0.012101  293490   \n",
              "\n",
              "        Stock  Days  \n",
              "13284  에코프로비엠     1  \n",
              "13285  에코프로비엠     2  \n",
              "13286  에코프로비엠     3  \n",
              "...       ...   ...  \n",
              "55045  카카오게임즈    73  \n",
              "55046  카카오게임즈    74  \n",
              "55047  카카오게임즈    75  \n",
              "\n",
              "[1174 rows x 10 columns]"
            ]
          },
          "execution_count": 49,
          "metadata": {},
          "output_type": "execute_result"
        }
      ],
      "source": [
        "# 상장일부터 지난 일수를 알려주는 Days열을 만들기\n",
        "df_ex3['Days'] = df_ex3.groupby('Stock')['Date'].rank().astype('int')\n",
        "df_ex3"
      ]
    },
    {
      "cell_type": "code",
      "execution_count": 50,
      "metadata": {
        "colab": {
          "base_uri": "https://localhost:8080/",
          "height": 330
        },
        "id": "MjPeDTyAPLzu",
        "outputId": "8e47880b-75b5-4c31-bd27-eff8c3d82476"
      },
      "outputs": [
        {
          "data": {
            "text/html": [
              "<div>\n",
              "<style scoped>\n",
              "    .dataframe tbody tr th:only-of-type {\n",
              "        vertical-align: middle;\n",
              "    }\n",
              "\n",
              "    .dataframe tbody tr th {\n",
              "        vertical-align: top;\n",
              "    }\n",
              "\n",
              "    .dataframe thead th {\n",
              "        text-align: right;\n",
              "    }\n",
              "</style>\n",
              "<table border=\"1\" class=\"dataframe\">\n",
              "  <thead>\n",
              "    <tr style=\"text-align: right;\">\n",
              "      <th>Stock</th>\n",
              "      <th>SK바이오팜</th>\n",
              "      <th>에코프로비엠</th>\n",
              "      <th>우리금융지주</th>\n",
              "      <th>카카오게임즈</th>\n",
              "      <th>하이브</th>\n",
              "    </tr>\n",
              "    <tr>\n",
              "      <th>Days</th>\n",
              "      <th></th>\n",
              "      <th></th>\n",
              "      <th></th>\n",
              "      <th></th>\n",
              "      <th></th>\n",
              "    </tr>\n",
              "  </thead>\n",
              "  <tbody>\n",
              "    <tr>\n",
              "      <th>1</th>\n",
              "      <td>127000.0</td>\n",
              "      <td>15616.0</td>\n",
              "      <td>15300.0</td>\n",
              "      <td>62400.0</td>\n",
              "      <td>255420.0</td>\n",
              "    </tr>\n",
              "    <tr>\n",
              "      <th>2</th>\n",
              "      <td>165000.0</td>\n",
              "      <td>16975.0</td>\n",
              "      <td>16000.0</td>\n",
              "      <td>81100.0</td>\n",
              "      <td>198495.0</td>\n",
              "    </tr>\n",
              "    <tr>\n",
              "      <th>3</th>\n",
              "      <td>214500.0</td>\n",
              "      <td>17296.0</td>\n",
              "      <td>15650.0</td>\n",
              "      <td>73800.0</td>\n",
              "      <td>187110.0</td>\n",
              "    </tr>\n",
              "    <tr>\n",
              "      <th>...</th>\n",
              "      <td>...</td>\n",
              "      <td>...</td>\n",
              "      <td>...</td>\n",
              "      <td>...</td>\n",
              "      <td>...</td>\n",
              "    </tr>\n",
              "    <tr>\n",
              "      <th>28</th>\n",
              "      <td>192500.0</td>\n",
              "      <td>16554.0</td>\n",
              "      <td>13400.0</td>\n",
              "      <td>45500.0</td>\n",
              "      <td>178200.0</td>\n",
              "    </tr>\n",
              "    <tr>\n",
              "      <th>29</th>\n",
              "      <td>191500.0</td>\n",
              "      <td>16308.0</td>\n",
              "      <td>13350.0</td>\n",
              "      <td>44100.0</td>\n",
              "      <td>179190.0</td>\n",
              "    </tr>\n",
              "    <tr>\n",
              "      <th>30</th>\n",
              "      <td>191000.0</td>\n",
              "      <td>15789.0</td>\n",
              "      <td>13500.0</td>\n",
              "      <td>44050.0</td>\n",
              "      <td>172260.0</td>\n",
              "    </tr>\n",
              "  </tbody>\n",
              "</table>\n",
              "<p>30 rows × 5 columns</p>\n",
              "</div>"
            ],
            "text/plain": [
              "Stock    SK바이오팜   에코프로비엠   우리금융지주   카카오게임즈       하이브\n",
              "Days                                                \n",
              "1      127000.0  15616.0  15300.0  62400.0  255420.0\n",
              "2      165000.0  16975.0  16000.0  81100.0  198495.0\n",
              "3      214500.0  17296.0  15650.0  73800.0  187110.0\n",
              "...         ...      ...      ...      ...       ...\n",
              "28     192500.0  16554.0  13400.0  45500.0  178200.0\n",
              "29     191500.0  16308.0  13350.0  44100.0  179190.0\n",
              "30     191000.0  15789.0  13500.0  44050.0  172260.0\n",
              "\n",
              "[30 rows x 5 columns]"
            ]
          },
          "execution_count": 50,
          "metadata": {},
          "output_type": "execute_result"
        }
      ],
      "source": [
        "# 30일 내의 데이터만 필터링해서 종목별 종가를 피벗테이블로 만들기\n",
        "cond2 = df_ex3['Days'] <= 30\n",
        "df_ex4 = df_ex3[cond2].pivot_table('Close', index='Days', columns='Stock')\n",
        "df_ex4"
      ]
    },
    {
      "cell_type": "code",
      "execution_count": null,
      "metadata": {
        "colab": {
          "base_uri": "https://localhost:8080/",
          "height": 330
        },
        "id": "qV4ZfJafPhhv",
        "outputId": "9acedef4-bcab-41d7-d1c6-f57766ca12d2"
      },
      "outputs": [
        {
          "data": {
            "text/html": [
              "<div>\n",
              "<style scoped>\n",
              "    .dataframe tbody tr th:only-of-type {\n",
              "        vertical-align: middle;\n",
              "    }\n",
              "\n",
              "    .dataframe tbody tr th {\n",
              "        vertical-align: top;\n",
              "    }\n",
              "\n",
              "    .dataframe thead th {\n",
              "        text-align: right;\n",
              "    }\n",
              "</style>\n",
              "<table border=\"1\" class=\"dataframe\">\n",
              "  <thead>\n",
              "    <tr style=\"text-align: right;\">\n",
              "      <th>Stock</th>\n",
              "      <th>SK바이오팜</th>\n",
              "      <th>에코프로비엠</th>\n",
              "      <th>우리금융지주</th>\n",
              "      <th>카카오게임즈</th>\n",
              "      <th>하이브</th>\n",
              "    </tr>\n",
              "    <tr>\n",
              "      <th>Days</th>\n",
              "      <th></th>\n",
              "      <th></th>\n",
              "      <th></th>\n",
              "      <th></th>\n",
              "      <th></th>\n",
              "    </tr>\n",
              "  </thead>\n",
              "  <tbody>\n",
              "    <tr>\n",
              "      <th>1</th>\n",
              "      <td>1.000000</td>\n",
              "      <td>1.000000</td>\n",
              "      <td>1.000000</td>\n",
              "      <td>1.000000</td>\n",
              "      <td>1.000000</td>\n",
              "    </tr>\n",
              "    <tr>\n",
              "      <th>2</th>\n",
              "      <td>1.299213</td>\n",
              "      <td>1.087026</td>\n",
              "      <td>1.045752</td>\n",
              "      <td>1.299679</td>\n",
              "      <td>0.777132</td>\n",
              "    </tr>\n",
              "    <tr>\n",
              "      <th>3</th>\n",
              "      <td>1.688976</td>\n",
              "      <td>1.107582</td>\n",
              "      <td>1.022876</td>\n",
              "      <td>1.182692</td>\n",
              "      <td>0.732558</td>\n",
              "    </tr>\n",
              "    <tr>\n",
              "      <th>...</th>\n",
              "      <td>...</td>\n",
              "      <td>...</td>\n",
              "      <td>...</td>\n",
              "      <td>...</td>\n",
              "      <td>...</td>\n",
              "    </tr>\n",
              "    <tr>\n",
              "      <th>28</th>\n",
              "      <td>1.515748</td>\n",
              "      <td>1.060067</td>\n",
              "      <td>0.875817</td>\n",
              "      <td>0.729167</td>\n",
              "      <td>0.697674</td>\n",
              "    </tr>\n",
              "    <tr>\n",
              "      <th>29</th>\n",
              "      <td>1.507874</td>\n",
              "      <td>1.044314</td>\n",
              "      <td>0.872549</td>\n",
              "      <td>0.706731</td>\n",
              "      <td>0.701550</td>\n",
              "    </tr>\n",
              "    <tr>\n",
              "      <th>30</th>\n",
              "      <td>1.503937</td>\n",
              "      <td>1.011078</td>\n",
              "      <td>0.882353</td>\n",
              "      <td>0.705929</td>\n",
              "      <td>0.674419</td>\n",
              "    </tr>\n",
              "  </tbody>\n",
              "</table>\n",
              "<p>30 rows × 5 columns</p>\n",
              "</div>"
            ],
            "text/plain": [
              "Stock    SK바이오팜    에코프로비엠    우리금융지주    카카오게임즈       하이브\n",
              "Days                                                   \n",
              "1      1.000000  1.000000  1.000000  1.000000  1.000000\n",
              "2      1.299213  1.087026  1.045752  1.299679  0.777132\n",
              "3      1.688976  1.107582  1.022876  1.182692  0.732558\n",
              "...         ...       ...       ...       ...       ...\n",
              "28     1.515748  1.060067  0.875817  0.729167  0.697674\n",
              "29     1.507874  1.044314  0.872549  0.706731  0.701550\n",
              "30     1.503937  1.011078  0.882353  0.705929  0.674419\n",
              "\n",
              "[30 rows x 5 columns]"
            ]
          },
          "execution_count": 51,
          "metadata": {},
          "output_type": "execute_result"
        }
      ],
      "source": [
        "# 주가를 상장 첫날 종가의 비율로 나타내기\n",
        "# df_ex4 / df_ex4.iloc[행인덱스정보(이것만 작성하면 모든 열을 추출하겠다는 말), 열인덱스정보]\n",
        "df_ex4 / df_ex4.iloc[0]"
      ]
    },
    {
      "cell_type": "code",
      "execution_count": null,
      "metadata": {},
      "outputs": [],
      "source": []
    }
  ],
  "metadata": {
    "colab": {
      "provenance": []
    },
    "kernelspec": {
      "display_name": "Python 3",
      "name": "python3"
    },
    "language_info": {
      "codemirror_mode": {
        "name": "ipython",
        "version": 3
      },
      "file_extension": ".py",
      "mimetype": "text/x-python",
      "name": "python",
      "nbconvert_exporter": "python",
      "pygments_lexer": "ipython3",
      "version": "3.13.2"
    }
  },
  "nbformat": 4,
  "nbformat_minor": 0
}
