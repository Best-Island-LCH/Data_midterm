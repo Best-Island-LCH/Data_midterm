{
 "cells": [
  {
   "cell_type": "markdown",
   "metadata": {
    "id": "Ad3h80eUJVsC"
   },
   "source": [
    "# 터틀로 배우는 파이썬 기초!!"
   ]
  },
  {
   "cell_type": "markdown",
   "metadata": {
    "id": "QTJAGMNQ2Jgi"
   },
   "source": [
    "## 소프트웨어 교육의 필요성\n",
    "\n",
    "소프트웨어는 일상 생활을 크게 빠르게 변화시켰다.\n",
    "\n",
    "- 스마트폰\n",
    "\n",
    "- 자동차 : 단순한 기계를 넘어서서 컴퓨터로 진화\n",
    "  - ECU(Engine Control Unit, 엔진 제어 장치) 컴퓨터 통한 엔진 제어\n",
    "  - 차선 유지 기능, 앞 차와의 충돌 방지 기능, 자율 주행\n",
    "\n",
    "- 영화 : 그래픽 소프트웨어\n",
    "  - <어벤져스>는 대부분의 장면이 컴퓨터 그래픽으로 제작\n",
    "  - 애니메이션 <겨울왕국>은 컴퓨터와 3D 모델링 소프트웨어로 제작\n",
    "\n",
    "- 금융 FinTech\n",
    "  - 오프라인 지점 없이 온라인으로만 영업하는 인터넷 은행\n",
    "  - 개인 대출 시장, P2P 대출\n",
    "  - 국가 중앙은행의 통제를 받지 않는 비트코인 등 가상화폐 등장\n",
    "\n",
    "- 유통\n",
    "  - 미국의 아마존은 인터넷 쇼핑몰을 넘어서서 세계 최대의 클라우드 서비스 업체로 발전\n",
    "  - 인터넷 쇼핑몰의 보편화, 빅데이터를 활용하여 소비자에게 최적화된 상품을 추천\n",
    "\n",
    "- 생산\n",
    "  - 3D 프린터가 도입되어 다품종 소량 생산 및 자동화\n",
    "  - 치과 보철 분야는 3D 프린터를 사용\n",
    "\n",
    "- 의료 : 헬스케어\n",
    "  - 빅데이터와 인공 지능을 통해 최적화된 치료법 제공\n",
    "  - 스마트 워치로 심박수, 혈당 수치 측정, 칼로리 계산\n",
    "\n",
    "- 인공지능\n",
    "  - 바둑도 구글 알파고가 나오면서 사람을 압도\n",
    "  - 스마트폰에 내장된 시리, 빅스비 AI 비서 서비스\n",
    "\n",
    "- 빅데이터 : 데이터를 기반으로 예측을 하고 과학적으로 의사를 결정\n",
    "  - 서울시 심야버스 노선 최적화 : 서울시와 KT는 사람들의 휴대전화 사용 위치, 신용 카드와 교통카드 결제 데이터, 택시 승하차 정보, 휴대전화 청구지 주소 등을 분석하여 실제 유동인구를 파악한 뒤 노선을 최적화하여 심야버스 이용율을 크게 향상\n",
    "\n",
    "![](https://i.imgur.com/Q3v1q8s.png)"
   ]
  },
  {
   "cell_type": "markdown",
   "metadata": {
    "id": "bhC8O4IU4XIA"
   },
   "source": [
    "## 컴퓨테이셔널 사고력\n",
    "\n",
    "현실 세계의 문제를 분석하여 해결책을 찾는 과학적 사고법을 컴퓨테이셔널 씽킹(computational thinking)이라 하며 이렇게 설계한 해결책을 컴퓨터의 명령어로 작성하는 것을 컴퓨터 프로그래밍이라 합니다.\n",
    "\n",
    "<img src=\"https://i.imgur.com/cMu7nME.png\" width=\"600px\">\n",
    "\n",
    "### 분해 (Decomposition)\n",
    "\n",
    "복잡한 문제를 잘게 나누어 간단한 여러 개의 작은 문제로 분해하는 것을 의미합니다. 일상 생활에서도 분해를 통해 많은 문제를 해결합니다.\n",
    "\n",
    "분해 과정의 대표적인 예로 요리를 들 수 있습니다. 요리를 할 때 순차적으로 이뤄지는 여러 단계를 통해 음식을 완성합니다.\n",
    "\n",
    "<img src=\"https://i.imgur.com/wJlluHB.png\" width=\"600px\">\n",
    "\n",
    "### 패턴 인식 (Pattern Recognition)\n",
    "\n",
    "패턴은 문제를 해결하는데 있어 반복되는 현상을 찾아내는 것을 의미합니다. 패턴 인식은 다음 단계인 추상화를 통해 알고리즘을 만드는데 필수적인 단계입니다.\n",
    "\n",
    "주로 패턴 인식은 문제를 작은 문제로 잘게 나눈 뒤 패턴을 파악하는 경우가 많습니다. ‘짜장면을 만들자’라는 하나의 큰 문제에서는 패턴을 찾기 힘들지만 짜장면을 만들기 위해 면, 소스로 나누고 이에 따라 필요한 재료들을 준비하는 등 잘게 분해된 상황이 훨씬 패턴을 인식하기 쉽습니다.\n",
    "\n",
    "패턴 인식은 수학 문제를 해결해나가는 데도 많이 활용되는 요소입니다. 수학자 가우스가 어릴 때 수업하기 귀찮던 학교 선생님이 낸 1부터 100까지 더하라는 문제를 패턴 인식을 통하여 순식간에 풀어낸 일화도 가우스가 이 문제 안에 있는 패턴을 찾았기 때문입니다.\n",
    "\n",
    "\n",
    "### 추상화 (Abstraction)\n",
    "\n",
    "추상화는 발견되는 패턴에서 불필요한 부분들을 제거하고 핵심적인 요소들만을 남김으로써 문제를 단순화 하는 단계입니다. 위의 가우스의 예를 보겠습니다.\n",
    "\n",
    "- 1 + 100 = 101\n",
    "- 2 + 99 = 101\n",
    "- 3 + 98 = 101\n",
    "- …\n",
    "\n",
    "위의 작업은 가우스가 1부터 100까지 단순히 순차적으로 더하지 않고 가장 작은 수와 가장 큰 수, 두 번째로 큰 수와 두 번째로 작은 수를 더해가면서 패턴을 찾아낸 상황입니다. 이후에는 두 개의 숫자를 묶어 101을 만들었으므로 총 50개의 묶음이 만들어지게 됩니다.\n",
    "\n",
    "이에 따라 1부터 100까지의 모든 숫자는 답을 찾아내는데 더 이상 필요하지 않고 101 (두 수의 합) 과 50 (101의 묶음 개수)이라는 숫자만 남습니다. 두 수를 곱하면 1부터 100까지의 합이 순식간에 해결됩니다. 이것이 추상화의 한 예입니다.\n",
    "\n",
    "### 알고리즘 (Algorithm)\n",
    "\n",
    "알고리즘이란 문제를 해결을 위한 공식 또는 절차를 의미합니다. 쉬운 예로 수학 수업 또는 컴퓨터 수업에서 배우게 되는 순서도가 알고리즘입니다.\n",
    "\n",
    "또한 이세돌과의 바둑대전에서 승리했던 알파고도 알고리즘이 사용된 좋은 예입니다. 바둑의 경우의 수는 너무 많고 상대방이 대응한 수에 따라 컴퓨터라도 모든 경우의 수를 짧은 시간에 계산해볼 수 없으므로 가능한 많은 경우의 수를 예측한 뒤 그 중 최적의 수를 찾아 결정합니다.\n",
    "\n",
    "알파고는 이 프로세스를 상대방이 둔 수마다 반복을 하여 대국을 두는 것입니다. 매우 복잡한 수준의 알고리즘이 적용된 예라 할 수 있습니다."
   ]
  },
  {
   "cell_type": "markdown",
   "metadata": {
    "id": "uEU8ITO66HeD"
   },
   "source": [
    "#### 출처\n",
    "\n",
    "- [파이썬 코딩 도장](https://dojang.io/course/view.php?id=7)\n",
    "- [컴퓨팅 사고력 4대 요소](https://m.blog.naver.com/PostView.naver?isHttpsRedirect=true&blogId=tonyau7777777&logNo=221455440030)\n",
    "- [점프투파이썬](https://wikidocs.net/book/1)"
   ]
  },
  {
   "cell_type": "markdown",
   "metadata": {
    "id": "jMz2zZAS6neM"
   },
   "source": [
    "## 알고리즘\n",
    "\n",
    "![](https://i.imgur.com/GE36RrR.png)\n",
    "\n",
    "> 23글자 -> 8글자\n",
    "\n",
    "> 이 방식은 Run-Length Encodig, RLE라고 하며 PCX 그림 파일 포맷에 쓰였습니다. 요즘은 좀 더 다양한 상황에 대응하고 압축 효율을 높이기 위해 훨씬 복잡한 알고리즘을 사용합니다.\n",
    "\n",
    "### 문제의 패턴 발견과 해결 절차\n",
    "\n",
    "이처럼 문제에서 일정한 패턴을 발견하고, 패턴을 토대로 문제를 해결하는 절차가 알고리즘입니다. 그리고 이 알고리즘을 코드로 표현하는 행동을 코딩이라 합니다.\n",
    "\n",
    "![](https://i.imgur.com/0K7cqbV.png)"
   ]
  },
  {
   "cell_type": "markdown",
   "metadata": {
    "id": "hX3k1mYWKBOk"
   },
   "source": [
    "## [참고] 샌드위치 코딩"
   ]
  },
  {
   "cell_type": "code",
   "execution_count": null,
   "metadata": {
    "colab": {
     "base_uri": "https://localhost:8080/",
     "height": 641
    },
    "executionInfo": {
     "elapsed": 466,
     "status": "ok",
     "timestamp": 1625043577071,
     "user": {
      "displayName": "Taehee Lee",
      "photoUrl": "https://lh3.googleusercontent.com/a-/AOh14GijtfpZnQ0Syv6KWDHsShFunkW1YmSXhr4rUnheIEg=s64",
      "userId": "12017922817927484990"
     },
     "user_tz": -540
    },
    "id": "m-tVl13BJRv8",
    "outputId": "41fa1503-08a8-42a8-8a7a-46693430b32d"
   },
   "outputs": [],
   "source": [
    "from IPython.display import YouTubeVideo\n",
    "YouTubeVideo(\"I5cq54MFQCo\", width=1200, height=600)"
   ]
  },
  {
   "cell_type": "markdown",
   "metadata": {
    "id": "dcw52rKRKJTr"
   },
   "source": [
    "## Why Python?\n",
    "\n",
    "![파이썬 장점](https://i.imgur.com/vhKZLfs.png)"
   ]
  },
  {
   "cell_type": "markdown",
   "metadata": {
    "id": "vzC2KoFmKVmq"
   },
   "source": [
    "## Java vs Python"
   ]
  },
  {
   "cell_type": "markdown",
   "metadata": {
    "id": "Yb8KritBKQHn"
   },
   "source": [
    "<img src=\"https://i.imgur.com/HoH9sZs.png\">"
   ]
  },
  {
   "cell_type": "markdown",
   "metadata": {
    "id": "9t-5Xt40Ma30"
   },
   "source": [
    "# 터틀 시작하기"
   ]
  },
  {
   "cell_type": "markdown",
   "metadata": {
    "id": "vPoOeXVHMh-h"
   },
   "source": [
    "## 터틀 설치하기\n",
    "\n",
    "https://github.com/tolgaatam/ColabTurtle"
   ]
  },
  {
   "cell_type": "code",
   "execution_count": 1,
   "metadata": {
    "colab": {
     "base_uri": "https://localhost:8080/"
    },
    "executionInfo": {
     "elapsed": 6011,
     "status": "ok",
     "timestamp": 1671506883578,
     "user": {
      "displayName": "Taehee Lee",
      "userId": "12017922817927484990"
     },
     "user_tz": -540
    },
    "id": "VeNWwgL8Eepc",
    "outputId": "c2675487-1493-4055-91e6-a701c001c07d"
   },
   "outputs": [
    {
     "name": "stdout",
     "output_type": "stream",
     "text": [
      "Requirement already satisfied: ColabTurtle in c:\\users\\이창현\\appdata\\local\\programs\\python\\python313\\lib\\site-packages (2.1.0)\n"
     ]
    },
    {
     "name": "stderr",
     "output_type": "stream",
     "text": [
      "\n",
      "[notice] A new release of pip is available: 25.0.1 -> 25.1\n",
      "[notice] To update, run: python.exe -m pip install --upgrade pip\n"
     ]
    }
   ],
   "source": [
    "!pip install ColabTurtle"
   ]
  },
  {
   "cell_type": "markdown",
   "metadata": {
    "id": "NPm8JL_xMkN9"
   },
   "source": [
    "## 이런 것을 만들 수 있어요"
   ]
  },
  {
   "cell_type": "code",
   "execution_count": 2,
   "metadata": {
    "colab": {
     "base_uri": "https://localhost:8080/",
     "height": 521
    },
    "executionInfo": {
     "elapsed": 22402,
     "status": "ok",
     "timestamp": 1671506921647,
     "user": {
      "displayName": "Taehee Lee",
      "userId": "12017922817927484990"
     },
     "user_tz": -540
    },
    "id": "uq4Ty5hhEhGt",
    "outputId": "049ba14b-f2be-43e5-824f-e94d20341c0e"
   },
   "outputs": [
    {
     "data": {
      "text/html": [
       "\n",
       "      <svg width=\"800\" height=\"500\">\n",
       "        <rect width=\"100%\" height=\"100%\" fill=\"#efefef\"/>\n",
       "        <line x1=\"100\" y1=\"250\" x2=\"100.0\" y2=\"150.0\" stroke-linecap=\"round\" style=\"stroke:mediumblue;stroke-width:4\"/><line x1=\"100.0\" y1=\"150.0\" x2=\"60.0\" y2=\"150.0\" stroke-linecap=\"round\" style=\"stroke:mediumblue;stroke-width:4\"/><line x1=\"60.0\" y1=\"150.0\" x2=\"140.0\" y2=\"150.0\" stroke-linecap=\"round\" style=\"stroke:mediumblue;stroke-width:4\"/><line x1=\"190.0\" y1=\"210.0\" x2=\"190.0\" y2=\"193.0\" stroke-linecap=\"round\" style=\"stroke:mediumblue;stroke-width:4\"/><line x1=\"190.0\" y1=\"193.0\" x2=\"195.814\" y2=\"177.025\" stroke-linecap=\"round\" style=\"stroke:mediumblue;stroke-width:4\"/><line x1=\"195.814\" y1=\"177.025\" x2=\"206.741\" y2=\"164.002\" stroke-linecap=\"round\" style=\"stroke:mediumblue;stroke-width:4\"/><line x1=\"206.741\" y1=\"164.002\" x2=\"221.463\" y2=\"155.502\" stroke-linecap=\"round\" style=\"stroke:mediumblue;stroke-width:4\"/><line x1=\"221.463\" y1=\"155.502\" x2=\"238.205\" y2=\"152.55\" stroke-linecap=\"round\" style=\"stroke:mediumblue;stroke-width:4\"/><line x1=\"238.205\" y1=\"152.55\" x2=\"254.947\" y2=\"155.502\" stroke-linecap=\"round\" style=\"stroke:mediumblue;stroke-width:4\"/><line x1=\"254.947\" y1=\"155.502\" x2=\"269.669\" y2=\"164.002\" stroke-linecap=\"round\" style=\"stroke:mediumblue;stroke-width:4\"/><line x1=\"269.669\" y1=\"164.002\" x2=\"280.596\" y2=\"177.025\" stroke-linecap=\"round\" style=\"stroke:mediumblue;stroke-width:4\"/><line x1=\"280.596\" y1=\"177.025\" x2=\"286.41\" y2=\"193.0\" stroke-linecap=\"round\" style=\"stroke:mediumblue;stroke-width:4\"/><line x1=\"286.41\" y1=\"193.0\" x2=\"286.41\" y2=\"210.0\" stroke-linecap=\"round\" style=\"stroke:mediumblue;stroke-width:4\"/><line x1=\"286.41\" y1=\"210.0\" x2=\"280.596\" y2=\"225.975\" stroke-linecap=\"round\" style=\"stroke:mediumblue;stroke-width:4\"/><line x1=\"280.596\" y1=\"225.975\" x2=\"269.669\" y2=\"238.998\" stroke-linecap=\"round\" style=\"stroke:mediumblue;stroke-width:4\"/><line x1=\"269.669\" y1=\"238.998\" x2=\"254.947\" y2=\"247.498\" stroke-linecap=\"round\" style=\"stroke:mediumblue;stroke-width:4\"/><line x1=\"254.947\" y1=\"247.498\" x2=\"238.205\" y2=\"250.45\" stroke-linecap=\"round\" style=\"stroke:mediumblue;stroke-width:4\"/><line x1=\"238.205\" y1=\"250.45\" x2=\"221.463\" y2=\"247.498\" stroke-linecap=\"round\" style=\"stroke:mediumblue;stroke-width:4\"/><line x1=\"221.463\" y1=\"247.498\" x2=\"206.741\" y2=\"238.998\" stroke-linecap=\"round\" style=\"stroke:mediumblue;stroke-width:4\"/><line x1=\"206.741\" y1=\"238.998\" x2=\"195.814\" y2=\"225.975\" stroke-linecap=\"round\" style=\"stroke:mediumblue;stroke-width:4\"/><line x1=\"195.814\" y1=\"225.975\" x2=\"190.0\" y2=\"210.0\" stroke-linecap=\"round\" style=\"stroke:mediumblue;stroke-width:4\"/><line x1=\"350.0\" y1=\"150.0\" x2=\"350.0\" y2=\"250.0\" stroke-linecap=\"round\" style=\"stroke:rgb(230,90,120);stroke-width:4\"/><line x1=\"350.0\" y1=\"250.0\" x2=\"430.0\" y2=\"250.0\" stroke-linecap=\"round\" style=\"stroke:rgb(230,90,120);stroke-width:4\"/><line x1=\"480.0\" y1=\"210.0\" x2=\"480.0\" y2=\"193.0\" stroke-linecap=\"round\" style=\"stroke:rgb(230,90,120);stroke-width:4\"/><line x1=\"480.0\" y1=\"193.0\" x2=\"485.814\" y2=\"177.025\" stroke-linecap=\"round\" style=\"stroke:rgb(230,90,120);stroke-width:4\"/><line x1=\"485.814\" y1=\"177.025\" x2=\"496.741\" y2=\"164.002\" stroke-linecap=\"round\" style=\"stroke:rgb(230,90,120);stroke-width:4\"/><line x1=\"496.741\" y1=\"164.002\" x2=\"511.463\" y2=\"155.502\" stroke-linecap=\"round\" style=\"stroke:rgb(230,90,120);stroke-width:4\"/><line x1=\"511.463\" y1=\"155.502\" x2=\"528.205\" y2=\"152.55\" stroke-linecap=\"round\" style=\"stroke:rgb(230,90,120);stroke-width:4\"/><line x1=\"528.205\" y1=\"152.55\" x2=\"511.463\" y2=\"155.502\" stroke-linecap=\"round\" style=\"stroke:rgb(230,90,120);stroke-width:4\"/><line x1=\"511.463\" y1=\"155.502\" x2=\"496.741\" y2=\"164.002\" stroke-linecap=\"round\" style=\"stroke:rgb(230,90,120);stroke-width:4\"/><line x1=\"496.741\" y1=\"164.002\" x2=\"485.814\" y2=\"177.025\" stroke-linecap=\"round\" style=\"stroke:rgb(230,90,120);stroke-width:4\"/><line x1=\"485.814\" y1=\"177.025\" x2=\"480.0\" y2=\"193.0\" stroke-linecap=\"round\" style=\"stroke:rgb(230,90,120);stroke-width:4\"/><line x1=\"480.0\" y1=\"193.0\" x2=\"480.0\" y2=\"210.0\" stroke-linecap=\"round\" style=\"stroke:rgb(230,90,120);stroke-width:4\"/><line x1=\"480.0\" y1=\"210.0\" x2=\"485.814\" y2=\"225.975\" stroke-linecap=\"round\" style=\"stroke:rgb(230,90,120);stroke-width:4\"/><line x1=\"485.814\" y1=\"225.975\" x2=\"496.741\" y2=\"238.998\" stroke-linecap=\"round\" style=\"stroke:rgb(230,90,120);stroke-width:4\"/><line x1=\"496.741\" y1=\"238.998\" x2=\"511.463\" y2=\"247.498\" stroke-linecap=\"round\" style=\"stroke:rgb(230,90,120);stroke-width:4\"/><line x1=\"511.463\" y1=\"247.498\" x2=\"528.205\" y2=\"250.45\" stroke-linecap=\"round\" style=\"stroke:rgb(230,90,120);stroke-width:4\"/><line x1=\"528.205\" y1=\"250.45\" x2=\"544.947\" y2=\"247.498\" stroke-linecap=\"round\" style=\"stroke:rgb(230,90,120);stroke-width:4\"/><line x1=\"544.947\" y1=\"247.498\" x2=\"559.669\" y2=\"238.998\" stroke-linecap=\"round\" style=\"stroke:rgb(230,90,120);stroke-width:4\"/><line x1=\"559.669\" y1=\"238.998\" x2=\"570.596\" y2=\"225.975\" stroke-linecap=\"round\" style=\"stroke:rgb(230,90,120);stroke-width:4\"/><line x1=\"570.596\" y1=\"225.975\" x2=\"576.41\" y2=\"210.0\" stroke-linecap=\"round\" style=\"stroke:rgb(230,90,120);stroke-width:4\"/><line x1=\"576.41\" y1=\"210.0\" x2=\"526.41\" y2=\"210.0\" stroke-linecap=\"round\" style=\"stroke:rgb(230,90,120);stroke-width:4\"/><line x1=\"626.41\" y1=\"250.0\" x2=\"670.785\" y2=\"154.838\" stroke-linecap=\"round\" style=\"stroke:rgb(230,90,120);stroke-width:4\"/><line x1=\"670.785\" y1=\"154.838\" x2=\"715.16\" y2=\"250.0\" stroke-linecap=\"round\" style=\"stroke:rgb(230,90,120);stroke-width:4\"/><line x1=\"715.16\" y1=\"250.0\" x2=\"696.142\" y2=\"209.216\" stroke-linecap=\"round\" style=\"stroke:rgb(230,90,120);stroke-width:4\"/><line x1=\"696.142\" y1=\"209.216\" x2=\"646.142\" y2=\"209.216\" stroke-linecap=\"round\" style=\"stroke:rgb(230,90,120);stroke-width:4\"/><line x1=\"716.142\" y1=\"309.216\" x2=\"66.142\" y2=\"309.216\" stroke-linecap=\"round\" style=\"stroke:black;stroke-width:7\"/><line x1=\"66.142\" y1=\"309.216\" x2=\"73.142\" y2=\"309.216\" stroke-linecap=\"round\" style=\"stroke:black;stroke-width:7\"/><line x1=\"73.142\" y1=\"309.216\" x2=\"80.142\" y2=\"309.24\" stroke-linecap=\"round\" style=\"stroke:black;stroke-width:7\"/><line x1=\"80.142\" y1=\"309.24\" x2=\"87.142\" y2=\"309.289\" stroke-linecap=\"round\" style=\"stroke:black;stroke-width:7\"/><line x1=\"87.142\" y1=\"309.289\" x2=\"94.142\" y2=\"309.362\" stroke-linecap=\"round\" style=\"stroke:black;stroke-width:7\"/><line x1=\"94.142\" y1=\"309.362\" x2=\"101.141\" y2=\"309.46\" stroke-linecap=\"round\" style=\"stroke:black;stroke-width:7\"/><line x1=\"101.141\" y1=\"309.46\" x2=\"108.14\" y2=\"309.582\" stroke-linecap=\"round\" style=\"stroke:black;stroke-width:7\"/><line x1=\"108.14\" y1=\"309.582\" x2=\"115.138\" y2=\"309.729\" stroke-linecap=\"round\" style=\"stroke:black;stroke-width:7\"/><line x1=\"115.138\" y1=\"309.729\" x2=\"122.136\" y2=\"309.9\" stroke-linecap=\"round\" style=\"stroke:black;stroke-width:7\"/><line x1=\"122.136\" y1=\"309.9\" x2=\"129.133\" y2=\"310.095\" stroke-linecap=\"round\" style=\"stroke:black;stroke-width:7\"/><line x1=\"129.133\" y1=\"310.095\" x2=\"136.13\" y2=\"310.315\" stroke-linecap=\"round\" style=\"stroke:black;stroke-width:7\"/><line x1=\"136.13\" y1=\"310.315\" x2=\"143.126\" y2=\"310.559\" stroke-linecap=\"round\" style=\"stroke:black;stroke-width:7\"/><line x1=\"143.126\" y1=\"310.559\" x2=\"150.121\" y2=\"310.828\" stroke-linecap=\"round\" style=\"stroke:black;stroke-width:7\"/><line x1=\"150.121\" y1=\"310.828\" x2=\"157.115\" y2=\"311.121\" stroke-linecap=\"round\" style=\"stroke:black;stroke-width:7\"/><line x1=\"157.115\" y1=\"311.121\" x2=\"164.108\" y2=\"311.439\" stroke-linecap=\"round\" style=\"stroke:black;stroke-width:7\"/><line x1=\"164.108\" y1=\"311.439\" x2=\"171.1\" y2=\"311.781\" stroke-linecap=\"round\" style=\"stroke:black;stroke-width:7\"/><line x1=\"171.1\" y1=\"311.781\" x2=\"178.09\" y2=\"312.147\" stroke-linecap=\"round\" style=\"stroke:black;stroke-width:7\"/><line x1=\"178.09\" y1=\"312.147\" x2=\"185.079\" y2=\"312.538\" stroke-linecap=\"round\" style=\"stroke:black;stroke-width:7\"/><line x1=\"185.079\" y1=\"312.538\" x2=\"192.067\" y2=\"312.953\" stroke-linecap=\"round\" style=\"stroke:black;stroke-width:7\"/><line x1=\"192.067\" y1=\"312.953\" x2=\"199.053\" y2=\"313.393\" stroke-linecap=\"round\" style=\"stroke:black;stroke-width:7\"/><line x1=\"199.053\" y1=\"313.393\" x2=\"206.038\" y2=\"313.857\" stroke-linecap=\"round\" style=\"stroke:black;stroke-width:7\"/><line x1=\"206.038\" y1=\"313.857\" x2=\"213.021\" y2=\"314.345\" stroke-linecap=\"round\" style=\"stroke:black;stroke-width:7\"/><line x1=\"213.021\" y1=\"314.345\" x2=\"220.002\" y2=\"314.858\" stroke-linecap=\"round\" style=\"stroke:black;stroke-width:7\"/><line x1=\"220.002\" y1=\"314.858\" x2=\"226.981\" y2=\"315.395\" stroke-linecap=\"round\" style=\"stroke:black;stroke-width:7\"/><line x1=\"226.981\" y1=\"315.395\" x2=\"233.958\" y2=\"315.956\" stroke-linecap=\"round\" style=\"stroke:black;stroke-width:7\"/><line x1=\"233.958\" y1=\"315.956\" x2=\"240.933\" y2=\"316.542\" stroke-linecap=\"round\" style=\"stroke:black;stroke-width:7\"/><line x1=\"240.933\" y1=\"316.542\" x2=\"247.906\" y2=\"317.152\" stroke-linecap=\"round\" style=\"stroke:black;stroke-width:7\"/><line x1=\"247.906\" y1=\"317.152\" x2=\"254.877\" y2=\"317.786\" stroke-linecap=\"round\" style=\"stroke:black;stroke-width:7\"/><line x1=\"254.877\" y1=\"317.786\" x2=\"261.846\" y2=\"318.445\" stroke-linecap=\"round\" style=\"stroke:black;stroke-width:7\"/><line x1=\"261.846\" y1=\"318.445\" x2=\"268.813\" y2=\"319.128\" stroke-linecap=\"round\" style=\"stroke:black;stroke-width:7\"/><line x1=\"268.813\" y1=\"319.128\" x2=\"275.777\" y2=\"319.835\" stroke-linecap=\"round\" style=\"stroke:black;stroke-width:7\"/><line x1=\"275.777\" y1=\"319.835\" x2=\"282.739\" y2=\"320.567\" stroke-linecap=\"round\" style=\"stroke:black;stroke-width:7\"/><line x1=\"282.739\" y1=\"320.567\" x2=\"289.698\" y2=\"321.323\" stroke-linecap=\"round\" style=\"stroke:black;stroke-width:7\"/><line x1=\"289.698\" y1=\"321.323\" x2=\"296.654\" y2=\"322.103\" stroke-linecap=\"round\" style=\"stroke:black;stroke-width:7\"/><line x1=\"296.654\" y1=\"322.103\" x2=\"303.608\" y2=\"322.908\" stroke-linecap=\"round\" style=\"stroke:black;stroke-width:7\"/><line x1=\"303.608\" y1=\"322.908\" x2=\"310.559\" y2=\"323.737\" stroke-linecap=\"round\" style=\"stroke:black;stroke-width:7\"/><line x1=\"310.559\" y1=\"323.737\" x2=\"317.507\" y2=\"324.59\" stroke-linecap=\"round\" style=\"stroke:black;stroke-width:7\"/><line x1=\"317.507\" y1=\"324.59\" x2=\"324.452\" y2=\"325.467\" stroke-linecap=\"round\" style=\"stroke:black;stroke-width:7\"/><line x1=\"324.452\" y1=\"325.467\" x2=\"331.394\" y2=\"326.369\" stroke-linecap=\"round\" style=\"stroke:black;stroke-width:7\"/><line x1=\"331.394\" y1=\"326.369\" x2=\"338.333\" y2=\"327.295\" stroke-linecap=\"round\" style=\"stroke:black;stroke-width:7\"/><line x1=\"338.333\" y1=\"327.295\" x2=\"345.268\" y2=\"328.245\" stroke-linecap=\"round\" style=\"stroke:black;stroke-width:7\"/><line x1=\"345.268\" y1=\"328.245\" x2=\"352.2\" y2=\"329.219\" stroke-linecap=\"round\" style=\"stroke:black;stroke-width:7\"/><line x1=\"352.2\" y1=\"329.219\" x2=\"359.128\" y2=\"330.217\" stroke-linecap=\"round\" style=\"stroke:black;stroke-width:7\"/><line x1=\"359.128\" y1=\"330.217\" x2=\"366.053\" y2=\"331.24\" stroke-linecap=\"round\" style=\"stroke:black;stroke-width:7\"/><line x1=\"366.053\" y1=\"331.24\" x2=\"372.974\" y2=\"332.287\" stroke-linecap=\"round\" style=\"stroke:black;stroke-width:7\"/><line x1=\"372.974\" y1=\"332.287\" x2=\"379.892\" y2=\"333.358\" stroke-linecap=\"round\" style=\"stroke:black;stroke-width:7\"/><line x1=\"379.892\" y1=\"333.358\" x2=\"386.806\" y2=\"334.453\" stroke-linecap=\"round\" style=\"stroke:black;stroke-width:7\"/><line x1=\"386.806\" y1=\"334.453\" x2=\"393.716\" y2=\"335.572\" stroke-linecap=\"round\" style=\"stroke:black;stroke-width:7\"/><line x1=\"393.716\" y1=\"335.572\" x2=\"400.622\" y2=\"336.715\" stroke-linecap=\"round\" style=\"stroke:black;stroke-width:7\"/><line x1=\"400.622\" y1=\"336.715\" x2=\"407.524\" y2=\"337.882\" stroke-linecap=\"round\" style=\"stroke:black;stroke-width:7\"/><line x1=\"407.524\" y1=\"337.882\" x2=\"414.422\" y2=\"339.073\" stroke-linecap=\"round\" style=\"stroke:black;stroke-width:7\"/><line x1=\"414.422\" y1=\"339.073\" x2=\"421.316\" y2=\"340.289\" stroke-linecap=\"round\" style=\"stroke:black;stroke-width:7\"/><line x1=\"421.316\" y1=\"340.289\" x2=\"428.205\" y2=\"341.529\" stroke-linecap=\"round\" style=\"stroke:black;stroke-width:7\"/><line x1=\"428.205\" y1=\"341.529\" x2=\"435.09\" y2=\"342.793\" stroke-linecap=\"round\" style=\"stroke:black;stroke-width:7\"/><line x1=\"435.09\" y1=\"342.793\" x2=\"441.971\" y2=\"344.081\" stroke-linecap=\"round\" style=\"stroke:black;stroke-width:7\"/><line x1=\"441.971\" y1=\"344.081\" x2=\"448.847\" y2=\"345.393\" stroke-linecap=\"round\" style=\"stroke:black;stroke-width:7\"/><line x1=\"448.847\" y1=\"345.393\" x2=\"455.718\" y2=\"346.729\" stroke-linecap=\"round\" style=\"stroke:black;stroke-width:7\"/><line x1=\"455.718\" y1=\"346.729\" x2=\"462.585\" y2=\"348.089\" stroke-linecap=\"round\" style=\"stroke:black;stroke-width:7\"/><line x1=\"462.585\" y1=\"348.089\" x2=\"469.447\" y2=\"349.473\" stroke-linecap=\"round\" style=\"stroke:black;stroke-width:7\"/><line x1=\"469.447\" y1=\"349.473\" x2=\"476.304\" y2=\"350.881\" stroke-linecap=\"round\" style=\"stroke:black;stroke-width:7\"/><line x1=\"476.304\" y1=\"350.881\" x2=\"483.156\" y2=\"352.312\" stroke-linecap=\"round\" style=\"stroke:black;stroke-width:7\"/><line x1=\"483.156\" y1=\"352.312\" x2=\"490.003\" y2=\"353.767\" stroke-linecap=\"round\" style=\"stroke:black;stroke-width:7\"/><line x1=\"490.003\" y1=\"353.767\" x2=\"496.845\" y2=\"355.246\" stroke-linecap=\"round\" style=\"stroke:black;stroke-width:7\"/><line x1=\"496.845\" y1=\"355.246\" x2=\"503.682\" y2=\"356.749\" stroke-linecap=\"round\" style=\"stroke:black;stroke-width:7\"/><line x1=\"503.682\" y1=\"356.749\" x2=\"510.513\" y2=\"358.276\" stroke-linecap=\"round\" style=\"stroke:black;stroke-width:7\"/><line x1=\"510.513\" y1=\"358.276\" x2=\"517.339\" y2=\"359.827\" stroke-linecap=\"round\" style=\"stroke:black;stroke-width:7\"/><line x1=\"517.339\" y1=\"359.827\" x2=\"524.16\" y2=\"361.402\" stroke-linecap=\"round\" style=\"stroke:black;stroke-width:7\"/><line x1=\"524.16\" y1=\"361.402\" x2=\"530.975\" y2=\"363.0\" stroke-linecap=\"round\" style=\"stroke:black;stroke-width:7\"/><line x1=\"530.975\" y1=\"363.0\" x2=\"537.784\" y2=\"364.622\" stroke-linecap=\"round\" style=\"stroke:black;stroke-width:7\"/><line x1=\"537.784\" y1=\"364.622\" x2=\"544.588\" y2=\"366.268\" stroke-linecap=\"round\" style=\"stroke:black;stroke-width:7\"/><line x1=\"544.588\" y1=\"366.268\" x2=\"551.386\" y2=\"367.938\" stroke-linecap=\"round\" style=\"stroke:black;stroke-width:7\"/><line x1=\"551.386\" y1=\"367.938\" x2=\"558.178\" y2=\"369.631\" stroke-linecap=\"round\" style=\"stroke:black;stroke-width:7\"/><line x1=\"558.178\" y1=\"369.631\" x2=\"564.964\" y2=\"371.348\" stroke-linecap=\"round\" style=\"stroke:black;stroke-width:7\"/><line x1=\"564.964\" y1=\"371.348\" x2=\"571.744\" y2=\"373.089\" stroke-linecap=\"round\" style=\"stroke:black;stroke-width:7\"/><line x1=\"571.744\" y1=\"373.089\" x2=\"578.518\" y2=\"374.853\" stroke-linecap=\"round\" style=\"stroke:black;stroke-width:7\"/><line x1=\"578.518\" y1=\"374.853\" x2=\"585.286\" y2=\"376.641\" stroke-linecap=\"round\" style=\"stroke:black;stroke-width:7\"/><line x1=\"585.286\" y1=\"376.641\" x2=\"592.047\" y2=\"378.453\" stroke-linecap=\"round\" style=\"stroke:black;stroke-width:7\"/><line x1=\"592.047\" y1=\"378.453\" x2=\"598.802\" y2=\"380.288\" stroke-linecap=\"round\" style=\"stroke:black;stroke-width:7\"/><line x1=\"598.802\" y1=\"380.288\" x2=\"605.551\" y2=\"382.147\" stroke-linecap=\"round\" style=\"stroke:black;stroke-width:7\"/><line x1=\"605.551\" y1=\"382.147\" x2=\"612.293\" y2=\"384.029\" stroke-linecap=\"round\" style=\"stroke:black;stroke-width:7\"/><line x1=\"612.293\" y1=\"384.029\" x2=\"619.029\" y2=\"385.935\" stroke-linecap=\"round\" style=\"stroke:black;stroke-width:7\"/><line x1=\"619.029\" y1=\"385.935\" x2=\"625.758\" y2=\"387.864\" stroke-linecap=\"round\" style=\"stroke:black;stroke-width:7\"/><line x1=\"625.758\" y1=\"387.864\" x2=\"632.48\" y2=\"389.817\" stroke-linecap=\"round\" style=\"stroke:black;stroke-width:7\"/><line x1=\"632.48\" y1=\"389.817\" x2=\"639.195\" y2=\"391.793\" stroke-linecap=\"round\" style=\"stroke:black;stroke-width:7\"/><line x1=\"639.195\" y1=\"391.793\" x2=\"645.903\" y2=\"393.793\" stroke-linecap=\"round\" style=\"stroke:black;stroke-width:7\"/><line x1=\"645.903\" y1=\"393.793\" x2=\"652.604\" y2=\"395.816\" stroke-linecap=\"round\" style=\"stroke:black;stroke-width:7\"/><line x1=\"652.604\" y1=\"395.816\" x2=\"659.298\" y2=\"397.863\" stroke-linecap=\"round\" style=\"stroke:black;stroke-width:7\"/><line x1=\"659.298\" y1=\"397.863\" x2=\"665.985\" y2=\"399.933\" stroke-linecap=\"round\" style=\"stroke:black;stroke-width:7\"/><line x1=\"665.985\" y1=\"399.933\" x2=\"672.665\" y2=\"402.026\" stroke-linecap=\"round\" style=\"stroke:black;stroke-width:7\"/><line x1=\"672.665\" y1=\"402.026\" x2=\"679.337\" y2=\"404.143\" stroke-linecap=\"round\" style=\"stroke:black;stroke-width:7\"/><line x1=\"679.337\" y1=\"404.143\" x2=\"686.002\" y2=\"406.283\" stroke-linecap=\"round\" style=\"stroke:black;stroke-width:7\"/><text x=\"386.002\" y=\"406.283\" fill=\"black\" text-anchor=\"middle\" style=\"font-size:25px;font-family:'Arial';font-style:italic;\">ColabTurtle</text>\n",
       "        <g visibility=visible transform=\"rotate(360,386.002,446.283) translate(368.002, 428.283)\">\n",
       "<path style=\" stroke:none;fill-rule:evenodd;fill:rgb(70 110 70);fill-opacity:1;\" d=\"M 18.214844 0.632812 C 16.109375 1.800781 15.011719 4.074219 15.074219 7.132812 L 15.085938 7.652344 L 14.785156 7.496094 C 13.476562 6.824219 11.957031 6.671875 10.40625 7.066406 C 8.46875 7.550781 6.515625 9.15625 4.394531 11.992188 C 3.0625 13.777344 2.679688 14.636719 3.042969 15.027344 L 3.15625 15.152344 L 3.519531 15.152344 C 4.238281 15.152344 4.828125 14.886719 8.1875 13.039062 C 9.386719 12.378906 10.371094 11.839844 10.378906 11.839844 C 10.386719 11.839844 10.355469 11.929688 10.304688 12.035156 C 9.832031 13.09375 9.257812 14.820312 8.96875 16.078125 C 7.914062 20.652344 8.617188 24.53125 11.070312 27.660156 C 11.351562 28.015625 11.363281 27.914062 10.972656 28.382812 C 8.925781 30.84375 7.945312 33.28125 8.238281 35.1875 C 8.289062 35.527344 8.28125 35.523438 8.917969 35.523438 C 10.941406 35.523438 13.074219 34.207031 15.136719 31.6875 C 15.359375 31.417969 15.328125 31.425781 15.5625 31.574219 C 16.292969 32.042969 18.023438 32.964844 18.175781 32.964844 C 18.335938 32.964844 19.941406 32.210938 20.828125 31.71875 C 20.996094 31.625 21.136719 31.554688 21.136719 31.558594 C 21.203125 31.664062 21.898438 32.414062 22.222656 32.730469 C 23.835938 34.300781 25.5625 35.132812 27.582031 35.300781 C 27.90625 35.328125 27.9375 35.308594 28.007812 34.984375 C 28.382812 33.242188 27.625 30.925781 25.863281 28.425781 L 25.542969 27.96875 L 25.699219 27.785156 C 28.945312 23.960938 29.132812 18.699219 26.257812 11.96875 L 26.207031 11.84375 L 27.945312 12.703125 C 31.53125 14.476562 32.316406 14.800781 33.03125 14.800781 C 33.976562 14.800781 33.78125 13.9375 32.472656 12.292969 C 28.519531 7.355469 25.394531 5.925781 21.921875 7.472656 L 21.558594 7.636719 L 21.578125 7.542969 C 21.699219 6.992188 21.761719 5.742188 21.699219 5.164062 C 21.496094 3.296875 20.664062 1.964844 19.003906 0.855469 C 18.480469 0.503906 18.457031 0.5 18.214844 0.632812\"/>\n",
       "</g>\n",
       "      </svg>\n",
       "    "
      ],
      "text/plain": [
       "<IPython.core.display.HTML object>"
      ]
     },
     "metadata": {},
     "output_type": "display_data"
    }
   ],
   "source": [
    "from ColabTurtle.Turtle import *\n",
    "initializeTurtle()\n",
    "\n",
    "color('mediumblue')\n",
    "penup()\n",
    "goto(100, 250)\n",
    "pendown()\n",
    "forward(100)\n",
    "left(90)\n",
    "forward(40)\n",
    "right(180)\n",
    "forward(80)\n",
    "penup()\n",
    "right(90)\n",
    "forward(50)\n",
    "left(90)\n",
    "forward(50)\n",
    "left(90)\n",
    "backward(10)\n",
    "pendown()\n",
    "speed(10)\n",
    "for i in range(18):\n",
    "    forward(17)\n",
    "    right(20)\n",
    "penup()\n",
    "shape('circle')\n",
    "color(230, 90, 120)\n",
    "speed(7)\n",
    "right(90)\n",
    "forward(160)\n",
    "left(90)\n",
    "forward(60)\n",
    "right(180)\n",
    "pendown()\n",
    "forward(100)\n",
    "left(90)\n",
    "forward(80)\n",
    "penup()\n",
    "shape('turtle')\n",
    "forward(50)\n",
    "left(90)\n",
    "forward(40)\n",
    "pendown()\n",
    "for i in range(5):\n",
    "    forward(17)\n",
    "    right(20)\n",
    "left(200)\n",
    "for i in range(13):\n",
    "    forward(17)\n",
    "    left(20)\n",
    "left(90)\n",
    "forward(50)\n",
    "penup()\n",
    "backward(100)\n",
    "left(90)\n",
    "forward(40)\n",
    "pendown()\n",
    "left(155)\n",
    "forward(105)\n",
    "right(130)\n",
    "forward(105)\n",
    "backward(45)\n",
    "right(115)\n",
    "forward(50)\n",
    "bgcolor(\"#efefef\")\n",
    "penup()\n",
    "backward(70)\n",
    "left(90)\n",
    "forward(100)\n",
    "right(90)\n",
    "pencolor('black')\n",
    "pensize(7)\n",
    "pendown()\n",
    "forward(650)\n",
    "left(180)\n",
    "speed(12)\n",
    "for i in range(90):\n",
    "    forward(7)\n",
    "    right(0.2)\n",
    "speed(2)\n",
    "left(18+180)\n",
    "penup()\n",
    "forward(300)\n",
    "setheading(270)\n",
    "write(\"ColabTurtle\", align=\"center\", font=(25, \"Arial\", \"italic\"))\n",
    "color('rgb(70 110 70)')\n",
    "backward(40)"
   ]
  },
  {
   "cell_type": "markdown",
   "metadata": {
    "id": "wooXdBBGZS2B"
   },
   "source": [
    "## 함수 사용하기\n",
    "\n",
    "### 함수(Function)란?\n",
    "\n",
    "- 반복되는 작업을 하나의 단위로 묶어 재사용할 수 있게 도와주는 기능\n",
    "- 함수에 입력과 출력이 존재한다 (없을 수도 있다)\n",
    "\n",
    "#### \"샌드위치를 만들어라\" 함수의 예\n",
    "\n",
    "이 함수를 사용하면 햄 샌드위치, 새우 샌드위치, 밀빵 샌드위치, 쌀빵 샌드위치 등을 쉽게 만들 수 있겠죠?\n",
    "\n",
    "<img src=\"https://i.imgur.com/DAmizAH.png\" width=\"500px\">"
   ]
  },
  {
   "cell_type": "markdown",
   "metadata": {
    "id": "Dz_bBIOybT5n"
   },
   "source": [
    "## \"거북이를 만들어라\" 함수\n",
    "\n",
    "이 함수에서 입력과 출력은 무엇일까요?"
   ]
  },
  {
   "cell_type": "code",
   "execution_count": 3,
   "metadata": {
    "colab": {
     "base_uri": "https://localhost:8080/",
     "height": 521
    },
    "executionInfo": {
     "elapsed": 288,
     "status": "ok",
     "timestamp": 1651037847407,
     "user": {
      "displayName": "Taehee Lee",
      "userId": "12017922817927484990"
     },
     "user_tz": -540
    },
    "id": "1BmostnXEmDn",
    "outputId": "d6a82ff0-3c2d-4bde-c706-5adcc538dcb5"
   },
   "outputs": [
    {
     "data": {
      "text/html": [
       "\n",
       "      <svg width=\"800\" height=\"500\">\n",
       "        <rect width=\"100%\" height=\"100%\" fill=\"black\"/>\n",
       "        <line x1=\"400\" y1=\"250\" x2=\"400.0\" y2=\"150.0\" stroke-linecap=\"round\" style=\"stroke:white;stroke-width:4\"/><line x1=\"400.0\" y1=\"150.0\" x2=\"500.0\" y2=\"150.0\" stroke-linecap=\"round\" style=\"stroke:white;stroke-width:4\"/><line x1=\"500.0\" y1=\"150.0\" x2=\"600.0\" y2=\"150.0\" stroke-linecap=\"round\" style=\"stroke:white;stroke-width:4\"/><line x1=\"600.0\" y1=\"150.0\" x2=\"600.0\" y2=\"250.0\" stroke-linecap=\"round\" style=\"stroke:white;stroke-width:4\"/><line x1=\"600.0\" y1=\"250.0\" x2=\"500.0\" y2=\"250.0\" stroke-linecap=\"round\" style=\"stroke:white;stroke-width:4\"/>\n",
       "        <g visibility=visible transform=\"rotate(360,500.0,250.0) translate(482.0, 232.0)\">\n",
       "<path style=\" stroke:none;fill-rule:evenodd;fill:white;fill-opacity:1;\" d=\"M 18.214844 0.632812 C 16.109375 1.800781 15.011719 4.074219 15.074219 7.132812 L 15.085938 7.652344 L 14.785156 7.496094 C 13.476562 6.824219 11.957031 6.671875 10.40625 7.066406 C 8.46875 7.550781 6.515625 9.15625 4.394531 11.992188 C 3.0625 13.777344 2.679688 14.636719 3.042969 15.027344 L 3.15625 15.152344 L 3.519531 15.152344 C 4.238281 15.152344 4.828125 14.886719 8.1875 13.039062 C 9.386719 12.378906 10.371094 11.839844 10.378906 11.839844 C 10.386719 11.839844 10.355469 11.929688 10.304688 12.035156 C 9.832031 13.09375 9.257812 14.820312 8.96875 16.078125 C 7.914062 20.652344 8.617188 24.53125 11.070312 27.660156 C 11.351562 28.015625 11.363281 27.914062 10.972656 28.382812 C 8.925781 30.84375 7.945312 33.28125 8.238281 35.1875 C 8.289062 35.527344 8.28125 35.523438 8.917969 35.523438 C 10.941406 35.523438 13.074219 34.207031 15.136719 31.6875 C 15.359375 31.417969 15.328125 31.425781 15.5625 31.574219 C 16.292969 32.042969 18.023438 32.964844 18.175781 32.964844 C 18.335938 32.964844 19.941406 32.210938 20.828125 31.71875 C 20.996094 31.625 21.136719 31.554688 21.136719 31.558594 C 21.203125 31.664062 21.898438 32.414062 22.222656 32.730469 C 23.835938 34.300781 25.5625 35.132812 27.582031 35.300781 C 27.90625 35.328125 27.9375 35.308594 28.007812 34.984375 C 28.382812 33.242188 27.625 30.925781 25.863281 28.425781 L 25.542969 27.96875 L 25.699219 27.785156 C 28.945312 23.960938 29.132812 18.699219 26.257812 11.96875 L 26.207031 11.84375 L 27.945312 12.703125 C 31.53125 14.476562 32.316406 14.800781 33.03125 14.800781 C 33.976562 14.800781 33.78125 13.9375 32.472656 12.292969 C 28.519531 7.355469 25.394531 5.925781 21.921875 7.472656 L 21.558594 7.636719 L 21.578125 7.542969 C 21.699219 6.992188 21.761719 5.742188 21.699219 5.164062 C 21.496094 3.296875 20.664062 1.964844 19.003906 0.855469 C 18.480469 0.503906 18.457031 0.5 18.214844 0.632812\"/>\n",
       "</g>\n",
       "      </svg>\n",
       "    "
      ],
      "text/plain": [
       "<IPython.core.display.HTML object>"
      ]
     },
     "metadata": {},
     "output_type": "display_data"
    }
   ],
   "source": [
    "initializeTurtle()"
   ]
  },
  {
   "cell_type": "markdown",
   "metadata": {
    "id": "lau9uq6Wbd4i"
   },
   "source": [
    "## \"앞으로 100만큼 이동해라\" 함수"
   ]
  },
  {
   "cell_type": "code",
   "execution_count": 4,
   "metadata": {
    "colab": {
     "base_uri": "https://localhost:8080/",
     "height": 521
    },
    "executionInfo": {
     "elapsed": 703,
     "status": "ok",
     "timestamp": 1651037871204,
     "user": {
      "displayName": "Taehee Lee",
      "userId": "12017922817927484990"
     },
     "user_tz": -540
    },
    "id": "atkWN4KzZeqE",
    "outputId": "3849ffbb-8fb4-436b-cb8e-9c7ef699b0c4"
   },
   "outputs": [],
   "source": [
    "forward(100)"
   ]
  },
  {
   "cell_type": "markdown",
   "metadata": {
    "id": "K-hmrNv_bqnS"
   },
   "source": [
    "## \"오른쪽으로 90도 회전해라\" 함수"
   ]
  },
  {
   "cell_type": "code",
   "execution_count": 5,
   "metadata": {
    "colab": {
     "base_uri": "https://localhost:8080/",
     "height": 521
    },
    "executionInfo": {
     "elapsed": 696,
     "status": "ok",
     "timestamp": 1651037968285,
     "user": {
      "displayName": "Taehee Lee",
      "userId": "12017922817927484990"
     },
     "user_tz": -540
    },
    "id": "ydeZWhBUbkdC",
    "outputId": "11f8bd1d-57d5-4b30-9a7f-d8499e0ab8b7"
   },
   "outputs": [],
   "source": [
    "right(90)"
   ]
  },
  {
   "cell_type": "code",
   "execution_count": 7,
   "metadata": {
    "colab": {
     "base_uri": "https://localhost:8080/",
     "height": 521
    },
    "executionInfo": {
     "elapsed": 754,
     "status": "ok",
     "timestamp": 1651037984954,
     "user": {
      "displayName": "Taehee Lee",
      "userId": "12017922817927484990"
     },
     "user_tz": -540
    },
    "id": "jT-t3Q_EbuNv",
    "outputId": "26afd805-3bf5-44f8-dbcf-b87648de2752"
   },
   "outputs": [],
   "source": [
    "forward(100)"
   ]
  },
  {
   "cell_type": "code",
   "execution_count": 8,
   "metadata": {
    "colab": {
     "base_uri": "https://localhost:8080/",
     "height": 521
    },
    "executionInfo": {
     "elapsed": 728,
     "status": "ok",
     "timestamp": 1651038015112,
     "user": {
      "displayName": "Taehee Lee",
      "userId": "12017922817927484990"
     },
     "user_tz": -540
    },
    "id": "3QOllfjvb0RL",
    "outputId": "fd807476-25bf-428c-ee01-c56565ba805b"
   },
   "outputs": [],
   "source": [
    "right(90)"
   ]
  },
  {
   "cell_type": "code",
   "execution_count": 9,
   "metadata": {
    "colab": {
     "base_uri": "https://localhost:8080/",
     "height": 521
    },
    "executionInfo": {
     "elapsed": 717,
     "status": "ok",
     "timestamp": 1651038023714,
     "user": {
      "displayName": "Taehee Lee",
      "userId": "12017922817927484990"
     },
     "user_tz": -540
    },
    "id": "iAHI2F-Fb2xq",
    "outputId": "0b057945-b8b4-408b-94c6-3f5bc508ce20"
   },
   "outputs": [],
   "source": [
    "forward(100)"
   ]
  },
  {
   "cell_type": "code",
   "execution_count": 10,
   "metadata": {
    "colab": {
     "base_uri": "https://localhost:8080/",
     "height": 521
    },
    "executionInfo": {
     "elapsed": 716,
     "status": "ok",
     "timestamp": 1651038033841,
     "user": {
      "displayName": "Taehee Lee",
      "userId": "12017922817927484990"
     },
     "user_tz": -540
    },
    "id": "Db8OYX1Yb5FV",
    "outputId": "d43c687a-ce37-4765-fc0f-d16e57bfdf97"
   },
   "outputs": [],
   "source": [
    "right(90)"
   ]
  },
  {
   "cell_type": "code",
   "execution_count": 11,
   "metadata": {
    "colab": {
     "base_uri": "https://localhost:8080/",
     "height": 521
    },
    "executionInfo": {
     "elapsed": 704,
     "status": "ok",
     "timestamp": 1651038037569,
     "user": {
      "displayName": "Taehee Lee",
      "userId": "12017922817927484990"
     },
     "user_tz": -540
    },
    "id": "xc6AECw3b6QY",
    "outputId": "5f6d048a-b62f-40bd-9b4e-5bd43ad5e6f1"
   },
   "outputs": [],
   "source": [
    "forward(100)"
   ]
  },
  {
   "cell_type": "code",
   "execution_count": 12,
   "metadata": {
    "colab": {
     "base_uri": "https://localhost:8080/",
     "height": 521
    },
    "executionInfo": {
     "elapsed": 692,
     "status": "ok",
     "timestamp": 1651038048214,
     "user": {
      "displayName": "Taehee Lee",
      "userId": "12017922817927484990"
     },
     "user_tz": -540
    },
    "id": "pXDlj1MVcLdS",
    "outputId": "3c39671a-384d-4fe2-ec44-1c4d75daebd1"
   },
   "outputs": [],
   "source": [
    "right(90)"
   ]
  },
  {
   "cell_type": "markdown",
   "metadata": {
    "id": "WqxbEAvXb-d2"
   },
   "source": [
    "## 프로그래밍에서 사각형을 그리는 방법\n",
    "\n",
    "아래 명령어를 한 번에 코드로 만들어볼까요?\n",
    "\n",
    "코드는 위에서부터 아래로 한 줄씩 차례대로 실행됩니다.\n",
    "\n",
    "1. 거북이를 만들어라\n",
    "2. 앞으로 100만큼 이동해라\n",
    "3. 오른쪽으로 90도 만큼 회전해라\n",
    "4. 앞으로 100만큼 이동해라\n",
    "5. 오른쪽으로 90도 만큼 회전해라\n",
    "6. 앞으로 100만큼 이동해라\n",
    "7. 오른쪽으로 90도 만큼 회전해라\n",
    "8. 앞으로 100만큼 이동해라\n",
    "9. 오른쪽으로 90도 만큼 회전해라"
   ]
  },
  {
   "cell_type": "code",
   "execution_count": 13,
   "metadata": {
    "colab": {
     "base_uri": "https://localhost:8080/",
     "height": 521
    },
    "executionInfo": {
     "elapsed": 4275,
     "status": "ok",
     "timestamp": 1651038148549,
     "user": {
      "displayName": "Taehee Lee",
      "userId": "12017922817927484990"
     },
     "user_tz": -540
    },
    "id": "Gubzx14_b8S0",
    "outputId": "1f2356ad-7080-4542-83a3-b17ecf443986"
   },
   "outputs": [
    {
     "data": {
      "text/html": [
       "\n",
       "      <svg width=\"800\" height=\"500\">\n",
       "        <rect width=\"100%\" height=\"100%\" fill=\"black\"/>\n",
       "        <line x1=\"400\" y1=\"250\" x2=\"400.0\" y2=\"150.0\" stroke-linecap=\"round\" style=\"stroke:white;stroke-width:4\"/><line x1=\"400.0\" y1=\"150.0\" x2=\"500.0\" y2=\"150.0\" stroke-linecap=\"round\" style=\"stroke:white;stroke-width:4\"/><line x1=\"500.0\" y1=\"150.0\" x2=\"500.0\" y2=\"250.0\" stroke-linecap=\"round\" style=\"stroke:white;stroke-width:4\"/><line x1=\"500.0\" y1=\"250.0\" x2=\"400.0\" y2=\"250.0\" stroke-linecap=\"round\" style=\"stroke:white;stroke-width:4\"/><line x1=\"400.0\" y1=\"250.0\" x2=\"400.0\" y2=\"150.0\" stroke-linecap=\"round\" style=\"stroke:red;stroke-width:4\"/>\n",
       "        <g visibility=visible transform=\"rotate(360,400.0,150.0) translate(382.0, 132.0)\">\n",
       "<path style=\" stroke:none;fill-rule:evenodd;fill:red;fill-opacity:1;\" d=\"M 18.214844 0.632812 C 16.109375 1.800781 15.011719 4.074219 15.074219 7.132812 L 15.085938 7.652344 L 14.785156 7.496094 C 13.476562 6.824219 11.957031 6.671875 10.40625 7.066406 C 8.46875 7.550781 6.515625 9.15625 4.394531 11.992188 C 3.0625 13.777344 2.679688 14.636719 3.042969 15.027344 L 3.15625 15.152344 L 3.519531 15.152344 C 4.238281 15.152344 4.828125 14.886719 8.1875 13.039062 C 9.386719 12.378906 10.371094 11.839844 10.378906 11.839844 C 10.386719 11.839844 10.355469 11.929688 10.304688 12.035156 C 9.832031 13.09375 9.257812 14.820312 8.96875 16.078125 C 7.914062 20.652344 8.617188 24.53125 11.070312 27.660156 C 11.351562 28.015625 11.363281 27.914062 10.972656 28.382812 C 8.925781 30.84375 7.945312 33.28125 8.238281 35.1875 C 8.289062 35.527344 8.28125 35.523438 8.917969 35.523438 C 10.941406 35.523438 13.074219 34.207031 15.136719 31.6875 C 15.359375 31.417969 15.328125 31.425781 15.5625 31.574219 C 16.292969 32.042969 18.023438 32.964844 18.175781 32.964844 C 18.335938 32.964844 19.941406 32.210938 20.828125 31.71875 C 20.996094 31.625 21.136719 31.554688 21.136719 31.558594 C 21.203125 31.664062 21.898438 32.414062 22.222656 32.730469 C 23.835938 34.300781 25.5625 35.132812 27.582031 35.300781 C 27.90625 35.328125 27.9375 35.308594 28.007812 34.984375 C 28.382812 33.242188 27.625 30.925781 25.863281 28.425781 L 25.542969 27.96875 L 25.699219 27.785156 C 28.945312 23.960938 29.132812 18.699219 26.257812 11.96875 L 26.207031 11.84375 L 27.945312 12.703125 C 31.53125 14.476562 32.316406 14.800781 33.03125 14.800781 C 33.976562 14.800781 33.78125 13.9375 32.472656 12.292969 C 28.519531 7.355469 25.394531 5.925781 21.921875 7.472656 L 21.558594 7.636719 L 21.578125 7.542969 C 21.699219 6.992188 21.761719 5.742188 21.699219 5.164062 C 21.496094 3.296875 20.664062 1.964844 19.003906 0.855469 C 18.480469 0.503906 18.457031 0.5 18.214844 0.632812\"/>\n",
       "</g>\n",
       "      </svg>\n",
       "    "
      ],
      "text/plain": [
       "<IPython.core.display.HTML object>"
      ]
     },
     "metadata": {},
     "output_type": "display_data"
    }
   ],
   "source": [
    "initializeTurtle()\n",
    "forward(100)\n",
    "right(90)\n",
    "forward(100)\n",
    "right(90)\n",
    "forward(100)\n",
    "right(90)\n",
    "forward(100)\n",
    "right(90)"
   ]
  },
  {
   "cell_type": "markdown",
   "metadata": {
    "id": "RC2KLmISexjW"
   },
   "source": [
    "## \"선을 (ㅇㅇ)색으로 바꿔라\" 함수\n",
    "\n",
    "### 'red' 에는 따옴표가 있고 100 에는 따옴표가 없는 이유\n",
    "\n",
    "- 'red': 문자열 형식\n",
    "- 100: 숫자 형식\n",
    "\n",
    "각 함수에서는 입력을 받거나 출력을 내보낼 때 정해진 형식이 있어요.\n",
    "\n",
    "- pencolor('문자열')\n",
    "- forward(숫자)"
   ]
  },
  {
   "cell_type": "code",
   "execution_count": 14,
   "metadata": {
    "colab": {
     "base_uri": "https://localhost:8080/",
     "height": 521
    },
    "executionInfo": {
     "elapsed": 1264,
     "status": "ok",
     "timestamp": 1651038342780,
     "user": {
      "displayName": "Taehee Lee",
      "userId": "12017922817927484990"
     },
     "user_tz": -540
    },
    "id": "orIhrexUckqS",
    "outputId": "12a0c5cb-8bbf-4131-f22d-3a44e16ee098"
   },
   "outputs": [],
   "source": [
    "pencolor('red')\n",
    "forward(100)"
   ]
  },
  {
   "cell_type": "markdown",
   "metadata": {
    "id": "LekpJmUvfrqO"
   },
   "source": [
    "## 빨간색 사각형을 처음부터 그려보자"
   ]
  },
  {
   "cell_type": "code",
   "execution_count": null,
   "metadata": {
    "colab": {
     "base_uri": "https://localhost:8080/",
     "height": 521
    },
    "executionInfo": {
     "elapsed": 4824,
     "status": "ok",
     "timestamp": 1651038372368,
     "user": {
      "displayName": "Taehee Lee",
      "userId": "12017922817927484990"
     },
     "user_tz": -540
    },
    "id": "h2ErMou_emBe",
    "outputId": "d0a4cc7e-d900-4cbf-ab2f-1bd891bbbec6"
   },
   "outputs": [],
   "source": [
    "initializeTurtle()\n",
    "pencolor('red')\n",
    "forward(100)\n",
    "right(90)\n",
    "forward(100)\n",
    "right(90)\n",
    "forward(100)\n",
    "right(90)\n",
    "forward(100)\n",
    "right(90)"
   ]
  },
  {
   "cell_type": "markdown",
   "metadata": {
    "id": "RGld-UgkgTEs"
   },
   "source": [
    "## 사각형의 크기를 바꿔보자\n",
    "\n",
    "우리는 가로/세로 각각 100의 크기를 가지는 정사각형을 그렸는데 \n",
    "\n",
    "이번에는 가로/세로 각각 200짜리 정사각형을 그려보자!"
   ]
  },
  {
   "cell_type": "code",
   "execution_count": null,
   "metadata": {
    "colab": {
     "base_uri": "https://localhost:8080/",
     "height": 521
    },
    "executionInfo": {
     "elapsed": 4788,
     "status": "ok",
     "timestamp": 1651038435486,
     "user": {
      "displayName": "Taehee Lee",
      "userId": "12017922817927484990"
     },
     "user_tz": -540
    },
    "id": "_0US1ko4gNYb",
    "outputId": "21ec9889-3aa5-4a98-a548-927810f1affb"
   },
   "outputs": [],
   "source": [
    "initializeTurtle()\n",
    "pencolor('red')\n",
    "forward(200)\n",
    "right(90)\n",
    "forward(200)\n",
    "right(90)\n",
    "forward(200)\n",
    "right(90)\n",
    "forward(200)\n",
    "right(90)"
   ]
  },
  {
   "cell_type": "markdown",
   "metadata": {
    "id": "9IAqZvMFgoI6"
   },
   "source": [
    "## 변수(Variable) 사용하기\n",
    "\n",
    "숫자 100을 200으로 바꿔야하는데 너무 불편하네요.\n",
    "\n",
    "사각형의 크기를 바꾸고 싶을 때 한번에 바꿀 수 있는 방법이 없을까요?\n",
    "\n",
    "`size`라는 변수에 숫자 200을 저장해두고 재사용해보죠!"
   ]
  },
  {
   "cell_type": "code",
   "execution_count": null,
   "metadata": {
    "colab": {
     "base_uri": "https://localhost:8080/",
     "height": 521
    },
    "executionInfo": {
     "elapsed": 4807,
     "status": "ok",
     "timestamp": 1651038533261,
     "user": {
      "displayName": "Taehee Lee",
      "userId": "12017922817927484990"
     },
     "user_tz": -540
    },
    "id": "ammEgzv8gl1R",
    "outputId": "25d288b9-93c9-4cd7-b538-09413bc0d373"
   },
   "outputs": [],
   "source": [
    "size = 200\n",
    "\n",
    "initializeTurtle()\n",
    "pencolor('red')\n",
    "forward(size)\n",
    "right(90)\n",
    "forward(size)\n",
    "right(90)\n",
    "forward(size)\n",
    "right(90)\n",
    "forward(size)\n",
    "right(90)"
   ]
  },
  {
   "cell_type": "markdown",
   "metadata": {
    "id": "Z_r9lCpqhMME"
   },
   "source": [
    "## 변수 형식\n",
    "\n",
    "변수에는 숫자뿐만 아니라 문자열도 저장 가능하다는 사실!\n",
    "\n",
    "선 색을 파란색으로 바꿔볼까요?"
   ]
  },
  {
   "cell_type": "code",
   "execution_count": null,
   "metadata": {
    "colab": {
     "base_uri": "https://localhost:8080/",
     "height": 521
    },
    "executionInfo": {
     "elapsed": 4803,
     "status": "ok",
     "timestamp": 1651038594382,
     "user": {
      "displayName": "Taehee Lee",
      "userId": "12017922817927484990"
     },
     "user_tz": -540
    },
    "id": "6smURdAQg3vi",
    "outputId": "4a5c1d8d-25bf-4679-82c1-c29dae9344d3"
   },
   "outputs": [],
   "source": [
    "size = 100\n",
    "color = 'green'\n",
    "\n",
    "initializeTurtle()\n",
    "pencolor(color)\n",
    "forward(size)\n",
    "right(90)\n",
    "forward(size)\n",
    "right(90)\n",
    "forward(size)\n",
    "right(90)\n",
    "forward(size)\n",
    "right(90)"
   ]
  },
  {
   "cell_type": "markdown",
   "metadata": {
    "id": "M0p_9e8QiRip"
   },
   "source": [
    "## 반복하기(반복문)\n",
    "\n",
    "코드를 자세히보니 반복되는 부분이 있네요. 프로그래머들은 반복되는 코드를 작성하는 것을 정말로 싫어합니다.\n",
    "\n",
    "```python\n",
    "size = 200\n",
    "color = 'red'\n",
    "\n",
    "initializeTurtle()\n",
    "pencolor(color)\n",
    "forward(size)\n",
    "right(90)\n",
    "forward(size)\n",
    "right(90)\n",
    "forward(size)\n",
    "right(90)\n",
    "forward(size)\n",
    "right(90)\n",
    "```\n",
    "\n",
    "우리가 작성한 코드에서 `forward(size)` 와 `right(90)` 이 4번 반복되는 것을 알 수 있죠.\n",
    "\n",
    "`forward(size)`와 `right(90)`을 한 번씩만 사용하고 코드를 작성할 수 있는 방법이 있어요."
   ]
  },
  {
   "cell_type": "code",
   "execution_count": 15,
   "metadata": {
    "colab": {
     "base_uri": "https://localhost:8080/",
     "height": 521
    },
    "executionInfo": {
     "elapsed": 4857,
     "status": "ok",
     "timestamp": 1651038664193,
     "user": {
      "displayName": "Taehee Lee",
      "userId": "12017922817927484990"
     },
     "user_tz": -540
    },
    "id": "IbeoDPtbhpxd",
    "outputId": "0e124060-e192-471a-b5c5-ef75836735d0"
   },
   "outputs": [
    {
     "data": {
      "text/html": [
       "\n",
       "      <svg width=\"800\" height=\"500\">\n",
       "        <rect width=\"100%\" height=\"100%\" fill=\"black\"/>\n",
       "        <line x1=\"400\" y1=\"250\" x2=\"400.0\" y2=\"50.0\" stroke-linecap=\"round\" style=\"stroke:red;stroke-width:4\"/><line x1=\"400.0\" y1=\"50.0\" x2=\"600.0\" y2=\"50.0\" stroke-linecap=\"round\" style=\"stroke:red;stroke-width:4\"/><line x1=\"600.0\" y1=\"50.0\" x2=\"600.0\" y2=\"250.0\" stroke-linecap=\"round\" style=\"stroke:red;stroke-width:4\"/><line x1=\"600.0\" y1=\"250.0\" x2=\"400.0\" y2=\"250.0\" stroke-linecap=\"round\" style=\"stroke:red;stroke-width:4\"/>\n",
       "        <g visibility=visible transform=\"rotate(360,400.0,250.0) translate(382.0, 232.0)\">\n",
       "<path style=\" stroke:none;fill-rule:evenodd;fill:red;fill-opacity:1;\" d=\"M 18.214844 0.632812 C 16.109375 1.800781 15.011719 4.074219 15.074219 7.132812 L 15.085938 7.652344 L 14.785156 7.496094 C 13.476562 6.824219 11.957031 6.671875 10.40625 7.066406 C 8.46875 7.550781 6.515625 9.15625 4.394531 11.992188 C 3.0625 13.777344 2.679688 14.636719 3.042969 15.027344 L 3.15625 15.152344 L 3.519531 15.152344 C 4.238281 15.152344 4.828125 14.886719 8.1875 13.039062 C 9.386719 12.378906 10.371094 11.839844 10.378906 11.839844 C 10.386719 11.839844 10.355469 11.929688 10.304688 12.035156 C 9.832031 13.09375 9.257812 14.820312 8.96875 16.078125 C 7.914062 20.652344 8.617188 24.53125 11.070312 27.660156 C 11.351562 28.015625 11.363281 27.914062 10.972656 28.382812 C 8.925781 30.84375 7.945312 33.28125 8.238281 35.1875 C 8.289062 35.527344 8.28125 35.523438 8.917969 35.523438 C 10.941406 35.523438 13.074219 34.207031 15.136719 31.6875 C 15.359375 31.417969 15.328125 31.425781 15.5625 31.574219 C 16.292969 32.042969 18.023438 32.964844 18.175781 32.964844 C 18.335938 32.964844 19.941406 32.210938 20.828125 31.71875 C 20.996094 31.625 21.136719 31.554688 21.136719 31.558594 C 21.203125 31.664062 21.898438 32.414062 22.222656 32.730469 C 23.835938 34.300781 25.5625 35.132812 27.582031 35.300781 C 27.90625 35.328125 27.9375 35.308594 28.007812 34.984375 C 28.382812 33.242188 27.625 30.925781 25.863281 28.425781 L 25.542969 27.96875 L 25.699219 27.785156 C 28.945312 23.960938 29.132812 18.699219 26.257812 11.96875 L 26.207031 11.84375 L 27.945312 12.703125 C 31.53125 14.476562 32.316406 14.800781 33.03125 14.800781 C 33.976562 14.800781 33.78125 13.9375 32.472656 12.292969 C 28.519531 7.355469 25.394531 5.925781 21.921875 7.472656 L 21.558594 7.636719 L 21.578125 7.542969 C 21.699219 6.992188 21.761719 5.742188 21.699219 5.164062 C 21.496094 3.296875 20.664062 1.964844 19.003906 0.855469 C 18.480469 0.503906 18.457031 0.5 18.214844 0.632812\"/>\n",
       "</g>\n",
       "      </svg>\n",
       "    "
      ],
      "text/plain": [
       "<IPython.core.display.HTML object>"
      ]
     },
     "metadata": {},
     "output_type": "display_data"
    }
   ],
   "source": [
    "size = 200\n",
    "color = 'red'\n",
    " \n",
    "initializeTurtle()\n",
    "pencolor(color)\n",
    "\n",
    "for i in range(4):\n",
    "  forward(size)\n",
    "  right(90)"
   ]
  },
  {
   "cell_type": "markdown",
   "metadata": {
    "id": "OsKBXLJqjN2e"
   },
   "source": [
    "3번만 반복하게 한다면?"
   ]
  },
  {
   "cell_type": "code",
   "execution_count": null,
   "metadata": {
    "colab": {
     "base_uri": "https://localhost:8080/",
     "height": 521
    },
    "executionInfo": {
     "elapsed": 3708,
     "status": "ok",
     "timestamp": 1651038859746,
     "user": {
      "displayName": "Taehee Lee",
      "userId": "12017922817927484990"
     },
     "user_tz": -540
    },
    "id": "LHhAAh3fjC-M",
    "outputId": "0979e28b-6245-436c-9204-eb3ae1c028a1"
   },
   "outputs": [],
   "source": [
    "size = 200\n",
    "color = 'red'\n",
    " \n",
    "initializeTurtle()\n",
    "pencolor(color)\n",
    "\n",
    "for i in range(3):\n",
    "  forward(size)\n",
    "  right(90)"
   ]
  },
  {
   "cell_type": "markdown",
   "metadata": {
    "id": "bD6W_YDKjfZK"
   },
   "source": [
    "## for 반복문\n",
    "\n",
    "```python\n",
    "for i in range(4):\n",
    "  forward(size)\n",
    "  right(90)\n",
    "```\n",
    "\n",
    "1. `range(4)` 4개의 연속되는 숫자를 만들어냅니다.\n",
    "2. 변수 `i`에 차례대로 정수 0, 1, 2, 3 를 저장합니다.\n",
    "3. 띄어쓰기한 구문까지 4번 반복 실행합니다."
   ]
  },
  {
   "cell_type": "markdown",
   "metadata": {
    "id": "kGTBdgtEkhWl"
   },
   "source": [
    "## 출력 함수(print)\n",
    "\n",
    "`i`에 저장된 값이 궁금해요. 출력해볼까요?"
   ]
  },
  {
   "cell_type": "code",
   "execution_count": 16,
   "metadata": {
    "colab": {
     "base_uri": "https://localhost:8080/"
    },
    "executionInfo": {
     "elapsed": 326,
     "status": "ok",
     "timestamp": 1651038918748,
     "user": {
      "displayName": "Taehee Lee",
      "userId": "12017922817927484990"
     },
     "user_tz": -540
    },
    "id": "GU1t2i7kjRfb",
    "outputId": "6f321fa6-1592-435b-9701-fc8b826e1cbd"
   },
   "outputs": [
    {
     "name": "stdout",
     "output_type": "stream",
     "text": [
      "0\n",
      "1\n",
      "2\n",
      "3\n"
     ]
    }
   ],
   "source": [
    "for i in range(4):\n",
    "  print(i)"
   ]
  },
  {
   "cell_type": "markdown",
   "metadata": {
    "id": "v5ZlBcdHkzW1"
   },
   "source": [
    "### 변수에 저장된 값 확인해보기"
   ]
  },
  {
   "cell_type": "code",
   "execution_count": 17,
   "metadata": {
    "colab": {
     "base_uri": "https://localhost:8080/"
    },
    "executionInfo": {
     "elapsed": 295,
     "status": "ok",
     "timestamp": 1651038933239,
     "user": {
      "displayName": "Taehee Lee",
      "userId": "12017922817927484990"
     },
     "user_tz": -540
    },
    "id": "w5uoDSF3kphM",
    "outputId": "4b22f410-5519-42c1-ef4e-6100ae44d730"
   },
   "outputs": [
    {
     "name": "stdout",
     "output_type": "stream",
     "text": [
      "200\n",
      "red\n"
     ]
    }
   ],
   "source": [
    "print(size)\n",
    "print(color)"
   ]
  },
  {
   "cell_type": "markdown",
   "metadata": {
    "id": "jZXkjh1UlFjj"
   },
   "source": [
    "## 무한 반복\n",
    "\n",
    "무한 반복해서 거북이를 움직이게 할 수 있는 방법이 있습니다.\n",
    "\n",
    "중단하고 싶다면 \"네모 버튼\"을 눌러주세요."
   ]
  },
  {
   "cell_type": "code",
   "execution_count": null,
   "metadata": {
    "colab": {
     "base_uri": "https://localhost:8080/",
     "height": 861
    },
    "executionInfo": {
     "elapsed": 21763,
     "status": "error",
     "timestamp": 1651038981465,
     "user": {
      "displayName": "Taehee Lee",
      "userId": "12017922817927484990"
     },
     "user_tz": -540
    },
    "id": "EnRGPXvKlRZn",
    "outputId": "a416dcfe-856a-40ee-c3f3-ad61e2fbd5f7"
   },
   "outputs": [],
   "source": [
    "size = 200\n",
    "color = 'red'\n",
    " \n",
    "initializeTurtle()\n",
    "pencolor(color)\n",
    "\n",
    "while True:\n",
    "  for i in range(4):\n",
    "    forward(size)\n",
    "    right(90)"
   ]
  },
  {
   "cell_type": "markdown",
   "metadata": {
    "id": "qHp9UC1Tlty_"
   },
   "source": [
    "## while 반복문\n",
    "\n",
    "`while` 뒤의 조건이 `False`(거짓)이 될 때까지 반복합니다.\n",
    "\n",
    "우리는 `while`뒤에 조건으로 `True`(참)를 넣었고 조건이 `False`(거짓)로 변할리 없으므로 무한 반복하게 됩니다.\n",
    "\n",
    "```python\n",
    "size = 200\n",
    "color = 'red'\n",
    " \n",
    "initializeTurtle()\n",
    "pencolor(color)\n",
    "\n",
    "while True:\n",
    "  for i in range(4):\n",
    "    forward(size)\n",
    "    right(90)\n",
    "```"
   ]
  },
  {
   "cell_type": "markdown",
   "metadata": {
    "id": "sfg--SsPmZpt"
   },
   "source": [
    "## 3번만 반복해서 그려보자\n",
    "\n",
    "새로운 변수(counter)를 만들어서 `while`문을 몇 번 반복했는지 숫자로 저장해두죠.\n",
    "\n",
    "그리고 몇 번 반복했는지 궁금하니까 `counter`를 출력하겠습니다."
   ]
  },
  {
   "cell_type": "markdown",
   "metadata": {
    "id": "LeMII1pTpYaH"
   },
   "source": [
    "### while문을 사용해서 3번 반복하기"
   ]
  },
  {
   "cell_type": "code",
   "execution_count": null,
   "metadata": {
    "colab": {
     "base_uri": "https://localhost:8080/",
     "height": 522
    },
    "executionInfo": {
     "elapsed": 12835,
     "status": "ok",
     "timestamp": 1628734953999,
     "user": {
      "displayName": "Taehee Lee",
      "photoUrl": "https://lh3.googleusercontent.com/a-/AOh14GijtfpZnQ0Syv6KWDHsShFunkW1YmSXhr4rUnheIEg=s64",
      "userId": "12017922817927484990"
     },
     "user_tz": -540
    },
    "id": "x_HhhT2Wm8-j",
    "outputId": "e44275a3-5909-4279-f2b2-6d028899c20f"
   },
   "outputs": [],
   "source": [
    "size = 200\n",
    "color = 'red'\n",
    "counter = 0\n",
    " \n",
    "initializeTurtle()\n",
    "pencolor(color)\n",
    " \n",
    "while counter < 3:\n",
    "  for i in range(4):\n",
    "    forward(size)\n",
    "    right(90)\n",
    "\n",
    "  counter = counter + 1"
   ]
  },
  {
   "cell_type": "markdown",
   "metadata": {
    "id": "q1CQ3b9Jo61x"
   },
   "source": [
    "### for문을 사용해서 3번 반복하기"
   ]
  },
  {
   "cell_type": "code",
   "execution_count": 18,
   "metadata": {
    "colab": {
     "base_uri": "https://localhost:8080/",
     "height": 856
    },
    "executionInfo": {
     "elapsed": 21388,
     "status": "error",
     "timestamp": 1628735129048,
     "user": {
      "displayName": "Taehee Lee",
      "photoUrl": "https://lh3.googleusercontent.com/a-/AOh14GijtfpZnQ0Syv6KWDHsShFunkW1YmSXhr4rUnheIEg=s64",
      "userId": "12017922817927484990"
     },
     "user_tz": -540
    },
    "id": "sSceGh3jkyP0",
    "outputId": "26f5abda-410f-41bc-a014-bc7dbafe3714"
   },
   "outputs": [
    {
     "data": {
      "text/html": [
       "\n",
       "      <svg width=\"800\" height=\"500\">\n",
       "        <rect width=\"100%\" height=\"100%\" fill=\"black\"/>\n",
       "        <line x1=\"400\" y1=\"250\" x2=\"400.0\" y2=\"50.0\" stroke-linecap=\"round\" style=\"stroke:red;stroke-width:4\"/><line x1=\"400.0\" y1=\"50.0\" x2=\"600.0\" y2=\"50.0\" stroke-linecap=\"round\" style=\"stroke:red;stroke-width:4\"/><line x1=\"600.0\" y1=\"50.0\" x2=\"600.0\" y2=\"250.0\" stroke-linecap=\"round\" style=\"stroke:red;stroke-width:4\"/><line x1=\"600.0\" y1=\"250.0\" x2=\"400.0\" y2=\"250.0\" stroke-linecap=\"round\" style=\"stroke:red;stroke-width:4\"/><line x1=\"400.0\" y1=\"250.0\" x2=\"400.0\" y2=\"50.0\" stroke-linecap=\"round\" style=\"stroke:red;stroke-width:4\"/><line x1=\"400.0\" y1=\"50.0\" x2=\"600.0\" y2=\"50.0\" stroke-linecap=\"round\" style=\"stroke:red;stroke-width:4\"/><line x1=\"600.0\" y1=\"50.0\" x2=\"600.0\" y2=\"250.0\" stroke-linecap=\"round\" style=\"stroke:red;stroke-width:4\"/><line x1=\"600.0\" y1=\"250.0\" x2=\"400.0\" y2=\"250.0\" stroke-linecap=\"round\" style=\"stroke:red;stroke-width:4\"/><line x1=\"400.0\" y1=\"250.0\" x2=\"400.0\" y2=\"50.0\" stroke-linecap=\"round\" style=\"stroke:red;stroke-width:4\"/><line x1=\"400.0\" y1=\"50.0\" x2=\"600.0\" y2=\"50.0\" stroke-linecap=\"round\" style=\"stroke:red;stroke-width:4\"/><line x1=\"600.0\" y1=\"50.0\" x2=\"600.0\" y2=\"250.0\" stroke-linecap=\"round\" style=\"stroke:red;stroke-width:4\"/><line x1=\"600.0\" y1=\"250.0\" x2=\"400.0\" y2=\"250.0\" stroke-linecap=\"round\" style=\"stroke:red;stroke-width:4\"/>\n",
       "        <g visibility=visible transform=\"rotate(360,400.0,250.0) translate(382.0, 232.0)\">\n",
       "<path style=\" stroke:none;fill-rule:evenodd;fill:red;fill-opacity:1;\" d=\"M 18.214844 0.632812 C 16.109375 1.800781 15.011719 4.074219 15.074219 7.132812 L 15.085938 7.652344 L 14.785156 7.496094 C 13.476562 6.824219 11.957031 6.671875 10.40625 7.066406 C 8.46875 7.550781 6.515625 9.15625 4.394531 11.992188 C 3.0625 13.777344 2.679688 14.636719 3.042969 15.027344 L 3.15625 15.152344 L 3.519531 15.152344 C 4.238281 15.152344 4.828125 14.886719 8.1875 13.039062 C 9.386719 12.378906 10.371094 11.839844 10.378906 11.839844 C 10.386719 11.839844 10.355469 11.929688 10.304688 12.035156 C 9.832031 13.09375 9.257812 14.820312 8.96875 16.078125 C 7.914062 20.652344 8.617188 24.53125 11.070312 27.660156 C 11.351562 28.015625 11.363281 27.914062 10.972656 28.382812 C 8.925781 30.84375 7.945312 33.28125 8.238281 35.1875 C 8.289062 35.527344 8.28125 35.523438 8.917969 35.523438 C 10.941406 35.523438 13.074219 34.207031 15.136719 31.6875 C 15.359375 31.417969 15.328125 31.425781 15.5625 31.574219 C 16.292969 32.042969 18.023438 32.964844 18.175781 32.964844 C 18.335938 32.964844 19.941406 32.210938 20.828125 31.71875 C 20.996094 31.625 21.136719 31.554688 21.136719 31.558594 C 21.203125 31.664062 21.898438 32.414062 22.222656 32.730469 C 23.835938 34.300781 25.5625 35.132812 27.582031 35.300781 C 27.90625 35.328125 27.9375 35.308594 28.007812 34.984375 C 28.382812 33.242188 27.625 30.925781 25.863281 28.425781 L 25.542969 27.96875 L 25.699219 27.785156 C 28.945312 23.960938 29.132812 18.699219 26.257812 11.96875 L 26.207031 11.84375 L 27.945312 12.703125 C 31.53125 14.476562 32.316406 14.800781 33.03125 14.800781 C 33.976562 14.800781 33.78125 13.9375 32.472656 12.292969 C 28.519531 7.355469 25.394531 5.925781 21.921875 7.472656 L 21.558594 7.636719 L 21.578125 7.542969 C 21.699219 6.992188 21.761719 5.742188 21.699219 5.164062 C 21.496094 3.296875 20.664062 1.964844 19.003906 0.855469 C 18.480469 0.503906 18.457031 0.5 18.214844 0.632812\"/>\n",
       "</g>\n",
       "      </svg>\n",
       "    "
      ],
      "text/plain": [
       "<IPython.core.display.HTML object>"
      ]
     },
     "metadata": {},
     "output_type": "display_data"
    }
   ],
   "source": [
    "size = 200\n",
    "color = 'red'\n",
    " \n",
    "initializeTurtle()\n",
    "pencolor(color)\n",
    " \n",
    "for j in range(3):\n",
    "  for i in range(4):\n",
    "    forward(size)\n",
    "    right(90)"
   ]
  },
  {
   "cell_type": "markdown",
   "metadata": {
    "id": "x_yoD4Ifpqwo"
   },
   "source": [
    "## 반복할때마다 색깔 변경하기\n",
    "\n",
    "우리가 방금 작성한 코드를 실행하면 빨간색 사각형을 총 3회 그리는데요.\n",
    "\n",
    "아래와 같이 색깔을 변경하고 싶어요.\n",
    "\n",
    "- 1회: 빨간색\n",
    "- 2회: 노란색\n",
    "- 3회: 초록색\n",
    "\n",
    "이럴 경우에는 다음과 같은 조건이 붙어야겠죠.\n",
    "\n",
    "1. 첫 번째 사각형을 그릴 때는 빨간색 펜을 사용한다\n",
    "2. 두 번째 사각형을 그릴 때는 노란색 펜을 사용한다\n",
    "3. 세 번째 사각형을 그릴 때는 초록색 펜을 사용한다\n",
    "\n",
    "그렇다면 몇 번째 사각형을 그리는지 알아야하는데 그것은 바로 변수 `j`에 들어있죠.\n",
    "\n",
    "사각형을 반복해서 그릴 때마다 `j`의 값이 0, 1, 2로 변합니다.\n",
    "\n",
    "```python\n",
    "size = 200\n",
    "color = 'red'\n",
    " \n",
    "initializeTurtle()\n",
    "pencolor(color)\n",
    " \n",
    "for j in range(3):\n",
    "  for i in range(4):\n",
    "    forward(size)\n",
    "    right(90)\n",
    "```\n",
    "\n",
    "따라서 위의 조건을 프로그래밍으로 바꾸면:\n",
    "\n",
    "1. 만약 `j == 0` 이면, `color = 'red'`\n",
    "2. 만약 `j == 1` 이면, `color = 'yellow'`\n",
    "3. 만약 `j == 2` 이면, `color = 'green'`"
   ]
  },
  {
   "cell_type": "markdown",
   "metadata": {
    "id": "m5PFIs0FrXm1"
   },
   "source": [
    "## if 조건문\n",
    "\n",
    "1. `if` 만약 ㅇㅇ라면\n",
    "2. `elif` if가 아니라면\n",
    "4. `else` 이도저도 아니라면"
   ]
  },
  {
   "cell_type": "code",
   "execution_count": null,
   "metadata": {
    "colab": {
     "base_uri": "https://localhost:8080/",
     "height": 521
    },
    "executionInfo": {
     "elapsed": 13883,
     "status": "ok",
     "timestamp": 1651039180106,
     "user": {
      "displayName": "Taehee Lee",
      "userId": "12017922817927484990"
     },
     "user_tz": -540
    },
    "id": "m8K4DnYdMwJT",
    "outputId": "262cf89b-4082-4727-fb1f-66491a1074fe"
   },
   "outputs": [],
   "source": [
    "initializeTurtle()\n",
    "\n",
    "pencolor('red')\n",
    "\n",
    "for i in range(4):\n",
    "    forward(size)\n",
    "    right(90)\n",
    "\n",
    "pencolor('yellow')\n",
    "\n",
    "for i in range(4):\n",
    "    forward(size)\n",
    "    right(90)\n",
    "\n",
    "pencolor('green')\n",
    "\n",
    "for i in range(4):\n",
    "    forward(size)\n",
    "    right(90)"
   ]
  },
  {
   "cell_type": "code",
   "execution_count": null,
   "metadata": {
    "colab": {
     "base_uri": "https://localhost:8080/",
     "height": 521
    },
    "executionInfo": {
     "elapsed": 13855,
     "status": "ok",
     "timestamp": 1651039374255,
     "user": {
      "displayName": "Taehee Lee",
      "userId": "12017922817927484990"
     },
     "user_tz": -540
    },
    "id": "CzLzugCNpBEd",
    "outputId": "a2af6ea3-5138-4b4d-c078-1a68a76f4cdf"
   },
   "outputs": [],
   "source": [
    "size = 200\n",
    " \n",
    "initializeTurtle()\n",
    " \n",
    "for j in range(3):\n",
    "  if j == 0:\n",
    "    pencolor('red')\n",
    "  elif j == 1:\n",
    "    pencolor('yellow')\n",
    "  elif j == 2:\n",
    "    pencolor('green')\n",
    "\n",
    "  for i in range(4):\n",
    "    forward(size)\n",
    "    right(90)"
   ]
  },
  {
   "cell_type": "markdown",
   "metadata": {
    "id": "m3NnUAn3sIfN"
   },
   "source": [
    "## 리스트(배열)의 등장\n",
    "\n",
    "`if`문 때문에 코드가 길어져서 짜증납니다. 조금 더 짧게 만들 방법은 없을까요?"
   ]
  },
  {
   "cell_type": "code",
   "execution_count": null,
   "metadata": {
    "colab": {
     "base_uri": "https://localhost:8080/",
     "height": 521
    },
    "executionInfo": {
     "elapsed": 13876,
     "status": "ok",
     "timestamp": 1651039521931,
     "user": {
      "displayName": "Taehee Lee",
      "userId": "12017922817927484990"
     },
     "user_tz": -540
    },
    "id": "miehXQ8dsDWf",
    "outputId": "80a21e4b-106d-43ea-dc29-54fc171f9cff"
   },
   "outputs": [],
   "source": [
    "size = 200\n",
    "colors = ['red', 'yellow', 'green']\n",
    "\n",
    "initializeTurtle()\n",
    " \n",
    "for j in range(3):\n",
    "  pencolor(colors[j])\n",
    "\n",
    "  for i in range(4):\n",
    "    forward(size)\n",
    "    right(90)"
   ]
  },
  {
   "cell_type": "markdown",
   "metadata": {
    "id": "ByCqLvqtucL7"
   },
   "source": [
    "### 리스트에 저장된 값을 꺼내오기"
   ]
  },
  {
   "cell_type": "code",
   "execution_count": 19,
   "metadata": {
    "colab": {
     "base_uri": "https://localhost:8080/"
    },
    "executionInfo": {
     "elapsed": 4,
     "status": "ok",
     "timestamp": 1651039555441,
     "user": {
      "displayName": "Taehee Lee",
      "userId": "12017922817927484990"
     },
     "user_tz": -540
    },
    "id": "B83zJsQ6uSiI",
    "outputId": "bca599e0-148b-45c8-9679-58edbd90fbe8"
   },
   "outputs": [
    {
     "name": "stdout",
     "output_type": "stream",
     "text": [
      "green\n"
     ]
    }
   ],
   "source": [
    "colors = ['red', 'yellow', 'green']\n",
    "\n",
    "print(colors[2])"
   ]
  },
  {
   "cell_type": "markdown",
   "metadata": {
    "id": "nz-eVJHSunYN"
   },
   "source": [
    "## 리스트를 사용해서 크기가 다른 사각형 그리기\n",
    "\n",
    "`size` 변수도 숫자가 저장된 리스트 형태로 만들어서 다른 크기가 다른 사각형 3개를 만들 수 있지 않을까요? "
   ]
  },
  {
   "cell_type": "code",
   "execution_count": 20,
   "metadata": {
    "colab": {
     "base_uri": "https://localhost:8080/",
     "height": 521
    },
    "executionInfo": {
     "elapsed": 13877,
     "status": "ok",
     "timestamp": 1651039624467,
     "user": {
      "displayName": "Taehee Lee",
      "userId": "12017922817927484990"
     },
     "user_tz": -540
    },
    "id": "Jd1pRYHRuau6",
    "outputId": "32c4ab07-4f45-4268-f916-7a41a034ccd4"
   },
   "outputs": [
    {
     "data": {
      "text/html": [
       "\n",
       "      <svg width=\"800\" height=\"500\">\n",
       "        <rect width=\"100%\" height=\"100%\" fill=\"black\"/>\n",
       "        <line x1=\"400\" y1=\"250\" x2=\"400.0\" y2=\"200.0\" stroke-linecap=\"round\" style=\"stroke:red;stroke-width:4\"/><line x1=\"400.0\" y1=\"200.0\" x2=\"450.0\" y2=\"200.0\" stroke-linecap=\"round\" style=\"stroke:red;stroke-width:4\"/><line x1=\"450.0\" y1=\"200.0\" x2=\"450.0\" y2=\"250.0\" stroke-linecap=\"round\" style=\"stroke:red;stroke-width:4\"/><line x1=\"450.0\" y1=\"250.0\" x2=\"400.0\" y2=\"250.0\" stroke-linecap=\"round\" style=\"stroke:red;stroke-width:4\"/><line x1=\"400.0\" y1=\"250.0\" x2=\"400.0\" y2=\"150.0\" stroke-linecap=\"round\" style=\"stroke:yellow;stroke-width:4\"/><line x1=\"400.0\" y1=\"150.0\" x2=\"500.0\" y2=\"150.0\" stroke-linecap=\"round\" style=\"stroke:yellow;stroke-width:4\"/><line x1=\"500.0\" y1=\"150.0\" x2=\"500.0\" y2=\"250.0\" stroke-linecap=\"round\" style=\"stroke:yellow;stroke-width:4\"/><line x1=\"500.0\" y1=\"250.0\" x2=\"400.0\" y2=\"250.0\" stroke-linecap=\"round\" style=\"stroke:yellow;stroke-width:4\"/><line x1=\"400.0\" y1=\"250.0\" x2=\"400.0\" y2=\"50.0\" stroke-linecap=\"round\" style=\"stroke:green;stroke-width:4\"/><line x1=\"400.0\" y1=\"50.0\" x2=\"600.0\" y2=\"50.0\" stroke-linecap=\"round\" style=\"stroke:green;stroke-width:4\"/><line x1=\"600.0\" y1=\"50.0\" x2=\"600.0\" y2=\"250.0\" stroke-linecap=\"round\" style=\"stroke:green;stroke-width:4\"/><line x1=\"600.0\" y1=\"250.0\" x2=\"400.0\" y2=\"250.0\" stroke-linecap=\"round\" style=\"stroke:green;stroke-width:4\"/>\n",
       "        <g visibility=visible transform=\"rotate(360,400.0,250.0) translate(382.0, 232.0)\">\n",
       "<path style=\" stroke:none;fill-rule:evenodd;fill:green;fill-opacity:1;\" d=\"M 18.214844 0.632812 C 16.109375 1.800781 15.011719 4.074219 15.074219 7.132812 L 15.085938 7.652344 L 14.785156 7.496094 C 13.476562 6.824219 11.957031 6.671875 10.40625 7.066406 C 8.46875 7.550781 6.515625 9.15625 4.394531 11.992188 C 3.0625 13.777344 2.679688 14.636719 3.042969 15.027344 L 3.15625 15.152344 L 3.519531 15.152344 C 4.238281 15.152344 4.828125 14.886719 8.1875 13.039062 C 9.386719 12.378906 10.371094 11.839844 10.378906 11.839844 C 10.386719 11.839844 10.355469 11.929688 10.304688 12.035156 C 9.832031 13.09375 9.257812 14.820312 8.96875 16.078125 C 7.914062 20.652344 8.617188 24.53125 11.070312 27.660156 C 11.351562 28.015625 11.363281 27.914062 10.972656 28.382812 C 8.925781 30.84375 7.945312 33.28125 8.238281 35.1875 C 8.289062 35.527344 8.28125 35.523438 8.917969 35.523438 C 10.941406 35.523438 13.074219 34.207031 15.136719 31.6875 C 15.359375 31.417969 15.328125 31.425781 15.5625 31.574219 C 16.292969 32.042969 18.023438 32.964844 18.175781 32.964844 C 18.335938 32.964844 19.941406 32.210938 20.828125 31.71875 C 20.996094 31.625 21.136719 31.554688 21.136719 31.558594 C 21.203125 31.664062 21.898438 32.414062 22.222656 32.730469 C 23.835938 34.300781 25.5625 35.132812 27.582031 35.300781 C 27.90625 35.328125 27.9375 35.308594 28.007812 34.984375 C 28.382812 33.242188 27.625 30.925781 25.863281 28.425781 L 25.542969 27.96875 L 25.699219 27.785156 C 28.945312 23.960938 29.132812 18.699219 26.257812 11.96875 L 26.207031 11.84375 L 27.945312 12.703125 C 31.53125 14.476562 32.316406 14.800781 33.03125 14.800781 C 33.976562 14.800781 33.78125 13.9375 32.472656 12.292969 C 28.519531 7.355469 25.394531 5.925781 21.921875 7.472656 L 21.558594 7.636719 L 21.578125 7.542969 C 21.699219 6.992188 21.761719 5.742188 21.699219 5.164062 C 21.496094 3.296875 20.664062 1.964844 19.003906 0.855469 C 18.480469 0.503906 18.457031 0.5 18.214844 0.632812\"/>\n",
       "</g>\n",
       "      </svg>\n",
       "    "
      ],
      "text/plain": [
       "<IPython.core.display.HTML object>"
      ]
     },
     "metadata": {},
     "output_type": "display_data"
    }
   ],
   "source": [
    "sizes = [50, 100, 200]\n",
    "colors = ['red', 'yellow', 'green']\n",
    "\n",
    "initializeTurtle()\n",
    " \n",
    "for j in range(3):\n",
    "  pencolor(colors[j])\n",
    "\n",
    "  for i in range(4):\n",
    "    forward(sizes[j])\n",
    "    right(90)"
   ]
  },
  {
   "cell_type": "markdown",
   "metadata": {
    "id": "YH_ysSH8vCt-"
   },
   "source": [
    "## 함수(Function) 만들기\n",
    "\n",
    "우리는 위에서 가장 간단한 사각형을 `for` 반복문을 사용해서 만들었었죠.\n",
    "\n",
    "```python\n",
    "size = 200\n",
    "color = 'red'\n",
    " \n",
    "initializeTurtle()\n",
    "pencolor(color)\n",
    "\n",
    "for i in range(4):\n",
    "  forward(size)\n",
    "  right(90)\n",
    "```\n",
    "\n",
    "사각형을 그리는 함수를 만들 건데요. 이렇게 작성합니다!"
   ]
  },
  {
   "cell_type": "code",
   "execution_count": null,
   "metadata": {
    "id": "H-I23vbvu76i"
   },
   "outputs": [],
   "source": [
    "def draw_rectangle():\n",
    "  size = 200\n",
    "  color = 'red'\n",
    "\n",
    "  pencolor(color)\n",
    "  \n",
    "  for i in range(4):\n",
    "    forward(size)\n",
    "    right(90)"
   ]
  },
  {
   "cell_type": "markdown",
   "metadata": {
    "id": "78euHmFwvwiJ"
   },
   "source": [
    "## 함수의 실행"
   ]
  },
  {
   "cell_type": "code",
   "execution_count": null,
   "metadata": {
    "colab": {
     "base_uri": "https://localhost:8080/",
     "height": 521
    },
    "executionInfo": {
     "elapsed": 4702,
     "status": "ok",
     "timestamp": 1651039719922,
     "user": {
      "displayName": "Taehee Lee",
      "userId": "12017922817927484990"
     },
     "user_tz": -540
    },
    "id": "GHRMnajAvv6Q",
    "outputId": "9cd854df-d1a7-405c-c8c1-6d653e7d0a58"
   },
   "outputs": [],
   "source": [
    "initializeTurtle()\n",
    "\n",
    "draw_rectangle()"
   ]
  },
  {
   "cell_type": "markdown",
   "metadata": {
    "id": "ekWpWyeCwgF_"
   },
   "source": [
    "## 함수 입력 만들기\n",
    "\n",
    "`size`와 `color`를 입력으로 받아 크기와 색깔이 다른 사각형을 편하게 그릴 수 있는 함수를 만들어 보아요!\n",
    "\n",
    "<img src=\"https://i.imgur.com/DAmizAH.png\" width=\"500px\">"
   ]
  },
  {
   "cell_type": "code",
   "execution_count": null,
   "metadata": {
    "id": "drRMb7ISvyoS"
   },
   "outputs": [],
   "source": [
    "def draw_rectangle(size, color):\n",
    "  pencolor(color)\n",
    "  \n",
    "  for i in range(4):\n",
    "    forward(size)\n",
    "    right(90)"
   ]
  },
  {
   "cell_type": "markdown",
   "metadata": {
    "id": "NIve7GLMxCIT"
   },
   "source": [
    "## 함수에 입력을 넣어서 실행하기"
   ]
  },
  {
   "cell_type": "code",
   "execution_count": 23,
   "metadata": {
    "colab": {
     "base_uri": "https://localhost:8080/",
     "height": 521
    },
    "executionInfo": {
     "elapsed": 4803,
     "status": "ok",
     "timestamp": 1651039834709,
     "user": {
      "displayName": "Taehee Lee",
      "userId": "12017922817927484990"
     },
     "user_tz": -540
    },
    "id": "mVJ9UBAKw5Y8",
    "outputId": "263526b4-45a0-482e-91ac-cd1662c63c33"
   },
   "outputs": [
    {
     "data": {
      "text/html": [
       "\n",
       "      <svg width=\"800\" height=\"500\">\n",
       "        <rect width=\"100%\" height=\"100%\" fill=\"black\"/>\n",
       "        \n",
       "        <g visibility=visible transform=\"rotate(360,400,250) translate(382, 232)\">\n",
       "<path style=\" stroke:none;fill-rule:evenodd;fill:white;fill-opacity:1;\" d=\"M 18.214844 0.632812 C 16.109375 1.800781 15.011719 4.074219 15.074219 7.132812 L 15.085938 7.652344 L 14.785156 7.496094 C 13.476562 6.824219 11.957031 6.671875 10.40625 7.066406 C 8.46875 7.550781 6.515625 9.15625 4.394531 11.992188 C 3.0625 13.777344 2.679688 14.636719 3.042969 15.027344 L 3.15625 15.152344 L 3.519531 15.152344 C 4.238281 15.152344 4.828125 14.886719 8.1875 13.039062 C 9.386719 12.378906 10.371094 11.839844 10.378906 11.839844 C 10.386719 11.839844 10.355469 11.929688 10.304688 12.035156 C 9.832031 13.09375 9.257812 14.820312 8.96875 16.078125 C 7.914062 20.652344 8.617188 24.53125 11.070312 27.660156 C 11.351562 28.015625 11.363281 27.914062 10.972656 28.382812 C 8.925781 30.84375 7.945312 33.28125 8.238281 35.1875 C 8.289062 35.527344 8.28125 35.523438 8.917969 35.523438 C 10.941406 35.523438 13.074219 34.207031 15.136719 31.6875 C 15.359375 31.417969 15.328125 31.425781 15.5625 31.574219 C 16.292969 32.042969 18.023438 32.964844 18.175781 32.964844 C 18.335938 32.964844 19.941406 32.210938 20.828125 31.71875 C 20.996094 31.625 21.136719 31.554688 21.136719 31.558594 C 21.203125 31.664062 21.898438 32.414062 22.222656 32.730469 C 23.835938 34.300781 25.5625 35.132812 27.582031 35.300781 C 27.90625 35.328125 27.9375 35.308594 28.007812 34.984375 C 28.382812 33.242188 27.625 30.925781 25.863281 28.425781 L 25.542969 27.96875 L 25.699219 27.785156 C 28.945312 23.960938 29.132812 18.699219 26.257812 11.96875 L 26.207031 11.84375 L 27.945312 12.703125 C 31.53125 14.476562 32.316406 14.800781 33.03125 14.800781 C 33.976562 14.800781 33.78125 13.9375 32.472656 12.292969 C 28.519531 7.355469 25.394531 5.925781 21.921875 7.472656 L 21.558594 7.636719 L 21.578125 7.542969 C 21.699219 6.992188 21.761719 5.742188 21.699219 5.164062 C 21.496094 3.296875 20.664062 1.964844 19.003906 0.855469 C 18.480469 0.503906 18.457031 0.5 18.214844 0.632812\"/>\n",
       "</g>\n",
       "      </svg>\n",
       "    "
      ],
      "text/plain": [
       "<IPython.core.display.HTML object>"
      ]
     },
     "metadata": {},
     "output_type": "display_data"
    },
    {
     "ename": "NameError",
     "evalue": "name 'draw_rectangle' is not defined",
     "output_type": "error",
     "traceback": [
      "\u001b[31m---------------------------------------------------------------------------\u001b[39m",
      "\u001b[31mNameError\u001b[39m                                 Traceback (most recent call last)",
      "\u001b[36mCell\u001b[39m\u001b[36m \u001b[39m\u001b[32mIn[23]\u001b[39m\u001b[32m, line 3\u001b[39m\n\u001b[32m      1\u001b[39m initializeTurtle()\n\u001b[32m----> \u001b[39m\u001b[32m3\u001b[39m \u001b[43mdraw_rectangle\u001b[49m(\u001b[32m200\u001b[39m, \u001b[33m'\u001b[39m\u001b[33mblue\u001b[39m\u001b[33m'\u001b[39m)\n",
      "\u001b[31mNameError\u001b[39m: name 'draw_rectangle' is not defined"
     ]
    }
   ],
   "source": [
    "initializeTurtle()\n",
    "\n",
    "draw_rectangle(200, 'blue')"
   ]
  },
  {
   "cell_type": "markdown",
   "metadata": {
    "id": "hFrpCkdfxPyc"
   },
   "source": [
    "## 함수를 사용해서 색깔과 크기가 다른 사각형 그리기\n",
    "\n",
    "위에서 배운 리스트와 함수를 적절히 섞어서 색깔과 크기가 다른 사각형을 그릴 수 있답니다."
   ]
  },
  {
   "cell_type": "code",
   "execution_count": 22,
   "metadata": {
    "colab": {
     "base_uri": "https://localhost:8080/",
     "height": 521
    },
    "executionInfo": {
     "elapsed": 13927,
     "status": "ok",
     "timestamp": 1651039864545,
     "user": {
      "displayName": "Taehee Lee",
      "userId": "12017922817927484990"
     },
     "user_tz": -540
    },
    "id": "AePq8OD-w-Q8",
    "outputId": "d4ea6a4a-014e-4140-848f-763f612e136f"
   },
   "outputs": [
    {
     "data": {
      "text/html": [
       "\n",
       "      <svg width=\"800\" height=\"500\">\n",
       "        <rect width=\"100%\" height=\"100%\" fill=\"black\"/>\n",
       "        \n",
       "        <g visibility=visible transform=\"rotate(360,400,250) translate(382, 232)\">\n",
       "<path style=\" stroke:none;fill-rule:evenodd;fill:white;fill-opacity:1;\" d=\"M 18.214844 0.632812 C 16.109375 1.800781 15.011719 4.074219 15.074219 7.132812 L 15.085938 7.652344 L 14.785156 7.496094 C 13.476562 6.824219 11.957031 6.671875 10.40625 7.066406 C 8.46875 7.550781 6.515625 9.15625 4.394531 11.992188 C 3.0625 13.777344 2.679688 14.636719 3.042969 15.027344 L 3.15625 15.152344 L 3.519531 15.152344 C 4.238281 15.152344 4.828125 14.886719 8.1875 13.039062 C 9.386719 12.378906 10.371094 11.839844 10.378906 11.839844 C 10.386719 11.839844 10.355469 11.929688 10.304688 12.035156 C 9.832031 13.09375 9.257812 14.820312 8.96875 16.078125 C 7.914062 20.652344 8.617188 24.53125 11.070312 27.660156 C 11.351562 28.015625 11.363281 27.914062 10.972656 28.382812 C 8.925781 30.84375 7.945312 33.28125 8.238281 35.1875 C 8.289062 35.527344 8.28125 35.523438 8.917969 35.523438 C 10.941406 35.523438 13.074219 34.207031 15.136719 31.6875 C 15.359375 31.417969 15.328125 31.425781 15.5625 31.574219 C 16.292969 32.042969 18.023438 32.964844 18.175781 32.964844 C 18.335938 32.964844 19.941406 32.210938 20.828125 31.71875 C 20.996094 31.625 21.136719 31.554688 21.136719 31.558594 C 21.203125 31.664062 21.898438 32.414062 22.222656 32.730469 C 23.835938 34.300781 25.5625 35.132812 27.582031 35.300781 C 27.90625 35.328125 27.9375 35.308594 28.007812 34.984375 C 28.382812 33.242188 27.625 30.925781 25.863281 28.425781 L 25.542969 27.96875 L 25.699219 27.785156 C 28.945312 23.960938 29.132812 18.699219 26.257812 11.96875 L 26.207031 11.84375 L 27.945312 12.703125 C 31.53125 14.476562 32.316406 14.800781 33.03125 14.800781 C 33.976562 14.800781 33.78125 13.9375 32.472656 12.292969 C 28.519531 7.355469 25.394531 5.925781 21.921875 7.472656 L 21.558594 7.636719 L 21.578125 7.542969 C 21.699219 6.992188 21.761719 5.742188 21.699219 5.164062 C 21.496094 3.296875 20.664062 1.964844 19.003906 0.855469 C 18.480469 0.503906 18.457031 0.5 18.214844 0.632812\"/>\n",
       "</g>\n",
       "      </svg>\n",
       "    "
      ],
      "text/plain": [
       "<IPython.core.display.HTML object>"
      ]
     },
     "metadata": {},
     "output_type": "display_data"
    },
    {
     "ename": "NameError",
     "evalue": "name 'draw_rectangle' is not defined",
     "output_type": "error",
     "traceback": [
      "\u001b[31m---------------------------------------------------------------------------\u001b[39m",
      "\u001b[31mNameError\u001b[39m                                 Traceback (most recent call last)",
      "\u001b[36mCell\u001b[39m\u001b[36m \u001b[39m\u001b[32mIn[22]\u001b[39m\u001b[32m, line 7\u001b[39m\n\u001b[32m      4\u001b[39m initializeTurtle()\n\u001b[32m      6\u001b[39m \u001b[38;5;28;01mfor\u001b[39;00m j \u001b[38;5;129;01min\u001b[39;00m \u001b[38;5;28mrange\u001b[39m(\u001b[32m3\u001b[39m):\n\u001b[32m----> \u001b[39m\u001b[32m7\u001b[39m   \u001b[43mdraw_rectangle\u001b[49m(sizes[j], colors[j])\n",
      "\u001b[31mNameError\u001b[39m: name 'draw_rectangle' is not defined"
     ]
    }
   ],
   "source": [
    "sizes = [50, 100, 200]\n",
    "colors = ['red', 'yellow', 'green']\n",
    "\n",
    "initializeTurtle()\n",
    " \n",
    "for j in range(3):\n",
    "  draw_rectangle(sizes[j], colors[j])"
   ]
  },
  {
   "cell_type": "markdown",
   "metadata": {
    "id": "xdJR9t__0HcN"
   },
   "source": [
    "## 더 복잡한 도형 그리기"
   ]
  },
  {
   "cell_type": "code",
   "execution_count": 21,
   "metadata": {
    "colab": {
     "base_uri": "https://localhost:8080/",
     "height": 521
    },
    "executionInfo": {
     "elapsed": 38268,
     "status": "ok",
     "timestamp": 1651039932966,
     "user": {
      "displayName": "Taehee Lee",
      "userId": "12017922817927484990"
     },
     "user_tz": -540
    },
    "id": "4GBTXtAZxdwE",
    "outputId": "fe9356d4-24cf-462b-e4ca-3b86d27f4095"
   },
   "outputs": [
    {
     "data": {
      "text/html": [
       "\n",
       "      <svg width=\"800\" height=\"500\">\n",
       "        <rect width=\"100%\" height=\"100%\" fill=\"black\"/>\n",
       "        <line x1=\"400\" y1=\"250\" x2=\"400.0\" y2=\"250.0\" stroke-linecap=\"round\" style=\"stroke:white;stroke-width:1\"/><line x1=\"400.0\" y1=\"250.0\" x2=\"401.0\" y2=\"250.017\" stroke-linecap=\"round\" style=\"stroke:white;stroke-width:1\"/><line x1=\"401.0\" y1=\"250.017\" x2=\"400.93\" y2=\"252.016\" stroke-linecap=\"round\" style=\"stroke:white;stroke-width:1\"/><line x1=\"400.93\" y1=\"252.016\" x2=\"397.934\" y2=\"251.859\" stroke-linecap=\"round\" style=\"stroke:white;stroke-width:1\"/><line x1=\"397.934\" y1=\"251.859\" x2=\"398.213\" y2=\"247.869\" stroke-linecap=\"round\" style=\"stroke:white;stroke-width:1\"/><line x1=\"398.213\" y1=\"247.869\" x2=\"403.194\" y2=\"248.305\" stroke-linecap=\"round\" style=\"stroke:white;stroke-width:1\"/><line x1=\"403.194\" y1=\"248.305\" x2=\"402.567\" y2=\"254.272\" stroke-linecap=\"round\" style=\"stroke:white;stroke-width:1\"/><line x1=\"402.567\" y1=\"254.272\" x2=\"395.619\" y2=\"253.419\" stroke-linecap=\"round\" style=\"stroke:white;stroke-width:1\"/><line x1=\"395.619\" y1=\"253.419\" x2=\"396.732\" y2=\"245.497\" stroke-linecap=\"round\" style=\"stroke:white;stroke-width:1\"/><line x1=\"396.732\" y1=\"245.497\" x2=\"405.621\" y2=\"246.905\" stroke-linecap=\"round\" style=\"stroke:white;stroke-width:1\"/><line x1=\"405.621\" y1=\"246.905\" x2=\"403.885\" y2=\"256.753\" stroke-linecap=\"round\" style=\"stroke:white;stroke-width:1\"/><line x1=\"403.885\" y1=\"256.753\" x2=\"393.087\" y2=\"254.654\" stroke-linecap=\"round\" style=\"stroke:white;stroke-width:1\"/><line x1=\"393.087\" y1=\"254.654\" x2=\"395.582\" y2=\"242.916\" stroke-linecap=\"round\" style=\"stroke:white;stroke-width:1\"/><line x1=\"395.582\" y1=\"242.916\" x2=\"408.249\" y2=\"245.84\" stroke-linecap=\"round\" style=\"stroke:white;stroke-width:1\"/><line x1=\"408.249\" y1=\"245.84\" x2=\"404.862\" y2=\"259.424\" stroke-linecap=\"round\" style=\"stroke:white;stroke-width:1\"/><line x1=\"404.862\" y1=\"259.424\" x2=\"390.373\" y2=\"255.542\" stroke-linecap=\"round\" style=\"stroke:white;stroke-width:1\"/><line x1=\"390.373\" y1=\"255.542\" x2=\"394.783\" y2=\"240.162\" stroke-linecap=\"round\" style=\"stroke:white;stroke-width:1\"/><line x1=\"394.783\" y1=\"240.162\" x2=\"411.04\" y2=\"245.132\" stroke-linecap=\"round\" style=\"stroke:white;stroke-width:1\"/><line x1=\"411.04\" y1=\"245.132\" x2=\"405.478\" y2=\"262.251\" stroke-linecap=\"round\" style=\"stroke:white;stroke-width:1\"/><line x1=\"405.478\" y1=\"262.251\" x2=\"387.513\" y2=\"256.065\" stroke-linecap=\"round\" style=\"stroke:white;stroke-width:1\"/><line x1=\"387.513\" y1=\"256.065\" x2=\"394.353\" y2=\"237.271\" stroke-linecap=\"round\" style=\"stroke:white;stroke-width:1\"/><line x1=\"394.353\" y1=\"237.271\" x2=\"413.958\" y2=\"244.797\" stroke-linecap=\"round\" style=\"stroke:white;stroke-width:1\"/><line x1=\"413.958\" y1=\"244.797\" x2=\"405.717\" y2=\"265.195\" stroke-linecap=\"round\" style=\"stroke:white;stroke-width:1\"/><line x1=\"405.717\" y1=\"265.195\" x2=\"384.545\" y2=\"256.208\" stroke-linecap=\"round\" style=\"stroke:white;stroke-width:1\"/><line x1=\"384.545\" y1=\"256.208\" x2=\"394.307\" y2=\"234.283\" stroke-linecap=\"round\" style=\"stroke:white;stroke-width:1\"/><line x1=\"394.307\" y1=\"234.283\" x2=\"416.965\" y2=\"244.848\" stroke-linecap=\"round\" style=\"stroke:white;stroke-width:1\"/><line x1=\"416.965\" y1=\"244.848\" x2=\"405.567\" y2=\"268.217\" stroke-linecap=\"round\" style=\"stroke:white;stroke-width:1\"/><line x1=\"405.567\" y1=\"268.217\" x2=\"381.51\" y2=\"255.959\" stroke-linecap=\"round\" style=\"stroke:white;stroke-width:1\"/><line x1=\"381.51\" y1=\"255.959\" x2=\"394.655\" y2=\"231.236\" stroke-linecap=\"round\" style=\"stroke:white;stroke-width:1\"/><line x1=\"394.655\" y1=\"231.236\" x2=\"420.019\" y2=\"245.295\" stroke-linecap=\"round\" style=\"stroke:white;stroke-width:1\"/><line x1=\"420.019\" y1=\"245.295\" x2=\"405.019\" y2=\"271.276\" stroke-linecap=\"round\" style=\"stroke:white;stroke-width:1\"/><line x1=\"405.019\" y1=\"271.276\" x2=\"378.447\" y2=\"255.31\" stroke-linecap=\"round\" style=\"stroke:white;stroke-width:1\"/><line x1=\"378.447\" y1=\"255.31\" x2=\"395.404\" y2=\"228.172\" stroke-linecap=\"round\" style=\"stroke:white;stroke-width:1\"/><line x1=\"395.404\" y1=\"228.172\" x2=\"423.08\" y2=\"246.145\" stroke-linecap=\"round\" style=\"stroke:white;stroke-width:1\"/><line x1=\"423.08\" y1=\"246.145\" x2=\"404.067\" y2=\"274.332\" stroke-linecap=\"round\" style=\"stroke:white;stroke-width:1\"/><line x1=\"404.067\" y1=\"274.332\" x2=\"375.397\" y2=\"254.257\" stroke-linecap=\"round\" style=\"stroke:white;stroke-width:1\"/><line x1=\"375.397\" y1=\"254.257\" x2=\"396.557\" y2=\"225.132\" stroke-linecap=\"round\" style=\"stroke:white;stroke-width:1\"/><line x1=\"396.557\" y1=\"225.132\" x2=\"426.107\" y2=\"247.399\" stroke-linecap=\"round\" style=\"stroke:white;stroke-width:1\"/><line x1=\"426.107\" y1=\"247.399\" x2=\"402.712\" y2=\"277.343\" stroke-linecap=\"round\" style=\"stroke:white;stroke-width:1\"/><line x1=\"402.712\" y1=\"277.343\" x2=\"372.403\" y2=\"252.8\" stroke-linecap=\"round\" style=\"stroke:white;stroke-width:1\"/><line x1=\"372.403\" y1=\"252.8\" x2=\"398.115\" y2=\"222.158\" stroke-linecap=\"round\" style=\"stroke:white;stroke-width:1\"/><line x1=\"398.115\" y1=\"222.158\" x2=\"429.058\" y2=\"249.056\" stroke-linecap=\"round\" style=\"stroke:white;stroke-width:1\"/><line x1=\"429.058\" y1=\"249.056\" x2=\"400.955\" y2=\"280.268\" stroke-linecap=\"round\" style=\"stroke:white;stroke-width:1\"/><line x1=\"400.955\" y1=\"280.268\" x2=\"369.507\" y2=\"250.942\" stroke-linecap=\"round\" style=\"stroke:white;stroke-width:1\"/><line x1=\"369.507\" y1=\"250.942\" x2=\"400.072\" y2=\"219.291\" stroke-linecap=\"round\" style=\"stroke:white;stroke-width:1\"/><line x1=\"400.072\" y1=\"219.291\" x2=\"431.892\" y2=\"251.111\" stroke-linecap=\"round\" style=\"stroke:white;stroke-width:1\"/><line x1=\"431.892\" y1=\"251.111\" x2=\"398.802\" y2=\"283.065\" stroke-linecap=\"round\" style=\"stroke:white;stroke-width:1\"/><line x1=\"398.802\" y1=\"283.065\" x2=\"366.748\" y2=\"248.691\" stroke-linecap=\"round\" style=\"stroke:white;stroke-width:1\"/><line x1=\"366.748\" y1=\"248.691\" x2=\"402.419\" y2=\"216.573\" stroke-linecap=\"round\" style=\"stroke:white;stroke-width:1\"/><line x1=\"402.419\" y1=\"216.573\" x2=\"434.566\" y2=\"253.554\" stroke-linecap=\"round\" style=\"stroke:white;stroke-width:1\"/><line x1=\"434.566\" y1=\"253.554\" x2=\"396.264\" y2=\"285.693\" stroke-linecap=\"round\" style=\"stroke:white;stroke-width:1\"/><line x1=\"396.264\" y1=\"285.693\" x2=\"364.169\" y2=\"246.059\" stroke-linecap=\"round\" style=\"stroke:white;stroke-width:1\"/><line x1=\"364.169\" y1=\"246.059\" x2=\"405.146\" y2=\"214.045\" stroke-linecap=\"round\" style=\"stroke:white;stroke-width:1\"/><line x1=\"405.146\" y1=\"214.045\" x2=\"437.042\" y2=\"256.373\" stroke-linecap=\"round\" style=\"stroke:white;stroke-width:1\"/><line x1=\"437.042\" y1=\"256.373\" x2=\"393.355\" y2=\"288.113\" stroke-linecap=\"round\" style=\"stroke:white;stroke-width:1\"/><line x1=\"393.355\" y1=\"288.113\" x2=\"361.808\" y2=\"243.06\" stroke-linecap=\"round\" style=\"stroke:white;stroke-width:1\"/><line x1=\"361.808\" y1=\"243.06\" x2=\"408.234\" y2=\"211.745\" stroke-linecap=\"round\" style=\"stroke:white;stroke-width:1\"/><line x1=\"408.234\" y1=\"211.745\" x2=\"439.278\" y2=\"259.549\" stroke-linecap=\"round\" style=\"stroke:white;stroke-width:1\"/><line x1=\"439.278\" y1=\"259.549\" x2=\"390.091\" y2=\"290.284\" stroke-linecap=\"round\" style=\"stroke:white;stroke-width:1\"/><line x1=\"390.091\" y1=\"290.284\" x2=\"359.704\" y2=\"239.711\" stroke-linecap=\"round\" style=\"stroke:white;stroke-width:1\"/><line x1=\"359.704\" y1=\"239.711\" x2=\"411.666\" y2=\"209.711\" stroke-linecap=\"round\" style=\"stroke:white;stroke-width:1\"/><line x1=\"411.666\" y1=\"209.711\" x2=\"441.239\" y2=\"263.063\" stroke-linecap=\"round\" style=\"stroke:white;stroke-width:1\"/><line x1=\"441.239\" y1=\"263.063\" x2=\"386.496\" y2=\"292.17\" stroke-linecap=\"round\" style=\"stroke:white;stroke-width:1\"/><line x1=\"386.496\" y1=\"292.17\" x2=\"357.895\" y2=\"236.037\" stroke-linecap=\"round\" style=\"stroke:white;stroke-width:1\"/><line x1=\"357.895\" y1=\"236.037\" x2=\"415.418\" y2=\"207.981\" stroke-linecap=\"round\" style=\"stroke:white;stroke-width:1\"/><line x1=\"415.418\" y1=\"207.981\" x2=\"442.888\" y2=\"266.891\" stroke-linecap=\"round\" style=\"stroke:white;stroke-width:1\"/><line x1=\"442.888\" y1=\"266.891\" x2=\"382.594\" y2=\"293.736\" stroke-linecap=\"round\" style=\"stroke:white;stroke-width:1\"/><line x1=\"382.594\" y1=\"293.736\" x2=\"356.415\" y2=\"232.062\" stroke-linecap=\"round\" style=\"stroke:white;stroke-width:1\"/><line x1=\"356.415\" y1=\"232.062\" x2=\"419.464\" y2=\"206.589\" stroke-linecap=\"round\" style=\"stroke:white;stroke-width:1\"/><line x1=\"419.464\" y1=\"206.589\" x2=\"444.191\" y2=\"271.006\" stroke-linecap=\"round\" style=\"stroke:white;stroke-width:1\"/><line x1=\"444.191\" y1=\"271.006\" x2=\"378.413\" y2=\"294.947\" stroke-linecap=\"round\" style=\"stroke:white;stroke-width:1\"/><line x1=\"378.413\" y1=\"294.947\" x2=\"355.298\" y2=\"227.815\" stroke-linecap=\"round\" style=\"stroke:white;stroke-width:1\"/><line x1=\"355.298\" y1=\"227.815\" x2=\"423.774\" y2=\"205.566\" stroke-linecap=\"round\" style=\"stroke:white;stroke-width:1\"/><line x1=\"423.774\" y1=\"205.566\" x2=\"445.117\" y2=\"275.376\" stroke-linecap=\"round\" style=\"stroke:white;stroke-width:1\"/><line x1=\"445.117\" y1=\"275.376\" x2=\"373.984\" y2=\"295.773\" stroke-linecap=\"round\" style=\"stroke:white;stroke-width:1\"/><line x1=\"373.984\" y1=\"295.773\" x2=\"354.573\" y2=\"223.329\" stroke-linecap=\"round\" style=\"stroke:white;stroke-width:1\"/><line x1=\"354.573\" y1=\"223.329\" x2=\"428.315\" y2=\"204.943\" stroke-linecap=\"round\" style=\"stroke:white;stroke-width:1\"/><line x1=\"428.315\" y1=\"204.943\" x2=\"445.636\" y2=\"279.969\" stroke-linecap=\"round\" style=\"stroke:white;stroke-width:1\"/><line x1=\"445.636\" y1=\"279.969\" x2=\"369.34\" y2=\"296.186\" stroke-linecap=\"round\" style=\"stroke:white;stroke-width:1\"/><line x1=\"369.34\" y1=\"296.186\" x2=\"354.266\" y2=\"218.637\" stroke-linecap=\"round\" style=\"stroke:white;stroke-width:1\"/><line x1=\"354.266\" y1=\"218.637\" x2=\"433.051\" y2=\"204.745\" stroke-linecap=\"round\" style=\"stroke:white;stroke-width:1\"/><line x1=\"433.051\" y1=\"204.745\" x2=\"445.722\" y2=\"284.748\" stroke-linecap=\"round\" style=\"stroke:white;stroke-width:1\"/><line x1=\"445.722\" y1=\"284.748\" x2=\"364.52\" y2=\"296.16\" stroke-linecap=\"round\" style=\"stroke:white;stroke-width:1\"/><line x1=\"364.52\" y1=\"296.16\" x2=\"354.405\" y2=\"213.779\" stroke-linecap=\"round\" style=\"stroke:white;stroke-width:1\"/><line x1=\"354.405\" y1=\"213.779\" x2=\"437.945\" y2=\"204.999\" stroke-linecap=\"round\" style=\"stroke:white;stroke-width:1\"/><line x1=\"437.945\" y1=\"204.999\" x2=\"445.353\" y2=\"289.676\" stroke-linecap=\"round\" style=\"stroke:white;stroke-width:1\"/><line x1=\"445.353\" y1=\"289.676\" x2=\"359.562\" y2=\"295.675\" stroke-linecap=\"round\" style=\"stroke:white;stroke-width:1\"/><line x1=\"359.562\" y1=\"295.675\" x2=\"355.009\" y2=\"208.794\" stroke-linecap=\"round\" style=\"stroke:white;stroke-width:1\"/><line x1=\"355.009\" y1=\"208.794\" x2=\"442.955\" y2=\"205.723\" stroke-linecap=\"round\" style=\"stroke:white;stroke-width:1\"/><line x1=\"442.955\" y1=\"205.723\" x2=\"444.508\" y2=\"294.709\" stroke-linecap=\"round\" style=\"stroke:white;stroke-width:1\"/><line x1=\"444.508\" y1=\"294.709\" x2=\"354.508\" y2=\"294.709\" stroke-linecap=\"round\" style=\"stroke:white;stroke-width:1\"/><line x1=\"354.508\" y1=\"294.709\" x2=\"356.096\" y2=\"203.723\" stroke-linecap=\"round\" style=\"stroke:white;stroke-width:1\"/><line x1=\"356.096\" y1=\"203.723\" x2=\"448.04\" y2=\"206.934\" stroke-linecap=\"round\" style=\"stroke:white;stroke-width:1\"/><line x1=\"448.04\" y1=\"206.934\" x2=\"443.173\" y2=\"299.807\" stroke-linecap=\"round\" style=\"stroke:white;stroke-width:1\"/><line x1=\"443.173\" y1=\"299.807\" x2=\"349.402\" y2=\"293.25\" stroke-linecap=\"round\" style=\"stroke:white;stroke-width:1\"/><line x1=\"349.402\" y1=\"293.25\" x2=\"357.682\" y2=\"198.612\" stroke-linecap=\"round\" style=\"stroke:white;stroke-width:1\"/><line x1=\"357.682\" y1=\"198.612\" x2=\"453.156\" y2=\"208.647\" stroke-linecap=\"round\" style=\"stroke:white;stroke-width:1\"/><line x1=\"453.156\" y1=\"208.647\" x2=\"441.335\" y2=\"304.924\" stroke-linecap=\"round\" style=\"stroke:white;stroke-width:1\"/><line x1=\"441.335\" y1=\"304.924\" x2=\"344.289\" y2=\"291.285\" stroke-linecap=\"round\" style=\"stroke:white;stroke-width:1\"/><line x1=\"344.289\" y1=\"291.285\" x2=\"359.776\" y2=\"193.504\" stroke-linecap=\"round\" style=\"stroke:white;stroke-width:1\"/><line x1=\"359.776\" y1=\"193.504\" x2=\"458.257\" y2=\"210.869\" stroke-linecap=\"round\" style=\"stroke:white;stroke-width:1\"/><line x1=\"458.257\" y1=\"210.869\" x2=\"438.985\" y2=\"310.013\" stroke-linecap=\"round\" style=\"stroke:white;stroke-width:1\"/><line x1=\"438.985\" y1=\"310.013\" x2=\"339.214\" y2=\"288.806\" stroke-linecap=\"round\" style=\"stroke:white;stroke-width:1\"/><line x1=\"339.214\" y1=\"288.806\" x2=\"362.384\" y2=\"188.446\" stroke-linecap=\"round\" style=\"stroke:white;stroke-width:1\"/><line x1=\"362.384\" y1=\"188.446\" x2=\"463.295\" y2=\"213.606\" stroke-linecap=\"round\" style=\"stroke:white;stroke-width:1\"/><line x1=\"463.295\" y1=\"213.606\" x2=\"436.119\" y2=\"315.028\" stroke-linecap=\"round\" style=\"stroke:white;stroke-width:1\"/><line x1=\"436.119\" y1=\"315.028\" x2=\"334.225\" y2=\"285.81\" stroke-linecap=\"round\" style=\"stroke:white;stroke-width:1\"/><line x1=\"334.225\" y1=\"285.81\" x2=\"365.509\" y2=\"183.485\" stroke-linecap=\"round\" style=\"stroke:white;stroke-width:1\"/><line x1=\"365.509\" y1=\"183.485\" x2=\"468.223\" y2=\"216.859\" stroke-linecap=\"round\" style=\"stroke:white;stroke-width:1\"/><line x1=\"468.223\" y1=\"216.859\" x2=\"432.736\" y2=\"319.921\" stroke-linecap=\"round\" style=\"stroke:white;stroke-width:1\"/><line x1=\"432.736\" y1=\"319.921\" x2=\"329.37\" y2=\"282.299\" stroke-linecap=\"round\" style=\"stroke:white;stroke-width:1\"/><line x1=\"329.37\" y1=\"282.299\" x2=\"369.149\" y2=\"178.672\" stroke-linecap=\"round\" style=\"stroke:white;stroke-width:1\"/><line x1=\"369.149\" y1=\"178.672\" x2=\"472.994\" y2=\"220.628\" stroke-linecap=\"round\" style=\"stroke:white;stroke-width:1\"/><line x1=\"472.994\" y1=\"220.628\" x2=\"428.841\" y2=\"324.645\" stroke-linecap=\"round\" style=\"stroke:white;stroke-width:1\"/><line x1=\"428.841\" y1=\"324.645\" x2=\"324.697\" y2=\"278.277\" stroke-linecap=\"round\" style=\"stroke:white;stroke-width:1\"/><line x1=\"324.697\" y1=\"278.277\" x2=\"373.298\" y2=\"174.052\" stroke-linecap=\"round\" style=\"stroke:white;stroke-width:1\"/><line x1=\"373.298\" y1=\"174.052\" x2=\"477.558\" y2=\"224.903\" stroke-linecap=\"round\" style=\"stroke:white;stroke-width:1\"/><line x1=\"477.558\" y1=\"224.903\" x2=\"424.441\" y2=\"329.151\" stroke-linecap=\"round\" style=\"stroke:white;stroke-width:1\"/><line x1=\"424.441\" y1=\"329.151\" x2=\"320.253\" y2=\"273.753\" stroke-linecap=\"round\" style=\"stroke:white;stroke-width:1\"/><line x1=\"320.253\" y1=\"273.753\" x2=\"377.945\" y2=\"169.673\" stroke-linecap=\"round\" style=\"stroke:white;stroke-width:1\"/><line x1=\"377.945\" y1=\"169.673\" x2=\"481.868\" y2=\"229.673\" stroke-linecap=\"round\" style=\"stroke:white;stroke-width:1\"/><line x1=\"481.868\" y1=\"229.673\" x2=\"419.548\" y2=\"333.39\" stroke-linecap=\"round\" style=\"stroke:white;stroke-width:1\"/><line x1=\"419.548\" y1=\"333.39\" x2=\"316.086\" y2=\"268.74\" stroke-linecap=\"round\" style=\"stroke:white;stroke-width:1\"/><line x1=\"316.086\" y1=\"268.74\" x2=\"383.077\" y2=\"165.584\" stroke-linecap=\"round\" style=\"stroke:white;stroke-width:1\"/><line x1=\"383.077\" y1=\"165.584\" x2=\"485.878\" y2=\"234.924\" stroke-linecap=\"round\" style=\"stroke:white;stroke-width:1\"/><line x1=\"485.878\" y1=\"234.924\" x2=\"414.181\" y2=\"337.318\" stroke-linecap=\"round\" style=\"stroke:white;stroke-width:1\"/><line x1=\"414.181\" y1=\"337.318\" x2=\"312.245\" y2=\"263.257\" stroke-linecap=\"round\" style=\"stroke:white;stroke-width:1\"/><line x1=\"312.245\" y1=\"263.257\" x2=\"388.676\" y2=\"161.83\" stroke-linecap=\"round\" style=\"stroke:white;stroke-width:1\"/><line x1=\"388.676\" y1=\"161.83\" x2=\"489.541\" y2=\"240.635\" stroke-linecap=\"round\" style=\"stroke:white;stroke-width:1\"/><line x1=\"489.541\" y1=\"240.635\" x2=\"408.359\" y2=\"340.887\" stroke-linecap=\"round\" style=\"stroke:white;stroke-width:1\"/><line x1=\"408.359\" y1=\"340.887\" x2=\"308.773\" y2=\"257.325\" stroke-linecap=\"round\" style=\"stroke:white;stroke-width:1\"/><line x1=\"308.773\" y1=\"257.325\" x2=\"394.717\" y2=\"158.458\" stroke-linecap=\"round\" style=\"stroke:white;stroke-width:1\"/><line x1=\"394.717\" y1=\"158.458\" x2=\"492.812\" y2=\"246.783\" stroke-linecap=\"round\" style=\"stroke:white;stroke-width:1\"/><line x1=\"492.812\" y1=\"246.783\" x2=\"402.106\" y2=\"344.053\" stroke-linecap=\"round\" style=\"stroke:white;stroke-width:1\"/><line x1=\"402.106\" y1=\"344.053\" x2=\"305.714\" y2=\"250.969\" stroke-linecap=\"round\" style=\"stroke:white;stroke-width:1\"/><line x1=\"305.714\" y1=\"250.969\" x2=\"401.173\" y2=\"155.51\" stroke-linecap=\"round\" style=\"stroke:white;stroke-width:1\"/><line x1=\"401.173\" y1=\"155.51\" x2=\"495.647\" y2=\"253.34\" stroke-linecap=\"round\" style=\"stroke:white;stroke-width:1\"/><line x1=\"495.647\" y1=\"253.34\" x2=\"395.452\" y2=\"346.774\" stroke-linecap=\"round\" style=\"stroke:white;stroke-width:1\"/><line x1=\"395.452\" y1=\"346.774\" x2=\"303.112\" y2=\"244.22\" stroke-linecap=\"round\" style=\"stroke:white;stroke-width:1\"/><line x1=\"303.112\" y1=\"244.22\" x2=\"408.017\" y2=\"153.028\" stroke-linecap=\"round\" style=\"stroke:white;stroke-width:1\"/><line x1=\"408.017\" y1=\"153.028\" x2=\"498.007\" y2=\"260.274\" stroke-linecap=\"round\" style=\"stroke:white;stroke-width:1\"/><line x1=\"498.007\" y1=\"260.274\" x2=\"388.429\" y2=\"349.008\" stroke-linecap=\"round\" style=\"stroke:white;stroke-width:1\"/><line x1=\"388.429\" y1=\"349.008\" x2=\"301.005\" y2=\"237.11\" stroke-linecap=\"round\" style=\"stroke:white;stroke-width:1\"/><line x1=\"301.005\" y1=\"237.11\" x2=\"415.21\" y2=\"151.05\" stroke-linecap=\"round\" style=\"stroke:white;stroke-width:1\"/><line x1=\"415.21\" y1=\"151.05\" x2=\"499.851\" y2=\"267.548\" stroke-linecap=\"round\" style=\"stroke:white;stroke-width:1\"/><line x1=\"499.851\" y1=\"267.548\" x2=\"381.074\" y2=\"350.717\" stroke-linecap=\"round\" style=\"stroke:white;stroke-width:1\"/><line x1=\"381.074\" y1=\"350.717\" x2=\"299.432\" y2=\"229.678\" stroke-linecap=\"round\" style=\"stroke:white;stroke-width:1\"/><line x1=\"299.432\" y1=\"229.678\" x2=\"422.717\" y2=\"149.616\" stroke-linecap=\"round\" style=\"stroke:white;stroke-width:1\"/><line x1=\"422.717\" y1=\"149.616\" x2=\"501.145\" y2=\"275.127\" stroke-linecap=\"round\" style=\"stroke:white;stroke-width:1\"/><line x1=\"501.145\" y1=\"275.127\" x2=\"373.427\" y2=\"351.868\" stroke-linecap=\"round\" style=\"stroke:white;stroke-width:1\"/><line x1=\"373.427\" y1=\"351.868\" x2=\"298.427\" y2=\"221.964\" stroke-linecap=\"round\" style=\"stroke:white;stroke-width:1\"/><line x1=\"298.427\" y1=\"221.964\" x2=\"430.495\" y2=\"148.758\" stroke-linecap=\"round\" style=\"stroke:white;stroke-width:1\"/><line x1=\"430.495\" y1=\"148.758\" x2=\"501.855\" y2=\"282.966\" stroke-linecap=\"round\" style=\"stroke:white;stroke-width:1\"/><line x1=\"501.855\" y1=\"282.966\" x2=\"365.531\" y2=\"352.427\" stroke-linecap=\"round\" style=\"stroke:white;stroke-width:1\"/><line x1=\"365.531\" y1=\"352.427\" x2=\"298.022\" y2=\"214.013\" stroke-linecap=\"round\" style=\"stroke:white;stroke-width:1\"/><line x1=\"298.022\" y1=\"214.013\" x2=\"438.5\" y2=\"148.507\" stroke-linecap=\"round\" style=\"stroke:white;stroke-width:1\"/><line x1=\"438.5\" y1=\"148.507\" x2=\"501.951\" y2=\"291.02\" stroke-linecap=\"round\" style=\"stroke:white;stroke-width:1\"/><line x1=\"501.951\" y1=\"291.02\" x2=\"357.432\" y2=\"352.365\" stroke-linecap=\"round\" style=\"stroke:white;stroke-width:1\"/><line x1=\"357.432\" y1=\"352.365\" x2=\"298.244\" y2=\"205.87\" stroke-linecap=\"round\" style=\"stroke:white;stroke-width:1\"/><line x1=\"298.244\" y1=\"205.87\" x2=\"446.683\" y2=\"148.889\" stroke-linecap=\"round\" style=\"stroke:white;stroke-width:1\"/><line x1=\"446.683\" y1=\"148.889\" x2=\"501.406\" y2=\"299.24\" stroke-linecap=\"round\" style=\"stroke:white;stroke-width:1\"/><line x1=\"501.406\" y1=\"299.24\" x2=\"349.178\" y2=\"351.656\" stroke-linecap=\"round\" style=\"stroke:white;stroke-width:1\"/><line x1=\"349.178\" y1=\"351.656\" x2=\"299.117\" y2=\"197.585\" stroke-linecap=\"round\" style=\"stroke:white;stroke-width:1\"/><line x1=\"299.117\" y1=\"197.585\" x2=\"454.995\" y2=\"149.928\" stroke-linecap=\"round\" style=\"stroke:white;stroke-width:1\"/><line x1=\"454.995\" y1=\"149.928\" x2=\"500.2\" y2=\"307.575\" stroke-linecap=\"round\" style=\"stroke:white;stroke-width:1\"/><line x1=\"500.2\" y1=\"307.575\" x2=\"340.822\" y2=\"350.28\" stroke-linecap=\"round\" style=\"stroke:white;stroke-width:1\"/><line x1=\"340.822\" y1=\"350.28\" x2=\"300.663\" y2=\"189.211\" stroke-linecap=\"round\" style=\"stroke:white;stroke-width:1\"/><line x1=\"300.663\" y1=\"189.211\" x2=\"463.383\" y2=\"151.644\" stroke-linecap=\"round\" style=\"stroke:white;stroke-width:1\"/><line x1=\"463.383\" y1=\"151.644\" x2=\"498.312\" y2=\"315.973\" stroke-linecap=\"round\" style=\"stroke:white;stroke-width:1\"/><line x1=\"498.312\" y1=\"315.973\" x2=\"332.417\" y2=\"348.22\" stroke-linecap=\"round\" style=\"stroke:white;stroke-width:1\"/><line x1=\"332.417\" y1=\"348.22\" x2=\"302.897\" y2=\"180.803\" stroke-linecap=\"round\" style=\"stroke:white;stroke-width:1\"/><line x1=\"302.897\" y1=\"180.803\" x2=\"471.792\" y2=\"154.053\" stroke-linecap=\"round\" style=\"stroke:white;stroke-width:1\"/><line x1=\"471.792\" y1=\"154.053\" x2=\"495.73\" y2=\"324.379\" stroke-linecap=\"round\" style=\"stroke:white;stroke-width:1\"/><line x1=\"495.73\" y1=\"324.379\" x2=\"324.02\" y2=\"345.462\" stroke-linecap=\"round\" style=\"stroke:white;stroke-width:1\"/><line x1=\"324.02\" y1=\"345.462\" x2=\"305.832\" y2=\"172.415\" stroke-linecap=\"round\" style=\"stroke:white;stroke-width:1\"/><line x1=\"305.832\" y1=\"172.415\" x2=\"480.166\" y2=\"157.163\" stroke-linecap=\"round\" style=\"stroke:white;stroke-width:1\"/><line x1=\"480.166\" y1=\"157.163\" x2=\"492.443\" y2=\"332.734\" stroke-linecap=\"round\" style=\"stroke:white;stroke-width:1\"/><line x1=\"492.443\" y1=\"332.734\" x2=\"315.686\" y2=\"341.997\" stroke-linecap=\"round\" style=\"stroke:white;stroke-width:1\"/><line x1=\"315.686\" y1=\"341.997\" x2=\"309.474\" y2=\"164.105\" stroke-linecap=\"round\" style=\"stroke:white;stroke-width:1\"/><line x1=\"309.474\" y1=\"164.105\" x2=\"488.447\" y2=\"160.981\" stroke-linecap=\"round\" style=\"stroke:white;stroke-width:1\"/><line x1=\"488.447\" y1=\"160.981\" x2=\"488.447\" y2=\"340.981\" stroke-linecap=\"round\" style=\"stroke:white;stroke-width:1\"/><line x1=\"488.447\" y1=\"340.981\" x2=\"307.475\" y2=\"337.822\" stroke-linecap=\"round\" style=\"stroke:white;stroke-width:1\"/><line x1=\"307.475\" y1=\"337.822\" x2=\"313.827\" y2=\"155.933\" stroke-linecap=\"round\" style=\"stroke:white;stroke-width:1\"/><line x1=\"313.827\" y1=\"155.933\" x2=\"496.576\" y2=\"165.51\" stroke-linecap=\"round\" style=\"stroke:white;stroke-width:1\"/><line x1=\"496.576\" y1=\"165.51\" x2=\"483.741\" y2=\"349.062\" stroke-linecap=\"round\" style=\"stroke:white;stroke-width:1\"/><line x1=\"483.741\" y1=\"349.062\" x2=\"299.445\" y2=\"332.938\" stroke-linecap=\"round\" style=\"stroke:white;stroke-width:1\"/><line x1=\"299.445\" y1=\"332.938\" x2=\"318.887\" y2=\"147.957\" stroke-linecap=\"round\" style=\"stroke:white;stroke-width:1\"/><line x1=\"318.887\" y1=\"147.957\" x2=\"504.493\" y2=\"170.747\" stroke-linecap=\"round\" style=\"stroke:white;stroke-width:1\"/><line x1=\"504.493\" y1=\"170.747\" x2=\"478.328\" y2=\"356.917\" stroke-linecap=\"round\" style=\"stroke:white;stroke-width:1\"/><line x1=\"478.328\" y1=\"356.917\" x2=\"291.655\" y2=\"327.351\" stroke-linecap=\"round\" style=\"stroke:white;stroke-width:1\"/><line x1=\"291.655\" y1=\"327.351\" x2=\"324.648\" y2=\"140.238\" stroke-linecap=\"round\" style=\"stroke:white;stroke-width:1\"/><line x1=\"324.648\" y1=\"140.238\" x2=\"512.139\" y2=\"176.683\" stroke-linecap=\"round\" style=\"stroke:white;stroke-width:1\"/><line x1=\"512.139\" y1=\"176.683\" x2=\"472.22\" y2=\"364.487\" stroke-linecap=\"round\" style=\"stroke:white;stroke-width:1\"/><line x1=\"472.22\" y1=\"364.487\" x2=\"284.167\" y2=\"321.071\" stroke-linecap=\"round\" style=\"stroke:white;stroke-width:1\"/><line x1=\"284.167\" y1=\"321.071\" x2=\"331.1\" y2=\"132.834\" stroke-linecap=\"round\" style=\"stroke:white;stroke-width:1\"/><line x1=\"331.1\" y1=\"132.834\" x2=\"519.456\" y2=\"183.304\" stroke-linecap=\"round\" style=\"stroke:white;stroke-width:1\"/><line x1=\"519.456\" y1=\"183.304\" x2=\"465.431\" y2=\"371.711\" stroke-linecap=\"round\" style=\"stroke:white;stroke-width:1\"/><line x1=\"465.431\" y1=\"371.711\" x2=\"277.039\" y2=\"314.114\" stroke-linecap=\"round\" style=\"stroke:white;stroke-width:1\"/><line x1=\"277.039\" y1=\"314.114\" x2=\"338.224\" y2=\"125.805\" stroke-linecap=\"round\" style=\"stroke:white;stroke-width:1\"/><line x1=\"338.224\" y1=\"125.805\" x2=\"526.382\" y2=\"190.593\" stroke-linecap=\"round\" style=\"stroke:white;stroke-width:1\"/><line x1=\"526.382\" y1=\"190.593\" x2=\"457.978\" y2=\"378.532\" stroke-linecap=\"round\" style=\"stroke:white;stroke-width:1\"/><line x1=\"457.978\" y1=\"378.532\" x2=\"270.328\" y2=\"306.5\" stroke-linecap=\"round\" style=\"stroke:white;stroke-width:1\"/><line x1=\"270.328\" y1=\"306.5\" x2=\"345.999\" y2=\"119.209\" stroke-linecap=\"round\" style=\"stroke:white;stroke-width:1\"/><line x1=\"345.999\" y1=\"119.209\" x2=\"532.861\" y2=\"198.527\" stroke-linecap=\"round\" style=\"stroke:white;stroke-width:1\"/><line x1=\"532.861\" y1=\"198.527\" x2=\"449.887\" y2=\"384.89\" stroke-linecap=\"round\" style=\"stroke:white;stroke-width:1\"/><line x1=\"449.887\" y1=\"384.89\" x2=\"264.094\" y2=\"298.253\" stroke-linecap=\"round\" style=\"stroke:white;stroke-width:1\"/><line x1=\"264.094\" y1=\"298.253\" x2=\"354.398\" y2=\"113.101\" stroke-linecap=\"round\" style=\"stroke:white;stroke-width:1\"/><line x1=\"354.398\" y1=\"113.101\" x2=\"538.836\" y2=\"207.077\" stroke-linecap=\"round\" style=\"stroke:white;stroke-width:1\"/><line x1=\"538.836\" y1=\"207.077\" x2=\"441.186\" y2=\"390.73\" stroke-linecap=\"round\" style=\"stroke:white;stroke-width:1\"/><line x1=\"441.186\" y1=\"390.73\" x2=\"258.39\" y2=\"289.405\" stroke-linecap=\"round\" style=\"stroke:white;stroke-width:1\"/><line x1=\"258.39\" y1=\"289.405\" x2=\"363.39\" y2=\"107.54\" stroke-linecap=\"round\" style=\"stroke:white;stroke-width:1\"/><line x1=\"363.39\" y1=\"107.54\" x2=\"544.252\" y2=\"216.213\" stroke-linecap=\"round\" style=\"stroke:white;stroke-width:1\"/><line x1=\"544.252\" y1=\"216.213\" x2=\"431.909\" y2=\"395.999\" stroke-linecap=\"round\" style=\"stroke:white;stroke-width:1\"/><line x1=\"431.909\" y1=\"395.999\" x2=\"253.272\" y2=\"279.991\" stroke-linecap=\"round\" style=\"stroke:white;stroke-width:1\"/><line x1=\"253.272\" y1=\"279.991\" x2=\"372.939\" y2=\"102.577\" stroke-linecap=\"round\" style=\"stroke:white;stroke-width:1\"/><line x1=\"372.939\" y1=\"102.577\" x2=\"549.057\" y2=\"225.896\" stroke-linecap=\"round\" style=\"stroke:white;stroke-width:1\"/><line x1=\"549.057\" y1=\"225.896\" x2=\"422.095\" y2=\"400.644\" stroke-linecap=\"round\" style=\"stroke:white;stroke-width:1\"/><line x1=\"422.095\" y1=\"400.644\" x2=\"248.791\" y2=\"270.05\" stroke-linecap=\"round\" style=\"stroke:white;stroke-width:1\"/><line x1=\"248.791\" y1=\"270.05\" x2=\"383.005\" y2=\"98.264\" stroke-linecap=\"round\" style=\"stroke:white;stroke-width:1\"/><line x1=\"383.005\" y1=\"98.264\" x2=\"553.2\" y2=\"236.085\" stroke-linecap=\"round\" style=\"stroke:white;stroke-width:1\"/><line x1=\"553.2\" y1=\"236.085\" x2=\"411.787\" y2=\"404.615\" stroke-linecap=\"round\" style=\"stroke:white;stroke-width:1\"/><line x1=\"411.787\" y1=\"404.615\" x2=\"244.996\" y2=\"259.626\" stroke-linecap=\"round\" style=\"stroke:white;stroke-width:1\"/><line x1=\"244.996\" y1=\"259.626\" x2=\"393.543\" y2=\"94.648\" stroke-linecap=\"round\" style=\"stroke:white;stroke-width:1\"/><line x1=\"393.543\" y1=\"94.648\" x2=\"556.635\" y2=\"246.734\" stroke-linecap=\"round\" style=\"stroke:white;stroke-width:1\"/><line x1=\"556.635\" y1=\"246.734\" x2=\"401.032\" y2=\"407.866\" stroke-linecap=\"round\" style=\"stroke:white;stroke-width:1\"/><line x1=\"401.032\" y1=\"407.866\" x2=\"241.933\" y2=\"248.767\" stroke-linecap=\"round\" style=\"stroke:white;stroke-width:1\"/><line x1=\"241.933\" y1=\"248.767\" x2=\"404.504\" y2=\"91.774\" stroke-linecap=\"round\" style=\"stroke:white;stroke-width:1\"/><line x1=\"404.504\" y1=\"91.774\" x2=\"559.318\" y2=\"257.791\" stroke-linecap=\"round\" style=\"stroke:white;stroke-width:1\"/><line x1=\"559.318\" y1=\"257.791\" x2=\"389.881\" y2=\"410.353\" stroke-linecap=\"round\" style=\"stroke:white;stroke-width:1\"/><line x1=\"389.881\" y1=\"410.353\" x2=\"239.643\" y2=\"237.525\" stroke-linecap=\"round\" style=\"stroke:white;stroke-width:1\"/><line x1=\"239.643\" y1=\"237.525\" x2=\"415.833\" y2=\"89.684\" stroke-linecap=\"round\" style=\"stroke:white;stroke-width:1\"/><line x1=\"415.833\" y1=\"89.684\" x2=\"561.206\" y2=\"269.205\" stroke-linecap=\"round\" style=\"stroke:white;stroke-width:1\"/><line x1=\"561.206\" y1=\"269.205\" x2=\"378.388\" y2=\"412.038\" stroke-linecap=\"round\" style=\"stroke:white;stroke-width:1\"/><line x1=\"378.388\" y1=\"412.038\" x2=\"238.165\" y2=\"225.956\" stroke-linecap=\"round\" style=\"stroke:white;stroke-width:1\"/><line x1=\"238.165\" y1=\"225.956\" x2=\"427.475\" y2=\"88.414\" stroke-linecap=\"round\" style=\"stroke:white;stroke-width:1\"/><line x1=\"427.475\" y1=\"88.414\" x2=\"562.265\" y2=\"280.915\" stroke-linecap=\"round\" style=\"stroke:white;stroke-width:1\"/><line x1=\"562.265\" y1=\"280.915\" x2=\"366.612\" y2=\"412.885\" stroke-linecap=\"round\" style=\"stroke:white;stroke-width:1\"/><line x1=\"366.612\" y1=\"412.885\" x2=\"237.533\" y2=\"214.12\" stroke-linecap=\"round\" style=\"stroke:white;stroke-width:1\"/><line x1=\"237.533\" y1=\"214.12\" x2=\"439.368\" y2=\"87.999\" stroke-linecap=\"round\" style=\"stroke:white;stroke-width:1\"/><line x1=\"439.368\" y1=\"87.999\" x2=\"562.462\" y2=\"292.862\" stroke-linecap=\"round\" style=\"stroke:white;stroke-width:1\"/><line x1=\"562.462\" y1=\"292.862\" x2=\"354.616\" y2=\"412.862\" stroke-linecap=\"round\" style=\"stroke:white;stroke-width:1\"/><line x1=\"354.616\" y1=\"412.862\" x2=\"237.777\" y2=\"202.079\" stroke-linecap=\"round\" style=\"stroke:white;stroke-width:1\"/><line x1=\"237.777\" y1=\"202.079\" x2=\"451.45\" y2=\"88.467\" stroke-linecap=\"round\" style=\"stroke:white;stroke-width:1\"/><line x1=\"451.45\" y1=\"88.467\" x2=\"561.77\" y2=\"304.982\" stroke-linecap=\"round\" style=\"stroke:white;stroke-width:1\"/><line x1=\"561.77\" y1=\"304.982\" x2=\"342.464\" y2=\"411.945\" stroke-linecap=\"round\" style=\"stroke:white;stroke-width:1\"/><line x1=\"342.464\" y1=\"411.945\" x2=\"238.923\" y2=\"189.9\" stroke-linecap=\"round\" style=\"stroke:white;stroke-width:1\"/><line x1=\"238.923\" y1=\"189.9\" x2=\"463.655\" y2=\"89.843\" stroke-linecap=\"round\" style=\"stroke:white;stroke-width:1\"/><line x1=\"463.655\" y1=\"89.843\" x2=\"560.166\" y2=\"317.208\" stroke-linecap=\"round\" style=\"stroke:white;stroke-width:1\"/><line x1=\"560.166\" y1=\"317.208\" x2=\"330.224\" y2=\"410.11\" stroke-linecap=\"round\" style=\"stroke:white;stroke-width:1\"/><line x1=\"330.224\" y1=\"410.11\" x2=\"240.99\" y2=\"177.648\" stroke-linecap=\"round\" style=\"stroke:white;stroke-width:1\"/><line x1=\"240.99\" y1=\"177.648\" x2=\"475.913\" y2=\"92.143\" stroke-linecap=\"round\" style=\"stroke:white;stroke-width:1\"/><line x1=\"475.913\" y1=\"92.143\" x2=\"557.631\" y2=\"329.468\" stroke-linecap=\"round\" style=\"stroke:white;stroke-width:1\"/><line x1=\"557.631\" y1=\"329.468\" x2=\"317.965\" y2=\"407.34\" stroke-linecap=\"round\" style=\"stroke:white;stroke-width:1\"/><line x1=\"317.965\" y1=\"407.34\" x2=\"243.995\" y2=\"165.395\" stroke-linecap=\"round\" style=\"stroke:white;stroke-width:1\"/><line x1=\"243.995\" y1=\"165.395\" x2=\"488.155\" y2=\"95.383\" stroke-linecap=\"round\" style=\"stroke:white;stroke-width:1\"/><line x1=\"488.155\" y1=\"95.383\" x2=\"554.154\" y2=\"341.694\" stroke-linecap=\"round\" style=\"stroke:white;stroke-width:1\"/><line x1=\"554.154\" y1=\"341.694\" x2=\"305.758\" y2=\"403.626\" stroke-linecap=\"round\" style=\"stroke:white;stroke-width:1\"/><line x1=\"305.758\" y1=\"403.626\" x2=\"247.946\" y2=\"153.213\" stroke-linecap=\"round\" style=\"stroke:white;stroke-width:1\"/><line x1=\"247.946\" y1=\"153.213\" x2=\"500.308\" y2=\"99.572\" stroke-linecap=\"round\" style=\"stroke:white;stroke-width:1\"/><line x1=\"500.308\" y1=\"99.572\" x2=\"549.728\" y2=\"353.813\" stroke-linecap=\"round\" style=\"stroke:white;stroke-width:1\"/><line x1=\"549.728\" y1=\"353.813\" x2=\"293.678\" y2=\"398.962\" stroke-linecap=\"round\" style=\"stroke:white;stroke-width:1\"/><line x1=\"293.678\" y1=\"398.962\" x2=\"252.849\" y2=\"141.175\" stroke-linecap=\"round\" style=\"stroke:white;stroke-width:1\"/><line x1=\"252.849\" y1=\"141.175\" x2=\"512.299\" y2=\"104.712\" stroke-linecap=\"round\" style=\"stroke:white;stroke-width:1\"/><line x1=\"512.299\" y1=\"104.712\" x2=\"544.351\" y2=\"365.752\" stroke-linecap=\"round\" style=\"stroke:white;stroke-width:1\"/><line x1=\"544.351\" y1=\"365.752\" x2=\"281.797\" y2=\"393.348\" stroke-linecap=\"round\" style=\"stroke:white;stroke-width:1\"/><line x1=\"281.797\" y1=\"393.348\" x2=\"258.701\" y2=\"129.356\" stroke-linecap=\"round\" style=\"stroke:white;stroke-width:1\"/><line x1=\"258.701\" y1=\"129.356\" x2=\"524.053\" y2=\"110.801\" stroke-linecap=\"round\" style=\"stroke:white;stroke-width:1\"/><line x1=\"524.053\" y1=\"110.801\" x2=\"538.027\" y2=\"377.435\" stroke-linecap=\"round\" style=\"stroke:white;stroke-width:1\"/><line x1=\"538.027\" y1=\"377.435\" x2=\"270.19\" y2=\"386.788\" stroke-linecap=\"round\" style=\"stroke:white;stroke-width:1\"/><line x1=\"270.19\" y1=\"386.788\" x2=\"265.495\" y2=\"117.829\" stroke-linecap=\"round\" style=\"stroke:white;stroke-width:1\"/><line x1=\"265.495\" y1=\"117.829\" x2=\"535.495\" y2=\"117.829\" stroke-linecap=\"round\" style=\"stroke:white;stroke-width:1\"/><line x1=\"535.495\" y1=\"117.829\" x2=\"530.765\" y2=\"388.788\" stroke-linecap=\"round\" style=\"stroke:white;stroke-width:1\"/><line x1=\"530.765\" y1=\"388.788\" x2=\"258.931\" y2=\"379.295\" stroke-linecap=\"round\" style=\"stroke:white;stroke-width:1\"/><line x1=\"258.931\" y1=\"379.295\" x2=\"273.219\" y2=\"106.669\" stroke-linecap=\"round\" style=\"stroke:white;stroke-width:1\"/><line x1=\"273.219\" y1=\"106.669\" x2=\"546.552\" y2=\"125.782\" stroke-linecap=\"round\" style=\"stroke:white;stroke-width:1\"/><line x1=\"546.552\" y1=\"125.782\" x2=\"522.584\" y2=\"399.736\" stroke-linecap=\"round\" style=\"stroke:white;stroke-width:1\"/><line x1=\"522.584\" y1=\"399.736\" x2=\"248.096\" y2=\"370.886\" stroke-linecap=\"round\" style=\"stroke:white;stroke-width:1\"/><line x1=\"248.096\" y1=\"370.886\" x2=\"281.854\" y2=\"95.951\" stroke-linecap=\"round\" style=\"stroke:white;stroke-width:1\"/><line x1=\"281.854\" y1=\"95.951\" x2=\"557.149\" y2=\"134.641\" stroke-linecap=\"round\" style=\"stroke:white;stroke-width:1\"/><line x1=\"557.149\" y1=\"134.641\" x2=\"513.504\" y2=\"410.206\" stroke-linecap=\"round\" style=\"stroke:white;stroke-width:1\"/><line x1=\"513.504\" y1=\"410.206\" x2=\"237.758\" y2=\"361.585\" stroke-linecap=\"round\" style=\"stroke:white;stroke-width:1\"/><line x1=\"237.758\" y1=\"361.585\" x2=\"291.375\" y2=\"85.748\" stroke-linecap=\"round\" style=\"stroke:white;stroke-width:1\"/><line x1=\"291.375\" y1=\"85.748\" x2=\"567.213\" y2=\"144.379\" stroke-linecap=\"round\" style=\"stroke:white;stroke-width:1\"/><line x1=\"567.213\" y1=\"144.379\" x2=\"503.552\" y2=\"420.126\" stroke-linecap=\"round\" style=\"stroke:white;stroke-width:1\"/><line x1=\"503.552\" y1=\"420.126\" x2=\"227.988\" y2=\"351.42\" stroke-linecap=\"round\" style=\"stroke:white;stroke-width:1\"/><line x1=\"227.988\" y1=\"351.42\" x2=\"301.751\" y2=\"76.131\" stroke-linecap=\"round\" style=\"stroke:white;stroke-width:1\"/><line x1=\"301.751\" y1=\"76.131\" x2=\"576.672\" y2=\"154.963\" stroke-linecap=\"round\" style=\"stroke:white;stroke-width:1\"/><line x1=\"576.672\" y1=\"154.963\" x2=\"492.761\" y2=\"429.422\" stroke-linecap=\"round\" style=\"stroke:white;stroke-width:1\"/><line x1=\"492.761\" y1=\"429.422\" x2=\"218.857\" y2=\"340.425\" stroke-linecap=\"round\" style=\"stroke:white;stroke-width:1\"/><line x1=\"218.857\" y1=\"340.425\" x2=\"312.946\" y2=\"67.17\" stroke-linecap=\"round\" style=\"stroke:white;stroke-width:1\"/><line x1=\"312.946\" y1=\"67.17\" x2=\"585.457\" y2=\"166.356\" stroke-linecap=\"round\" style=\"stroke:white;stroke-width:1\"/><line x1=\"585.457\" y1=\"166.356\" x2=\"481.172\" y2=\"438.028\" stroke-linecap=\"round\" style=\"stroke:white;stroke-width:1\"/><line x1=\"481.172\" y1=\"438.028\" x2=\"210.434\" y2=\"328.643\" stroke-linecap=\"round\" style=\"stroke:white;stroke-width:1\"/><line x1=\"210.434\" y1=\"328.643\" x2=\"324.918\" y2=\"58.935\" stroke-linecap=\"round\" style=\"stroke:white;stroke-width:1\"/><line x1=\"324.918\" y1=\"58.935\" x2=\"593.5\" y2=\"178.516\" stroke-linecap=\"round\" style=\"stroke:white;stroke-width:1\"/><line x1=\"593.5\" y1=\"178.516\" x2=\"468.828\" y2=\"445.877\" stroke-linecap=\"round\" style=\"stroke:white;stroke-width:1\"/><line x1=\"468.828\" y1=\"445.877\" x2=\"202.785\" y2=\"316.119\" stroke-linecap=\"round\" style=\"stroke:white;stroke-width:1\"/><line x1=\"202.785\" y1=\"316.119\" x2=\"337.62\" y2=\"51.49\" stroke-linecap=\"round\" style=\"stroke:white;stroke-width:1\"/><line x1=\"337.62\" y1=\"51.49\" x2=\"600.738\" y2=\"191.393\" stroke-linecap=\"round\" style=\"stroke:white;stroke-width:1\"/><line x1=\"600.738\" y1=\"191.393\" x2=\"455.78\" y2=\"452.904\" stroke-linecap=\"round\" style=\"stroke:white;stroke-width:1\"/>\n",
       "        <g visibility=visible transform=\"rotate(300,455.78,452.904) translate(437.78, 434.904)\">\n",
       "<path style=\" stroke:none;fill-rule:evenodd;fill:white;fill-opacity:1;\" d=\"M 18.214844 0.632812 C 16.109375 1.800781 15.011719 4.074219 15.074219 7.132812 L 15.085938 7.652344 L 14.785156 7.496094 C 13.476562 6.824219 11.957031 6.671875 10.40625 7.066406 C 8.46875 7.550781 6.515625 9.15625 4.394531 11.992188 C 3.0625 13.777344 2.679688 14.636719 3.042969 15.027344 L 3.15625 15.152344 L 3.519531 15.152344 C 4.238281 15.152344 4.828125 14.886719 8.1875 13.039062 C 9.386719 12.378906 10.371094 11.839844 10.378906 11.839844 C 10.386719 11.839844 10.355469 11.929688 10.304688 12.035156 C 9.832031 13.09375 9.257812 14.820312 8.96875 16.078125 C 7.914062 20.652344 8.617188 24.53125 11.070312 27.660156 C 11.351562 28.015625 11.363281 27.914062 10.972656 28.382812 C 8.925781 30.84375 7.945312 33.28125 8.238281 35.1875 C 8.289062 35.527344 8.28125 35.523438 8.917969 35.523438 C 10.941406 35.523438 13.074219 34.207031 15.136719 31.6875 C 15.359375 31.417969 15.328125 31.425781 15.5625 31.574219 C 16.292969 32.042969 18.023438 32.964844 18.175781 32.964844 C 18.335938 32.964844 19.941406 32.210938 20.828125 31.71875 C 20.996094 31.625 21.136719 31.554688 21.136719 31.558594 C 21.203125 31.664062 21.898438 32.414062 22.222656 32.730469 C 23.835938 34.300781 25.5625 35.132812 27.582031 35.300781 C 27.90625 35.328125 27.9375 35.308594 28.007812 34.984375 C 28.382812 33.242188 27.625 30.925781 25.863281 28.425781 L 25.542969 27.96875 L 25.699219 27.785156 C 28.945312 23.960938 29.132812 18.699219 26.257812 11.96875 L 26.207031 11.84375 L 27.945312 12.703125 C 31.53125 14.476562 32.316406 14.800781 33.03125 14.800781 C 33.976562 14.800781 33.78125 13.9375 32.472656 12.292969 C 28.519531 7.355469 25.394531 5.925781 21.921875 7.472656 L 21.558594 7.636719 L 21.578125 7.542969 C 21.699219 6.992188 21.761719 5.742188 21.699219 5.164062 C 21.496094 3.296875 20.664062 1.964844 19.003906 0.855469 C 18.480469 0.503906 18.457031 0.5 18.214844 0.632812\"/>\n",
       "</g>\n",
       "      </svg>\n",
       "    "
      ],
      "text/plain": [
       "<IPython.core.display.HTML object>"
      ]
     },
     "metadata": {},
     "output_type": "display_data"
    }
   ],
   "source": [
    "initializeTurtle()\n",
    "\n",
    "pensize(1)\n",
    "speed(8)\n",
    "\n",
    "for i in range(300):\n",
    "  forward(i)\n",
    "  right(91)"
   ]
  },
  {
   "cell_type": "code",
   "execution_count": null,
   "metadata": {
    "id": "2PCRcMCZ0Nwe"
   },
   "outputs": [],
   "source": []
  }
 ],
 "metadata": {
  "colab": {
   "authorship_tag": "ABX9TyPk/FhwOJWi8tkAv911yCB8",
   "provenance": []
  },
  "kernelspec": {
   "display_name": "Python 3",
   "name": "python3"
  },
  "language_info": {
   "codemirror_mode": {
    "name": "ipython",
    "version": 3
   },
   "file_extension": ".py",
   "mimetype": "text/x-python",
   "name": "python",
   "nbconvert_exporter": "python",
   "pygments_lexer": "ipython3",
   "version": "3.13.2"
  }
 },
 "nbformat": 4,
 "nbformat_minor": 0
}
